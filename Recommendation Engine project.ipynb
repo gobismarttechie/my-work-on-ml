{
 "cells": [
  {
   "cell_type": "code",
   "execution_count": 1,
   "metadata": {},
   "outputs": [],
   "source": [
    "import pandas as pd\n",
    "from sklearn.feature_extraction.text import TfidfVectorizer#to extract the features from text.(convert from text to numbers)\n",
    "from sklearn.metrics.pairwise import linear_kernel"
   ]
  },
  {
   "cell_type": "code",
   "execution_count": null,
   "metadata": {},
   "outputs": [],
   "source": [
    "data = pd.read_excel(r\"C:\\Users\\Gobinath\\Desktop\\tasks\\Recommendation engine project\\Nlp with images.xlsx\")"
   ]
  },
  {
   "cell_type": "code",
   "execution_count": 25,
   "metadata": {},
   "outputs": [
    {
     "data": {
      "text/html": [
       "<div>\n",
       "<style scoped>\n",
       "    .dataframe tbody tr th:only-of-type {\n",
       "        vertical-align: middle;\n",
       "    }\n",
       "\n",
       "    .dataframe tbody tr th {\n",
       "        vertical-align: top;\n",
       "    }\n",
       "\n",
       "    .dataframe thead th {\n",
       "        text-align: right;\n",
       "    }\n",
       "</style>\n",
       "<table border=\"1\" class=\"dataframe\">\n",
       "  <thead>\n",
       "    <tr style=\"text-align: right;\">\n",
       "      <th></th>\n",
       "      <th>Movie Title</th>\n",
       "      <th>Ratinng</th>\n",
       "      <th>genre</th>\n",
       "      <th>act</th>\n",
       "      <th>img</th>\n",
       "    </tr>\n",
       "  </thead>\n",
       "  <tbody>\n",
       "    <tr>\n",
       "      <th>0</th>\n",
       "      <td>3 Idiots</td>\n",
       "      <td>8.4</td>\n",
       "      <td>Comedy, Drama</td>\n",
       "      <td>Aamir Khan, Madhavan, Mona Singh, Sharman Josh...</td>\n",
       "      <td>https://m.media-amazon.com/images/M/MV5BMWYxZW...</td>\n",
       "    </tr>\n",
       "    <tr>\n",
       "      <th>1</th>\n",
       "      <td>Taare Zameen Par</td>\n",
       "      <td>8.3</td>\n",
       "      <td>Drama, Family</td>\n",
       "      <td>Darsheel Safary, Aamir Khan, Tisca Chopra, Vip...</td>\n",
       "      <td>https://m.media-amazon.com/images/M/MV5BNTVmYT...</td>\n",
       "    </tr>\n",
       "    <tr>\n",
       "      <th>2</th>\n",
       "      <td>PK</td>\n",
       "      <td>8.1</td>\n",
       "      <td>Comedy, Drama, Sci-Fi</td>\n",
       "      <td>Aamir Khan, Anushka Sharma, Sanjay Dutt, Boman...</td>\n",
       "      <td>https://m.media-amazon.com/images/M/MV5BMTYzOT...</td>\n",
       "    </tr>\n",
       "    <tr>\n",
       "      <th>3</th>\n",
       "      <td>Dangal</td>\n",
       "      <td>8.3</td>\n",
       "      <td>Action, Biography, Drama</td>\n",
       "      <td>Aamir Khan, Sakshi Tanwar, Fatima Sana Shaikh,...</td>\n",
       "      <td>https://m.media-amazon.com/images/M/MV5BOTkyYm...</td>\n",
       "    </tr>\n",
       "    <tr>\n",
       "      <th>4</th>\n",
       "      <td>Rang De Basanti</td>\n",
       "      <td>8.1</td>\n",
       "      <td>Comedy, Crime, Drama</td>\n",
       "      <td>Aamir Khan, Soha Ali Khan, Siddharth, Sharman ...</td>\n",
       "      <td>https://m.media-amazon.com/images/M/MV5BYThmZD...</td>\n",
       "    </tr>\n",
       "    <tr>\n",
       "      <th>5</th>\n",
       "      <td>My Name Is Khan</td>\n",
       "      <td>7.9</td>\n",
       "      <td>Drama, Romance</td>\n",
       "      <td>Shah Rukh Khan, Kajol, Sheetal Menon, Katie Am...</td>\n",
       "      <td>https://m.media-amazon.com/images/M/MV5BZGVmZW...</td>\n",
       "    </tr>\n",
       "    <tr>\n",
       "      <th>6</th>\n",
       "      <td>Gangs of Wasseypur</td>\n",
       "      <td>8.2</td>\n",
       "      <td>Action, Comedy, Crime</td>\n",
       "      <td>Manoj Bajpayee, Richa Chadha, Nawazuddin Siddi...</td>\n",
       "      <td>https://m.media-amazon.com/images/M/MV5BZWFiOG...</td>\n",
       "    </tr>\n",
       "    <tr>\n",
       "      <th>7</th>\n",
       "      <td>Chak De! India</td>\n",
       "      <td>8.1</td>\n",
       "      <td>Drama, Family, Sport</td>\n",
       "      <td>Shah Rukh Khan, Vidya Malvade, Sagarika Ghatge...</td>\n",
       "      <td>https://m.media-amazon.com/images/M/MV5BNzkzNT...</td>\n",
       "    </tr>\n",
       "    <tr>\n",
       "      <th>8</th>\n",
       "      <td>Munna Bhai M.B.B.S.</td>\n",
       "      <td>8.1</td>\n",
       "      <td>Comedy, Drama</td>\n",
       "      <td>Sanjay Dutt, Arshad Warsi, Gracy Singh, Boman ...</td>\n",
       "      <td>https://m.media-amazon.com/images/M/MV5BMzJhMj...</td>\n",
       "    </tr>\n",
       "    <tr>\n",
       "      <th>9</th>\n",
       "      <td>Bajrangi Bhaijaan</td>\n",
       "      <td>8.1</td>\n",
       "      <td>Action, Adventure, Comedy</td>\n",
       "      <td>Salman Khan, Harshaali Malhotra, Nawazuddin Si...</td>\n",
       "      <td>https://m.media-amazon.com/images/M/MV5BMTRiMj...</td>\n",
       "    </tr>\n",
       "    <tr>\n",
       "      <th>10</th>\n",
       "      <td>Dil Chahta Hai</td>\n",
       "      <td>8.1</td>\n",
       "      <td>Comedy, Drama, Romance</td>\n",
       "      <td>Aamir Khan, Saif Ali Khan, Akshaye Khanna, Pre...</td>\n",
       "      <td>https://m.media-amazon.com/images/M/MV5BYzYwN2...</td>\n",
       "    </tr>\n",
       "    <tr>\n",
       "      <th>11</th>\n",
       "      <td>Zindagi Na Milegi Dobara</td>\n",
       "      <td>8.1</td>\n",
       "      <td>Comedy, Drama, Musical</td>\n",
       "      <td>Hrithik Roshan, Farhan Akhtar, Abhay Deol, Kat...</td>\n",
       "      <td>https://m.media-amazon.com/images/M/MV5BNTRlZD...</td>\n",
       "    </tr>\n",
       "    <tr>\n",
       "      <th>12</th>\n",
       "      <td>Dilwale Dulhania Le Jayenge</td>\n",
       "      <td>8.0</td>\n",
       "      <td>Drama, Romance</td>\n",
       "      <td>Shah Rukh Khan, Kajol, Amrish Puri, Farida Jal...</td>\n",
       "      <td>https://m.media-amazon.com/images/M/MV5BZTA3Yz...</td>\n",
       "    </tr>\n",
       "    <tr>\n",
       "      <th>13</th>\n",
       "      <td>Kal Ho Naa Ho</td>\n",
       "      <td>7.9</td>\n",
       "      <td>Comedy, Drama, Musical</td>\n",
       "      <td>Preity Zinta, Shah Rukh Khan, Saif Ali Khan, J...</td>\n",
       "      <td>https://m.media-amazon.com/images/M/MV5BM2UzNW...</td>\n",
       "    </tr>\n",
       "    <tr>\n",
       "      <th>14</th>\n",
       "      <td>Gunday</td>\n",
       "      <td>2.6</td>\n",
       "      <td>Action, Drama, Musical</td>\n",
       "      <td>Ranveer Singh, Arjun Kapoor, Priyanka Chopra J...</td>\n",
       "      <td>https://m.media-amazon.com/images/M/MV5BMjI2Nj...</td>\n",
       "    </tr>\n",
       "    <tr>\n",
       "      <th>15</th>\n",
       "      <td>Bhaag Milkha Bhaag</td>\n",
       "      <td>8.2</td>\n",
       "      <td>Biography, Drama, Sport</td>\n",
       "      <td>Farhan Akhtar, Japtej Singh, Divya Dutta, Pawa...</td>\n",
       "      <td>https://m.media-amazon.com/images/M/MV5BMTY1Nz...</td>\n",
       "    </tr>\n",
       "    <tr>\n",
       "      <th>16</th>\n",
       "      <td>Kahaani</td>\n",
       "      <td>8.1</td>\n",
       "      <td>Mystery, Thriller</td>\n",
       "      <td>Vidya Balan, Parambrata Chattopadhyay, Indrane...</td>\n",
       "      <td>https://m.media-amazon.com/images/M/MV5BMTQ1ND...</td>\n",
       "    </tr>\n",
       "    <tr>\n",
       "      <th>17</th>\n",
       "      <td>Andhadhun</td>\n",
       "      <td>8.2</td>\n",
       "      <td>Comedy, Crime, Music</td>\n",
       "      <td>Ayushmann Khurrana, Tabu, Radhika Apte, Anil D...</td>\n",
       "      <td>https://m.media-amazon.com/images/M/MV5BZWZhMj...</td>\n",
       "    </tr>\n",
       "    <tr>\n",
       "      <th>18</th>\n",
       "      <td>Airlift</td>\n",
       "      <td>7.9</td>\n",
       "      <td>Action, Drama, History</td>\n",
       "      <td>Akshay Kumar, Nimrat Kaur, Kumud Mishra, Praka...</td>\n",
       "      <td>https://m.media-amazon.com/images/M/MV5BMGE1ZT...</td>\n",
       "    </tr>\n",
       "    <tr>\n",
       "      <th>19</th>\n",
       "      <td>Sholay</td>\n",
       "      <td>7.2</td>\n",
       "      <td>Drama</td>\n",
       "      <td>Ashok Kumar, Bina Rai, Purnima, Manmohan Krish...</td>\n",
       "      <td>https://m.media-amazon.com/images/M/MV5BMjc5OD...</td>\n",
       "    </tr>\n",
       "    <tr>\n",
       "      <th>20</th>\n",
       "      <td>Don 2</td>\n",
       "      <td>7.0</td>\n",
       "      <td>Action, Crime, Thriller</td>\n",
       "      <td>Shah Rukh Khan, Florian Lukas, Om Puri, Priyan...</td>\n",
       "      <td>https://m.media-amazon.com/images/M/MV5BMzNiYW...</td>\n",
       "    </tr>\n",
       "    <tr>\n",
       "      <th>21</th>\n",
       "      <td>Haider</td>\n",
       "      <td>8.1</td>\n",
       "      <td>Action, Crime, Drama</td>\n",
       "      <td>Shahid Kapoor, Tabu, Shraddha Kapoor, Kay Kay ...</td>\n",
       "      <td>https://m.media-amazon.com/images/M/MV5BMjA1NT...</td>\n",
       "    </tr>\n",
       "  </tbody>\n",
       "</table>\n",
       "</div>"
      ],
      "text/plain": [
       "                    Movie Title  Ratinng                      genre  \\\n",
       "0                      3 Idiots      8.4              Comedy, Drama   \n",
       "1              Taare Zameen Par      8.3              Drama, Family   \n",
       "2                            PK      8.1      Comedy, Drama, Sci-Fi   \n",
       "3                        Dangal      8.3   Action, Biography, Drama   \n",
       "4               Rang De Basanti      8.1       Comedy, Crime, Drama   \n",
       "5               My Name Is Khan      7.9             Drama, Romance   \n",
       "6            Gangs of Wasseypur      8.2      Action, Comedy, Crime   \n",
       "7                Chak De! India      8.1       Drama, Family, Sport   \n",
       "8           Munna Bhai M.B.B.S.      8.1              Comedy, Drama   \n",
       "9             Bajrangi Bhaijaan      8.1  Action, Adventure, Comedy   \n",
       "10               Dil Chahta Hai      8.1     Comedy, Drama, Romance   \n",
       "11     Zindagi Na Milegi Dobara      8.1     Comedy, Drama, Musical   \n",
       "12  Dilwale Dulhania Le Jayenge      8.0             Drama, Romance   \n",
       "13                Kal Ho Naa Ho      7.9     Comedy, Drama, Musical   \n",
       "14                       Gunday      2.6     Action, Drama, Musical   \n",
       "15           Bhaag Milkha Bhaag      8.2    Biography, Drama, Sport   \n",
       "16                      Kahaani      8.1          Mystery, Thriller   \n",
       "17                    Andhadhun      8.2       Comedy, Crime, Music   \n",
       "18                      Airlift      7.9     Action, Drama, History   \n",
       "19                       Sholay      7.2                      Drama   \n",
       "20                        Don 2      7.0    Action, Crime, Thriller   \n",
       "21                       Haider      8.1       Action, Crime, Drama   \n",
       "\n",
       "                                                  act  \\\n",
       "0   Aamir Khan, Madhavan, Mona Singh, Sharman Josh...   \n",
       "1   Darsheel Safary, Aamir Khan, Tisca Chopra, Vip...   \n",
       "2   Aamir Khan, Anushka Sharma, Sanjay Dutt, Boman...   \n",
       "3   Aamir Khan, Sakshi Tanwar, Fatima Sana Shaikh,...   \n",
       "4   Aamir Khan, Soha Ali Khan, Siddharth, Sharman ...   \n",
       "5   Shah Rukh Khan, Kajol, Sheetal Menon, Katie Am...   \n",
       "6   Manoj Bajpayee, Richa Chadha, Nawazuddin Siddi...   \n",
       "7   Shah Rukh Khan, Vidya Malvade, Sagarika Ghatge...   \n",
       "8   Sanjay Dutt, Arshad Warsi, Gracy Singh, Boman ...   \n",
       "9   Salman Khan, Harshaali Malhotra, Nawazuddin Si...   \n",
       "10  Aamir Khan, Saif Ali Khan, Akshaye Khanna, Pre...   \n",
       "11  Hrithik Roshan, Farhan Akhtar, Abhay Deol, Kat...   \n",
       "12  Shah Rukh Khan, Kajol, Amrish Puri, Farida Jal...   \n",
       "13  Preity Zinta, Shah Rukh Khan, Saif Ali Khan, J...   \n",
       "14  Ranveer Singh, Arjun Kapoor, Priyanka Chopra J...   \n",
       "15  Farhan Akhtar, Japtej Singh, Divya Dutta, Pawa...   \n",
       "16  Vidya Balan, Parambrata Chattopadhyay, Indrane...   \n",
       "17  Ayushmann Khurrana, Tabu, Radhika Apte, Anil D...   \n",
       "18  Akshay Kumar, Nimrat Kaur, Kumud Mishra, Praka...   \n",
       "19  Ashok Kumar, Bina Rai, Purnima, Manmohan Krish...   \n",
       "20  Shah Rukh Khan, Florian Lukas, Om Puri, Priyan...   \n",
       "21  Shahid Kapoor, Tabu, Shraddha Kapoor, Kay Kay ...   \n",
       "\n",
       "                                                  img  \n",
       "0   https://m.media-amazon.com/images/M/MV5BMWYxZW...  \n",
       "1   https://m.media-amazon.com/images/M/MV5BNTVmYT...  \n",
       "2   https://m.media-amazon.com/images/M/MV5BMTYzOT...  \n",
       "3   https://m.media-amazon.com/images/M/MV5BOTkyYm...  \n",
       "4   https://m.media-amazon.com/images/M/MV5BYThmZD...  \n",
       "5   https://m.media-amazon.com/images/M/MV5BZGVmZW...  \n",
       "6   https://m.media-amazon.com/images/M/MV5BZWFiOG...  \n",
       "7   https://m.media-amazon.com/images/M/MV5BNzkzNT...  \n",
       "8   https://m.media-amazon.com/images/M/MV5BMzJhMj...  \n",
       "9   https://m.media-amazon.com/images/M/MV5BMTRiMj...  \n",
       "10  https://m.media-amazon.com/images/M/MV5BYzYwN2...  \n",
       "11  https://m.media-amazon.com/images/M/MV5BNTRlZD...  \n",
       "12  https://m.media-amazon.com/images/M/MV5BZTA3Yz...  \n",
       "13  https://m.media-amazon.com/images/M/MV5BM2UzNW...  \n",
       "14  https://m.media-amazon.com/images/M/MV5BMjI2Nj...  \n",
       "15  https://m.media-amazon.com/images/M/MV5BMTY1Nz...  \n",
       "16  https://m.media-amazon.com/images/M/MV5BMTQ1ND...  \n",
       "17  https://m.media-amazon.com/images/M/MV5BZWZhMj...  \n",
       "18  https://m.media-amazon.com/images/M/MV5BMGE1ZT...  \n",
       "19  https://m.media-amazon.com/images/M/MV5BMjc5OD...  \n",
       "20  https://m.media-amazon.com/images/M/MV5BMzNiYW...  \n",
       "21  https://m.media-amazon.com/images/M/MV5BMjA1NT...  "
      ]
     },
     "execution_count": 25,
     "metadata": {},
     "output_type": "execute_result"
    }
   ],
   "source": [
    "data.head(22)"
   ]
  },
  {
   "cell_type": "code",
   "execution_count": 16,
   "metadata": {},
   "outputs": [
    {
     "data": {
      "text/plain": [
       "Movie Title    0\n",
       "Ratinng        0\n",
       "genre          0\n",
       "act            0\n",
       "img            0\n",
       "dtype: int64"
      ]
     },
     "execution_count": 16,
     "metadata": {},
     "output_type": "execute_result"
    }
   ],
   "source": [
    "data.isna().sum()"
   ]
  },
  {
   "cell_type": "code",
   "execution_count": 17,
   "metadata": {},
   "outputs": [],
   "source": [
    "tfidf = TfidfVectorizer()"
   ]
  },
  {
   "cell_type": "code",
   "execution_count": 18,
   "metadata": {},
   "outputs": [],
   "source": [
    "vectors = tfidf.fit_transform(data[\"genre\"]) ##genre feature has been selected and vectorized..i.e converted to numbers."
   ]
  },
  {
   "cell_type": "code",
   "execution_count": 19,
   "metadata": {},
   "outputs": [
    {
     "data": {
      "text/plain": [
       "<811x22 sparse matrix of type '<class 'numpy.float64'>'\n",
       "\twith 1946 stored elements in Compressed Sparse Row format>"
      ]
     },
     "execution_count": 19,
     "metadata": {},
     "output_type": "execute_result"
    }
   ],
   "source": [
    "vectors #Sparse matrix contain too many zeroes and values more than zero considered to be related to one another."
   ]
  },
  {
   "cell_type": "code",
   "execution_count": 20,
   "metadata": {},
   "outputs": [
    {
     "data": {
      "text/plain": [
       "array([[0.        , 0.        , 0.        , 0.        , 0.83766858,\n",
       "        0.        , 0.        , 0.54617887, 0.        , 0.        ,\n",
       "        0.        , 0.        , 0.        , 0.        , 0.        ,\n",
       "        0.        , 0.        , 0.        , 0.        , 0.        ,\n",
       "        0.        , 0.        ]])"
      ]
     },
     "execution_count": 20,
     "metadata": {},
     "output_type": "execute_result"
    }
   ],
   "source": [
    "vectors[0].toarray() "
   ]
  },
  {
   "cell_type": "code",
   "execution_count": 21,
   "metadata": {},
   "outputs": [],
   "source": [
    "to_find_movie_index = pd.Series(index=data[\"Movie Title\"],data = data.index)"
   ]
  },
  {
   "cell_type": "code",
   "execution_count": 22,
   "metadata": {},
   "outputs": [
    {
     "data": {
      "text/plain": [
       "Movie Title\n",
       "3 Idiots               0\n",
       "Taare Zameen Par       1\n",
       "PK                     2\n",
       "Dangal                 3\n",
       "Rang De Basanti        4\n",
       "                    ... \n",
       "Parde Ke Peechey     806\n",
       "Dhamkee              807\n",
       "Chhoo Mantar         808\n",
       "Ladki Sahyadri Ki    809\n",
       "Madadgaar            810\n",
       "Length: 811, dtype: int64"
      ]
     },
     "execution_count": 22,
     "metadata": {},
     "output_type": "execute_result"
    }
   ],
   "source": [
    " to_find_movie_index #inverting the positions of movie name and the index of the movie to find out the index of the movie from the name."
   ]
  },
  {
   "cell_type": "code",
   "execution_count": 26,
   "metadata": {},
   "outputs": [
    {
     "data": {
      "text/plain": [
       "21"
      ]
     },
     "execution_count": 26,
     "metadata": {},
     "output_type": "execute_result"
    }
   ],
   "source": [
    "to_find_movie_index[\"Haider\"]"
   ]
  },
  {
   "cell_type": "code",
   "execution_count": 31,
   "metadata": {},
   "outputs": [
    {
     "data": {
      "text/plain": [
       "<1x22 sparse matrix of type '<class 'numpy.float64'>'\n",
       "\twith 3 stored elements in Compressed Sparse Row format>"
      ]
     },
     "execution_count": 31,
     "metadata": {},
     "output_type": "execute_result"
    }
   ],
   "source": [
    "vectors[21]"
   ]
  },
  {
   "cell_type": "code",
   "execution_count": 33,
   "metadata": {},
   "outputs": [],
   "source": [
    "distance = linear_kernel(vectors[21],vectors)# using linear kernel metric calculating entire distance from the particular row."
   ]
  },
  {
   "cell_type": "code",
   "execution_count": 43,
   "metadata": {},
   "outputs": [],
   "source": [
    "final_list = pd.DataFrame(data = distance).T #Traversing the entire dataframe to get in the form of rows. "
   ]
  },
  {
   "cell_type": "code",
   "execution_count": 44,
   "metadata": {},
   "outputs": [
    {
     "data": {
      "text/html": [
       "<div>\n",
       "<style scoped>\n",
       "    .dataframe tbody tr th:only-of-type {\n",
       "        vertical-align: middle;\n",
       "    }\n",
       "\n",
       "    .dataframe tbody tr th {\n",
       "        vertical-align: top;\n",
       "    }\n",
       "\n",
       "    .dataframe thead th {\n",
       "        text-align: right;\n",
       "    }\n",
       "</style>\n",
       "<table border=\"1\" class=\"dataframe\">\n",
       "  <thead>\n",
       "    <tr style=\"text-align: right;\">\n",
       "      <th></th>\n",
       "      <th>0</th>\n",
       "    </tr>\n",
       "  </thead>\n",
       "  <tbody>\n",
       "    <tr>\n",
       "      <th>0</th>\n",
       "      <td>0.204622</td>\n",
       "    </tr>\n",
       "    <tr>\n",
       "      <th>1</th>\n",
       "      <td>0.121288</td>\n",
       "    </tr>\n",
       "    <tr>\n",
       "      <th>2</th>\n",
       "      <td>0.058271</td>\n",
       "    </tr>\n",
       "    <tr>\n",
       "      <th>3</th>\n",
       "      <td>0.336797</td>\n",
       "    </tr>\n",
       "    <tr>\n",
       "      <th>4</th>\n",
       "      <td>0.667533</td>\n",
       "    </tr>\n",
       "  </tbody>\n",
       "</table>\n",
       "</div>"
      ],
      "text/plain": [
       "          0\n",
       "0  0.204622\n",
       "1  0.121288\n",
       "2  0.058271\n",
       "3  0.336797\n",
       "4  0.667533"
      ]
     },
     "execution_count": 44,
     "metadata": {},
     "output_type": "execute_result"
    }
   ],
   "source": [
    "final_list.head()"
   ]
  },
  {
   "cell_type": "code",
   "execution_count": 45,
   "metadata": {},
   "outputs": [],
   "source": [
    "final_list.columns=[\"Scores\"]"
   ]
  },
  {
   "cell_type": "code",
   "execution_count": 46,
   "metadata": {},
   "outputs": [
    {
     "data": {
      "text/html": [
       "<div>\n",
       "<style scoped>\n",
       "    .dataframe tbody tr th:only-of-type {\n",
       "        vertical-align: middle;\n",
       "    }\n",
       "\n",
       "    .dataframe tbody tr th {\n",
       "        vertical-align: top;\n",
       "    }\n",
       "\n",
       "    .dataframe thead th {\n",
       "        text-align: right;\n",
       "    }\n",
       "</style>\n",
       "<table border=\"1\" class=\"dataframe\">\n",
       "  <thead>\n",
       "    <tr style=\"text-align: right;\">\n",
       "      <th></th>\n",
       "      <th>Scores</th>\n",
       "    </tr>\n",
       "  </thead>\n",
       "  <tbody>\n",
       "    <tr>\n",
       "      <th>0</th>\n",
       "      <td>0.204622</td>\n",
       "    </tr>\n",
       "    <tr>\n",
       "      <th>1</th>\n",
       "      <td>0.121288</td>\n",
       "    </tr>\n",
       "    <tr>\n",
       "      <th>2</th>\n",
       "      <td>0.058271</td>\n",
       "    </tr>\n",
       "    <tr>\n",
       "      <th>3</th>\n",
       "      <td>0.336797</td>\n",
       "    </tr>\n",
       "    <tr>\n",
       "      <th>4</th>\n",
       "      <td>0.667533</td>\n",
       "    </tr>\n",
       "    <tr>\n",
       "      <th>...</th>\n",
       "      <td>...</td>\n",
       "    </tr>\n",
       "    <tr>\n",
       "      <th>806</th>\n",
       "      <td>0.577607</td>\n",
       "    </tr>\n",
       "    <tr>\n",
       "      <th>807</th>\n",
       "      <td>0.409499</td>\n",
       "    </tr>\n",
       "    <tr>\n",
       "      <th>808</th>\n",
       "      <td>0.000000</td>\n",
       "    </tr>\n",
       "    <tr>\n",
       "      <th>809</th>\n",
       "      <td>0.130236</td>\n",
       "    </tr>\n",
       "    <tr>\n",
       "      <th>810</th>\n",
       "      <td>0.191254</td>\n",
       "    </tr>\n",
       "  </tbody>\n",
       "</table>\n",
       "<p>811 rows × 1 columns</p>\n",
       "</div>"
      ],
      "text/plain": [
       "       Scores\n",
       "0    0.204622\n",
       "1    0.121288\n",
       "2    0.058271\n",
       "3    0.336797\n",
       "4    0.667533\n",
       "..        ...\n",
       "806  0.577607\n",
       "807  0.409499\n",
       "808  0.000000\n",
       "809  0.130236\n",
       "810  0.191254\n",
       "\n",
       "[811 rows x 1 columns]"
      ]
     },
     "execution_count": 46,
     "metadata": {},
     "output_type": "execute_result"
    }
   ],
   "source": [
    "final_list"
   ]
  },
  {
   "cell_type": "code",
   "execution_count": 47,
   "metadata": {},
   "outputs": [
    {
     "data": {
      "text/html": [
       "<div>\n",
       "<style scoped>\n",
       "    .dataframe tbody tr th:only-of-type {\n",
       "        vertical-align: middle;\n",
       "    }\n",
       "\n",
       "    .dataframe tbody tr th {\n",
       "        vertical-align: top;\n",
       "    }\n",
       "\n",
       "    .dataframe thead th {\n",
       "        text-align: right;\n",
       "    }\n",
       "</style>\n",
       "<table border=\"1\" class=\"dataframe\">\n",
       "  <thead>\n",
       "    <tr style=\"text-align: right;\">\n",
       "      <th></th>\n",
       "      <th>Scores</th>\n",
       "    </tr>\n",
       "  </thead>\n",
       "  <tbody>\n",
       "    <tr>\n",
       "      <th>405</th>\n",
       "      <td>1.0</td>\n",
       "    </tr>\n",
       "    <tr>\n",
       "      <th>231</th>\n",
       "      <td>1.0</td>\n",
       "    </tr>\n",
       "    <tr>\n",
       "      <th>209</th>\n",
       "      <td>1.0</td>\n",
       "    </tr>\n",
       "    <tr>\n",
       "      <th>603</th>\n",
       "      <td>1.0</td>\n",
       "    </tr>\n",
       "    <tr>\n",
       "      <th>192</th>\n",
       "      <td>1.0</td>\n",
       "    </tr>\n",
       "    <tr>\n",
       "      <th>...</th>\n",
       "      <td>...</td>\n",
       "    </tr>\n",
       "    <tr>\n",
       "      <th>702</th>\n",
       "      <td>0.0</td>\n",
       "    </tr>\n",
       "    <tr>\n",
       "      <th>254</th>\n",
       "      <td>0.0</td>\n",
       "    </tr>\n",
       "    <tr>\n",
       "      <th>704</th>\n",
       "      <td>0.0</td>\n",
       "    </tr>\n",
       "    <tr>\n",
       "      <th>409</th>\n",
       "      <td>0.0</td>\n",
       "    </tr>\n",
       "    <tr>\n",
       "      <th>521</th>\n",
       "      <td>0.0</td>\n",
       "    </tr>\n",
       "  </tbody>\n",
       "</table>\n",
       "<p>811 rows × 1 columns</p>\n",
       "</div>"
      ],
      "text/plain": [
       "     Scores\n",
       "405     1.0\n",
       "231     1.0\n",
       "209     1.0\n",
       "603     1.0\n",
       "192     1.0\n",
       "..      ...\n",
       "702     0.0\n",
       "254     0.0\n",
       "704     0.0\n",
       "409     0.0\n",
       "521     0.0\n",
       "\n",
       "[811 rows x 1 columns]"
      ]
     },
     "execution_count": 47,
     "metadata": {},
     "output_type": "execute_result"
    }
   ],
   "source": [
    "final_list.sort_values(by='Scores',ascending=False)"
   ]
  },
  {
   "cell_type": "code",
   "execution_count": 49,
   "metadata": {},
   "outputs": [
    {
     "data": {
      "text/html": [
       "<div>\n",
       "<style scoped>\n",
       "    .dataframe tbody tr th:only-of-type {\n",
       "        vertical-align: middle;\n",
       "    }\n",
       "\n",
       "    .dataframe tbody tr th {\n",
       "        vertical-align: top;\n",
       "    }\n",
       "\n",
       "    .dataframe thead th {\n",
       "        text-align: right;\n",
       "    }\n",
       "</style>\n",
       "<table border=\"1\" class=\"dataframe\">\n",
       "  <thead>\n",
       "    <tr style=\"text-align: right;\">\n",
       "      <th></th>\n",
       "      <th>Movie Title</th>\n",
       "      <th>Ratinng</th>\n",
       "      <th>genre</th>\n",
       "      <th>act</th>\n",
       "      <th>img</th>\n",
       "    </tr>\n",
       "  </thead>\n",
       "  <tbody>\n",
       "    <tr>\n",
       "      <th>209</th>\n",
       "      <td>Singham Returns</td>\n",
       "      <td>5.7</td>\n",
       "      <td>Action, Crime, Drama</td>\n",
       "      <td>Ajay Devgn, Kareena Kapoor, Amole Gupte, Anupa...</td>\n",
       "      <td>https://m.media-amazon.com/images/M/MV5BOTkwND...</td>\n",
       "    </tr>\n",
       "  </tbody>\n",
       "</table>\n",
       "</div>"
      ],
      "text/plain": [
       "         Movie Title  Ratinng                 genre  \\\n",
       "209  Singham Returns      5.7  Action, Crime, Drama   \n",
       "\n",
       "                                                   act  \\\n",
       "209  Ajay Devgn, Kareena Kapoor, Amole Gupte, Anupa...   \n",
       "\n",
       "                                                   img  \n",
       "209  https://m.media-amazon.com/images/M/MV5BOTkwND...  "
      ]
     },
     "execution_count": 49,
     "metadata": {},
     "output_type": "execute_result"
    }
   ],
   "source": [
    "data[data.index==209]"
   ]
  },
  {
   "cell_type": "code",
   "execution_count": null,
   "metadata": {},
   "outputs": [],
   "source": []
  }
 ],
 "metadata": {
  "kernelspec": {
   "display_name": "Python 3 (ipykernel)",
   "language": "python",
   "name": "python3"
  },
  "language_info": {
   "codemirror_mode": {
    "name": "ipython",
    "version": 3
   },
   "file_extension": ".py",
   "mimetype": "text/x-python",
   "name": "python",
   "nbconvert_exporter": "python",
   "pygments_lexer": "ipython3",
   "version": "3.9.13"
  },
  "toc": {
   "base_numbering": 1,
   "nav_menu": {},
   "number_sections": true,
   "sideBar": true,
   "skip_h1_title": false,
   "title_cell": "Table of Contents",
   "title_sidebar": "Contents",
   "toc_cell": false,
   "toc_position": {},
   "toc_section_display": true,
   "toc_window_display": false
  }
 },
 "nbformat": 4,
 "nbformat_minor": 2
}
