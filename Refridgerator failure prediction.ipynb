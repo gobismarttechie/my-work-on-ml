{
 "cells": [
  {
   "cell_type": "code",
   "execution_count": 1,
   "metadata": {},
   "outputs": [],
   "source": [
    "import pandas as pd\n",
    "import numpy as np\n",
    "import matplotlib.pyplot as plt\n",
    "import warnings\n",
    "warnings.filterwarnings(\"ignore\")"
   ]
  },
  {
   "cell_type": "code",
   "execution_count": 2,
   "metadata": {},
   "outputs": [],
   "source": [
    "device_data = pd.read_excel(r\"C:\\Users\\Gobinath\\Desktop\\tasks\\refridgerator Project\\device_data_final.xlsx\")"
   ]
  },
  {
   "cell_type": "code",
   "execution_count": 3,
   "metadata": {},
   "outputs": [],
   "source": [
    "products_data = pd.read_excel(r\"C:\\Users\\Gobinath\\Desktop\\tasks\\refridgerator Project\\products_data_final.xlsx\")"
   ]
  },
  {
   "cell_type": "code",
   "execution_count": 4,
   "metadata": {},
   "outputs": [],
   "source": [
    "sales_data = pd.read_excel(r\"C:\\Users\\Gobinath\\Desktop\\tasks\\refridgerator Project\\sales_data_final.xlsx\")\n",
    "stores_data = pd.read_excel(r\"C:\\Users\\Gobinath\\Desktop\\tasks\\refridgerator Project\\stores_data_final.xlsx\")"
   ]
  },
  {
   "cell_type": "code",
   "execution_count": 5,
   "metadata": {},
   "outputs": [
    {
     "data": {
      "text/html": [
       "<div>\n",
       "<style scoped>\n",
       "    .dataframe tbody tr th:only-of-type {\n",
       "        vertical-align: middle;\n",
       "    }\n",
       "\n",
       "    .dataframe tbody tr th {\n",
       "        vertical-align: top;\n",
       "    }\n",
       "\n",
       "    .dataframe thead th {\n",
       "        text-align: right;\n",
       "    }\n",
       "</style>\n",
       "<table border=\"1\" class=\"dataframe\">\n",
       "  <thead>\n",
       "    <tr style=\"text-align: right;\">\n",
       "      <th></th>\n",
       "      <th>Device_id</th>\n",
       "      <th>Device_capacity</th>\n",
       "      <th>Device_pressure</th>\n",
       "      <th>Device_temperature(Fahrenheit)</th>\n",
       "      <th>Current_location</th>\n",
       "    </tr>\n",
       "  </thead>\n",
       "  <tbody>\n",
       "    <tr>\n",
       "      <th>0</th>\n",
       "      <td>8a57d6fb</td>\n",
       "      <td>190L</td>\n",
       "      <td>2</td>\n",
       "      <td>38</td>\n",
       "      <td>Panaji</td>\n",
       "    </tr>\n",
       "    <tr>\n",
       "      <th>1</th>\n",
       "      <td>90ae7073</td>\n",
       "      <td>220L</td>\n",
       "      <td>2</td>\n",
       "      <td>34</td>\n",
       "      <td>Chennai</td>\n",
       "    </tr>\n",
       "    <tr>\n",
       "      <th>2</th>\n",
       "      <td>a64a0ea4</td>\n",
       "      <td>220L</td>\n",
       "      <td>2</td>\n",
       "      <td>35</td>\n",
       "      <td>Panaji</td>\n",
       "    </tr>\n",
       "    <tr>\n",
       "      <th>3</th>\n",
       "      <td>a3bf376b</td>\n",
       "      <td>160L</td>\n",
       "      <td>2</td>\n",
       "      <td>38</td>\n",
       "      <td>Lucknow</td>\n",
       "    </tr>\n",
       "    <tr>\n",
       "      <th>4</th>\n",
       "      <td>556b68bc</td>\n",
       "      <td>190L</td>\n",
       "      <td>1</td>\n",
       "      <td>38</td>\n",
       "      <td>Mumbai</td>\n",
       "    </tr>\n",
       "    <tr>\n",
       "      <th>5</th>\n",
       "      <td>71cfffa0</td>\n",
       "      <td>160L</td>\n",
       "      <td>2</td>\n",
       "      <td>35</td>\n",
       "      <td>Indore</td>\n",
       "    </tr>\n",
       "    <tr>\n",
       "      <th>6</th>\n",
       "      <td>22a1aa23</td>\n",
       "      <td>190L</td>\n",
       "      <td>1</td>\n",
       "      <td>38</td>\n",
       "      <td>Kolkata</td>\n",
       "    </tr>\n",
       "    <tr>\n",
       "      <th>7</th>\n",
       "      <td>b181f4de</td>\n",
       "      <td>190L</td>\n",
       "      <td>1</td>\n",
       "      <td>36</td>\n",
       "      <td>Panaji</td>\n",
       "    </tr>\n",
       "    <tr>\n",
       "      <th>8</th>\n",
       "      <td>551cbf24</td>\n",
       "      <td>160L</td>\n",
       "      <td>1</td>\n",
       "      <td>34</td>\n",
       "      <td>Panaji</td>\n",
       "    </tr>\n",
       "    <tr>\n",
       "      <th>9</th>\n",
       "      <td>4b7fc8ee</td>\n",
       "      <td>160L</td>\n",
       "      <td>1</td>\n",
       "      <td>36</td>\n",
       "      <td>Mirzapur</td>\n",
       "    </tr>\n",
       "  </tbody>\n",
       "</table>\n",
       "</div>"
      ],
      "text/plain": [
       "  Device_id Device_capacity  Device_pressure  Device_temperature(Fahrenheit)  \\\n",
       "0  8a57d6fb            190L                2                              38   \n",
       "1  90ae7073            220L                2                              34   \n",
       "2  a64a0ea4            220L                2                              35   \n",
       "3  a3bf376b            160L                2                              38   \n",
       "4  556b68bc            190L                1                              38   \n",
       "5  71cfffa0            160L                2                              35   \n",
       "6  22a1aa23            190L                1                              38   \n",
       "7  b181f4de            190L                1                              36   \n",
       "8  551cbf24            160L                1                              34   \n",
       "9  4b7fc8ee            160L                1                              36   \n",
       "\n",
       "  Current_location  \n",
       "0           Panaji  \n",
       "1          Chennai  \n",
       "2           Panaji  \n",
       "3          Lucknow  \n",
       "4           Mumbai  \n",
       "5           Indore  \n",
       "6          Kolkata  \n",
       "7           Panaji  \n",
       "8           Panaji  \n",
       "9         Mirzapur  "
      ]
     },
     "execution_count": 5,
     "metadata": {},
     "output_type": "execute_result"
    }
   ],
   "source": [
    "device_data.head(10)"
   ]
  },
  {
   "cell_type": "code",
   "execution_count": 6,
   "metadata": {},
   "outputs": [
    {
     "data": {
      "text/html": [
       "<div>\n",
       "<style scoped>\n",
       "    .dataframe tbody tr th:only-of-type {\n",
       "        vertical-align: middle;\n",
       "    }\n",
       "\n",
       "    .dataframe tbody tr th {\n",
       "        vertical-align: top;\n",
       "    }\n",
       "\n",
       "    .dataframe thead th {\n",
       "        text-align: right;\n",
       "    }\n",
       "</style>\n",
       "<table border=\"1\" class=\"dataframe\">\n",
       "  <thead>\n",
       "    <tr style=\"text-align: right;\">\n",
       "      <th></th>\n",
       "      <th>Order_id</th>\n",
       "      <th>Product_id</th>\n",
       "      <th>Device_id</th>\n",
       "      <th>Order_date</th>\n",
       "      <th>SKUs_sold</th>\n",
       "    </tr>\n",
       "  </thead>\n",
       "  <tbody>\n",
       "    <tr>\n",
       "      <th>0</th>\n",
       "      <td>dcdc4832</td>\n",
       "      <td>8f468e4c</td>\n",
       "      <td>be9ff07d</td>\n",
       "      <td>2017-02-06</td>\n",
       "      <td>88</td>\n",
       "    </tr>\n",
       "    <tr>\n",
       "      <th>1</th>\n",
       "      <td>03d90862</td>\n",
       "      <td>239a61e3</td>\n",
       "      <td>48f4dcd6</td>\n",
       "      <td>2016-12-13</td>\n",
       "      <td>47</td>\n",
       "    </tr>\n",
       "    <tr>\n",
       "      <th>2</th>\n",
       "      <td>3b76ecfc</td>\n",
       "      <td>012db796</td>\n",
       "      <td>5ba7aaef</td>\n",
       "      <td>2017-07-18</td>\n",
       "      <td>1</td>\n",
       "    </tr>\n",
       "    <tr>\n",
       "      <th>3</th>\n",
       "      <td>35900af1</td>\n",
       "      <td>9079a614</td>\n",
       "      <td>26ebed00</td>\n",
       "      <td>2017-06-26</td>\n",
       "      <td>1</td>\n",
       "    </tr>\n",
       "    <tr>\n",
       "      <th>4</th>\n",
       "      <td>2c9cd17d</td>\n",
       "      <td>f145bbb8</td>\n",
       "      <td>8c50fdde</td>\n",
       "      <td>2017-04-26</td>\n",
       "      <td>71</td>\n",
       "    </tr>\n",
       "    <tr>\n",
       "      <th>5</th>\n",
       "      <td>13a30969</td>\n",
       "      <td>4b593888</td>\n",
       "      <td>f02923dd</td>\n",
       "      <td>2017-07-19</td>\n",
       "      <td>18</td>\n",
       "    </tr>\n",
       "    <tr>\n",
       "      <th>6</th>\n",
       "      <td>f7cf4d43</td>\n",
       "      <td>fa25b245</td>\n",
       "      <td>85c91017</td>\n",
       "      <td>2017-03-09</td>\n",
       "      <td>72</td>\n",
       "    </tr>\n",
       "    <tr>\n",
       "      <th>7</th>\n",
       "      <td>e3c99acc</td>\n",
       "      <td>73dd977b</td>\n",
       "      <td>556b68bc</td>\n",
       "      <td>2016-11-27</td>\n",
       "      <td>49</td>\n",
       "    </tr>\n",
       "    <tr>\n",
       "      <th>8</th>\n",
       "      <td>b56d5c0b</td>\n",
       "      <td>12432b9e</td>\n",
       "      <td>492ff7cb</td>\n",
       "      <td>2017-07-17</td>\n",
       "      <td>23</td>\n",
       "    </tr>\n",
       "    <tr>\n",
       "      <th>9</th>\n",
       "      <td>078112c1</td>\n",
       "      <td>22b4d7a8</td>\n",
       "      <td>6dc61dcb</td>\n",
       "      <td>2017-05-21</td>\n",
       "      <td>70</td>\n",
       "    </tr>\n",
       "  </tbody>\n",
       "</table>\n",
       "</div>"
      ],
      "text/plain": [
       "   Order_id Product_id Device_id Order_date  SKUs_sold\n",
       "0  dcdc4832   8f468e4c  be9ff07d 2017-02-06         88\n",
       "1  03d90862   239a61e3  48f4dcd6 2016-12-13         47\n",
       "2  3b76ecfc   012db796  5ba7aaef 2017-07-18          1\n",
       "3  35900af1   9079a614  26ebed00 2017-06-26          1\n",
       "4  2c9cd17d   f145bbb8  8c50fdde 2017-04-26         71\n",
       "5  13a30969   4b593888  f02923dd 2017-07-19         18\n",
       "6  f7cf4d43   fa25b245  85c91017 2017-03-09         72\n",
       "7  e3c99acc   73dd977b  556b68bc 2016-11-27         49\n",
       "8  b56d5c0b   12432b9e  492ff7cb 2017-07-17         23\n",
       "9  078112c1   22b4d7a8  6dc61dcb 2017-05-21         70"
      ]
     },
     "execution_count": 6,
     "metadata": {},
     "output_type": "execute_result"
    }
   ],
   "source": [
    "sales_data.head(10)"
   ]
  },
  {
   "cell_type": "code",
   "execution_count": 7,
   "metadata": {},
   "outputs": [
    {
     "data": {
      "text/html": [
       "<div>\n",
       "<style scoped>\n",
       "    .dataframe tbody tr th:only-of-type {\n",
       "        vertical-align: middle;\n",
       "    }\n",
       "\n",
       "    .dataframe tbody tr th {\n",
       "        vertical-align: top;\n",
       "    }\n",
       "\n",
       "    .dataframe thead th {\n",
       "        text-align: right;\n",
       "    }\n",
       "</style>\n",
       "<table border=\"1\" class=\"dataframe\">\n",
       "  <thead>\n",
       "    <tr style=\"text-align: right;\">\n",
       "      <th></th>\n",
       "      <th>Store_id</th>\n",
       "      <th>Store_name</th>\n",
       "      <th>Device_id</th>\n",
       "      <th>Operational_date</th>\n",
       "      <th>Failure_date</th>\n",
       "      <th>Request_service_date</th>\n",
       "      <th>Service_successful_date</th>\n",
       "      <th>Current_date</th>\n",
       "      <th>Store_location</th>\n",
       "    </tr>\n",
       "  </thead>\n",
       "  <tbody>\n",
       "    <tr>\n",
       "      <th>0</th>\n",
       "      <td>1799</td>\n",
       "      <td>YRL Groups</td>\n",
       "      <td>c325cdc6</td>\n",
       "      <td>2018-06-06T00:00:00.000Z</td>\n",
       "      <td>2019-08-06T00:00:00.000Z</td>\n",
       "      <td>2019-08-06T00:00:00.000Z</td>\n",
       "      <td>2019-08-31T00:00:00.000Z</td>\n",
       "      <td>2022-05-19T00:00:00.000Z</td>\n",
       "      <td>Mumbai</td>\n",
       "    </tr>\n",
       "    <tr>\n",
       "      <th>1</th>\n",
       "      <td>1665</td>\n",
       "      <td>More Retail</td>\n",
       "      <td>ebb78465</td>\n",
       "      <td>2018-01-10T00:00:00.000Z</td>\n",
       "      <td>2019-03-10T00:00:00.000Z</td>\n",
       "      <td>2019-03-10T00:00:00.000Z</td>\n",
       "      <td>2019-04-04T00:00:00.000Z</td>\n",
       "      <td>2022-04-22T00:00:00.000Z</td>\n",
       "      <td>Banglore</td>\n",
       "    </tr>\n",
       "    <tr>\n",
       "      <th>2</th>\n",
       "      <td>1261</td>\n",
       "      <td>Hyper City</td>\n",
       "      <td>6e29d1be</td>\n",
       "      <td>2018-04-23T00:00:00.000Z</td>\n",
       "      <td>2019-06-23T00:00:00.000Z</td>\n",
       "      <td>2019-06-23T00:00:00.000Z</td>\n",
       "      <td>2019-07-18T00:00:00.000Z</td>\n",
       "      <td>2022-03-22T00:00:00.000Z</td>\n",
       "      <td>Mumbai</td>\n",
       "    </tr>\n",
       "    <tr>\n",
       "      <th>3</th>\n",
       "      <td>449</td>\n",
       "      <td>Food World</td>\n",
       "      <td>2ad43c11</td>\n",
       "      <td>2018-05-17T00:00:00.000Z</td>\n",
       "      <td>2019-07-17T00:00:00.000Z</td>\n",
       "      <td>2019-07-17T00:00:00.000Z</td>\n",
       "      <td>2019-08-21T00:00:00.000Z</td>\n",
       "      <td>2022-07-29T00:00:00.000Z</td>\n",
       "      <td>New Delhi</td>\n",
       "    </tr>\n",
       "    <tr>\n",
       "      <th>4</th>\n",
       "      <td>284</td>\n",
       "      <td>Manasvi Ltd</td>\n",
       "      <td>8444e8d6</td>\n",
       "      <td>2018-06-20T00:00:00.000Z</td>\n",
       "      <td>2019-08-20T00:00:00.000Z</td>\n",
       "      <td>2019-08-22T00:00:00.000Z</td>\n",
       "      <td>2019-09-01T00:00:00.000Z</td>\n",
       "      <td>2022-03-15T00:00:00.000Z</td>\n",
       "      <td>Mumbai</td>\n",
       "    </tr>\n",
       "    <tr>\n",
       "      <th>5</th>\n",
       "      <td>1132</td>\n",
       "      <td>Hyper City</td>\n",
       "      <td>876f83c3</td>\n",
       "      <td>2018-03-12T00:00:00.000Z</td>\n",
       "      <td>2018-12-12T00:00:00.000Z</td>\n",
       "      <td>2018-12-14T00:00:00.000Z</td>\n",
       "      <td>2019-01-18T00:00:00.000Z</td>\n",
       "      <td>2022-07-12T00:00:00.000Z</td>\n",
       "      <td>Delhi</td>\n",
       "    </tr>\n",
       "    <tr>\n",
       "      <th>6</th>\n",
       "      <td>1807</td>\n",
       "      <td>More Retail</td>\n",
       "      <td>615f718b</td>\n",
       "      <td>2018-06-04T00:00:00.000Z</td>\n",
       "      <td>2019-06-04T00:00:00.000Z</td>\n",
       "      <td>2019-06-04T00:00:00.000Z</td>\n",
       "      <td>2019-06-29T00:00:00.000Z</td>\n",
       "      <td>2022-03-06T00:00:00.000Z</td>\n",
       "      <td>Haryana</td>\n",
       "    </tr>\n",
       "    <tr>\n",
       "      <th>7</th>\n",
       "      <td>318</td>\n",
       "      <td>YRL Groups</td>\n",
       "      <td>bd4697db</td>\n",
       "      <td>2018-01-06T00:00:00.000Z</td>\n",
       "      <td>2019-01-06T00:00:00.000Z</td>\n",
       "      <td>2019-01-08T00:00:00.000Z</td>\n",
       "      <td>2019-02-12T00:00:00.000Z</td>\n",
       "      <td>2022-05-20T00:00:00.000Z</td>\n",
       "      <td>Banglore</td>\n",
       "    </tr>\n",
       "    <tr>\n",
       "      <th>8</th>\n",
       "      <td>172</td>\n",
       "      <td>Spar</td>\n",
       "      <td>d8fd2301</td>\n",
       "      <td>2018-01-17T00:00:00.000Z</td>\n",
       "      <td>2019-01-17T00:00:00.000Z</td>\n",
       "      <td>2019-01-19T00:00:00.000Z</td>\n",
       "      <td>2019-02-13T00:00:00.000Z</td>\n",
       "      <td>2021-04-30T00:00:00.000Z</td>\n",
       "      <td>New Delhi</td>\n",
       "    </tr>\n",
       "    <tr>\n",
       "      <th>9</th>\n",
       "      <td>1092</td>\n",
       "      <td>Sodhi's</td>\n",
       "      <td>3852abbd</td>\n",
       "      <td>2018-03-09T00:00:00.000Z</td>\n",
       "      <td>2019-03-09T00:00:00.000Z</td>\n",
       "      <td>2019-03-11T00:00:00.000Z</td>\n",
       "      <td>2019-04-15T00:00:00.000Z</td>\n",
       "      <td>2021-11-15T00:00:00.000Z</td>\n",
       "      <td>Kerala</td>\n",
       "    </tr>\n",
       "  </tbody>\n",
       "</table>\n",
       "</div>"
      ],
      "text/plain": [
       "   Store_id   Store_name Device_id          Operational_date  \\\n",
       "0      1799   YRL Groups  c325cdc6  2018-06-06T00:00:00.000Z   \n",
       "1      1665  More Retail  ebb78465  2018-01-10T00:00:00.000Z   \n",
       "2      1261   Hyper City  6e29d1be  2018-04-23T00:00:00.000Z   \n",
       "3       449   Food World  2ad43c11  2018-05-17T00:00:00.000Z   \n",
       "4       284  Manasvi Ltd  8444e8d6  2018-06-20T00:00:00.000Z   \n",
       "5      1132   Hyper City  876f83c3  2018-03-12T00:00:00.000Z   \n",
       "6      1807  More Retail  615f718b  2018-06-04T00:00:00.000Z   \n",
       "7       318   YRL Groups  bd4697db  2018-01-06T00:00:00.000Z   \n",
       "8       172         Spar  d8fd2301  2018-01-17T00:00:00.000Z   \n",
       "9      1092      Sodhi's  3852abbd  2018-03-09T00:00:00.000Z   \n",
       "\n",
       "               Failure_date      Request_service_date  \\\n",
       "0  2019-08-06T00:00:00.000Z  2019-08-06T00:00:00.000Z   \n",
       "1  2019-03-10T00:00:00.000Z  2019-03-10T00:00:00.000Z   \n",
       "2  2019-06-23T00:00:00.000Z  2019-06-23T00:00:00.000Z   \n",
       "3  2019-07-17T00:00:00.000Z  2019-07-17T00:00:00.000Z   \n",
       "4  2019-08-20T00:00:00.000Z  2019-08-22T00:00:00.000Z   \n",
       "5  2018-12-12T00:00:00.000Z  2018-12-14T00:00:00.000Z   \n",
       "6  2019-06-04T00:00:00.000Z  2019-06-04T00:00:00.000Z   \n",
       "7  2019-01-06T00:00:00.000Z  2019-01-08T00:00:00.000Z   \n",
       "8  2019-01-17T00:00:00.000Z  2019-01-19T00:00:00.000Z   \n",
       "9  2019-03-09T00:00:00.000Z  2019-03-11T00:00:00.000Z   \n",
       "\n",
       "    Service_successful_date              Current_date Store_location  \n",
       "0  2019-08-31T00:00:00.000Z  2022-05-19T00:00:00.000Z         Mumbai  \n",
       "1  2019-04-04T00:00:00.000Z  2022-04-22T00:00:00.000Z       Banglore  \n",
       "2  2019-07-18T00:00:00.000Z  2022-03-22T00:00:00.000Z         Mumbai  \n",
       "3  2019-08-21T00:00:00.000Z  2022-07-29T00:00:00.000Z      New Delhi  \n",
       "4  2019-09-01T00:00:00.000Z  2022-03-15T00:00:00.000Z         Mumbai  \n",
       "5  2019-01-18T00:00:00.000Z  2022-07-12T00:00:00.000Z          Delhi  \n",
       "6  2019-06-29T00:00:00.000Z  2022-03-06T00:00:00.000Z        Haryana  \n",
       "7  2019-02-12T00:00:00.000Z  2022-05-20T00:00:00.000Z       Banglore  \n",
       "8  2019-02-13T00:00:00.000Z  2021-04-30T00:00:00.000Z      New Delhi  \n",
       "9  2019-04-15T00:00:00.000Z  2021-11-15T00:00:00.000Z         Kerala  "
      ]
     },
     "execution_count": 7,
     "metadata": {},
     "output_type": "execute_result"
    }
   ],
   "source": [
    "stores_data.head(10)"
   ]
  },
  {
   "cell_type": "code",
   "execution_count": 8,
   "metadata": {},
   "outputs": [
    {
     "data": {
      "text/html": [
       "<div>\n",
       "<style scoped>\n",
       "    .dataframe tbody tr th:only-of-type {\n",
       "        vertical-align: middle;\n",
       "    }\n",
       "\n",
       "    .dataframe tbody tr th {\n",
       "        vertical-align: top;\n",
       "    }\n",
       "\n",
       "    .dataframe thead th {\n",
       "        text-align: right;\n",
       "    }\n",
       "</style>\n",
       "<table border=\"1\" class=\"dataframe\">\n",
       "  <thead>\n",
       "    <tr style=\"text-align: right;\">\n",
       "      <th></th>\n",
       "      <th>Product_id</th>\n",
       "      <th>Product_name</th>\n",
       "      <th>Product_type</th>\n",
       "      <th>Product_size</th>\n",
       "      <th>Product_price</th>\n",
       "      <th>Threshold_temperature(Fahrenheit)</th>\n",
       "      <th>Product_quantity</th>\n",
       "      <th>Manufacturing_location</th>\n",
       "      <th>Manufacturing_date</th>\n",
       "    </tr>\n",
       "  </thead>\n",
       "  <tbody>\n",
       "    <tr>\n",
       "      <th>0</th>\n",
       "      <td>965f3c2f</td>\n",
       "      <td>PepsiCo Mountain Dew</td>\n",
       "      <td>Beverages</td>\n",
       "      <td>1L</td>\n",
       "      <td>180</td>\n",
       "      <td>35</td>\n",
       "      <td>21</td>\n",
       "      <td>Chennai</td>\n",
       "      <td>2015-08-01</td>\n",
       "    </tr>\n",
       "    <tr>\n",
       "      <th>1</th>\n",
       "      <td>45f8631f</td>\n",
       "      <td>Coca-Cola Sprite</td>\n",
       "      <td>Beverages</td>\n",
       "      <td>500ML</td>\n",
       "      <td>60</td>\n",
       "      <td>45</td>\n",
       "      <td>79</td>\n",
       "      <td>Patna</td>\n",
       "      <td>2015-09-09</td>\n",
       "    </tr>\n",
       "    <tr>\n",
       "      <th>2</th>\n",
       "      <td>56eeea86</td>\n",
       "      <td>Coca-Cola Sprite</td>\n",
       "      <td>Beverages</td>\n",
       "      <td>500ML</td>\n",
       "      <td>60</td>\n",
       "      <td>50</td>\n",
       "      <td>72</td>\n",
       "      <td>Delhi</td>\n",
       "      <td>2015-12-21</td>\n",
       "    </tr>\n",
       "    <tr>\n",
       "      <th>3</th>\n",
       "      <td>a5443c82</td>\n",
       "      <td>Mars Twix</td>\n",
       "      <td>Chocolates</td>\n",
       "      <td>10g</td>\n",
       "      <td>138</td>\n",
       "      <td>59</td>\n",
       "      <td>47</td>\n",
       "      <td>Ahmedabad</td>\n",
       "      <td>2015-10-03</td>\n",
       "    </tr>\n",
       "    <tr>\n",
       "      <th>4</th>\n",
       "      <td>73dd977b</td>\n",
       "      <td>Mars Twix</td>\n",
       "      <td>Chocolates</td>\n",
       "      <td>10g</td>\n",
       "      <td>138</td>\n",
       "      <td>40</td>\n",
       "      <td>95</td>\n",
       "      <td>Lucknow</td>\n",
       "      <td>2016-01-13</td>\n",
       "    </tr>\n",
       "    <tr>\n",
       "      <th>5</th>\n",
       "      <td>7077a1fe</td>\n",
       "      <td>Nandini Fresh Cream</td>\n",
       "      <td>Dairy</td>\n",
       "      <td>500ML</td>\n",
       "      <td>210</td>\n",
       "      <td>41</td>\n",
       "      <td>89</td>\n",
       "      <td>Delhi</td>\n",
       "      <td>2016-01-31</td>\n",
       "    </tr>\n",
       "    <tr>\n",
       "      <th>6</th>\n",
       "      <td>0210aeaa</td>\n",
       "      <td>Mars Twix</td>\n",
       "      <td>Chocolates</td>\n",
       "      <td>10g</td>\n",
       "      <td>138</td>\n",
       "      <td>66</td>\n",
       "      <td>43</td>\n",
       "      <td>Ludhiana</td>\n",
       "      <td>2016-01-09</td>\n",
       "    </tr>\n",
       "    <tr>\n",
       "      <th>7</th>\n",
       "      <td>7051b7c0</td>\n",
       "      <td>PepsiCo Mountain Dew</td>\n",
       "      <td>Beverages</td>\n",
       "      <td>1L</td>\n",
       "      <td>180</td>\n",
       "      <td>50</td>\n",
       "      <td>53</td>\n",
       "      <td>Kolkata</td>\n",
       "      <td>2016-01-25</td>\n",
       "    </tr>\n",
       "    <tr>\n",
       "      <th>8</th>\n",
       "      <td>15919d32</td>\n",
       "      <td>Mars M&amp;M</td>\n",
       "      <td>Chocolates</td>\n",
       "      <td>50g</td>\n",
       "      <td>47</td>\n",
       "      <td>62</td>\n",
       "      <td>62</td>\n",
       "      <td>Hyderabad</td>\n",
       "      <td>2016-01-21</td>\n",
       "    </tr>\n",
       "    <tr>\n",
       "      <th>9</th>\n",
       "      <td>52e79942</td>\n",
       "      <td>PepsiCo 7Up</td>\n",
       "      <td>Beverages</td>\n",
       "      <td>1L</td>\n",
       "      <td>110</td>\n",
       "      <td>49</td>\n",
       "      <td>23</td>\n",
       "      <td>Kolkata</td>\n",
       "      <td>2015-12-18</td>\n",
       "    </tr>\n",
       "  </tbody>\n",
       "</table>\n",
       "</div>"
      ],
      "text/plain": [
       "  Product_id          Product_name Product_type Product_size  Product_price  \\\n",
       "0   965f3c2f  PepsiCo Mountain Dew    Beverages           1L            180   \n",
       "1   45f8631f      Coca-Cola Sprite    Beverages        500ML             60   \n",
       "2   56eeea86      Coca-Cola Sprite    Beverages        500ML             60   \n",
       "3   a5443c82             Mars Twix   Chocolates          10g            138   \n",
       "4   73dd977b             Mars Twix   Chocolates          10g            138   \n",
       "5   7077a1fe   Nandini Fresh Cream        Dairy        500ML            210   \n",
       "6   0210aeaa             Mars Twix   Chocolates          10g            138   \n",
       "7   7051b7c0  PepsiCo Mountain Dew    Beverages           1L            180   \n",
       "8   15919d32              Mars M&M   Chocolates          50g             47   \n",
       "9   52e79942           PepsiCo 7Up    Beverages           1L            110   \n",
       "\n",
       "   Threshold_temperature(Fahrenheit)  Product_quantity Manufacturing_location  \\\n",
       "0                                 35                21                Chennai   \n",
       "1                                 45                79                  Patna   \n",
       "2                                 50                72                  Delhi   \n",
       "3                                 59                47              Ahmedabad   \n",
       "4                                 40                95                Lucknow   \n",
       "5                                 41                89                  Delhi   \n",
       "6                                 66                43               Ludhiana   \n",
       "7                                 50                53                Kolkata   \n",
       "8                                 62                62              Hyderabad   \n",
       "9                                 49                23                Kolkata   \n",
       "\n",
       "  Manufacturing_date  \n",
       "0         2015-08-01  \n",
       "1         2015-09-09  \n",
       "2         2015-12-21  \n",
       "3         2015-10-03  \n",
       "4         2016-01-13  \n",
       "5         2016-01-31  \n",
       "6         2016-01-09  \n",
       "7         2016-01-25  \n",
       "8         2016-01-21  \n",
       "9         2015-12-18  "
      ]
     },
     "execution_count": 8,
     "metadata": {},
     "output_type": "execute_result"
    }
   ],
   "source": [
    "products_data.head(10)"
   ]
  },
  {
   "cell_type": "markdown",
   "metadata": {},
   "source": [
    "###### comparing multiple columns\n",
    "list(set(df1.A) & set(df2.A) & set(df3.A))"
   ]
  },
  {
   "cell_type": "code",
   "execution_count": 9,
   "metadata": {},
   "outputs": [
    {
     "data": {
      "text/plain": [
       "(1000, 5)"
      ]
     },
     "execution_count": 9,
     "metadata": {},
     "output_type": "execute_result"
    }
   ],
   "source": [
    "device_data.shape #"
   ]
  },
  {
   "cell_type": "code",
   "execution_count": 10,
   "metadata": {},
   "outputs": [
    {
     "data": {
      "text/plain": [
       "(1000, 9)"
      ]
     },
     "execution_count": 10,
     "metadata": {},
     "output_type": "execute_result"
    }
   ],
   "source": [
    "products_data.shape"
   ]
  },
  {
   "cell_type": "code",
   "execution_count": 11,
   "metadata": {},
   "outputs": [
    {
     "data": {
      "text/plain": [
       "(5000, 5)"
      ]
     },
     "execution_count": 11,
     "metadata": {},
     "output_type": "execute_result"
    }
   ],
   "source": [
    "sales_data.shape"
   ]
  },
  {
   "cell_type": "code",
   "execution_count": 12,
   "metadata": {},
   "outputs": [
    {
     "data": {
      "text/plain": [
       "(2000, 9)"
      ]
     },
     "execution_count": 12,
     "metadata": {},
     "output_type": "execute_result"
    }
   ],
   "source": [
    "stores_data.shape"
   ]
  },
  {
   "cell_type": "code",
   "execution_count": 13,
   "metadata": {},
   "outputs": [],
   "source": [
    "sales_data_revised = sales_data.drop(['Order_date','SKUs_sold'],axis=1)"
   ]
  },
  {
   "cell_type": "code",
   "execution_count": 14,
   "metadata": {},
   "outputs": [
    {
     "data": {
      "text/plain": [
       "Order_id      object\n",
       "Product_id    object\n",
       "Device_id     object\n",
       "dtype: object"
      ]
     },
     "execution_count": 14,
     "metadata": {},
     "output_type": "execute_result"
    }
   ],
   "source": [
    "sales_data_revised.dtypes"
   ]
  },
  {
   "cell_type": "code",
   "execution_count": 15,
   "metadata": {},
   "outputs": [],
   "source": [
    "sales_products_merged=sales_data.merge(products_data,on='Product_id',how='left')"
   ]
  },
  {
   "cell_type": "code",
   "execution_count": 16,
   "metadata": {},
   "outputs": [
    {
     "data": {
      "text/html": [
       "<div>\n",
       "<style scoped>\n",
       "    .dataframe tbody tr th:only-of-type {\n",
       "        vertical-align: middle;\n",
       "    }\n",
       "\n",
       "    .dataframe tbody tr th {\n",
       "        vertical-align: top;\n",
       "    }\n",
       "\n",
       "    .dataframe thead th {\n",
       "        text-align: right;\n",
       "    }\n",
       "</style>\n",
       "<table border=\"1\" class=\"dataframe\">\n",
       "  <thead>\n",
       "    <tr style=\"text-align: right;\">\n",
       "      <th></th>\n",
       "      <th>Order_id</th>\n",
       "      <th>Product_id</th>\n",
       "      <th>Device_id</th>\n",
       "      <th>Order_date</th>\n",
       "      <th>SKUs_sold</th>\n",
       "      <th>Product_name</th>\n",
       "      <th>Product_type</th>\n",
       "      <th>Product_size</th>\n",
       "      <th>Product_price</th>\n",
       "      <th>Threshold_temperature(Fahrenheit)</th>\n",
       "      <th>Product_quantity</th>\n",
       "      <th>Manufacturing_location</th>\n",
       "      <th>Manufacturing_date</th>\n",
       "    </tr>\n",
       "  </thead>\n",
       "  <tbody>\n",
       "    <tr>\n",
       "      <th>0</th>\n",
       "      <td>dcdc4832</td>\n",
       "      <td>8f468e4c</td>\n",
       "      <td>be9ff07d</td>\n",
       "      <td>2017-02-06</td>\n",
       "      <td>88</td>\n",
       "      <td>SoGood Soy Milk</td>\n",
       "      <td>Dairy</td>\n",
       "      <td>500ML</td>\n",
       "      <td>145</td>\n",
       "      <td>52</td>\n",
       "      <td>95</td>\n",
       "      <td>Pune</td>\n",
       "      <td>2015-11-20</td>\n",
       "    </tr>\n",
       "    <tr>\n",
       "      <th>1</th>\n",
       "      <td>03d90862</td>\n",
       "      <td>239a61e3</td>\n",
       "      <td>48f4dcd6</td>\n",
       "      <td>2016-12-13</td>\n",
       "      <td>47</td>\n",
       "      <td>Nestle Nutties</td>\n",
       "      <td>Chocolates</td>\n",
       "      <td>10g</td>\n",
       "      <td>38</td>\n",
       "      <td>34</td>\n",
       "      <td>81</td>\n",
       "      <td>Ahmedabad</td>\n",
       "      <td>2015-11-30</td>\n",
       "    </tr>\n",
       "    <tr>\n",
       "      <th>2</th>\n",
       "      <td>3b76ecfc</td>\n",
       "      <td>012db796</td>\n",
       "      <td>5ba7aaef</td>\n",
       "      <td>2017-07-18</td>\n",
       "      <td>1</td>\n",
       "      <td>Nestle Milky Bar</td>\n",
       "      <td>Chocolates</td>\n",
       "      <td>50g</td>\n",
       "      <td>20</td>\n",
       "      <td>68</td>\n",
       "      <td>28</td>\n",
       "      <td>Panaji</td>\n",
       "      <td>2015-05-23</td>\n",
       "    </tr>\n",
       "    <tr>\n",
       "      <th>3</th>\n",
       "      <td>35900af1</td>\n",
       "      <td>9079a614</td>\n",
       "      <td>26ebed00</td>\n",
       "      <td>2017-06-26</td>\n",
       "      <td>1</td>\n",
       "      <td>Nandini Fresh Cream</td>\n",
       "      <td>Dairy</td>\n",
       "      <td>500ML</td>\n",
       "      <td>210</td>\n",
       "      <td>73</td>\n",
       "      <td>57</td>\n",
       "      <td>Mumbai</td>\n",
       "      <td>2015-05-11</td>\n",
       "    </tr>\n",
       "    <tr>\n",
       "      <th>4</th>\n",
       "      <td>2c9cd17d</td>\n",
       "      <td>f145bbb8</td>\n",
       "      <td>8c50fdde</td>\n",
       "      <td>2017-04-26</td>\n",
       "      <td>71</td>\n",
       "      <td>Alpenliebe Choco Eclair</td>\n",
       "      <td>Chocolates</td>\n",
       "      <td>10g</td>\n",
       "      <td>51</td>\n",
       "      <td>77</td>\n",
       "      <td>21</td>\n",
       "      <td>Chennai</td>\n",
       "      <td>2015-07-10</td>\n",
       "    </tr>\n",
       "    <tr>\n",
       "      <th>...</th>\n",
       "      <td>...</td>\n",
       "      <td>...</td>\n",
       "      <td>...</td>\n",
       "      <td>...</td>\n",
       "      <td>...</td>\n",
       "      <td>...</td>\n",
       "      <td>...</td>\n",
       "      <td>...</td>\n",
       "      <td>...</td>\n",
       "      <td>...</td>\n",
       "      <td>...</td>\n",
       "      <td>...</td>\n",
       "      <td>...</td>\n",
       "    </tr>\n",
       "    <tr>\n",
       "      <th>4995</th>\n",
       "      <td>d6a03716</td>\n",
       "      <td>ce85ebd1</td>\n",
       "      <td>5fd3cd0f</td>\n",
       "      <td>2017-04-18</td>\n",
       "      <td>41</td>\n",
       "      <td>Coca-Cola Fanta</td>\n",
       "      <td>Beverages</td>\n",
       "      <td>500ML</td>\n",
       "      <td>78</td>\n",
       "      <td>76</td>\n",
       "      <td>71</td>\n",
       "      <td>Chennai</td>\n",
       "      <td>2015-10-29</td>\n",
       "    </tr>\n",
       "    <tr>\n",
       "      <th>4996</th>\n",
       "      <td>e37cfe87</td>\n",
       "      <td>2e4349af</td>\n",
       "      <td>f740ae0a</td>\n",
       "      <td>2017-06-29</td>\n",
       "      <td>92</td>\n",
       "      <td>Nestle Milky Bar</td>\n",
       "      <td>Chocolates</td>\n",
       "      <td>50g</td>\n",
       "      <td>20</td>\n",
       "      <td>65</td>\n",
       "      <td>37</td>\n",
       "      <td>Pune</td>\n",
       "      <td>2015-09-05</td>\n",
       "    </tr>\n",
       "    <tr>\n",
       "      <th>4997</th>\n",
       "      <td>53e55fee</td>\n",
       "      <td>2f3788f1</td>\n",
       "      <td>f0449104</td>\n",
       "      <td>2017-03-21</td>\n",
       "      <td>38</td>\n",
       "      <td>Parle Frooti</td>\n",
       "      <td>Beverages</td>\n",
       "      <td>500ML</td>\n",
       "      <td>50</td>\n",
       "      <td>31</td>\n",
       "      <td>69</td>\n",
       "      <td>Indore</td>\n",
       "      <td>2015-10-29</td>\n",
       "    </tr>\n",
       "    <tr>\n",
       "      <th>4998</th>\n",
       "      <td>54f93322</td>\n",
       "      <td>8d9225f3</td>\n",
       "      <td>d86159cd</td>\n",
       "      <td>2016-10-22</td>\n",
       "      <td>69</td>\n",
       "      <td>Coca-Cola Diet Coke</td>\n",
       "      <td>Beverages</td>\n",
       "      <td>1L</td>\n",
       "      <td>88</td>\n",
       "      <td>71</td>\n",
       "      <td>69</td>\n",
       "      <td>Panaji</td>\n",
       "      <td>2015-06-07</td>\n",
       "    </tr>\n",
       "    <tr>\n",
       "      <th>4999</th>\n",
       "      <td>34e5b8f8</td>\n",
       "      <td>67345464</td>\n",
       "      <td>3aa4cc7f</td>\n",
       "      <td>2017-07-25</td>\n",
       "      <td>53</td>\n",
       "      <td>PepsiCo Mountain Dew</td>\n",
       "      <td>Beverages</td>\n",
       "      <td>1L</td>\n",
       "      <td>180</td>\n",
       "      <td>37</td>\n",
       "      <td>32</td>\n",
       "      <td>Ludhiana</td>\n",
       "      <td>2015-08-25</td>\n",
       "    </tr>\n",
       "  </tbody>\n",
       "</table>\n",
       "<p>5000 rows × 13 columns</p>\n",
       "</div>"
      ],
      "text/plain": [
       "      Order_id Product_id Device_id Order_date  SKUs_sold  \\\n",
       "0     dcdc4832   8f468e4c  be9ff07d 2017-02-06         88   \n",
       "1     03d90862   239a61e3  48f4dcd6 2016-12-13         47   \n",
       "2     3b76ecfc   012db796  5ba7aaef 2017-07-18          1   \n",
       "3     35900af1   9079a614  26ebed00 2017-06-26          1   \n",
       "4     2c9cd17d   f145bbb8  8c50fdde 2017-04-26         71   \n",
       "...        ...        ...       ...        ...        ...   \n",
       "4995  d6a03716   ce85ebd1  5fd3cd0f 2017-04-18         41   \n",
       "4996  e37cfe87   2e4349af  f740ae0a 2017-06-29         92   \n",
       "4997  53e55fee   2f3788f1  f0449104 2017-03-21         38   \n",
       "4998  54f93322   8d9225f3  d86159cd 2016-10-22         69   \n",
       "4999  34e5b8f8   67345464  3aa4cc7f 2017-07-25         53   \n",
       "\n",
       "                 Product_name Product_type Product_size  Product_price  \\\n",
       "0             SoGood Soy Milk        Dairy        500ML            145   \n",
       "1              Nestle Nutties   Chocolates          10g             38   \n",
       "2            Nestle Milky Bar   Chocolates          50g             20   \n",
       "3         Nandini Fresh Cream        Dairy        500ML            210   \n",
       "4     Alpenliebe Choco Eclair   Chocolates          10g             51   \n",
       "...                       ...          ...          ...            ...   \n",
       "4995          Coca-Cola Fanta    Beverages        500ML             78   \n",
       "4996         Nestle Milky Bar   Chocolates          50g             20   \n",
       "4997             Parle Frooti    Beverages        500ML             50   \n",
       "4998      Coca-Cola Diet Coke    Beverages           1L             88   \n",
       "4999     PepsiCo Mountain Dew    Beverages           1L            180   \n",
       "\n",
       "      Threshold_temperature(Fahrenheit)  Product_quantity  \\\n",
       "0                                    52                95   \n",
       "1                                    34                81   \n",
       "2                                    68                28   \n",
       "3                                    73                57   \n",
       "4                                    77                21   \n",
       "...                                 ...               ...   \n",
       "4995                                 76                71   \n",
       "4996                                 65                37   \n",
       "4997                                 31                69   \n",
       "4998                                 71                69   \n",
       "4999                                 37                32   \n",
       "\n",
       "     Manufacturing_location Manufacturing_date  \n",
       "0                      Pune         2015-11-20  \n",
       "1                 Ahmedabad         2015-11-30  \n",
       "2                    Panaji         2015-05-23  \n",
       "3                    Mumbai         2015-05-11  \n",
       "4                   Chennai         2015-07-10  \n",
       "...                     ...                ...  \n",
       "4995                Chennai         2015-10-29  \n",
       "4996                   Pune         2015-09-05  \n",
       "4997                 Indore         2015-10-29  \n",
       "4998                 Panaji         2015-06-07  \n",
       "4999               Ludhiana         2015-08-25  \n",
       "\n",
       "[5000 rows x 13 columns]"
      ]
     },
     "execution_count": 16,
     "metadata": {},
     "output_type": "execute_result"
    }
   ],
   "source": [
    "sales_products_merged"
   ]
  },
  {
   "cell_type": "code",
   "execution_count": 17,
   "metadata": {},
   "outputs": [],
   "source": [
    "sales_product_device_merged=sales_products_merged.merge(device_data,on='Device_id',how='left')"
   ]
  },
  {
   "cell_type": "code",
   "execution_count": 18,
   "metadata": {},
   "outputs": [
    {
     "data": {
      "text/html": [
       "<div>\n",
       "<style scoped>\n",
       "    .dataframe tbody tr th:only-of-type {\n",
       "        vertical-align: middle;\n",
       "    }\n",
       "\n",
       "    .dataframe tbody tr th {\n",
       "        vertical-align: top;\n",
       "    }\n",
       "\n",
       "    .dataframe thead th {\n",
       "        text-align: right;\n",
       "    }\n",
       "</style>\n",
       "<table border=\"1\" class=\"dataframe\">\n",
       "  <thead>\n",
       "    <tr style=\"text-align: right;\">\n",
       "      <th></th>\n",
       "      <th>Order_id</th>\n",
       "      <th>Product_id</th>\n",
       "      <th>Device_id</th>\n",
       "      <th>Order_date</th>\n",
       "      <th>SKUs_sold</th>\n",
       "      <th>Product_name</th>\n",
       "      <th>Product_type</th>\n",
       "      <th>Product_size</th>\n",
       "      <th>Product_price</th>\n",
       "      <th>Threshold_temperature(Fahrenheit)</th>\n",
       "      <th>Product_quantity</th>\n",
       "      <th>Manufacturing_location</th>\n",
       "      <th>Manufacturing_date</th>\n",
       "      <th>Device_capacity</th>\n",
       "      <th>Device_pressure</th>\n",
       "      <th>Device_temperature(Fahrenheit)</th>\n",
       "      <th>Current_location</th>\n",
       "    </tr>\n",
       "  </thead>\n",
       "  <tbody>\n",
       "    <tr>\n",
       "      <th>0</th>\n",
       "      <td>dcdc4832</td>\n",
       "      <td>8f468e4c</td>\n",
       "      <td>be9ff07d</td>\n",
       "      <td>2017-02-06</td>\n",
       "      <td>88</td>\n",
       "      <td>SoGood Soy Milk</td>\n",
       "      <td>Dairy</td>\n",
       "      <td>500ML</td>\n",
       "      <td>145</td>\n",
       "      <td>52</td>\n",
       "      <td>95</td>\n",
       "      <td>Pune</td>\n",
       "      <td>2015-11-20</td>\n",
       "      <td>160L</td>\n",
       "      <td>1</td>\n",
       "      <td>36</td>\n",
       "      <td>Mumbai</td>\n",
       "    </tr>\n",
       "    <tr>\n",
       "      <th>1</th>\n",
       "      <td>03d90862</td>\n",
       "      <td>239a61e3</td>\n",
       "      <td>48f4dcd6</td>\n",
       "      <td>2016-12-13</td>\n",
       "      <td>47</td>\n",
       "      <td>Nestle Nutties</td>\n",
       "      <td>Chocolates</td>\n",
       "      <td>10g</td>\n",
       "      <td>38</td>\n",
       "      <td>34</td>\n",
       "      <td>81</td>\n",
       "      <td>Ahmedabad</td>\n",
       "      <td>2015-11-30</td>\n",
       "      <td>220L</td>\n",
       "      <td>1</td>\n",
       "      <td>35</td>\n",
       "      <td>Kolkata</td>\n",
       "    </tr>\n",
       "    <tr>\n",
       "      <th>2</th>\n",
       "      <td>3b76ecfc</td>\n",
       "      <td>012db796</td>\n",
       "      <td>5ba7aaef</td>\n",
       "      <td>2017-07-18</td>\n",
       "      <td>1</td>\n",
       "      <td>Nestle Milky Bar</td>\n",
       "      <td>Chocolates</td>\n",
       "      <td>50g</td>\n",
       "      <td>20</td>\n",
       "      <td>68</td>\n",
       "      <td>28</td>\n",
       "      <td>Panaji</td>\n",
       "      <td>2015-05-23</td>\n",
       "      <td>220L</td>\n",
       "      <td>1</td>\n",
       "      <td>36</td>\n",
       "      <td>Hyderabad</td>\n",
       "    </tr>\n",
       "    <tr>\n",
       "      <th>3</th>\n",
       "      <td>35900af1</td>\n",
       "      <td>9079a614</td>\n",
       "      <td>26ebed00</td>\n",
       "      <td>2017-06-26</td>\n",
       "      <td>1</td>\n",
       "      <td>Nandini Fresh Cream</td>\n",
       "      <td>Dairy</td>\n",
       "      <td>500ML</td>\n",
       "      <td>210</td>\n",
       "      <td>73</td>\n",
       "      <td>57</td>\n",
       "      <td>Mumbai</td>\n",
       "      <td>2015-05-11</td>\n",
       "      <td>220L</td>\n",
       "      <td>2</td>\n",
       "      <td>34</td>\n",
       "      <td>Panaji</td>\n",
       "    </tr>\n",
       "    <tr>\n",
       "      <th>4</th>\n",
       "      <td>2c9cd17d</td>\n",
       "      <td>f145bbb8</td>\n",
       "      <td>8c50fdde</td>\n",
       "      <td>2017-04-26</td>\n",
       "      <td>71</td>\n",
       "      <td>Alpenliebe Choco Eclair</td>\n",
       "      <td>Chocolates</td>\n",
       "      <td>10g</td>\n",
       "      <td>51</td>\n",
       "      <td>77</td>\n",
       "      <td>21</td>\n",
       "      <td>Chennai</td>\n",
       "      <td>2015-07-10</td>\n",
       "      <td>220L</td>\n",
       "      <td>2</td>\n",
       "      <td>36</td>\n",
       "      <td>Kolkata</td>\n",
       "    </tr>\n",
       "    <tr>\n",
       "      <th>...</th>\n",
       "      <td>...</td>\n",
       "      <td>...</td>\n",
       "      <td>...</td>\n",
       "      <td>...</td>\n",
       "      <td>...</td>\n",
       "      <td>...</td>\n",
       "      <td>...</td>\n",
       "      <td>...</td>\n",
       "      <td>...</td>\n",
       "      <td>...</td>\n",
       "      <td>...</td>\n",
       "      <td>...</td>\n",
       "      <td>...</td>\n",
       "      <td>...</td>\n",
       "      <td>...</td>\n",
       "      <td>...</td>\n",
       "      <td>...</td>\n",
       "    </tr>\n",
       "    <tr>\n",
       "      <th>4995</th>\n",
       "      <td>d6a03716</td>\n",
       "      <td>ce85ebd1</td>\n",
       "      <td>5fd3cd0f</td>\n",
       "      <td>2017-04-18</td>\n",
       "      <td>41</td>\n",
       "      <td>Coca-Cola Fanta</td>\n",
       "      <td>Beverages</td>\n",
       "      <td>500ML</td>\n",
       "      <td>78</td>\n",
       "      <td>76</td>\n",
       "      <td>71</td>\n",
       "      <td>Chennai</td>\n",
       "      <td>2015-10-29</td>\n",
       "      <td>190L</td>\n",
       "      <td>1</td>\n",
       "      <td>34</td>\n",
       "      <td>Indore</td>\n",
       "    </tr>\n",
       "    <tr>\n",
       "      <th>4996</th>\n",
       "      <td>e37cfe87</td>\n",
       "      <td>2e4349af</td>\n",
       "      <td>f740ae0a</td>\n",
       "      <td>2017-06-29</td>\n",
       "      <td>92</td>\n",
       "      <td>Nestle Milky Bar</td>\n",
       "      <td>Chocolates</td>\n",
       "      <td>50g</td>\n",
       "      <td>20</td>\n",
       "      <td>65</td>\n",
       "      <td>37</td>\n",
       "      <td>Pune</td>\n",
       "      <td>2015-09-05</td>\n",
       "      <td>190L</td>\n",
       "      <td>1</td>\n",
       "      <td>36</td>\n",
       "      <td>Bangalore</td>\n",
       "    </tr>\n",
       "    <tr>\n",
       "      <th>4997</th>\n",
       "      <td>53e55fee</td>\n",
       "      <td>2f3788f1</td>\n",
       "      <td>f0449104</td>\n",
       "      <td>2017-03-21</td>\n",
       "      <td>38</td>\n",
       "      <td>Parle Frooti</td>\n",
       "      <td>Beverages</td>\n",
       "      <td>500ML</td>\n",
       "      <td>50</td>\n",
       "      <td>31</td>\n",
       "      <td>69</td>\n",
       "      <td>Indore</td>\n",
       "      <td>2015-10-29</td>\n",
       "      <td>190L</td>\n",
       "      <td>2</td>\n",
       "      <td>37</td>\n",
       "      <td>Panaji</td>\n",
       "    </tr>\n",
       "    <tr>\n",
       "      <th>4998</th>\n",
       "      <td>54f93322</td>\n",
       "      <td>8d9225f3</td>\n",
       "      <td>d86159cd</td>\n",
       "      <td>2016-10-22</td>\n",
       "      <td>69</td>\n",
       "      <td>Coca-Cola Diet Coke</td>\n",
       "      <td>Beverages</td>\n",
       "      <td>1L</td>\n",
       "      <td>88</td>\n",
       "      <td>71</td>\n",
       "      <td>69</td>\n",
       "      <td>Panaji</td>\n",
       "      <td>2015-06-07</td>\n",
       "      <td>190L</td>\n",
       "      <td>1</td>\n",
       "      <td>35</td>\n",
       "      <td>Panaji</td>\n",
       "    </tr>\n",
       "    <tr>\n",
       "      <th>4999</th>\n",
       "      <td>34e5b8f8</td>\n",
       "      <td>67345464</td>\n",
       "      <td>3aa4cc7f</td>\n",
       "      <td>2017-07-25</td>\n",
       "      <td>53</td>\n",
       "      <td>PepsiCo Mountain Dew</td>\n",
       "      <td>Beverages</td>\n",
       "      <td>1L</td>\n",
       "      <td>180</td>\n",
       "      <td>37</td>\n",
       "      <td>32</td>\n",
       "      <td>Ludhiana</td>\n",
       "      <td>2015-08-25</td>\n",
       "      <td>190L</td>\n",
       "      <td>2</td>\n",
       "      <td>36</td>\n",
       "      <td>Ahmedabad</td>\n",
       "    </tr>\n",
       "  </tbody>\n",
       "</table>\n",
       "<p>5000 rows × 17 columns</p>\n",
       "</div>"
      ],
      "text/plain": [
       "      Order_id Product_id Device_id Order_date  SKUs_sold  \\\n",
       "0     dcdc4832   8f468e4c  be9ff07d 2017-02-06         88   \n",
       "1     03d90862   239a61e3  48f4dcd6 2016-12-13         47   \n",
       "2     3b76ecfc   012db796  5ba7aaef 2017-07-18          1   \n",
       "3     35900af1   9079a614  26ebed00 2017-06-26          1   \n",
       "4     2c9cd17d   f145bbb8  8c50fdde 2017-04-26         71   \n",
       "...        ...        ...       ...        ...        ...   \n",
       "4995  d6a03716   ce85ebd1  5fd3cd0f 2017-04-18         41   \n",
       "4996  e37cfe87   2e4349af  f740ae0a 2017-06-29         92   \n",
       "4997  53e55fee   2f3788f1  f0449104 2017-03-21         38   \n",
       "4998  54f93322   8d9225f3  d86159cd 2016-10-22         69   \n",
       "4999  34e5b8f8   67345464  3aa4cc7f 2017-07-25         53   \n",
       "\n",
       "                 Product_name Product_type Product_size  Product_price  \\\n",
       "0             SoGood Soy Milk        Dairy        500ML            145   \n",
       "1              Nestle Nutties   Chocolates          10g             38   \n",
       "2            Nestle Milky Bar   Chocolates          50g             20   \n",
       "3         Nandini Fresh Cream        Dairy        500ML            210   \n",
       "4     Alpenliebe Choco Eclair   Chocolates          10g             51   \n",
       "...                       ...          ...          ...            ...   \n",
       "4995          Coca-Cola Fanta    Beverages        500ML             78   \n",
       "4996         Nestle Milky Bar   Chocolates          50g             20   \n",
       "4997             Parle Frooti    Beverages        500ML             50   \n",
       "4998      Coca-Cola Diet Coke    Beverages           1L             88   \n",
       "4999     PepsiCo Mountain Dew    Beverages           1L            180   \n",
       "\n",
       "      Threshold_temperature(Fahrenheit)  Product_quantity  \\\n",
       "0                                    52                95   \n",
       "1                                    34                81   \n",
       "2                                    68                28   \n",
       "3                                    73                57   \n",
       "4                                    77                21   \n",
       "...                                 ...               ...   \n",
       "4995                                 76                71   \n",
       "4996                                 65                37   \n",
       "4997                                 31                69   \n",
       "4998                                 71                69   \n",
       "4999                                 37                32   \n",
       "\n",
       "     Manufacturing_location Manufacturing_date Device_capacity  \\\n",
       "0                      Pune         2015-11-20            160L   \n",
       "1                 Ahmedabad         2015-11-30            220L   \n",
       "2                    Panaji         2015-05-23            220L   \n",
       "3                    Mumbai         2015-05-11            220L   \n",
       "4                   Chennai         2015-07-10            220L   \n",
       "...                     ...                ...             ...   \n",
       "4995                Chennai         2015-10-29            190L   \n",
       "4996                   Pune         2015-09-05            190L   \n",
       "4997                 Indore         2015-10-29            190L   \n",
       "4998                 Panaji         2015-06-07            190L   \n",
       "4999               Ludhiana         2015-08-25            190L   \n",
       "\n",
       "      Device_pressure  Device_temperature(Fahrenheit) Current_location  \n",
       "0                   1                              36           Mumbai  \n",
       "1                   1                              35          Kolkata  \n",
       "2                   1                              36        Hyderabad  \n",
       "3                   2                              34           Panaji  \n",
       "4                   2                              36          Kolkata  \n",
       "...               ...                             ...              ...  \n",
       "4995                1                              34           Indore  \n",
       "4996                1                              36        Bangalore  \n",
       "4997                2                              37           Panaji  \n",
       "4998                1                              35           Panaji  \n",
       "4999                2                              36        Ahmedabad  \n",
       "\n",
       "[5000 rows x 17 columns]"
      ]
     },
     "execution_count": 18,
     "metadata": {},
     "output_type": "execute_result"
    }
   ],
   "source": [
    "sales_product_device_merged"
   ]
  },
  {
   "cell_type": "code",
   "execution_count": 19,
   "metadata": {},
   "outputs": [],
   "source": [
    "all_merged=sales_product_device_merged.merge(stores_data,on='Device_id',how='left')"
   ]
  },
  {
   "cell_type": "code",
   "execution_count": 20,
   "metadata": {},
   "outputs": [
    {
     "data": {
      "text/plain": [
       "Order_id                               0\n",
       "Product_id                             0\n",
       "Device_id                              0\n",
       "Order_date                             0\n",
       "SKUs_sold                              0\n",
       "Product_name                           0\n",
       "Product_type                           0\n",
       "Product_size                           0\n",
       "Product_price                          0\n",
       "Threshold_temperature(Fahrenheit)      0\n",
       "Product_quantity                       0\n",
       "Manufacturing_location                 0\n",
       "Manufacturing_date                     0\n",
       "Device_capacity                        0\n",
       "Device_pressure                        0\n",
       "Device_temperature(Fahrenheit)         0\n",
       "Current_location                       0\n",
       "Store_id                             747\n",
       "Store_name                           747\n",
       "Operational_date                     747\n",
       "Failure_date                         747\n",
       "Request_service_date                 747\n",
       "Service_successful_date              747\n",
       "Current_date                         747\n",
       "Store_location                       747\n",
       "dtype: int64"
      ]
     },
     "execution_count": 20,
     "metadata": {},
     "output_type": "execute_result"
    }
   ],
   "source": [
    "all_merged.isna().sum()"
   ]
  },
  {
   "cell_type": "code",
   "execution_count": 21,
   "metadata": {},
   "outputs": [
    {
     "data": {
      "text/plain": [
       "(10821, 25)"
      ]
     },
     "execution_count": 21,
     "metadata": {},
     "output_type": "execute_result"
    }
   ],
   "source": [
    "all_merged.shape"
   ]
  },
  {
   "cell_type": "code",
   "execution_count": 22,
   "metadata": {},
   "outputs": [],
   "source": [
    "all_merged=all_merged.dropna()"
   ]
  },
  {
   "cell_type": "code",
   "execution_count": 23,
   "metadata": {},
   "outputs": [],
   "source": [
    "def temp_difference(Threshold_temp,Device_temp):\n",
    "    diff=0\n",
    "    diff=Threshold_temp-Device_temp\n",
    "    return diff\n"
   ]
  },
  {
   "cell_type": "code",
   "execution_count": 24,
   "metadata": {},
   "outputs": [],
   "source": [
    "all_merged['temp_difference']=all_merged.apply(lambda row: temp_difference(row['Threshold_temperature(Fahrenheit)'],row['Device_temperature(Fahrenheit)']),axis=1)"
   ]
  },
  {
   "cell_type": "code",
   "execution_count": 25,
   "metadata": {},
   "outputs": [
    {
     "data": {
      "text/plain": [
       "0        16\n",
       "1        16\n",
       "2        16\n",
       "3        -1\n",
       "4        32\n",
       "         ..\n",
       "10814    42\n",
       "10815    29\n",
       "10816    29\n",
       "10817    -6\n",
       "10818    -6\n",
       "Name: temp_difference, Length: 10074, dtype: int64"
      ]
     },
     "execution_count": 25,
     "metadata": {},
     "output_type": "execute_result"
    }
   ],
   "source": [
    "all_merged['temp_difference']"
   ]
  },
  {
   "cell_type": "code",
   "execution_count": 26,
   "metadata": {},
   "outputs": [
    {
     "data": {
      "text/plain": [
       "array(['Dairy', 'Chocolates', 'Beverages'], dtype=object)"
      ]
     },
     "execution_count": 26,
     "metadata": {},
     "output_type": "execute_result"
    }
   ],
   "source": [
    "all_merged['Product_type'].unique()"
   ]
  },
  {
   "cell_type": "code",
   "execution_count": 27,
   "metadata": {},
   "outputs": [
    {
     "data": {
      "text/plain": [
       "array(['Mumbai', 'Kolkata', 'Hyderabad', 'Panaji', 'Mirzapur', 'Chennai',\n",
       "       'Ludhiana', 'Lucknow', 'Ahmedabad', 'Bhopal', 'Pune', 'Bangalore',\n",
       "       'Patna', 'Delhi', 'Indore'], dtype=object)"
      ]
     },
     "execution_count": 27,
     "metadata": {},
     "output_type": "execute_result"
    }
   ],
   "source": [
    "all_merged['Current_location'].unique()"
   ]
  },
  {
   "cell_type": "code",
   "execution_count": 28,
   "metadata": {},
   "outputs": [
    {
     "data": {
      "text/plain": [
       "(71, 26)"
      ]
     },
     "execution_count": 28,
     "metadata": {},
     "output_type": "execute_result"
    }
   ],
   "source": [
    "all_merged.query('Current_location==\"Chennai\"&temp_difference<0').shape"
   ]
  },
  {
   "cell_type": "code",
   "execution_count": 29,
   "metadata": {
    "scrolled": true
   },
   "outputs": [
    {
     "data": {
      "text/plain": [
       "(91, 26)"
      ]
     },
     "execution_count": 29,
     "metadata": {},
     "output_type": "execute_result"
    }
   ],
   "source": [
    "all_merged.query('Current_location==\"Delhi\"&temp_difference<0').shape"
   ]
  },
  {
   "cell_type": "code",
   "execution_count": 30,
   "metadata": {},
   "outputs": [
    {
     "data": {
      "text/plain": [
       "(151, 26)"
      ]
     },
     "execution_count": 30,
     "metadata": {},
     "output_type": "execute_result"
    }
   ],
   "source": [
    "all_merged.query('Current_location==\"Mumbai\"&temp_difference<0').shape"
   ]
  },
  {
   "cell_type": "code",
   "execution_count": 31,
   "metadata": {},
   "outputs": [
    {
     "data": {
      "text/plain": [
       "(0, 26)"
      ]
     },
     "execution_count": 31,
     "metadata": {},
     "output_type": "execute_result"
    }
   ],
   "source": [
    "all_merged.query('Current_location==\"Banglore\"&temp_difference<0').shape"
   ]
  },
  {
   "cell_type": "code",
   "execution_count": 32,
   "metadata": {},
   "outputs": [],
   "source": [
    "import seaborn as sns"
   ]
  },
  {
   "cell_type": "code",
   "execution_count": 33,
   "metadata": {},
   "outputs": [
    {
     "data": {
      "text/plain": [
       "<matplotlib.axes._subplots.AxesSubplot at 0x24bee795108>"
      ]
     },
     "execution_count": 33,
     "metadata": {},
     "output_type": "execute_result"
    },
    {
     "data": {
      "image/png": "[encoded data removed]",
      "text/plain": [
       "<Figure size 432x288 with 1 Axes>"
      ]
     },
     "metadata": {
      "needs_background": "light"
     },
     "output_type": "display_data"
    }
   ],
   "source": [
    "sns.barplot(data=all_merged,x='Store_location',y='temp_difference')"
   ]
  },
  {
   "cell_type": "code",
   "execution_count": 34,
   "metadata": {},
   "outputs": [
    {
     "data": {
      "text/html": [
       "<div>\n",
       "<style scoped>\n",
       "    .dataframe tbody tr th:only-of-type {\n",
       "        vertical-align: middle;\n",
       "    }\n",
       "\n",
       "    .dataframe tbody tr th {\n",
       "        vertical-align: top;\n",
       "    }\n",
       "\n",
       "    .dataframe thead th {\n",
       "        text-align: right;\n",
       "    }\n",
       "</style>\n",
       "<table border=\"1\" class=\"dataframe\">\n",
       "  <thead>\n",
       "    <tr style=\"text-align: right;\">\n",
       "      <th></th>\n",
       "      <th>Operational_date</th>\n",
       "      <th>Failure_date</th>\n",
       "      <th>Request_service_date</th>\n",
       "      <th>Service_successful_date</th>\n",
       "      <th>Current_date</th>\n",
       "      <th>Manufacturing_date</th>\n",
       "    </tr>\n",
       "  </thead>\n",
       "  <tbody>\n",
       "    <tr>\n",
       "      <th>0</th>\n",
       "      <td>2018-06-19T00:00:00.000Z</td>\n",
       "      <td>2019-08-19T00:00:00.000Z</td>\n",
       "      <td>2019-08-19T00:00:00.000Z</td>\n",
       "      <td>2019-09-23T00:00:00.000Z</td>\n",
       "      <td>2022-06-21T00:00:00.000Z</td>\n",
       "      <td>2015-11-20</td>\n",
       "    </tr>\n",
       "    <tr>\n",
       "      <th>1</th>\n",
       "      <td>2017-08-14T00:00:00.000Z</td>\n",
       "      <td>2018-08-14T00:00:00.000Z</td>\n",
       "      <td>2018-08-14T00:00:00.000Z</td>\n",
       "      <td>2018-09-18T00:00:00.000Z</td>\n",
       "      <td>2022-05-28T00:00:00.000Z</td>\n",
       "      <td>2015-11-20</td>\n",
       "    </tr>\n",
       "    <tr>\n",
       "      <th>2</th>\n",
       "      <td>2018-07-26T00:00:00.000Z</td>\n",
       "      <td>2019-09-26T00:00:00.000Z</td>\n",
       "      <td>2019-09-28T00:00:00.000Z</td>\n",
       "      <td>2019-10-23T00:00:00.000Z</td>\n",
       "      <td>2022-06-27T00:00:00.000Z</td>\n",
       "      <td>2015-11-20</td>\n",
       "    </tr>\n",
       "    <tr>\n",
       "      <th>3</th>\n",
       "      <td>2018-05-22T00:00:00.000Z</td>\n",
       "      <td>2019-05-22T00:00:00.000Z</td>\n",
       "      <td>2019-05-22T00:00:00.000Z</td>\n",
       "      <td>2019-06-16T00:00:00.000Z</td>\n",
       "      <td>2022-07-04T00:00:00.000Z</td>\n",
       "      <td>2015-11-30</td>\n",
       "    </tr>\n",
       "    <tr>\n",
       "      <th>4</th>\n",
       "      <td>2018-07-01T00:00:00.000Z</td>\n",
       "      <td>2019-07-01T00:00:00.000Z</td>\n",
       "      <td>2019-07-01T00:00:00.000Z</td>\n",
       "      <td>2019-07-11T00:00:00.000Z</td>\n",
       "      <td>2022-06-10T00:00:00.000Z</td>\n",
       "      <td>2015-05-23</td>\n",
       "    </tr>\n",
       "    <tr>\n",
       "      <th>...</th>\n",
       "      <td>...</td>\n",
       "      <td>...</td>\n",
       "      <td>...</td>\n",
       "      <td>...</td>\n",
       "      <td>...</td>\n",
       "      <td>...</td>\n",
       "    </tr>\n",
       "    <tr>\n",
       "      <th>10814</th>\n",
       "      <td>2018-06-04T00:00:00.000Z</td>\n",
       "      <td>2019-08-04T00:00:00.000Z</td>\n",
       "      <td>2019-08-04T00:00:00.000Z</td>\n",
       "      <td>2019-09-08T00:00:00.000Z</td>\n",
       "      <td>2022-07-31T00:00:00.000Z</td>\n",
       "      <td>2015-10-29</td>\n",
       "    </tr>\n",
       "    <tr>\n",
       "      <th>10815</th>\n",
       "      <td>2018-07-10T00:00:00.000Z</td>\n",
       "      <td>2019-07-10T00:00:00.000Z</td>\n",
       "      <td>2019-07-10T00:00:00.000Z</td>\n",
       "      <td>2019-08-04T00:00:00.000Z</td>\n",
       "      <td>2022-03-23T00:00:00.000Z</td>\n",
       "      <td>2015-09-05</td>\n",
       "    </tr>\n",
       "    <tr>\n",
       "      <th>10816</th>\n",
       "      <td>2018-04-13T00:00:00.000Z</td>\n",
       "      <td>2019-06-13T00:00:00.000Z</td>\n",
       "      <td>2019-06-13T00:00:00.000Z</td>\n",
       "      <td>2019-06-23T00:00:00.000Z</td>\n",
       "      <td>2022-07-22T00:00:00.000Z</td>\n",
       "      <td>2015-09-05</td>\n",
       "    </tr>\n",
       "    <tr>\n",
       "      <th>10817</th>\n",
       "      <td>2018-03-20T00:00:00.000Z</td>\n",
       "      <td>2019-03-20T00:00:00.000Z</td>\n",
       "      <td>2019-03-20T00:00:00.000Z</td>\n",
       "      <td>2019-04-14T00:00:00.000Z</td>\n",
       "      <td>2022-06-18T00:00:00.000Z</td>\n",
       "      <td>2015-10-29</td>\n",
       "    </tr>\n",
       "    <tr>\n",
       "      <th>10818</th>\n",
       "      <td>2018-06-21T00:00:00.000Z</td>\n",
       "      <td>2019-08-21T00:00:00.000Z</td>\n",
       "      <td>2019-08-23T00:00:00.000Z</td>\n",
       "      <td>2019-09-02T00:00:00.000Z</td>\n",
       "      <td>2022-05-26T00:00:00.000Z</td>\n",
       "      <td>2015-10-29</td>\n",
       "    </tr>\n",
       "  </tbody>\n",
       "</table>\n",
       "<p>10074 rows × 6 columns</p>\n",
       "</div>"
      ],
      "text/plain": [
       "               Operational_date              Failure_date  \\\n",
       "0      2018-06-19T00:00:00.000Z  2019-08-19T00:00:00.000Z   \n",
       "1      2017-08-14T00:00:00.000Z  2018-08-14T00:00:00.000Z   \n",
       "2      2018-07-26T00:00:00.000Z  2019-09-26T00:00:00.000Z   \n",
       "3      2018-05-22T00:00:00.000Z  2019-05-22T00:00:00.000Z   \n",
       "4      2018-07-01T00:00:00.000Z  2019-07-01T00:00:00.000Z   \n",
       "...                         ...                       ...   \n",
       "10814  2018-06-04T00:00:00.000Z  2019-08-04T00:00:00.000Z   \n",
       "10815  2018-07-10T00:00:00.000Z  2019-07-10T00:00:00.000Z   \n",
       "10816  2018-04-13T00:00:00.000Z  2019-06-13T00:00:00.000Z   \n",
       "10817  2018-03-20T00:00:00.000Z  2019-03-20T00:00:00.000Z   \n",
       "10818  2018-06-21T00:00:00.000Z  2019-08-21T00:00:00.000Z   \n",
       "\n",
       "           Request_service_date   Service_successful_date  \\\n",
       "0      2019-08-19T00:00:00.000Z  2019-09-23T00:00:00.000Z   \n",
       "1      2018-08-14T00:00:00.000Z  2018-09-18T00:00:00.000Z   \n",
       "2      2019-09-28T00:00:00.000Z  2019-10-23T00:00:00.000Z   \n",
       "3      2019-05-22T00:00:00.000Z  2019-06-16T00:00:00.000Z   \n",
       "4      2019-07-01T00:00:00.000Z  2019-07-11T00:00:00.000Z   \n",
       "...                         ...                       ...   \n",
       "10814  2019-08-04T00:00:00.000Z  2019-09-08T00:00:00.000Z   \n",
       "10815  2019-07-10T00:00:00.000Z  2019-08-04T00:00:00.000Z   \n",
       "10816  2019-06-13T00:00:00.000Z  2019-06-23T00:00:00.000Z   \n",
       "10817  2019-03-20T00:00:00.000Z  2019-04-14T00:00:00.000Z   \n",
       "10818  2019-08-23T00:00:00.000Z  2019-09-02T00:00:00.000Z   \n",
       "\n",
       "                   Current_date Manufacturing_date  \n",
       "0      2022-06-21T00:00:00.000Z         2015-11-20  \n",
       "1      2022-05-28T00:00:00.000Z         2015-11-20  \n",
       "2      2022-06-27T00:00:00.000Z         2015-11-20  \n",
       "3      2022-07-04T00:00:00.000Z         2015-11-30  \n",
       "4      2022-06-10T00:00:00.000Z         2015-05-23  \n",
       "...                         ...                ...  \n",
       "10814  2022-07-31T00:00:00.000Z         2015-10-29  \n",
       "10815  2022-03-23T00:00:00.000Z         2015-09-05  \n",
       "10816  2022-07-22T00:00:00.000Z         2015-09-05  \n",
       "10817  2022-06-18T00:00:00.000Z         2015-10-29  \n",
       "10818  2022-05-26T00:00:00.000Z         2015-10-29  \n",
       "\n",
       "[10074 rows x 6 columns]"
      ]
     },
     "execution_count": 34,
     "metadata": {},
     "output_type": "execute_result"
    }
   ],
   "source": [
    "all_merged[['Operational_date','Failure_date','Request_service_date','Service_successful_date','Current_date','Manufacturing_date']]"
   ]
  },
  {
   "cell_type": "code",
   "execution_count": 35,
   "metadata": {},
   "outputs": [
    {
     "data": {
      "text/plain": [
       "Order_id                                     object\n",
       "Product_id                                   object\n",
       "Device_id                                    object\n",
       "Order_date                           datetime64[ns]\n",
       "SKUs_sold                                     int64\n",
       "Product_name                                 object\n",
       "Product_type                                 object\n",
       "Product_size                                 object\n",
       "Product_price                                 int64\n",
       "Threshold_temperature(Fahrenheit)             int64\n",
       "Product_quantity                              int64\n",
       "Manufacturing_location                       object\n",
       "Manufacturing_date                   datetime64[ns]\n",
       "Device_capacity                              object\n",
       "Device_pressure                               int64\n",
       "Device_temperature(Fahrenheit)                int64\n",
       "Current_location                             object\n",
       "Store_id                                    float64\n",
       "Store_name                                   object\n",
       "Operational_date                             object\n",
       "Failure_date                                 object\n",
       "Request_service_date                         object\n",
       "Service_successful_date                      object\n",
       "Current_date                                 object\n",
       "Store_location                               object\n",
       "temp_difference                               int64\n",
       "dtype: object"
      ]
     },
     "execution_count": 35,
     "metadata": {},
     "output_type": "execute_result"
    }
   ],
   "source": [
    "all_merged.dtypes"
   ]
  },
  {
   "cell_type": "code",
   "execution_count": 36,
   "metadata": {},
   "outputs": [],
   "source": [
    "all_merged['Operational_date']=pd.to_datetime(all_merged['Operational_date']).dt.tz_localize(None)\n",
    "all_merged['Failure_date']=pd.to_datetime(all_merged['Failure_date']).dt.tz_localize(None)\n",
    "all_merged['Request_service_date']=pd.to_datetime(all_merged['Request_service_date']).dt.tz_localize(None)\n",
    "all_merged['Service_successful_date']=pd.to_datetime(all_merged['Service_successful_date']).dt.tz_localize(None)\n",
    "all_merged['Current_date']=pd.to_datetime(all_merged['Current_date']).dt.tz_localize(None)\n",
    "#.tz_localize(None)"
   ]
  },
  {
   "cell_type": "code",
   "execution_count": 37,
   "metadata": {},
   "outputs": [],
   "source": [
    "from datetime import datetime, timedelta"
   ]
  },
  {
   "cell_type": "code",
   "execution_count": 38,
   "metadata": {},
   "outputs": [],
   "source": [
    "failure_date_grouped = pd.DataFrame(data=all_merged.groupby(by='Device_id')['Failure_date'])"
   ]
  },
  {
   "cell_type": "code",
   "execution_count": 39,
   "metadata": {},
   "outputs": [
    {
     "data": {
      "text/html": [
       "<div>\n",
       "<style scoped>\n",
       "    .dataframe tbody tr th:only-of-type {\n",
       "        vertical-align: middle;\n",
       "    }\n",
       "\n",
       "    .dataframe tbody tr th {\n",
       "        vertical-align: top;\n",
       "    }\n",
       "\n",
       "    .dataframe thead th {\n",
       "        text-align: right;\n",
       "    }\n",
       "</style>\n",
       "<table border=\"1\" class=\"dataframe\">\n",
       "  <thead>\n",
       "    <tr style=\"text-align: right;\">\n",
       "      <th></th>\n",
       "      <th>0</th>\n",
       "      <th>1</th>\n",
       "    </tr>\n",
       "  </thead>\n",
       "  <tbody>\n",
       "    <tr>\n",
       "      <th>0</th>\n",
       "      <td>54100</td>\n",
       "      <td>3714    2019-08-08\n",
       "3738    2019-08-08\n",
       "4639    ...</td>\n",
       "    </tr>\n",
       "    <tr>\n",
       "      <th>1</th>\n",
       "      <td>4513201</td>\n",
       "      <td>6012   2018-07-21\n",
       "6013   2019-07-29\n",
       "6014   201...</td>\n",
       "    </tr>\n",
       "    <tr>\n",
       "      <th>2</th>\n",
       "      <td>9117211</td>\n",
       "      <td>1458   2019-09-10\n",
       "2331   2019-09-10\n",
       "2822   201...</td>\n",
       "    </tr>\n",
       "    <tr>\n",
       "      <th>3</th>\n",
       "      <td>32434496</td>\n",
       "      <td>2090   2019-04-24\n",
       "2091   2019-07-28\n",
       "2092   201...</td>\n",
       "    </tr>\n",
       "    <tr>\n",
       "      <th>4</th>\n",
       "      <td>35918284</td>\n",
       "      <td>36     2019-09-29\n",
       "37     2019-05-08\n",
       "1248   201...</td>\n",
       "    </tr>\n",
       "    <tr>\n",
       "      <th>...</th>\n",
       "      <td>...</td>\n",
       "      <td>...</td>\n",
       "    </tr>\n",
       "    <tr>\n",
       "      <th>835</th>\n",
       "      <td>ff23a99c</td>\n",
       "      <td>4721   2019-04-21\n",
       "4722   2019-07-14\n",
       "5618   201...</td>\n",
       "    </tr>\n",
       "    <tr>\n",
       "      <th>836</th>\n",
       "      <td>ff2e21b3</td>\n",
       "      <td>8322    2019-08-19\n",
       "8323    2019-05-18\n",
       "8336    ...</td>\n",
       "    </tr>\n",
       "    <tr>\n",
       "      <th>837</th>\n",
       "      <td>ffc397c3</td>\n",
       "      <td>574    2019-01-04\n",
       "575    2019-06-22\n",
       "576    201...</td>\n",
       "    </tr>\n",
       "    <tr>\n",
       "      <th>838</th>\n",
       "      <td>fffae7a9</td>\n",
       "      <td>2682    2019-07-29\n",
       "3595    2019-07-29\n",
       "4941    ...</td>\n",
       "    </tr>\n",
       "    <tr>\n",
       "      <th>839</th>\n",
       "      <td>ffff6c55</td>\n",
       "      <td>3725   2018-09-16\n",
       "3726   2019-07-23\n",
       "5760   201...</td>\n",
       "    </tr>\n",
       "  </tbody>\n",
       "</table>\n",
       "<p>840 rows × 2 columns</p>\n",
       "</div>"
      ],
      "text/plain": [
       "            0                                                  1\n",
       "0       54100  3714    2019-08-08\n",
       "3738    2019-08-08\n",
       "4639    ...\n",
       "1     4513201  6012   2018-07-21\n",
       "6013   2019-07-29\n",
       "6014   201...\n",
       "2     9117211  1458   2019-09-10\n",
       "2331   2019-09-10\n",
       "2822   201...\n",
       "3    32434496  2090   2019-04-24\n",
       "2091   2019-07-28\n",
       "2092   201...\n",
       "4    35918284  36     2019-09-29\n",
       "37     2019-05-08\n",
       "1248   201...\n",
       "..        ...                                                ...\n",
       "835  ff23a99c  4721   2019-04-21\n",
       "4722   2019-07-14\n",
       "5618   201...\n",
       "836  ff2e21b3  8322    2019-08-19\n",
       "8323    2019-05-18\n",
       "8336    ...\n",
       "837  ffc397c3  574    2019-01-04\n",
       "575    2019-06-22\n",
       "576    201...\n",
       "838  fffae7a9  2682    2019-07-29\n",
       "3595    2019-07-29\n",
       "4941    ...\n",
       "839  ffff6c55  3725   2018-09-16\n",
       "3726   2019-07-23\n",
       "5760   201...\n",
       "\n",
       "[840 rows x 2 columns]"
      ]
     },
     "execution_count": 39,
     "metadata": {},
     "output_type": "execute_result"
    }
   ],
   "source": [
    "failure_date_grouped"
   ]
  },
  {
   "cell_type": "code",
   "execution_count": 40,
   "metadata": {},
   "outputs": [
    {
     "data": {
      "text/plain": [
       "(10074, 26)"
      ]
     },
     "execution_count": 40,
     "metadata": {},
     "output_type": "execute_result"
    }
   ],
   "source": [
    "all_merged.shape"
   ]
  },
  {
   "cell_type": "code",
   "execution_count": 41,
   "metadata": {},
   "outputs": [
    {
     "data": {
      "text/plain": [
       "840"
      ]
     },
     "execution_count": 41,
     "metadata": {},
     "output_type": "execute_result"
    }
   ],
   "source": [
    "all_merged['Device_id'].nunique()"
   ]
  },
  {
   "cell_type": "code",
   "execution_count": 42,
   "metadata": {},
   "outputs": [],
   "source": [
    "only_dates = all_merged[['Operational_date','Failure_date','Request_service_date','Service_successful_date','Current_date','Manufacturing_date']]\n",
    "#df['handling_time_full_days'] = (df['despatch_date'] - df['order_date']).dt.days"
   ]
  },
  {
   "cell_type": "code",
   "execution_count": 43,
   "metadata": {},
   "outputs": [],
   "source": [
    "only_dates['Days_to_failure']= (only_dates['Failure_date'] - only_dates['Operational_date']).dt.days\n",
    "only_dates['Days_from_manufacturing']=(only_dates['Failure_date']-only_dates['Manufacturing_date']).dt.days"
   ]
  },
  {
   "cell_type": "code",
   "execution_count": 44,
   "metadata": {},
   "outputs": [
    {
     "data": {
      "text/html": [
       "<div>\n",
       "<style scoped>\n",
       "    .dataframe tbody tr th:only-of-type {\n",
       "        vertical-align: middle;\n",
       "    }\n",
       "\n",
       "    .dataframe tbody tr th {\n",
       "        vertical-align: top;\n",
       "    }\n",
       "\n",
       "    .dataframe thead th {\n",
       "        text-align: right;\n",
       "    }\n",
       "</style>\n",
       "<table border=\"1\" class=\"dataframe\">\n",
       "  <thead>\n",
       "    <tr style=\"text-align: right;\">\n",
       "      <th></th>\n",
       "      <th>Days_to_failure</th>\n",
       "      <th>Days_from_manufacturing</th>\n",
       "    </tr>\n",
       "  </thead>\n",
       "  <tbody>\n",
       "    <tr>\n",
       "      <th>0</th>\n",
       "      <td>426</td>\n",
       "      <td>1368</td>\n",
       "    </tr>\n",
       "    <tr>\n",
       "      <th>1</th>\n",
       "      <td>365</td>\n",
       "      <td>998</td>\n",
       "    </tr>\n",
       "    <tr>\n",
       "      <th>2</th>\n",
       "      <td>427</td>\n",
       "      <td>1406</td>\n",
       "    </tr>\n",
       "    <tr>\n",
       "      <th>3</th>\n",
       "      <td>365</td>\n",
       "      <td>1269</td>\n",
       "    </tr>\n",
       "    <tr>\n",
       "      <th>4</th>\n",
       "      <td>365</td>\n",
       "      <td>1500</td>\n",
       "    </tr>\n",
       "    <tr>\n",
       "      <th>...</th>\n",
       "      <td>...</td>\n",
       "      <td>...</td>\n",
       "    </tr>\n",
       "    <tr>\n",
       "      <th>10814</th>\n",
       "      <td>426</td>\n",
       "      <td>1375</td>\n",
       "    </tr>\n",
       "    <tr>\n",
       "      <th>10815</th>\n",
       "      <td>365</td>\n",
       "      <td>1404</td>\n",
       "    </tr>\n",
       "    <tr>\n",
       "      <th>10816</th>\n",
       "      <td>426</td>\n",
       "      <td>1377</td>\n",
       "    </tr>\n",
       "    <tr>\n",
       "      <th>10817</th>\n",
       "      <td>365</td>\n",
       "      <td>1238</td>\n",
       "    </tr>\n",
       "    <tr>\n",
       "      <th>10818</th>\n",
       "      <td>426</td>\n",
       "      <td>1392</td>\n",
       "    </tr>\n",
       "  </tbody>\n",
       "</table>\n",
       "<p>10074 rows × 2 columns</p>\n",
       "</div>"
      ],
      "text/plain": [
       "       Days_to_failure  Days_from_manufacturing\n",
       "0                  426                     1368\n",
       "1                  365                      998\n",
       "2                  427                     1406\n",
       "3                  365                     1269\n",
       "4                  365                     1500\n",
       "...                ...                      ...\n",
       "10814              426                     1375\n",
       "10815              365                     1404\n",
       "10816              426                     1377\n",
       "10817              365                     1238\n",
       "10818              426                     1392\n",
       "\n",
       "[10074 rows x 2 columns]"
      ]
     },
     "execution_count": 44,
     "metadata": {},
     "output_type": "execute_result"
    }
   ],
   "source": [
    "only_dates[['Days_to_failure','Days_from_manufacturing']]"
   ]
  },
  {
   "cell_type": "code",
   "execution_count": 45,
   "metadata": {},
   "outputs": [],
   "source": [
    "only_dates['Days_to_complete_service']=(only_dates['Service_successful_date'] - only_dates['Request_service_date']).dt.days"
   ]
  },
  {
   "cell_type": "code",
   "execution_count": 46,
   "metadata": {},
   "outputs": [
    {
     "data": {
      "text/plain": [
       "0        35\n",
       "1        35\n",
       "2        25\n",
       "3        25\n",
       "4        10\n",
       "         ..\n",
       "10814    35\n",
       "10815    25\n",
       "10816    10\n",
       "10817    25\n",
       "10818    10\n",
       "Name: Days_to_complete_service, Length: 10074, dtype: int64"
      ]
     },
     "execution_count": 46,
     "metadata": {},
     "output_type": "execute_result"
    }
   ],
   "source": [
    "only_dates['Days_to_complete_service']"
   ]
  },
  {
   "cell_type": "code",
   "execution_count": 47,
   "metadata": {},
   "outputs": [],
   "source": [
    "only_dates['Days_to_request'] = (only_dates['Request_service_date'] - only_dates['Failure_date']).dt.days"
   ]
  },
  {
   "cell_type": "code",
   "execution_count": 48,
   "metadata": {
    "scrolled": true
   },
   "outputs": [
    {
     "data": {
      "text/plain": [
       "0        0\n",
       "1        0\n",
       "2        2\n",
       "3        0\n",
       "4        0\n",
       "        ..\n",
       "10814    0\n",
       "10815    0\n",
       "10816    0\n",
       "10817    0\n",
       "10818    2\n",
       "Name: Days_to_request, Length: 10074, dtype: int64"
      ]
     },
     "execution_count": 48,
     "metadata": {},
     "output_type": "execute_result"
    }
   ],
   "source": [
    "only_dates['Days_to_request']"
   ]
  },
  {
   "cell_type": "code",
   "execution_count": 49,
   "metadata": {
    "scrolled": false
   },
   "outputs": [
    {
     "data": {
      "text/html": [
       "<div>\n",
       "<style scoped>\n",
       "    .dataframe tbody tr th:only-of-type {\n",
       "        vertical-align: middle;\n",
       "    }\n",
       "\n",
       "    .dataframe tbody tr th {\n",
       "        vertical-align: top;\n",
       "    }\n",
       "\n",
       "    .dataframe thead th {\n",
       "        text-align: right;\n",
       "    }\n",
       "</style>\n",
       "<table border=\"1\" class=\"dataframe\">\n",
       "  <thead>\n",
       "    <tr style=\"text-align: right;\">\n",
       "      <th></th>\n",
       "      <th>Operational_date</th>\n",
       "      <th>Failure_date</th>\n",
       "      <th>Request_service_date</th>\n",
       "      <th>Service_successful_date</th>\n",
       "      <th>Current_date</th>\n",
       "      <th>Manufacturing_date</th>\n",
       "      <th>Days_to_failure</th>\n",
       "      <th>Days_from_manufacturing</th>\n",
       "      <th>Days_to_complete_service</th>\n",
       "      <th>Days_to_request</th>\n",
       "    </tr>\n",
       "  </thead>\n",
       "  <tbody>\n",
       "  </tbody>\n",
       "</table>\n",
       "</div>"
      ],
      "text/plain": [
       "Empty DataFrame\n",
       "Columns: [Operational_date, Failure_date, Request_service_date, Service_successful_date, Current_date, Manufacturing_date, Days_to_failure, Days_from_manufacturing, Days_to_complete_service, Days_to_request]\n",
       "Index: []"
      ]
     },
     "execution_count": 49,
     "metadata": {},
     "output_type": "execute_result"
    }
   ],
   "source": [
    "only_dates.query('Days_to_request>2')"
   ]
  },
  {
   "cell_type": "markdown",
   "metadata": {},
   "source": [
    "##### We can understand that maximum time taken to request service is not more than 2 days"
   ]
  },
  {
   "cell_type": "code",
   "execution_count": 50,
   "metadata": {
    "scrolled": true
   },
   "outputs": [
    {
     "data": {
      "text/html": [
       "<div>\n",
       "<style scoped>\n",
       "    .dataframe tbody tr th:only-of-type {\n",
       "        vertical-align: middle;\n",
       "    }\n",
       "\n",
       "    .dataframe tbody tr th {\n",
       "        vertical-align: top;\n",
       "    }\n",
       "\n",
       "    .dataframe thead th {\n",
       "        text-align: right;\n",
       "    }\n",
       "</style>\n",
       "<table border=\"1\" class=\"dataframe\">\n",
       "  <thead>\n",
       "    <tr style=\"text-align: right;\">\n",
       "      <th></th>\n",
       "      <th>Days_to_failure</th>\n",
       "      <th>Days_from_manufacturing</th>\n",
       "      <th>Days_to_complete_service</th>\n",
       "      <th>Days_to_request</th>\n",
       "    </tr>\n",
       "  </thead>\n",
       "  <tbody>\n",
       "    <tr>\n",
       "      <th>Days_to_failure</th>\n",
       "      <td>1.00</td>\n",
       "      <td>0.29</td>\n",
       "      <td>-0.04</td>\n",
       "      <td>-0.01</td>\n",
       "    </tr>\n",
       "    <tr>\n",
       "      <th>Days_from_manufacturing</th>\n",
       "      <td>0.29</td>\n",
       "      <td>1.00</td>\n",
       "      <td>-0.02</td>\n",
       "      <td>-0.03</td>\n",
       "    </tr>\n",
       "    <tr>\n",
       "      <th>Days_to_complete_service</th>\n",
       "      <td>-0.04</td>\n",
       "      <td>-0.02</td>\n",
       "      <td>1.00</td>\n",
       "      <td>0.02</td>\n",
       "    </tr>\n",
       "    <tr>\n",
       "      <th>Days_to_request</th>\n",
       "      <td>-0.01</td>\n",
       "      <td>-0.03</td>\n",
       "      <td>0.02</td>\n",
       "      <td>1.00</td>\n",
       "    </tr>\n",
       "  </tbody>\n",
       "</table>\n",
       "</div>"
      ],
      "text/plain": [
       "                          Days_to_failure  Days_from_manufacturing  \\\n",
       "Days_to_failure                      1.00                     0.29   \n",
       "Days_from_manufacturing              0.29                     1.00   \n",
       "Days_to_complete_service            -0.04                    -0.02   \n",
       "Days_to_request                     -0.01                    -0.03   \n",
       "\n",
       "                          Days_to_complete_service  Days_to_request  \n",
       "Days_to_failure                              -0.04            -0.01  \n",
       "Days_from_manufacturing                      -0.02            -0.03  \n",
       "Days_to_complete_service                      1.00             0.02  \n",
       "Days_to_request                               0.02             1.00  "
      ]
     },
     "execution_count": 50,
     "metadata": {},
     "output_type": "execute_result"
    }
   ],
   "source": [
    "corr_report = only_dates.corr().round(2)\n",
    "corr_report"
   ]
  },
  {
   "cell_type": "code",
   "execution_count": 53,
   "metadata": {
    "scrolled": true
   },
   "outputs": [
    {
     "data": {
      "text/html": [
       "<div>\n",
       "<style scoped>\n",
       "    .dataframe tbody tr th:only-of-type {\n",
       "        vertical-align: middle;\n",
       "    }\n",
       "\n",
       "    .dataframe tbody tr th {\n",
       "        vertical-align: top;\n",
       "    }\n",
       "\n",
       "    .dataframe thead th {\n",
       "        text-align: right;\n",
       "    }\n",
       "</style>\n",
       "<table border=\"1\" class=\"dataframe\">\n",
       "  <thead>\n",
       "    <tr style=\"text-align: right;\">\n",
       "      <th></th>\n",
       "      <th>SKUs_sold</th>\n",
       "      <th>Product_price</th>\n",
       "      <th>Threshold_temperature(Fahrenheit)</th>\n",
       "      <th>Product_quantity</th>\n",
       "      <th>Device_pressure</th>\n",
       "      <th>Device_temperature(Fahrenheit)</th>\n",
       "      <th>Store_id</th>\n",
       "      <th>temp_difference</th>\n",
       "    </tr>\n",
       "  </thead>\n",
       "  <tbody>\n",
       "    <tr>\n",
       "      <th>SKUs_sold</th>\n",
       "      <td>1.00</td>\n",
       "      <td>0.00</td>\n",
       "      <td>-0.00</td>\n",
       "      <td>-0.00</td>\n",
       "      <td>0.01</td>\n",
       "      <td>-0.01</td>\n",
       "      <td>0.00</td>\n",
       "      <td>0.00</td>\n",
       "    </tr>\n",
       "    <tr>\n",
       "      <th>Product_price</th>\n",
       "      <td>0.00</td>\n",
       "      <td>1.00</td>\n",
       "      <td>-0.09</td>\n",
       "      <td>0.08</td>\n",
       "      <td>-0.01</td>\n",
       "      <td>-0.03</td>\n",
       "      <td>0.01</td>\n",
       "      <td>-0.09</td>\n",
       "    </tr>\n",
       "    <tr>\n",
       "      <th>Threshold_temperature(Fahrenheit)</th>\n",
       "      <td>-0.00</td>\n",
       "      <td>-0.09</td>\n",
       "      <td>1.00</td>\n",
       "      <td>0.01</td>\n",
       "      <td>-0.01</td>\n",
       "      <td>0.03</td>\n",
       "      <td>0.02</td>\n",
       "      <td>1.00</td>\n",
       "    </tr>\n",
       "    <tr>\n",
       "      <th>Product_quantity</th>\n",
       "      <td>-0.00</td>\n",
       "      <td>0.08</td>\n",
       "      <td>0.01</td>\n",
       "      <td>1.00</td>\n",
       "      <td>0.02</td>\n",
       "      <td>-0.01</td>\n",
       "      <td>0.01</td>\n",
       "      <td>0.01</td>\n",
       "    </tr>\n",
       "    <tr>\n",
       "      <th>Device_pressure</th>\n",
       "      <td>0.01</td>\n",
       "      <td>-0.01</td>\n",
       "      <td>-0.01</td>\n",
       "      <td>0.02</td>\n",
       "      <td>1.00</td>\n",
       "      <td>0.01</td>\n",
       "      <td>-0.03</td>\n",
       "      <td>-0.01</td>\n",
       "    </tr>\n",
       "    <tr>\n",
       "      <th>Device_temperature(Fahrenheit)</th>\n",
       "      <td>-0.01</td>\n",
       "      <td>-0.03</td>\n",
       "      <td>0.03</td>\n",
       "      <td>-0.01</td>\n",
       "      <td>0.01</td>\n",
       "      <td>1.00</td>\n",
       "      <td>0.02</td>\n",
       "      <td>-0.06</td>\n",
       "    </tr>\n",
       "    <tr>\n",
       "      <th>Store_id</th>\n",
       "      <td>0.00</td>\n",
       "      <td>0.01</td>\n",
       "      <td>0.02</td>\n",
       "      <td>0.01</td>\n",
       "      <td>-0.03</td>\n",
       "      <td>0.02</td>\n",
       "      <td>1.00</td>\n",
       "      <td>0.01</td>\n",
       "    </tr>\n",
       "    <tr>\n",
       "      <th>temp_difference</th>\n",
       "      <td>0.00</td>\n",
       "      <td>-0.09</td>\n",
       "      <td>1.00</td>\n",
       "      <td>0.01</td>\n",
       "      <td>-0.01</td>\n",
       "      <td>-0.06</td>\n",
       "      <td>0.01</td>\n",
       "      <td>1.00</td>\n",
       "    </tr>\n",
       "  </tbody>\n",
       "</table>\n",
       "</div>"
      ],
      "text/plain": [
       "                                   SKUs_sold  Product_price  \\\n",
       "SKUs_sold                               1.00           0.00   \n",
       "Product_price                           0.00           1.00   \n",
       "Threshold_temperature(Fahrenheit)      -0.00          -0.09   \n",
       "Product_quantity                       -0.00           0.08   \n",
       "Device_pressure                         0.01          -0.01   \n",
       "Device_temperature(Fahrenheit)         -0.01          -0.03   \n",
       "Store_id                                0.00           0.01   \n",
       "temp_difference                         0.00          -0.09   \n",
       "\n",
       "                                   Threshold_temperature(Fahrenheit)  \\\n",
       "SKUs_sold                                                      -0.00   \n",
       "Product_price                                                  -0.09   \n",
       "Threshold_temperature(Fahrenheit)                               1.00   \n",
       "Product_quantity                                                0.01   \n",
       "Device_pressure                                                -0.01   \n",
       "Device_temperature(Fahrenheit)                                  0.03   \n",
       "Store_id                                                        0.02   \n",
       "temp_difference                                                 1.00   \n",
       "\n",
       "                                   Product_quantity  Device_pressure  \\\n",
       "SKUs_sold                                     -0.00             0.01   \n",
       "Product_price                                  0.08            -0.01   \n",
       "Threshold_temperature(Fahrenheit)              0.01            -0.01   \n",
       "Product_quantity                               1.00             0.02   \n",
       "Device_pressure                                0.02             1.00   \n",
       "Device_temperature(Fahrenheit)                -0.01             0.01   \n",
       "Store_id                                       0.01            -0.03   \n",
       "temp_difference                                0.01            -0.01   \n",
       "\n",
       "                                   Device_temperature(Fahrenheit)  Store_id  \\\n",
       "SKUs_sold                                                   -0.01      0.00   \n",
       "Product_price                                               -0.03      0.01   \n",
       "Threshold_temperature(Fahrenheit)                            0.03      0.02   \n",
       "Product_quantity                                            -0.01      0.01   \n",
       "Device_pressure                                              0.01     -0.03   \n",
       "Device_temperature(Fahrenheit)                               1.00      0.02   \n",
       "Store_id                                                     0.02      1.00   \n",
       "temp_difference                                             -0.06      0.01   \n",
       "\n",
       "                                   temp_difference  \n",
       "SKUs_sold                                     0.00  \n",
       "Product_price                                -0.09  \n",
       "Threshold_temperature(Fahrenheit)             1.00  \n",
       "Product_quantity                              0.01  \n",
       "Device_pressure                              -0.01  \n",
       "Device_temperature(Fahrenheit)               -0.06  \n",
       "Store_id                                      0.01  \n",
       "temp_difference                               1.00  "
      ]
     },
     "execution_count": 53,
     "metadata": {},
     "output_type": "execute_result"
    }
   ],
   "source": [
    "corr_report2 = all_merged_revised.corr().round(2)\n",
    "corr_report2"
   ]
  },
  {
   "cell_type": "code",
   "execution_count": 54,
   "metadata": {},
   "outputs": [
    {
     "data": {
      "text/plain": [
       "<matplotlib.axes._subplots.AxesSubplot at 0x24bf0b0f048>"
      ]
     },
     "execution_count": 54,
     "metadata": {},
     "output_type": "execute_result"
    },
    {
     "data": {
      "image/png": "[encoded data removed]",
      "text/plain": [
       "<Figure size 432x288 with 2 Axes>"
      ]
     },
     "metadata": {
      "needs_background": "light"
     },
     "output_type": "display_data"
    }
   ],
   "source": [
    "sns.heatmap(corr_report2,annot=True)\n",
    "#sns.heatmap()"
   ]
  },
  {
   "cell_type": "code",
   "execution_count": 55,
   "metadata": {
    "scrolled": true
   },
   "outputs": [
    {
     "data": {
      "text/plain": [
       "0        16\n",
       "1        16\n",
       "2        16\n",
       "3        -1\n",
       "4        32\n",
       "         ..\n",
       "10814    42\n",
       "10815    29\n",
       "10816    29\n",
       "10817    -6\n",
       "10818    -6\n",
       "Name: temp_difference, Length: 10074, dtype: int64"
      ]
     },
     "execution_count": 55,
     "metadata": {},
     "output_type": "execute_result"
    }
   ],
   "source": [
    "all_merged['temp_difference']"
   ]
  },
  {
   "cell_type": "code",
   "execution_count": 56,
   "metadata": {},
   "outputs": [],
   "source": [
    "all_merged['Days_to_failure']=only_dates['Days_to_failure']"
   ]
  },
  {
   "cell_type": "markdown",
   "metadata": {},
   "source": [
    "#### Normality test"
   ]
  },
  {
   "cell_type": "markdown",
   "metadata": {},
   "source": [
    "for i in all_merged.columns.tolist():\n",
    "    sns.histplot(data=all_merged[i],kde=True)\n",
    "    plt.title('Normality test on '+i)\n",
    "    plt.show()"
   ]
  },
  {
   "cell_type": "code",
   "execution_count": 57,
   "metadata": {
    "scrolled": true
   },
   "outputs": [
    {
     "data": {
      "text/plain": [
       "<matplotlib.axes._subplots.AxesSubplot at 0x24bf0c2a708>"
      ]
     },
     "execution_count": 57,
     "metadata": {},
     "output_type": "execute_result"
    },
    {
     "data": {
      "image/png": "[encoded data removed]",
      "text/plain": [
       "<Figure size 432x288 with 1 Axes>"
      ]
     },
     "metadata": {
      "needs_background": "light"
     },
     "output_type": "display_data"
    }
   ],
   "source": [
    "sns.histplot(data=all_merged['Days_to_failure'],kde=True)"
   ]
  },
  {
   "cell_type": "code",
   "execution_count": 52,
   "metadata": {},
   "outputs": [],
   "source": [
    "all_merged_revised = all_merged"
   ]
  },
  {
   "cell_type": "code",
   "execution_count": 58,
   "metadata": {
    "scrolled": true
   },
   "outputs": [
    {
     "data": {
      "text/plain": [
       "Index(['Order_id', 'Product_id', 'Device_id', 'Order_date', 'SKUs_sold',\n",
       "       'Product_name', 'Product_type', 'Product_size', 'Product_price',\n",
       "       'Threshold_temperature(Fahrenheit)', 'Product_quantity',\n",
       "       'Manufacturing_location', 'Manufacturing_date', 'Device_capacity',\n",
       "       'Device_pressure', 'Device_temperature(Fahrenheit)', 'Current_location',\n",
       "       'Store_id', 'Store_name', 'Operational_date', 'Failure_date',\n",
       "       'Request_service_date', 'Service_successful_date', 'Current_date',\n",
       "       'Store_location', 'temp_difference', 'Days_to_failure'],\n",
       "      dtype='object')"
      ]
     },
     "execution_count": 58,
     "metadata": {},
     "output_type": "execute_result"
    }
   ],
   "source": [
    "all_merged_revised.columns"
   ]
  },
  {
   "cell_type": "code",
   "execution_count": 59,
   "metadata": {
    "scrolled": true
   },
   "outputs": [
    {
     "data": {
      "text/plain": [
       "Index(['Operational_date', 'Failure_date', 'Request_service_date',\n",
       "       'Service_successful_date', 'Current_date', 'Manufacturing_date',\n",
       "       'Days_to_failure', 'Days_from_manufacturing',\n",
       "       'Days_to_complete_service', 'Days_to_request'],\n",
       "      dtype='object')"
      ]
     },
     "execution_count": 59,
     "metadata": {},
     "output_type": "execute_result"
    }
   ],
   "source": [
    "only_dates.columns"
   ]
  },
  {
   "cell_type": "code",
   "execution_count": 60,
   "metadata": {},
   "outputs": [],
   "source": [
    "all_merged_revised['Days_to_complete_service'] = only_dates['Days_to_complete_service']"
   ]
  },
  {
   "cell_type": "code",
   "execution_count": 61,
   "metadata": {},
   "outputs": [],
   "source": [
    "all_merged_revised['Days_to_request'] = only_dates['Days_to_request']"
   ]
  },
  {
   "cell_type": "code",
   "execution_count": 62,
   "metadata": {},
   "outputs": [],
   "source": [
    "all_merged_revised['Days_from_manufacturing'] = only_dates['Days_from_manufacturing']"
   ]
  },
  {
   "cell_type": "code",
   "execution_count": 63,
   "metadata": {},
   "outputs": [],
   "source": [
    "all_merged_revised=all_merged_revised.drop(['Product_type','Manufacturing_location','Device_capacity','Current_location','Store_location'],axis=1)"
   ]
  },
  {
   "cell_type": "code",
   "execution_count": 64,
   "metadata": {},
   "outputs": [],
   "source": [
    "all_merged_revised=all_merged_revised.drop('Threshold_temperature(Fahrenheit)',axis=1)"
   ]
  },
  {
   "cell_type": "code",
   "execution_count": null,
   "metadata": {},
   "outputs": [],
   "source": []
  },
  {
   "cell_type": "markdown",
   "metadata": {},
   "source": [
    "Removed columns ['Order_id','Product_id','Device_id','Order_date','Product_name','Product_size','Product_price','Product_quantity','Manufacturing_date','Store_id','Store_name','Operational_date','Failure_date','Request_service_date','Service_successful_date','Current_date']"
   ]
  },
  {
   "cell_type": "code",
   "execution_count": 65,
   "metadata": {},
   "outputs": [
    {
     "name": "stderr",
     "output_type": "stream",
     "text": [
      "C:\\Users\\Gobinath\\Anaconda3\\lib\\site-packages\\sklearn\\linear_model\\least_angle.py:30: DeprecationWarning: `np.float` is a deprecated alias for the builtin `float`. To silence this warning, use `float` by itself. Doing this will not modify any behavior and is safe. If you specifically wanted the numpy scalar type, use `np.float64` here.\n",
      "Deprecated in NumPy 1.20; for more details and guidance: https://numpy.org/devdocs/release/1.20.0-notes.html#deprecations\n",
      "  method='lar', copy_X=True, eps=np.finfo(np.float).eps,\n",
      "C:\\Users\\Gobinath\\Anaconda3\\lib\\site-packages\\sklearn\\linear_model\\least_angle.py:167: DeprecationWarning: `np.float` is a deprecated alias for the builtin `float`. To silence this warning, use `float` by itself. Doing this will not modify any behavior and is safe. If you specifically wanted the numpy scalar type, use `np.float64` here.\n",
      "Deprecated in NumPy 1.20; for more details and guidance: https://numpy.org/devdocs/release/1.20.0-notes.html#deprecations\n",
      "  method='lar', copy_X=True, eps=np.finfo(np.float).eps,\n",
      "C:\\Users\\Gobinath\\Anaconda3\\lib\\site-packages\\sklearn\\linear_model\\least_angle.py:284: DeprecationWarning: `np.float` is a deprecated alias for the builtin `float`. To silence this warning, use `float` by itself. Doing this will not modify any behavior and is safe. If you specifically wanted the numpy scalar type, use `np.float64` here.\n",
      "Deprecated in NumPy 1.20; for more details and guidance: https://numpy.org/devdocs/release/1.20.0-notes.html#deprecations\n",
      "  eps=np.finfo(np.float).eps, copy_Gram=True, verbose=0,\n",
      "C:\\Users\\Gobinath\\Anaconda3\\lib\\site-packages\\sklearn\\linear_model\\least_angle.py:862: DeprecationWarning: `np.float` is a deprecated alias for the builtin `float`. To silence this warning, use `float` by itself. Doing this will not modify any behavior and is safe. If you specifically wanted the numpy scalar type, use `np.float64` here.\n",
      "Deprecated in NumPy 1.20; for more details and guidance: https://numpy.org/devdocs/release/1.20.0-notes.html#deprecations\n",
      "  eps=np.finfo(np.float).eps, copy_X=True, fit_path=True,\n",
      "C:\\Users\\Gobinath\\Anaconda3\\lib\\site-packages\\sklearn\\linear_model\\least_angle.py:1101: DeprecationWarning: `np.float` is a deprecated alias for the builtin `float`. To silence this warning, use `float` by itself. Doing this will not modify any behavior and is safe. If you specifically wanted the numpy scalar type, use `np.float64` here.\n",
      "Deprecated in NumPy 1.20; for more details and guidance: https://numpy.org/devdocs/release/1.20.0-notes.html#deprecations\n",
      "  eps=np.finfo(np.float).eps, copy_X=True, fit_path=True,\n",
      "C:\\Users\\Gobinath\\Anaconda3\\lib\\site-packages\\sklearn\\linear_model\\least_angle.py:1127: DeprecationWarning: `np.float` is a deprecated alias for the builtin `float`. To silence this warning, use `float` by itself. Doing this will not modify any behavior and is safe. If you specifically wanted the numpy scalar type, use `np.float64` here.\n",
      "Deprecated in NumPy 1.20; for more details and guidance: https://numpy.org/devdocs/release/1.20.0-notes.html#deprecations\n",
      "  eps=np.finfo(np.float).eps, positive=False):\n",
      "C:\\Users\\Gobinath\\Anaconda3\\lib\\site-packages\\sklearn\\linear_model\\least_angle.py:1362: DeprecationWarning: `np.float` is a deprecated alias for the builtin `float`. To silence this warning, use `float` by itself. Doing this will not modify any behavior and is safe. If you specifically wanted the numpy scalar type, use `np.float64` here.\n",
      "Deprecated in NumPy 1.20; for more details and guidance: https://numpy.org/devdocs/release/1.20.0-notes.html#deprecations\n",
      "  max_n_alphas=1000, n_jobs=None, eps=np.finfo(np.float).eps,\n",
      "C:\\Users\\Gobinath\\Anaconda3\\lib\\site-packages\\sklearn\\linear_model\\least_angle.py:1602: DeprecationWarning: `np.float` is a deprecated alias for the builtin `float`. To silence this warning, use `float` by itself. Doing this will not modify any behavior and is safe. If you specifically wanted the numpy scalar type, use `np.float64` here.\n",
      "Deprecated in NumPy 1.20; for more details and guidance: https://numpy.org/devdocs/release/1.20.0-notes.html#deprecations\n",
      "  max_n_alphas=1000, n_jobs=None, eps=np.finfo(np.float).eps,\n",
      "C:\\Users\\Gobinath\\Anaconda3\\lib\\site-packages\\sklearn\\linear_model\\least_angle.py:1738: DeprecationWarning: `np.float` is a deprecated alias for the builtin `float`. To silence this warning, use `float` by itself. Doing this will not modify any behavior and is safe. If you specifically wanted the numpy scalar type, use `np.float64` here.\n",
      "Deprecated in NumPy 1.20; for more details and guidance: https://numpy.org/devdocs/release/1.20.0-notes.html#deprecations\n",
      "  eps=np.finfo(np.float).eps, copy_X=True, positive=False):\n"
     ]
    }
   ],
   "source": [
    "from sklearn.metrics import mean_absolute_error,mean_squared_error\n",
    "from sklearn.linear_model import LinearRegression\n",
    "from sklearn.model_selection import train_test_split"
   ]
  },
  {
   "cell_type": "code",
   "execution_count": 72,
   "metadata": {},
   "outputs": [],
   "source": [
    "all_merged_revised=all_merged_revised.drop(['Order_id','Product_id','Device_id','Order_date','Product_name','Product_size','Product_price','Product_quantity','Manufacturing_date','Store_id','Store_name','Operational_date','Failure_date','Request_service_date','Service_successful_date','Current_date'],axis=1)"
   ]
  },
  {
   "cell_type": "markdown",
   "metadata": {},
   "source": [
    "rms = mean_squared_error(y_actual, y_predicted, squared=False) # to calculate rmse"
   ]
  },
  {
   "cell_type": "code",
   "execution_count": 73,
   "metadata": {},
   "outputs": [],
   "source": [
    "x=all_merged_revised.drop('Days_to_failure',axis=1)\n",
    "y=all_merged_revised['Days_to_failure']"
   ]
  },
  {
   "cell_type": "code",
   "execution_count": 75,
   "metadata": {},
   "outputs": [
    {
     "data": {
      "text/plain": [
       "Index(['SKUs_sold', 'Device_pressure', 'Device_temperature(Fahrenheit)',\n",
       "       'temp_difference', 'Days_to_complete_service', 'Days_to_request',\n",
       "       'Days_from_manufacturing'],\n",
       "      dtype='object')"
      ]
     },
     "execution_count": 75,
     "metadata": {},
     "output_type": "execute_result"
    }
   ],
   "source": [
    "x_train,x_test,y_train,y_test=train_test_split(x,y,test_size = 0.30,random_state=120,shuffle=True)\n",
    "x_train.columns"
   ]
  },
  {
   "cell_type": "code",
   "execution_count": 76,
   "metadata": {},
   "outputs": [],
   "source": [
    "linear_model = LinearRegression()"
   ]
  },
  {
   "cell_type": "code",
   "execution_count": 77,
   "metadata": {},
   "outputs": [
    {
     "data": {
      "text/plain": [
       "LinearRegression(copy_X=True, fit_intercept=True, n_jobs=None, normalize=False)"
      ]
     },
     "execution_count": 77,
     "metadata": {},
     "output_type": "execute_result"
    }
   ],
   "source": [
    "linear_model.fit(x_train,y_train)"
   ]
  },
  {
   "cell_type": "code",
   "execution_count": 78,
   "metadata": {},
   "outputs": [],
   "source": [
    "y_pred=linear_model.predict(x_test)"
   ]
  },
  {
   "cell_type": "code",
   "execution_count": 79,
   "metadata": {},
   "outputs": [
    {
     "data": {
      "text/plain": [
       "array([386.49912148, 382.51228384, 343.4049706 , ..., 349.37707822,\n",
       "       395.78071153, 389.90170614])"
      ]
     },
     "execution_count": 79,
     "metadata": {},
     "output_type": "execute_result"
    }
   ],
   "source": [
    "y_pred"
   ]
  },
  {
   "cell_type": "code",
   "execution_count": 80,
   "metadata": {},
   "outputs": [
    {
     "data": {
      "text/plain": [
       "9735    39.500879\n",
       "1821   -17.512284\n",
       "7432    82.595029\n",
       "3485   -91.120817\n",
       "4217    39.474115\n",
       "          ...    \n",
       "8094     5.591202\n",
       "7566    36.676044\n",
       "6494    74.622922\n",
       "9225    30.219288\n",
       "657     36.098294\n",
       "Name: Days_to_failure, Length: 3023, dtype: float64"
      ]
     },
     "execution_count": 80,
     "metadata": {},
     "output_type": "execute_result"
    }
   ],
   "source": [
    "error = y_test-y_pred\n",
    "error"
   ]
  },
  {
   "cell_type": "code",
   "execution_count": 81,
   "metadata": {},
   "outputs": [],
   "source": [
    "mse = mean_squared_error(y_test,y_pred)"
   ]
  },
  {
   "cell_type": "code",
   "execution_count": 82,
   "metadata": {},
   "outputs": [],
   "source": [
    "mae=mean_absolute_error(y_test,y_pred)"
   ]
  },
  {
   "cell_type": "code",
   "execution_count": 83,
   "metadata": {},
   "outputs": [],
   "source": [
    "from math import sqrt\n",
    "rms = sqrt(mean_squared_error(y_test, y_pred))"
   ]
  },
  {
   "cell_type": "code",
   "execution_count": 84,
   "metadata": {
    "scrolled": true
   },
   "outputs": [
    {
     "data": {
      "text/plain": [
       "(1515.089191044882, 32.329012490567045, 38.9241466321984)"
      ]
     },
     "execution_count": 84,
     "metadata": {},
     "output_type": "execute_result"
    }
   ],
   "source": [
    "mse,mae,rms"
   ]
  },
  {
   "cell_type": "code",
   "execution_count": 85,
   "metadata": {},
   "outputs": [],
   "source": [
    "#all_merged_revised.columns\n",
    "#all_merged_revised['Device_temperature']=all_merged_revised['Device_temperature(Fahrenheit)']\n",
    "all_merged_revised=all_merged_revised.drop('Device_temperature(Fahrenheit)',axis=1)"
   ]
  },
  {
   "cell_type": "code",
   "execution_count": 86,
   "metadata": {},
   "outputs": [],
   "source": [
    " import statsmodels.formula.api as smf"
   ]
  },
  {
   "cell_type": "code",
   "execution_count": 87,
   "metadata": {},
   "outputs": [
    {
     "name": "stdout",
     "output_type": "stream",
     "text": [
      "AIC Value : -485262.6100107763\n",
      "BIC Value : -485204.86830576585\n",
      "R Squared : 1.0\n",
      "Adj R Square: 1.0\n"
     ]
    }
   ],
   "source": [
    "linear_model_ols = smf.ols(formula = 'Days_to_failure~SKUs_sold+Device_pressure+temp_difference+Days_to_failure+Days_to_complete_service+Days_to_request+Days_from_manufacturing',data = all_merged_revised).fit()\n",
    "print('AIC Value :',linear_model_ols.aic)\n",
    "print('BIC Value :',linear_model_ols.bic)\n",
    "print('R Squared :',linear_model_ols.rsquared.round(4)) #Contribution of Input features. We are expecting close 1.\n",
    "print('Adj R Square:',linear_model_ols.rsquared_adj.round(4))"
   ]
  },
  {
   "cell_type": "code",
   "execution_count": 88,
   "metadata": {},
   "outputs": [
    {
     "name": "stdout",
     "output_type": "stream",
     "text": [
      "AIC Value : -532251.4257828093\n",
      "BIC Value : -532222.5549303041\n",
      "R Squared : 1.0\n",
      "Adj R Square: 1.0\n"
     ]
    }
   ],
   "source": [
    "model_2 = smf.ols(formula = 'Days_to_failure~temp_difference+Days_to_failure+Days_to_complete_service', data = all_merged_revised).fit()\n",
    "print('AIC Value :',model_2.aic)\n",
    "print('BIC Value :',model_2.bic)\n",
    "print('R Squared :',model_2.rsquared.round(4))\n",
    "print('Adj R Square:',model_2.rsquared_adj.round(4))"
   ]
  },
  {
   "cell_type": "code",
   "execution_count": 89,
   "metadata": {},
   "outputs": [
    {
     "name": "stdout",
     "output_type": "stream",
     "text": [
      "AIC Value : -524688.7326480272\n",
      "BIC Value : -524667.0795086484\n",
      "R Squared : 1.0\n",
      "Adj R Square: 1.0\n"
     ]
    }
   ],
   "source": [
    "model_3 = smf.ols(formula = 'Days_to_failure~temp_difference+Days_to_failure', data = all_merged_revised).fit()\n",
    "print('AIC Value :',model_3.aic)\n",
    "print('BIC Value :',model_3.bic)\n",
    "print('R Squared :',model_3.rsquared.round(4))\n",
    "print('Adj R Square:',model_3.rsquared_adj.round(4))"
   ]
  },
  {
   "cell_type": "code",
   "execution_count": 90,
   "metadata": {},
   "outputs": [
    {
     "name": "stdout",
     "output_type": "stream",
     "text": [
      "AIC Value : -486436.48512029665\n",
      "BIC Value : -486393.17884153884\n",
      "R Squared : 1.0\n",
      "Adj R Square: 1.0\n"
     ]
    }
   ],
   "source": [
    "model_4 = smf.ols(formula = 'Days_to_failure~temp_difference+Days_to_failure+Days_to_complete_service+Days_to_request+Days_from_manufacturing', data = all_merged_revised).fit()\n",
    "print('AIC Value :',model_4.aic)\n",
    "print('BIC Value :',model_4.bic)\n",
    "print('R Squared :',model_4.rsquared.round(4))\n",
    "print('Adj R Square:',model_4.rsquared_adj.round(4))"
   ]
  },
  {
   "cell_type": "code",
   "execution_count": 91,
   "metadata": {},
   "outputs": [],
   "source": [
    "from sklearn.metrics import max_error"
   ]
  },
  {
   "cell_type": "code",
   "execution_count": 92,
   "metadata": {},
   "outputs": [],
   "source": [
    "max_err = max_error(y_test,y_pred)"
   ]
  },
  {
   "cell_type": "code",
   "execution_count": 93,
   "metadata": {},
   "outputs": [
    {
     "data": {
      "text/plain": [
       "135.8630861189975"
      ]
     },
     "execution_count": 93,
     "metadata": {},
     "output_type": "execute_result"
    }
   ],
   "source": [
    "max_err"
   ]
  },
  {
   "cell_type": "code",
   "execution_count": 94,
   "metadata": {},
   "outputs": [],
   "source": [
    "all_merged_1 = all_merged_revised"
   ]
  },
  {
   "cell_type": "code",
   "execution_count": 95,
   "metadata": {},
   "outputs": [],
   "source": [
    "all_merged_1=all_merged_1.drop('temp_difference',axis=1)"
   ]
  },
  {
   "cell_type": "code",
   "execution_count": 96,
   "metadata": {},
   "outputs": [],
   "source": [
    "all_merged_1['Threshold_temperature'] = all_merged['Threshold_temperature(Fahrenheit)']"
   ]
  },
  {
   "cell_type": "code",
   "execution_count": 97,
   "metadata": {},
   "outputs": [
    {
     "data": {
      "text/plain": [
       "Index(['SKUs_sold', 'Device_pressure', 'Days_to_failure',\n",
       "       'Days_to_complete_service', 'Days_to_request',\n",
       "       'Days_from_manufacturing', 'Threshold_temperature'],\n",
       "      dtype='object')"
      ]
     },
     "execution_count": 97,
     "metadata": {},
     "output_type": "execute_result"
    }
   ],
   "source": [
    "all_merged_1.columns"
   ]
  },
  {
   "cell_type": "code",
   "execution_count": null,
   "metadata": {},
   "outputs": [],
   "source": []
  },
  {
   "cell_type": "code",
   "execution_count": 117,
   "metadata": {},
   "outputs": [
    {
     "data": {
      "text/plain": [
       "Index(['SKUs_sold', 'Device_pressure', 'Days_to_complete_service',\n",
       "       'Days_to_request', 'Days_from_manufacturing', 'Threshold_temperature'],\n",
       "      dtype='object')"
      ]
     },
     "execution_count": 117,
     "metadata": {},
     "output_type": "execute_result"
    }
   ],
   "source": [
    "x_1=all_merged_1.drop('Days_to_failure',axis=1)\n",
    "y_1=all_merged_1['Days_to_failure']"
   ]
  },
  {
   "cell_type": "code",
   "execution_count": 118,
   "metadata": {},
   "outputs": [],
   "source": [
    "x_train_1,x_test_1,y_train_1,y_test_1=train_test_split(x_1,y_1,test_size = 0.30,random_state=120,shuffle=True)"
   ]
  },
  {
   "cell_type": "code",
   "execution_count": 119,
   "metadata": {},
   "outputs": [],
   "source": [
    "linear_model_1 = LinearRegression()"
   ]
  },
  {
   "cell_type": "code",
   "execution_count": 120,
   "metadata": {},
   "outputs": [
    {
     "data": {
      "text/plain": [
       "LinearRegression(copy_X=True, fit_intercept=True, n_jobs=None, normalize=False)"
      ]
     },
     "execution_count": 120,
     "metadata": {},
     "output_type": "execute_result"
    }
   ],
   "source": [
    "linear_model_1.fit(x_train_1,y_train_1)"
   ]
  },
  {
   "cell_type": "code",
   "execution_count": 122,
   "metadata": {},
   "outputs": [],
   "source": [
    "from lightgbm import LGBMRegressor"
   ]
  },
  {
   "cell_type": "code",
   "execution_count": 123,
   "metadata": {},
   "outputs": [
    {
     "name": "stderr",
     "output_type": "stream",
     "text": [
      "C:\\Users\\Gobinath\\Anaconda3\\lib\\site-packages\\sklearn\\decomposition\\online_lda.py:29: DeprecationWarning: `np.float` is a deprecated alias for the builtin `float`. To silence this warning, use `float` by itself. Doing this will not modify any behavior and is safe. If you specifically wanted the numpy scalar type, use `np.float64` here.\n",
      "Deprecated in NumPy 1.20; for more details and guidance: https://numpy.org/devdocs/release/1.20.0-notes.html#deprecations\n",
      "  EPS = np.finfo(np.float).eps\n",
      "C:\\Users\\Gobinath\\Anaconda3\\lib\\site-packages\\sklearn\\ensemble\\gradient_boosting.py:32: DeprecationWarning: `np.bool` is a deprecated alias for the builtin `bool`. To silence this warning, use `bool` by itself. Doing this will not modify any behavior and is safe. If you specifically wanted the numpy scalar type, use `np.bool_` here.\n",
      "Deprecated in NumPy 1.20; for more details and guidance: https://numpy.org/devdocs/release/1.20.0-notes.html#deprecations\n",
      "  from ._gradient_boosting import predict_stages\n",
      "C:\\Users\\Gobinath\\Anaconda3\\lib\\site-packages\\sklearn\\ensemble\\gradient_boosting.py:32: DeprecationWarning: `np.bool` is a deprecated alias for the builtin `bool`. To silence this warning, use `bool` by itself. Doing this will not modify any behavior and is safe. If you specifically wanted the numpy scalar type, use `np.bool_` here.\n",
      "Deprecated in NumPy 1.20; for more details and guidance: https://numpy.org/devdocs/release/1.20.0-notes.html#deprecations\n",
      "  from ._gradient_boosting import predict_stages\n"
     ]
    }
   ],
   "source": [
    "from sklearn.ensemble import RandomForestRegressor,AdaBoostRegressor,GradientBoostingRegressor\n",
    "from xgboost import XGBRegressor,XGBRFRegressor"
   ]
  },
  {
   "cell_type": "code",
   "execution_count": 133,
   "metadata": {},
   "outputs": [],
   "source": [
    "lgb_model = LGBMRegressor()"
   ]
  },
  {
   "cell_type": "code",
   "execution_count": 207,
   "metadata": {},
   "outputs": [],
   "source": [
    "#lgb_model = LGBMRegressor()\n",
    "rf_model = RandomForestRegressor()\n",
    "#ada_model = AdaBoostRegressor()\n",
    "#gb_regressor_model = GradientBoostingRegressor()\n",
    "#xgboost_model = XGBRegressor()\n",
    "#xgbregressor_model = XGBRFRegressor()"
   ]
  },
  {
   "cell_type": "code",
   "execution_count": 208,
   "metadata": {},
   "outputs": [
    {
     "name": "stdout",
     "output_type": "stream",
     "text": [
      "Wall time: 336 ms\n"
     ]
    },
    {
     "data": {
      "text/plain": [
       "RandomForestRegressor(bootstrap=True, criterion='mse', max_depth=None,\n",
       "                      max_features='auto', max_leaf_nodes=None,\n",
       "                      min_impurity_decrease=0.0, min_impurity_split=None,\n",
       "                      min_samples_leaf=1, min_samples_split=2,\n",
       "                      min_weight_fraction_leaf=0.0, n_estimators=10,\n",
       "                      n_jobs=None, oob_score=False, random_state=None,\n",
       "                      verbose=0, warm_start=False)"
      ]
     },
     "execution_count": 208,
     "metadata": {},
     "output_type": "execute_result"
    }
   ],
   "source": [
    "%%time\n",
    "rf_model.fit(x_train,y_train)"
   ]
  },
  {
   "cell_type": "code",
   "execution_count": 128,
   "metadata": {},
   "outputs": [
    {
     "name": "stdout",
     "output_type": "stream",
     "text": [
      "Wall time: 193 ms\n"
     ]
    },
    {
     "data": {
      "text/plain": [
       "AdaBoostRegressor(base_estimator=None, learning_rate=1.0, loss='linear',\n",
       "                  n_estimators=50, random_state=None)"
      ]
     },
     "execution_count": 128,
     "metadata": {},
     "output_type": "execute_result"
    }
   ],
   "source": [
    "%%time\n",
    "ada_model.fit(x_train,y_train)"
   ]
  },
  {
   "cell_type": "code",
   "execution_count": 131,
   "metadata": {},
   "outputs": [
    {
     "name": "stderr",
     "output_type": "stream",
     "text": [
      "UsageError: Line magic function `%%time` not found.\n"
     ]
    }
   ],
   "source": [
    "import warnings\n",
    "warnings.filterwarnings(\"ignore\")"
   ]
  },
  {
   "cell_type": "code",
   "execution_count": 132,
   "metadata": {},
   "outputs": [
    {
     "name": "stdout",
     "output_type": "stream",
     "text": [
      "Wall time: 255 ms\n"
     ]
    },
    {
     "data": {
      "text/plain": [
       "GradientBoostingRegressor(alpha=0.9, criterion='friedman_mse', init=None,\n",
       "                          learning_rate=0.1, loss='ls', max_depth=3,\n",
       "                          max_features=None, max_leaf_nodes=None,\n",
       "                          min_impurity_decrease=0.0, min_impurity_split=None,\n",
       "                          min_samples_leaf=1, min_samples_split=2,\n",
       "                          min_weight_fraction_leaf=0.0, n_estimators=100,\n",
       "                          n_iter_no_change=None, presort='auto',\n",
       "                          random_state=None, subsample=1.0, tol=0.0001,\n",
       "                          validation_fraction=0.1, verbose=0, warm_start=False)"
      ]
     },
     "execution_count": 132,
     "metadata": {},
     "output_type": "execute_result"
    }
   ],
   "source": [
    "%%time\n",
    "gb_regressor_model.fit(x_train,y_train)"
   ]
  },
  {
   "cell_type": "code",
   "execution_count": 134,
   "metadata": {},
   "outputs": [
    {
     "name": "stdout",
     "output_type": "stream",
     "text": [
      "Wall time: 809 ms\n"
     ]
    },
    {
     "data": {
      "text/plain": [
       "XGBRegressor(base_score=0.5, booster='gbtree', callbacks=None,\n",
       "             colsample_bylevel=1, colsample_bynode=1, colsample_bytree=1,\n",
       "             early_stopping_rounds=None, enable_categorical=False,\n",
       "             eval_metric=None, gamma=0, gpu_id=-1, grow_policy='depthwise',\n",
       "             importance_type=None, interaction_constraints='',\n",
       "             learning_rate=0.300000012, max_bin=256, max_cat_to_onehot=4,\n",
       "             max_delta_step=0, max_depth=6, max_leaves=0, min_child_weight=1,\n",
       "             missing=nan, monotone_constraints='()', n_estimators=100, n_jobs=0,\n",
       "             num_parallel_tree=1, objective='reg:squarederror',\n",
       "             predictor='auto', random_state=0, reg_alpha=0, ...)"
      ]
     },
     "execution_count": 134,
     "metadata": {},
     "output_type": "execute_result"
    }
   ],
   "source": [
    "%%time\n",
    "xgboost_model.fit(x_train,y_train)"
   ]
  },
  {
   "cell_type": "code",
   "execution_count": 135,
   "metadata": {},
   "outputs": [
    {
     "name": "stdout",
     "output_type": "stream",
     "text": [
      "Wall time: 415 ms\n"
     ]
    },
    {
     "data": {
      "text/plain": [
       "XGBRFRegressor(base_score=0.5, booster='gbtree', callbacks=None,\n",
       "               colsample_bylevel=1, colsample_bynode=0.8, colsample_bytree=1,\n",
       "               early_stopping_rounds=None, enable_categorical=False,\n",
       "               eval_metric=None, gamma=0, gpu_id=-1, grow_policy='depthwise',\n",
       "               importance_type=None, interaction_constraints='',\n",
       "               learning_rate=1.0, max_bin=256, max_cat_to_onehot=4,\n",
       "               max_delta_step=0, max_depth=6, max_leaves=0, min_child_weight=1,\n",
       "               missing=nan, monotone_constraints='()', n_estimators=100,\n",
       "               n_jobs=0, num_parallel_tree=100, objective='reg:squarederror',\n",
       "               predictor='auto', random_state=0, reg_alpha=0, ...)"
      ]
     },
     "execution_count": 135,
     "metadata": {},
     "output_type": "execute_result"
    }
   ],
   "source": [
    "%%time\n",
    "xgbregressor_model.fit(x_train,y_train)"
   ]
  },
  {
   "cell_type": "code",
   "execution_count": 136,
   "metadata": {},
   "outputs": [
    {
     "name": "stdout",
     "output_type": "stream",
     "text": [
      "Wall time: 451 ms\n"
     ]
    },
    {
     "data": {
      "text/plain": [
       "LGBMRegressor(boosting_type='gbdt', class_weight=None, colsample_bytree=1.0,\n",
       "              importance_type='split', learning_rate=0.1, max_depth=-1,\n",
       "              min_child_samples=20, min_child_weight=0.001, min_split_gain=0.0,\n",
       "              n_estimators=100, n_jobs=-1, num_leaves=31, objective=None,\n",
       "              random_state=None, reg_alpha=0.0, reg_lambda=0.0, silent=True,\n",
       "              subsample=1.0, subsample_for_bin=200000, subsample_freq=0)"
      ]
     },
     "execution_count": 136,
     "metadata": {},
     "output_type": "execute_result"
    }
   ],
   "source": [
    "%%time\n",
    "lgb_model.fit(x_train,y_train)"
   ]
  },
  {
   "cell_type": "code",
   "execution_count": 209,
   "metadata": {},
   "outputs": [],
   "source": [
    "y_pred_rf   = rf_model.predict(x_test)\n",
    "#y_pred_adb  = ada_model.predict(x_test)\n",
    "#y_pred_gb   = gb_regressor_model.predict(x_test)\n",
    "#y_pred_xgb  = xgboost_model.predict(x_test)\n",
    "#y_pred_lgbm = lgb_model.predict(x_test)\n",
    "#y_pred_xgbregressor = xgbregressor_model.predict(x_test)"
   ]
  },
  {
   "cell_type": "code",
   "execution_count": null,
   "metadata": {},
   "outputs": [],
   "source": []
  },
  {
   "cell_type": "code",
   "execution_count": 138,
   "metadata": {},
   "outputs": [
    {
     "data": {
      "text/plain": [
       "9735    30.5\n",
       "1821    -6.1\n",
       "7432    42.4\n",
       "3485   -42.1\n",
       "4217     5.7\n",
       "        ... \n",
       "8094    18.3\n",
       "7566    18.3\n",
       "6494     5.9\n",
       "9225     0.0\n",
       "657      6.1\n",
       "Name: Days_to_failure, Length: 3023, dtype: float64"
      ]
     },
     "execution_count": 138,
     "metadata": {},
     "output_type": "execute_result"
    }
   ],
   "source": [
    "error_rf = y_test-y_pred_rf\n",
    "error_rf"
   ]
  },
  {
   "cell_type": "code",
   "execution_count": 210,
   "metadata": {},
   "outputs": [
    {
     "name": "stdout",
     "output_type": "stream",
     "text": [
      "268.8861976697174 9.299966920277871 16.397749774579356 110.5\n"
     ]
    }
   ],
   "source": [
    "mse_rf = mean_squared_error(y_test,y_pred_rf)\n",
    "mae_rf=mean_absolute_error(y_test,y_pred_rf)\n",
    "rms_rf = sqrt(mean_squared_error(y_test, y_pred_rf))\n",
    "max_err_rf = max_error(y_test,y_pred_rf)\n",
    "print(mse_rf,mae_rf,rms_rf,max_err_rf)"
   ]
  },
  {
   "cell_type": "code",
   "execution_count": 172,
   "metadata": {},
   "outputs": [
    {
     "name": "stdout",
     "output_type": "stream",
     "text": [
      "1503.7261629081195 31.578162338959093 38.777908181181196 116.45694200351494\n"
     ]
    }
   ],
   "source": [
    "mse_adb = mean_squared_error(y_test,y_pred_adb)\n",
    "mae_adb=mean_absolute_error(y_test,y_pred_adb)\n",
    "rms_adb = sqrt(mean_squared_error(y_test, y_pred_adb))\n",
    "max_err_adb = max_error(y_test,y_pred_adb)\n",
    "print(mse_adb,mae_adb,rms_adb,max_err_adb)"
   ]
  },
  {
   "cell_type": "code",
   "execution_count": 174,
   "metadata": {},
   "outputs": [
    {
     "name": "stdout",
     "output_type": "stream",
     "text": [
      "1275.2347998957048 28.7394561156068 35.710429847534805 134.34439068414878\n"
     ]
    }
   ],
   "source": [
    "mse_gb = mean_squared_error(y_test,y_pred_gb)\n",
    "mae_gb=mean_absolute_error(y_test,y_pred_gb)\n",
    "rms_gb = sqrt(mean_squared_error(y_test, y_pred_gb))\n",
    "max_err_gb = max_error(y_test,y_pred_gb)\n",
    "print(mse_gb,mae_gb,rms_gb,max_err_gb)"
   ]
  },
  {
   "cell_type": "code",
   "execution_count": 175,
   "metadata": {
    "scrolled": true
   },
   "outputs": [
    {
     "name": "stdout",
     "output_type": "stream",
     "text": [
      "398.61981834704903 14.29975702839106 19.965465643131118 129.384521484375\n"
     ]
    }
   ],
   "source": [
    "mse_xgb = mean_squared_error(y_test,y_pred_xgb)\n",
    "mae_xgb=mean_absolute_error(y_test,y_pred_xgb)\n",
    "rms_xgb = sqrt(mean_squared_error(y_test, y_pred_xgb))\n",
    "max_err_xgb = max_error(y_test,y_pred_xgb)\n",
    "print(mse_xgb,mae_xgb,rms_xgb,max_err_xgb)"
   ]
  },
  {
   "cell_type": "code",
   "execution_count": 195,
   "metadata": {},
   "outputs": [
    {
     "name": "stdout",
     "output_type": "stream",
     "text": [
      "875.0143260506354 23.062982085231717 29.58064106895987 129.384521484375\n"
     ]
    }
   ],
   "source": [
    "mse_lgbm = mean_squared_error(y_test,y_pred_lgbm)\n",
    "mae_lgbm=mean_absolute_error(y_test,y_pred_lgbm)\n",
    "rms_lgbm= sqrt(mean_squared_error(y_test, y_pred_lgbm))\n",
    "max_err_lgbm = max_error(y_test,y_pred_xgb)\n",
    "print(mse_lgbm,mae_lgbm,rms_lgbm,max_err_lgbm)"
   ]
  },
  {
   "cell_type": "code",
   "execution_count": 176,
   "metadata": {},
   "outputs": [
    {
     "name": "stdout",
     "output_type": "stream",
     "text": [
      "1223.0058522121408 28.18702969817661 34.97150057135296 127.21432495117188\n"
     ]
    }
   ],
   "source": [
    "mse_xgbreg = mean_squared_error(y_test,y_pred_xgbregressor)\n",
    "mae_xgbreg=mean_absolute_error(y_test,y_pred_xgbregressor)\n",
    "rms_xgbreg= sqrt(mean_squared_error(y_test, y_pred_xgbregressor))\n",
    "max_err_xgbreg = max_error(y_test,y_pred_xgbregressor)\n",
    "print(mse_xgbreg,mae_xgbreg,rms_xgbreg,max_err_xgbreg)"
   ]
  },
  {
   "cell_type": "code",
   "execution_count": 150,
   "metadata": {},
   "outputs": [],
   "source": [
    "#linear_model_features = linear_model.feature_importances_\n",
    "rf_features   = rf_model.feature_importances_\n",
    "ada_model_features  = ada_model.feature_importances_\n",
    "gb_features   = gb_regressor_model.feature_importances_\n",
    "xgb_features  = xgboost_model.feature_importances_\n",
    "xgbr_features = xgbregressor_model.feature_importances_\n",
    "lgbm_features = lgb_model.feature_importances_"
   ]
  },
  {
   "cell_type": "code",
   "execution_count": 151,
   "metadata": {},
   "outputs": [],
   "source": [
    "features_importance = pd.DataFrame({'Features'      :x_train.columns,\n",
    "                                    'RF_Features'   :rf_features,\n",
    "                                    'ADB_Features'  :ada_model_features,\n",
    "                                    'GB_Features'   :gb_features,\n",
    "                                    'XGBM_Features' :xgb_features,\n",
    "                                    'LGBM_Features' :lgbm_features,\n",
    "                                    'XGBRegressor_Features':xgbr_features})                                    "
   ]
  },
  {
   "cell_type": "code",
   "execution_count": 152,
   "metadata": {},
   "outputs": [
    {
     "data": {
      "text/html": [
       "<div>\n",
       "<style scoped>\n",
       "    .dataframe tbody tr th:only-of-type {\n",
       "        vertical-align: middle;\n",
       "    }\n",
       "\n",
       "    .dataframe tbody tr th {\n",
       "        vertical-align: top;\n",
       "    }\n",
       "\n",
       "    .dataframe thead th {\n",
       "        text-align: right;\n",
       "    }\n",
       "</style>\n",
       "<table border=\"1\" class=\"dataframe\">\n",
       "  <thead>\n",
       "    <tr style=\"text-align: right;\">\n",
       "      <th></th>\n",
       "      <th>Features</th>\n",
       "      <th>RF_Features</th>\n",
       "      <th>ADB_Features</th>\n",
       "      <th>GB_Features</th>\n",
       "      <th>XGBM_Features</th>\n",
       "      <th>LGBM_Features</th>\n",
       "      <th>XGBRegressor_Features</th>\n",
       "    </tr>\n",
       "  </thead>\n",
       "  <tbody>\n",
       "    <tr>\n",
       "      <th>0</th>\n",
       "      <td>SKUs_sold</td>\n",
       "      <td>0.082209</td>\n",
       "      <td>0.005060</td>\n",
       "      <td>0.009401</td>\n",
       "      <td>0.033416</td>\n",
       "      <td>169</td>\n",
       "      <td>0.054780</td>\n",
       "    </tr>\n",
       "    <tr>\n",
       "      <th>1</th>\n",
       "      <td>Device_pressure</td>\n",
       "      <td>0.041348</td>\n",
       "      <td>0.008425</td>\n",
       "      <td>0.016051</td>\n",
       "      <td>0.124749</td>\n",
       "      <td>142</td>\n",
       "      <td>0.105765</td>\n",
       "    </tr>\n",
       "    <tr>\n",
       "      <th>2</th>\n",
       "      <td>Device_temperature(Fahrenheit)</td>\n",
       "      <td>0.085036</td>\n",
       "      <td>0.037930</td>\n",
       "      <td>0.051142</td>\n",
       "      <td>0.153970</td>\n",
       "      <td>313</td>\n",
       "      <td>0.094975</td>\n",
       "    </tr>\n",
       "    <tr>\n",
       "      <th>3</th>\n",
       "      <td>temp_difference</td>\n",
       "      <td>0.245905</td>\n",
       "      <td>0.157115</td>\n",
       "      <td>0.130925</td>\n",
       "      <td>0.168741</td>\n",
       "      <td>849</td>\n",
       "      <td>0.116799</td>\n",
       "    </tr>\n",
       "    <tr>\n",
       "      <th>4</th>\n",
       "      <td>Days_to_complete_service</td>\n",
       "      <td>0.060731</td>\n",
       "      <td>0.015580</td>\n",
       "      <td>0.032016</td>\n",
       "      <td>0.140258</td>\n",
       "      <td>178</td>\n",
       "      <td>0.104142</td>\n",
       "    </tr>\n",
       "    <tr>\n",
       "      <th>5</th>\n",
       "      <td>Days_to_request</td>\n",
       "      <td>0.034716</td>\n",
       "      <td>0.006369</td>\n",
       "      <td>0.010261</td>\n",
       "      <td>0.147496</td>\n",
       "      <td>86</td>\n",
       "      <td>0.111401</td>\n",
       "    </tr>\n",
       "    <tr>\n",
       "      <th>6</th>\n",
       "      <td>Days_from_manufacturing</td>\n",
       "      <td>0.450055</td>\n",
       "      <td>0.769521</td>\n",
       "      <td>0.750204</td>\n",
       "      <td>0.231369</td>\n",
       "      <td>1263</td>\n",
       "      <td>0.412140</td>\n",
       "    </tr>\n",
       "  </tbody>\n",
       "</table>\n",
       "</div>"
      ],
      "text/plain": [
       "                         Features  RF_Features  ADB_Features  GB_Features  \\\n",
       "0                       SKUs_sold     0.082209      0.005060     0.009401   \n",
       "1                 Device_pressure     0.041348      0.008425     0.016051   \n",
       "2  Device_temperature(Fahrenheit)     0.085036      0.037930     0.051142   \n",
       "3                 temp_difference     0.245905      0.157115     0.130925   \n",
       "4        Days_to_complete_service     0.060731      0.015580     0.032016   \n",
       "5                 Days_to_request     0.034716      0.006369     0.010261   \n",
       "6         Days_from_manufacturing     0.450055      0.769521     0.750204   \n",
       "\n",
       "   XGBM_Features  LGBM_Features  XGBRegressor_Features  \n",
       "0       0.033416            169               0.054780  \n",
       "1       0.124749            142               0.105765  \n",
       "2       0.153970            313               0.094975  \n",
       "3       0.168741            849               0.116799  \n",
       "4       0.140258            178               0.104142  \n",
       "5       0.147496             86               0.111401  \n",
       "6       0.231369           1263               0.412140  "
      ]
     },
     "execution_count": 152,
     "metadata": {},
     "output_type": "execute_result"
    }
   ],
   "source": [
    "features_importance"
   ]
  },
  {
   "cell_type": "code",
   "execution_count": 153,
   "metadata": {},
   "outputs": [
    {
     "data": {
      "text/html": [
       "<div>\n",
       "<style scoped>\n",
       "    .dataframe tbody tr th:only-of-type {\n",
       "        vertical-align: middle;\n",
       "    }\n",
       "\n",
       "    .dataframe tbody tr th {\n",
       "        vertical-align: top;\n",
       "    }\n",
       "\n",
       "    .dataframe thead th {\n",
       "        text-align: right;\n",
       "    }\n",
       "</style>\n",
       "<table border=\"1\" class=\"dataframe\">\n",
       "  <thead>\n",
       "    <tr style=\"text-align: right;\">\n",
       "      <th></th>\n",
       "      <th>Features</th>\n",
       "      <th>RF_Features</th>\n",
       "      <th>ADB_Features</th>\n",
       "      <th>GB_Features</th>\n",
       "      <th>XGBM_Features</th>\n",
       "      <th>LGBM_Features</th>\n",
       "      <th>XGBRegressor_Features</th>\n",
       "    </tr>\n",
       "  </thead>\n",
       "  <tbody>\n",
       "    <tr>\n",
       "      <th>6</th>\n",
       "      <td>Days_from_manufacturing</td>\n",
       "      <td>0.450055</td>\n",
       "      <td>0.769521</td>\n",
       "      <td>0.750204</td>\n",
       "      <td>0.231369</td>\n",
       "      <td>1263</td>\n",
       "      <td>0.412140</td>\n",
       "    </tr>\n",
       "    <tr>\n",
       "      <th>3</th>\n",
       "      <td>temp_difference</td>\n",
       "      <td>0.245905</td>\n",
       "      <td>0.157115</td>\n",
       "      <td>0.130925</td>\n",
       "      <td>0.168741</td>\n",
       "      <td>849</td>\n",
       "      <td>0.116799</td>\n",
       "    </tr>\n",
       "    <tr>\n",
       "      <th>2</th>\n",
       "      <td>Device_temperature(Fahrenheit)</td>\n",
       "      <td>0.085036</td>\n",
       "      <td>0.037930</td>\n",
       "      <td>0.051142</td>\n",
       "      <td>0.153970</td>\n",
       "      <td>313</td>\n",
       "      <td>0.094975</td>\n",
       "    </tr>\n",
       "    <tr>\n",
       "      <th>4</th>\n",
       "      <td>Days_to_complete_service</td>\n",
       "      <td>0.060731</td>\n",
       "      <td>0.015580</td>\n",
       "      <td>0.032016</td>\n",
       "      <td>0.140258</td>\n",
       "      <td>178</td>\n",
       "      <td>0.104142</td>\n",
       "    </tr>\n",
       "    <tr>\n",
       "      <th>0</th>\n",
       "      <td>SKUs_sold</td>\n",
       "      <td>0.082209</td>\n",
       "      <td>0.005060</td>\n",
       "      <td>0.009401</td>\n",
       "      <td>0.033416</td>\n",
       "      <td>169</td>\n",
       "      <td>0.054780</td>\n",
       "    </tr>\n",
       "    <tr>\n",
       "      <th>1</th>\n",
       "      <td>Device_pressure</td>\n",
       "      <td>0.041348</td>\n",
       "      <td>0.008425</td>\n",
       "      <td>0.016051</td>\n",
       "      <td>0.124749</td>\n",
       "      <td>142</td>\n",
       "      <td>0.105765</td>\n",
       "    </tr>\n",
       "    <tr>\n",
       "      <th>5</th>\n",
       "      <td>Days_to_request</td>\n",
       "      <td>0.034716</td>\n",
       "      <td>0.006369</td>\n",
       "      <td>0.010261</td>\n",
       "      <td>0.147496</td>\n",
       "      <td>86</td>\n",
       "      <td>0.111401</td>\n",
       "    </tr>\n",
       "  </tbody>\n",
       "</table>\n",
       "</div>"
      ],
      "text/plain": [
       "                         Features  RF_Features  ADB_Features  GB_Features  \\\n",
       "6         Days_from_manufacturing     0.450055      0.769521     0.750204   \n",
       "3                 temp_difference     0.245905      0.157115     0.130925   \n",
       "2  Device_temperature(Fahrenheit)     0.085036      0.037930     0.051142   \n",
       "4        Days_to_complete_service     0.060731      0.015580     0.032016   \n",
       "0                       SKUs_sold     0.082209      0.005060     0.009401   \n",
       "1                 Device_pressure     0.041348      0.008425     0.016051   \n",
       "5                 Days_to_request     0.034716      0.006369     0.010261   \n",
       "\n",
       "   XGBM_Features  LGBM_Features  XGBRegressor_Features  \n",
       "6       0.231369           1263               0.412140  \n",
       "3       0.168741            849               0.116799  \n",
       "2       0.153970            313               0.094975  \n",
       "4       0.140258            178               0.104142  \n",
       "0       0.033416            169               0.054780  \n",
       "1       0.124749            142               0.105765  \n",
       "5       0.147496             86               0.111401  "
      ]
     },
     "execution_count": 153,
     "metadata": {},
     "output_type": "execute_result"
    }
   ],
   "source": [
    "lgbm_features = features_importance.sort_values(by = 'LGBM_Features',ascending=False)\n",
    "lgbm_features"
   ]
  },
  {
   "cell_type": "code",
   "execution_count": 154,
   "metadata": {},
   "outputs": [
    {
     "data": {
      "image/png": "[encoded data removed]",
      "text/plain": [
       "<Figure size 720x576 with 1 Axes>"
      ]
     },
     "metadata": {
      "needs_background": "light"
     },
     "output_type": "display_data"
    }
   ],
   "source": [
    "import seaborn as sns\n",
    "from matplotlib import pyplot as plt\n",
    "plt.figure(figsize=(10,8))\n",
    "sns.barplot(x='LGBM_Features',y='Features',data=lgbm_features)\n",
    "plt.title('LGBM Important Features',size = 20)\n",
    "plt.show()"
   ]
  },
  {
   "cell_type": "code",
   "execution_count": 155,
   "metadata": {},
   "outputs": [
    {
     "data": {
      "text/html": [
       "<div>\n",
       "<style scoped>\n",
       "    .dataframe tbody tr th:only-of-type {\n",
       "        vertical-align: middle;\n",
       "    }\n",
       "\n",
       "    .dataframe tbody tr th {\n",
       "        vertical-align: top;\n",
       "    }\n",
       "\n",
       "    .dataframe thead th {\n",
       "        text-align: right;\n",
       "    }\n",
       "</style>\n",
       "<table border=\"1\" class=\"dataframe\">\n",
       "  <thead>\n",
       "    <tr style=\"text-align: right;\">\n",
       "      <th></th>\n",
       "      <th>Features</th>\n",
       "      <th>RF_Features</th>\n",
       "      <th>ADB_Features</th>\n",
       "      <th>GB_Features</th>\n",
       "      <th>XGBM_Features</th>\n",
       "      <th>LGBM_Features</th>\n",
       "      <th>XGBRegressor_Features</th>\n",
       "    </tr>\n",
       "  </thead>\n",
       "  <tbody>\n",
       "    <tr>\n",
       "      <th>6</th>\n",
       "      <td>Days_from_manufacturing</td>\n",
       "      <td>0.450055</td>\n",
       "      <td>0.769521</td>\n",
       "      <td>0.750204</td>\n",
       "      <td>0.231369</td>\n",
       "      <td>1263</td>\n",
       "      <td>0.412140</td>\n",
       "    </tr>\n",
       "    <tr>\n",
       "      <th>3</th>\n",
       "      <td>temp_difference</td>\n",
       "      <td>0.245905</td>\n",
       "      <td>0.157115</td>\n",
       "      <td>0.130925</td>\n",
       "      <td>0.168741</td>\n",
       "      <td>849</td>\n",
       "      <td>0.116799</td>\n",
       "    </tr>\n",
       "    <tr>\n",
       "      <th>2</th>\n",
       "      <td>Device_temperature(Fahrenheit)</td>\n",
       "      <td>0.085036</td>\n",
       "      <td>0.037930</td>\n",
       "      <td>0.051142</td>\n",
       "      <td>0.153970</td>\n",
       "      <td>313</td>\n",
       "      <td>0.094975</td>\n",
       "    </tr>\n",
       "    <tr>\n",
       "      <th>0</th>\n",
       "      <td>SKUs_sold</td>\n",
       "      <td>0.082209</td>\n",
       "      <td>0.005060</td>\n",
       "      <td>0.009401</td>\n",
       "      <td>0.033416</td>\n",
       "      <td>169</td>\n",
       "      <td>0.054780</td>\n",
       "    </tr>\n",
       "    <tr>\n",
       "      <th>4</th>\n",
       "      <td>Days_to_complete_service</td>\n",
       "      <td>0.060731</td>\n",
       "      <td>0.015580</td>\n",
       "      <td>0.032016</td>\n",
       "      <td>0.140258</td>\n",
       "      <td>178</td>\n",
       "      <td>0.104142</td>\n",
       "    </tr>\n",
       "    <tr>\n",
       "      <th>1</th>\n",
       "      <td>Device_pressure</td>\n",
       "      <td>0.041348</td>\n",
       "      <td>0.008425</td>\n",
       "      <td>0.016051</td>\n",
       "      <td>0.124749</td>\n",
       "      <td>142</td>\n",
       "      <td>0.105765</td>\n",
       "    </tr>\n",
       "    <tr>\n",
       "      <th>5</th>\n",
       "      <td>Days_to_request</td>\n",
       "      <td>0.034716</td>\n",
       "      <td>0.006369</td>\n",
       "      <td>0.010261</td>\n",
       "      <td>0.147496</td>\n",
       "      <td>86</td>\n",
       "      <td>0.111401</td>\n",
       "    </tr>\n",
       "  </tbody>\n",
       "</table>\n",
       "</div>"
      ],
      "text/plain": [
       "                         Features  RF_Features  ADB_Features  GB_Features  \\\n",
       "6         Days_from_manufacturing     0.450055      0.769521     0.750204   \n",
       "3                 temp_difference     0.245905      0.157115     0.130925   \n",
       "2  Device_temperature(Fahrenheit)     0.085036      0.037930     0.051142   \n",
       "0                       SKUs_sold     0.082209      0.005060     0.009401   \n",
       "4        Days_to_complete_service     0.060731      0.015580     0.032016   \n",
       "1                 Device_pressure     0.041348      0.008425     0.016051   \n",
       "5                 Days_to_request     0.034716      0.006369     0.010261   \n",
       "\n",
       "   XGBM_Features  LGBM_Features  XGBRegressor_Features  \n",
       "6       0.231369           1263               0.412140  \n",
       "3       0.168741            849               0.116799  \n",
       "2       0.153970            313               0.094975  \n",
       "0       0.033416            169               0.054780  \n",
       "4       0.140258            178               0.104142  \n",
       "1       0.124749            142               0.105765  \n",
       "5       0.147496             86               0.111401  "
      ]
     },
     "execution_count": 155,
     "metadata": {},
     "output_type": "execute_result"
    }
   ],
   "source": [
    "rf_features= features_importance.sort_values(by = 'RF_Features',ascending=False)\n",
    "rf_features"
   ]
  },
  {
   "cell_type": "code",
   "execution_count": 165,
   "metadata": {},
   "outputs": [
    {
     "data": {
      "image/png": "[encoded data removed]",
      "text/plain": [
       "<Figure size 720x576 with 1 Axes>"
      ]
     },
     "metadata": {
      "needs_background": "light"
     },
     "output_type": "display_data"
    }
   ],
   "source": [
    "import seaborn as sns\n",
    "from matplotlib import pyplot as plt\n",
    "plt.figure(figsize=(10,8))\n",
    "sns.barplot(x='RF_Features',y='Features',data=rf_features)\n",
    "plt.title('RF Important Features',size = 20)\n",
    "plt.show()"
   ]
  },
  {
   "cell_type": "code",
   "execution_count": 157,
   "metadata": {},
   "outputs": [
    {
     "data": {
      "text/html": [
       "<div>\n",
       "<style scoped>\n",
       "    .dataframe tbody tr th:only-of-type {\n",
       "        vertical-align: middle;\n",
       "    }\n",
       "\n",
       "    .dataframe tbody tr th {\n",
       "        vertical-align: top;\n",
       "    }\n",
       "\n",
       "    .dataframe thead th {\n",
       "        text-align: right;\n",
       "    }\n",
       "</style>\n",
       "<table border=\"1\" class=\"dataframe\">\n",
       "  <thead>\n",
       "    <tr style=\"text-align: right;\">\n",
       "      <th></th>\n",
       "      <th>Features</th>\n",
       "      <th>RF_Features</th>\n",
       "      <th>ADB_Features</th>\n",
       "      <th>GB_Features</th>\n",
       "      <th>XGBM_Features</th>\n",
       "      <th>LGBM_Features</th>\n",
       "      <th>XGBRegressor_Features</th>\n",
       "    </tr>\n",
       "  </thead>\n",
       "  <tbody>\n",
       "    <tr>\n",
       "      <th>6</th>\n",
       "      <td>Days_from_manufacturing</td>\n",
       "      <td>0.450055</td>\n",
       "      <td>0.769521</td>\n",
       "      <td>0.750204</td>\n",
       "      <td>0.231369</td>\n",
       "      <td>1263</td>\n",
       "      <td>0.412140</td>\n",
       "    </tr>\n",
       "    <tr>\n",
       "      <th>3</th>\n",
       "      <td>temp_difference</td>\n",
       "      <td>0.245905</td>\n",
       "      <td>0.157115</td>\n",
       "      <td>0.130925</td>\n",
       "      <td>0.168741</td>\n",
       "      <td>849</td>\n",
       "      <td>0.116799</td>\n",
       "    </tr>\n",
       "    <tr>\n",
       "      <th>2</th>\n",
       "      <td>Device_temperature(Fahrenheit)</td>\n",
       "      <td>0.085036</td>\n",
       "      <td>0.037930</td>\n",
       "      <td>0.051142</td>\n",
       "      <td>0.153970</td>\n",
       "      <td>313</td>\n",
       "      <td>0.094975</td>\n",
       "    </tr>\n",
       "    <tr>\n",
       "      <th>4</th>\n",
       "      <td>Days_to_complete_service</td>\n",
       "      <td>0.060731</td>\n",
       "      <td>0.015580</td>\n",
       "      <td>0.032016</td>\n",
       "      <td>0.140258</td>\n",
       "      <td>178</td>\n",
       "      <td>0.104142</td>\n",
       "    </tr>\n",
       "    <tr>\n",
       "      <th>1</th>\n",
       "      <td>Device_pressure</td>\n",
       "      <td>0.041348</td>\n",
       "      <td>0.008425</td>\n",
       "      <td>0.016051</td>\n",
       "      <td>0.124749</td>\n",
       "      <td>142</td>\n",
       "      <td>0.105765</td>\n",
       "    </tr>\n",
       "    <tr>\n",
       "      <th>5</th>\n",
       "      <td>Days_to_request</td>\n",
       "      <td>0.034716</td>\n",
       "      <td>0.006369</td>\n",
       "      <td>0.010261</td>\n",
       "      <td>0.147496</td>\n",
       "      <td>86</td>\n",
       "      <td>0.111401</td>\n",
       "    </tr>\n",
       "    <tr>\n",
       "      <th>0</th>\n",
       "      <td>SKUs_sold</td>\n",
       "      <td>0.082209</td>\n",
       "      <td>0.005060</td>\n",
       "      <td>0.009401</td>\n",
       "      <td>0.033416</td>\n",
       "      <td>169</td>\n",
       "      <td>0.054780</td>\n",
       "    </tr>\n",
       "  </tbody>\n",
       "</table>\n",
       "</div>"
      ],
      "text/plain": [
       "                         Features  RF_Features  ADB_Features  GB_Features  \\\n",
       "6         Days_from_manufacturing     0.450055      0.769521     0.750204   \n",
       "3                 temp_difference     0.245905      0.157115     0.130925   \n",
       "2  Device_temperature(Fahrenheit)     0.085036      0.037930     0.051142   \n",
       "4        Days_to_complete_service     0.060731      0.015580     0.032016   \n",
       "1                 Device_pressure     0.041348      0.008425     0.016051   \n",
       "5                 Days_to_request     0.034716      0.006369     0.010261   \n",
       "0                       SKUs_sold     0.082209      0.005060     0.009401   \n",
       "\n",
       "   XGBM_Features  LGBM_Features  XGBRegressor_Features  \n",
       "6       0.231369           1263               0.412140  \n",
       "3       0.168741            849               0.116799  \n",
       "2       0.153970            313               0.094975  \n",
       "4       0.140258            178               0.104142  \n",
       "1       0.124749            142               0.105765  \n",
       "5       0.147496             86               0.111401  \n",
       "0       0.033416            169               0.054780  "
      ]
     },
     "execution_count": 157,
     "metadata": {},
     "output_type": "execute_result"
    }
   ],
   "source": [
    "ada_model_features = features_importance.sort_values(by = 'ADB_Features',ascending=False)\n",
    "ada_model_features"
   ]
  },
  {
   "cell_type": "code",
   "execution_count": 164,
   "metadata": {},
   "outputs": [
    {
     "data": {
      "image/png": "[encoded data removed]",
      "text/plain": [
       "<Figure size 720x576 with 1 Axes>"
      ]
     },
     "metadata": {
      "needs_background": "light"
     },
     "output_type": "display_data"
    }
   ],
   "source": [
    "import seaborn as sns\n",
    "from matplotlib import pyplot as plt\n",
    "plt.figure(figsize=(10,8))\n",
    "sns.barplot(x='ADB_Features',y='Features',data=ada_model_features)\n",
    "plt.title('ADB Important Features',size = 20)\n",
    "plt.show()"
   ]
  },
  {
   "cell_type": "code",
   "execution_count": 160,
   "metadata": {},
   "outputs": [
    {
     "data": {
      "text/html": [
       "<div>\n",
       "<style scoped>\n",
       "    .dataframe tbody tr th:only-of-type {\n",
       "        vertical-align: middle;\n",
       "    }\n",
       "\n",
       "    .dataframe tbody tr th {\n",
       "        vertical-align: top;\n",
       "    }\n",
       "\n",
       "    .dataframe thead th {\n",
       "        text-align: right;\n",
       "    }\n",
       "</style>\n",
       "<table border=\"1\" class=\"dataframe\">\n",
       "  <thead>\n",
       "    <tr style=\"text-align: right;\">\n",
       "      <th></th>\n",
       "      <th>Features</th>\n",
       "      <th>RF_Features</th>\n",
       "      <th>ADB_Features</th>\n",
       "      <th>GB_Features</th>\n",
       "      <th>XGBM_Features</th>\n",
       "      <th>LGBM_Features</th>\n",
       "      <th>XGBRegressor_Features</th>\n",
       "    </tr>\n",
       "  </thead>\n",
       "  <tbody>\n",
       "    <tr>\n",
       "      <th>6</th>\n",
       "      <td>Days_from_manufacturing</td>\n",
       "      <td>0.450055</td>\n",
       "      <td>0.769521</td>\n",
       "      <td>0.750204</td>\n",
       "      <td>0.231369</td>\n",
       "      <td>1263</td>\n",
       "      <td>0.412140</td>\n",
       "    </tr>\n",
       "    <tr>\n",
       "      <th>3</th>\n",
       "      <td>temp_difference</td>\n",
       "      <td>0.245905</td>\n",
       "      <td>0.157115</td>\n",
       "      <td>0.130925</td>\n",
       "      <td>0.168741</td>\n",
       "      <td>849</td>\n",
       "      <td>0.116799</td>\n",
       "    </tr>\n",
       "    <tr>\n",
       "      <th>2</th>\n",
       "      <td>Device_temperature(Fahrenheit)</td>\n",
       "      <td>0.085036</td>\n",
       "      <td>0.037930</td>\n",
       "      <td>0.051142</td>\n",
       "      <td>0.153970</td>\n",
       "      <td>313</td>\n",
       "      <td>0.094975</td>\n",
       "    </tr>\n",
       "    <tr>\n",
       "      <th>4</th>\n",
       "      <td>Days_to_complete_service</td>\n",
       "      <td>0.060731</td>\n",
       "      <td>0.015580</td>\n",
       "      <td>0.032016</td>\n",
       "      <td>0.140258</td>\n",
       "      <td>178</td>\n",
       "      <td>0.104142</td>\n",
       "    </tr>\n",
       "    <tr>\n",
       "      <th>1</th>\n",
       "      <td>Device_pressure</td>\n",
       "      <td>0.041348</td>\n",
       "      <td>0.008425</td>\n",
       "      <td>0.016051</td>\n",
       "      <td>0.124749</td>\n",
       "      <td>142</td>\n",
       "      <td>0.105765</td>\n",
       "    </tr>\n",
       "    <tr>\n",
       "      <th>5</th>\n",
       "      <td>Days_to_request</td>\n",
       "      <td>0.034716</td>\n",
       "      <td>0.006369</td>\n",
       "      <td>0.010261</td>\n",
       "      <td>0.147496</td>\n",
       "      <td>86</td>\n",
       "      <td>0.111401</td>\n",
       "    </tr>\n",
       "    <tr>\n",
       "      <th>0</th>\n",
       "      <td>SKUs_sold</td>\n",
       "      <td>0.082209</td>\n",
       "      <td>0.005060</td>\n",
       "      <td>0.009401</td>\n",
       "      <td>0.033416</td>\n",
       "      <td>169</td>\n",
       "      <td>0.054780</td>\n",
       "    </tr>\n",
       "  </tbody>\n",
       "</table>\n",
       "</div>"
      ],
      "text/plain": [
       "                         Features  RF_Features  ADB_Features  GB_Features  \\\n",
       "6         Days_from_manufacturing     0.450055      0.769521     0.750204   \n",
       "3                 temp_difference     0.245905      0.157115     0.130925   \n",
       "2  Device_temperature(Fahrenheit)     0.085036      0.037930     0.051142   \n",
       "4        Days_to_complete_service     0.060731      0.015580     0.032016   \n",
       "1                 Device_pressure     0.041348      0.008425     0.016051   \n",
       "5                 Days_to_request     0.034716      0.006369     0.010261   \n",
       "0                       SKUs_sold     0.082209      0.005060     0.009401   \n",
       "\n",
       "   XGBM_Features  LGBM_Features  XGBRegressor_Features  \n",
       "6       0.231369           1263               0.412140  \n",
       "3       0.168741            849               0.116799  \n",
       "2       0.153970            313               0.094975  \n",
       "4       0.140258            178               0.104142  \n",
       "1       0.124749            142               0.105765  \n",
       "5       0.147496             86               0.111401  \n",
       "0       0.033416            169               0.054780  "
      ]
     },
     "execution_count": 160,
     "metadata": {},
     "output_type": "execute_result"
    }
   ],
   "source": [
    "gb_model_features = features_importance.sort_values(by = 'GB_Features',ascending=False)\n",
    "gb_model_features"
   ]
  },
  {
   "cell_type": "code",
   "execution_count": 163,
   "metadata": {},
   "outputs": [
    {
     "data": {
      "image/png": "[encoded data removed]",
      "text/plain": [
       "<Figure size 720x576 with 1 Axes>"
      ]
     },
     "metadata": {
      "needs_background": "light"
     },
     "output_type": "display_data"
    }
   ],
   "source": [
    "import seaborn as sns\n",
    "from matplotlib import pyplot as plt\n",
    "plt.figure(figsize=(10,8))\n",
    "sns.barplot(x='GB_Features',y='Features',data=gb_model_features)\n",
    "plt.title('GB Important Features',size = 20)\n",
    "plt.show()"
   ]
  },
  {
   "cell_type": "code",
   "execution_count": 166,
   "metadata": {},
   "outputs": [
    {
     "data": {
      "text/html": [
       "<div>\n",
       "<style scoped>\n",
       "    .dataframe tbody tr th:only-of-type {\n",
       "        vertical-align: middle;\n",
       "    }\n",
       "\n",
       "    .dataframe tbody tr th {\n",
       "        vertical-align: top;\n",
       "    }\n",
       "\n",
       "    .dataframe thead th {\n",
       "        text-align: right;\n",
       "    }\n",
       "</style>\n",
       "<table border=\"1\" class=\"dataframe\">\n",
       "  <thead>\n",
       "    <tr style=\"text-align: right;\">\n",
       "      <th></th>\n",
       "      <th>Features</th>\n",
       "      <th>RF_Features</th>\n",
       "      <th>ADB_Features</th>\n",
       "      <th>GB_Features</th>\n",
       "      <th>XGBM_Features</th>\n",
       "      <th>LGBM_Features</th>\n",
       "      <th>XGBRegressor_Features</th>\n",
       "    </tr>\n",
       "  </thead>\n",
       "  <tbody>\n",
       "    <tr>\n",
       "      <th>6</th>\n",
       "      <td>Days_from_manufacturing</td>\n",
       "      <td>0.450055</td>\n",
       "      <td>0.769521</td>\n",
       "      <td>0.750204</td>\n",
       "      <td>0.231369</td>\n",
       "      <td>1263</td>\n",
       "      <td>0.412140</td>\n",
       "    </tr>\n",
       "    <tr>\n",
       "      <th>3</th>\n",
       "      <td>temp_difference</td>\n",
       "      <td>0.245905</td>\n",
       "      <td>0.157115</td>\n",
       "      <td>0.130925</td>\n",
       "      <td>0.168741</td>\n",
       "      <td>849</td>\n",
       "      <td>0.116799</td>\n",
       "    </tr>\n",
       "    <tr>\n",
       "      <th>2</th>\n",
       "      <td>Device_temperature(Fahrenheit)</td>\n",
       "      <td>0.085036</td>\n",
       "      <td>0.037930</td>\n",
       "      <td>0.051142</td>\n",
       "      <td>0.153970</td>\n",
       "      <td>313</td>\n",
       "      <td>0.094975</td>\n",
       "    </tr>\n",
       "    <tr>\n",
       "      <th>5</th>\n",
       "      <td>Days_to_request</td>\n",
       "      <td>0.034716</td>\n",
       "      <td>0.006369</td>\n",
       "      <td>0.010261</td>\n",
       "      <td>0.147496</td>\n",
       "      <td>86</td>\n",
       "      <td>0.111401</td>\n",
       "    </tr>\n",
       "    <tr>\n",
       "      <th>4</th>\n",
       "      <td>Days_to_complete_service</td>\n",
       "      <td>0.060731</td>\n",
       "      <td>0.015580</td>\n",
       "      <td>0.032016</td>\n",
       "      <td>0.140258</td>\n",
       "      <td>178</td>\n",
       "      <td>0.104142</td>\n",
       "    </tr>\n",
       "    <tr>\n",
       "      <th>1</th>\n",
       "      <td>Device_pressure</td>\n",
       "      <td>0.041348</td>\n",
       "      <td>0.008425</td>\n",
       "      <td>0.016051</td>\n",
       "      <td>0.124749</td>\n",
       "      <td>142</td>\n",
       "      <td>0.105765</td>\n",
       "    </tr>\n",
       "    <tr>\n",
       "      <th>0</th>\n",
       "      <td>SKUs_sold</td>\n",
       "      <td>0.082209</td>\n",
       "      <td>0.005060</td>\n",
       "      <td>0.009401</td>\n",
       "      <td>0.033416</td>\n",
       "      <td>169</td>\n",
       "      <td>0.054780</td>\n",
       "    </tr>\n",
       "  </tbody>\n",
       "</table>\n",
       "</div>"
      ],
      "text/plain": [
       "                         Features  RF_Features  ADB_Features  GB_Features  \\\n",
       "6         Days_from_manufacturing     0.450055      0.769521     0.750204   \n",
       "3                 temp_difference     0.245905      0.157115     0.130925   \n",
       "2  Device_temperature(Fahrenheit)     0.085036      0.037930     0.051142   \n",
       "5                 Days_to_request     0.034716      0.006369     0.010261   \n",
       "4        Days_to_complete_service     0.060731      0.015580     0.032016   \n",
       "1                 Device_pressure     0.041348      0.008425     0.016051   \n",
       "0                       SKUs_sold     0.082209      0.005060     0.009401   \n",
       "\n",
       "   XGBM_Features  LGBM_Features  XGBRegressor_Features  \n",
       "6       0.231369           1263               0.412140  \n",
       "3       0.168741            849               0.116799  \n",
       "2       0.153970            313               0.094975  \n",
       "5       0.147496             86               0.111401  \n",
       "4       0.140258            178               0.104142  \n",
       "1       0.124749            142               0.105765  \n",
       "0       0.033416            169               0.054780  "
      ]
     },
     "execution_count": 166,
     "metadata": {},
     "output_type": "execute_result"
    }
   ],
   "source": [
    "xgbr_features = features_importance.sort_values(by = 'XGBM_Features',ascending=False)\n",
    "xgbr_features"
   ]
  },
  {
   "cell_type": "code",
   "execution_count": 168,
   "metadata": {},
   "outputs": [
    {
     "data": {
      "image/png": "[encoded data removed]",
      "text/plain": [
       "<Figure size 720x576 with 1 Axes>"
      ]
     },
     "metadata": {
      "needs_background": "light"
     },
     "output_type": "display_data"
    }
   ],
   "source": [
    "import seaborn as sns\n",
    "from matplotlib import pyplot as plt\n",
    "plt.figure(figsize=(10,8))\n",
    "sns.barplot(x='GB_Features',y='Features',data=xgbr_features)\n",
    "plt.title('GB Important Features',size = 20)\n",
    "plt.show()"
   ]
  },
  {
   "cell_type": "code",
   "execution_count": 169,
   "metadata": {},
   "outputs": [
    {
     "data": {
      "text/html": [
       "<div>\n",
       "<style scoped>\n",
       "    .dataframe tbody tr th:only-of-type {\n",
       "        vertical-align: middle;\n",
       "    }\n",
       "\n",
       "    .dataframe tbody tr th {\n",
       "        vertical-align: top;\n",
       "    }\n",
       "\n",
       "    .dataframe thead th {\n",
       "        text-align: right;\n",
       "    }\n",
       "</style>\n",
       "<table border=\"1\" class=\"dataframe\">\n",
       "  <thead>\n",
       "    <tr style=\"text-align: right;\">\n",
       "      <th></th>\n",
       "      <th>Features</th>\n",
       "      <th>RF_Features</th>\n",
       "      <th>ADB_Features</th>\n",
       "      <th>GB_Features</th>\n",
       "      <th>XGBM_Features</th>\n",
       "      <th>LGBM_Features</th>\n",
       "      <th>XGBRegressor_Features</th>\n",
       "    </tr>\n",
       "  </thead>\n",
       "  <tbody>\n",
       "    <tr>\n",
       "      <th>6</th>\n",
       "      <td>Days_from_manufacturing</td>\n",
       "      <td>0.450055</td>\n",
       "      <td>0.769521</td>\n",
       "      <td>0.750204</td>\n",
       "      <td>0.231369</td>\n",
       "      <td>1263</td>\n",
       "      <td>0.412140</td>\n",
       "    </tr>\n",
       "    <tr>\n",
       "      <th>3</th>\n",
       "      <td>temp_difference</td>\n",
       "      <td>0.245905</td>\n",
       "      <td>0.157115</td>\n",
       "      <td>0.130925</td>\n",
       "      <td>0.168741</td>\n",
       "      <td>849</td>\n",
       "      <td>0.116799</td>\n",
       "    </tr>\n",
       "    <tr>\n",
       "      <th>5</th>\n",
       "      <td>Days_to_request</td>\n",
       "      <td>0.034716</td>\n",
       "      <td>0.006369</td>\n",
       "      <td>0.010261</td>\n",
       "      <td>0.147496</td>\n",
       "      <td>86</td>\n",
       "      <td>0.111401</td>\n",
       "    </tr>\n",
       "    <tr>\n",
       "      <th>1</th>\n",
       "      <td>Device_pressure</td>\n",
       "      <td>0.041348</td>\n",
       "      <td>0.008425</td>\n",
       "      <td>0.016051</td>\n",
       "      <td>0.124749</td>\n",
       "      <td>142</td>\n",
       "      <td>0.105765</td>\n",
       "    </tr>\n",
       "    <tr>\n",
       "      <th>4</th>\n",
       "      <td>Days_to_complete_service</td>\n",
       "      <td>0.060731</td>\n",
       "      <td>0.015580</td>\n",
       "      <td>0.032016</td>\n",
       "      <td>0.140258</td>\n",
       "      <td>178</td>\n",
       "      <td>0.104142</td>\n",
       "    </tr>\n",
       "    <tr>\n",
       "      <th>2</th>\n",
       "      <td>Device_temperature(Fahrenheit)</td>\n",
       "      <td>0.085036</td>\n",
       "      <td>0.037930</td>\n",
       "      <td>0.051142</td>\n",
       "      <td>0.153970</td>\n",
       "      <td>313</td>\n",
       "      <td>0.094975</td>\n",
       "    </tr>\n",
       "    <tr>\n",
       "      <th>0</th>\n",
       "      <td>SKUs_sold</td>\n",
       "      <td>0.082209</td>\n",
       "      <td>0.005060</td>\n",
       "      <td>0.009401</td>\n",
       "      <td>0.033416</td>\n",
       "      <td>169</td>\n",
       "      <td>0.054780</td>\n",
       "    </tr>\n",
       "  </tbody>\n",
       "</table>\n",
       "</div>"
      ],
      "text/plain": [
       "                         Features  RF_Features  ADB_Features  GB_Features  \\\n",
       "6         Days_from_manufacturing     0.450055      0.769521     0.750204   \n",
       "3                 temp_difference     0.245905      0.157115     0.130925   \n",
       "5                 Days_to_request     0.034716      0.006369     0.010261   \n",
       "1                 Device_pressure     0.041348      0.008425     0.016051   \n",
       "4        Days_to_complete_service     0.060731      0.015580     0.032016   \n",
       "2  Device_temperature(Fahrenheit)     0.085036      0.037930     0.051142   \n",
       "0                       SKUs_sold     0.082209      0.005060     0.009401   \n",
       "\n",
       "   XGBM_Features  LGBM_Features  XGBRegressor_Features  \n",
       "6       0.231369           1263               0.412140  \n",
       "3       0.168741            849               0.116799  \n",
       "5       0.147496             86               0.111401  \n",
       "1       0.124749            142               0.105765  \n",
       "4       0.140258            178               0.104142  \n",
       "2       0.153970            313               0.094975  \n",
       "0       0.033416            169               0.054780  "
      ]
     },
     "execution_count": 169,
     "metadata": {},
     "output_type": "execute_result"
    }
   ],
   "source": [
    "xgbr_features = features_importance.sort_values(by = 'XGBRegressor_Features',ascending=False)\n",
    "xgbr_features"
   ]
  },
  {
   "cell_type": "code",
   "execution_count": 170,
   "metadata": {},
   "outputs": [
    {
     "data": {
      "image/png": "[encoded data removed]",
      "text/plain": [
       "<Figure size 720x576 with 1 Axes>"
      ]
     },
     "metadata": {
      "needs_background": "light"
     },
     "output_type": "display_data"
    }
   ],
   "source": [
    "import seaborn as sns\n",
    "from matplotlib import pyplot as plt\n",
    "plt.figure(figsize=(10,8))\n",
    "sns.barplot(x='XGBRegressor_Features',y='Features',data=xgbr_features)\n",
    "plt.title('XGBRegressor Important Features',size = 20)\n",
    "plt.show()"
   ]
  },
  {
   "cell_type": "code",
   "execution_count": 185,
   "metadata": {},
   "outputs": [
    {
     "name": "stdout",
     "output_type": "stream",
     "text": [
      "{'bootstrap': 'False', 'max_depth': 5, 'max_features': 'auto', 'max_leaf_nodes': 4, 'min_samples_leaf': 1, 'n_estimators': 30}\n",
      "0.12614259710967893\n"
     ]
    }
   ],
   "source": [
    "from sklearn.model_selection import GridSearchCV\n",
    "grid_search = GridSearchCV(estimator = rf_model ,\n",
    "                           param_grid={'n_estimators':[20,30,40],\n",
    "                                       'max_depth':[2,3,4,5,6,],\n",
    "                                       'max_leaf_nodes':[2,3,4],\n",
    "                                       'min_samples_leaf':[1,2,3,4,],\n",
    "                                       'max_features':['auto','log2','sqrt'],\n",
    "                                       'bootstrap':['True','False']},\n",
    "                           cv=5)\n",
    "grid_search.fit(x,y)\n",
    "print(grid_search.best_params_)\n",
    "print(grid_search.best_score_)\n"
   ]
  },
  {
   "cell_type": "code",
   "execution_count": 177,
   "metadata": {},
   "outputs": [
    {
     "data": {
      "text/plain": [
       "Index(['SKUs_sold', 'Device_pressure', 'Device_temperature(Fahrenheit)',\n",
       "       'temp_difference', 'Days_to_complete_service', 'Days_to_request',\n",
       "       'Days_from_manufacturing'],\n",
       "      dtype='object')"
      ]
     },
     "execution_count": 177,
     "metadata": {},
     "output_type": "execute_result"
    }
   ],
   "source": [
    "x.columns"
   ]
  },
  {
   "cell_type": "code",
   "execution_count": 179,
   "metadata": {},
   "outputs": [
    {
     "data": {
      "text/plain": [
       "0        426\n",
       "1        365\n",
       "2        427\n",
       "3        365\n",
       "4        365\n",
       "        ... \n",
       "10814    426\n",
       "10815    365\n",
       "10816    426\n",
       "10817    365\n",
       "10818    426\n",
       "Name: Days_to_failure, Length: 10074, dtype: int64"
      ]
     },
     "execution_count": 179,
     "metadata": {},
     "output_type": "execute_result"
    }
   ],
   "source": [
    "y"
   ]
  },
  {
   "cell_type": "code",
   "execution_count": 211,
   "metadata": {},
   "outputs": [
    {
     "data": {
      "text/plain": [
       "Index(['SKUs_sold', 'Device_pressure', 'temp_difference', 'Days_to_failure',\n",
       "       'Days_to_complete_service', 'Days_to_request',\n",
       "       'Days_from_manufacturing'],\n",
       "      dtype='object')"
      ]
     },
     "execution_count": 211,
     "metadata": {},
     "output_type": "execute_result"
    }
   ],
   "source": [
    "all_merged_revised.columns"
   ]
  },
  {
   "cell_type": "code",
   "execution_count": null,
   "metadata": {},
   "outputs": [],
   "source": []
  }
 ],
 "metadata": {
  "kernelspec": {
   "display_name": "Python 3",
   "language": "python",
   "name": "python3"
  },
  "language_info": {
   "codemirror_mode": {
    "name": "ipython",
    "version": 3
   },
   "file_extension": ".py",
   "mimetype": "text/x-python",
   "name": "python",
   "nbconvert_exporter": "python",
   "pygments_lexer": "ipython3",
   "version": "3.7.4"
  },
  "toc": {
   "base_numbering": 1,
   "nav_menu": {},
   "number_sections": true,
   "sideBar": true,
   "skip_h1_title": false,
   "title_cell": "Table of Contents",
   "title_sidebar": "Contents",
   "toc_cell": false,
   "toc_position": {},
   "toc_section_display": true,
   "toc_window_display": false
  }
 },
 "nbformat": 4,
 "nbformat_minor": 2
}
