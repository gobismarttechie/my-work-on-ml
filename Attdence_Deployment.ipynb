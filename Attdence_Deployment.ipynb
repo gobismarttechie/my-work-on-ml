{
  "cells": [
    {
      "cell_type": "code",
      "execution_count": null,
      "id": "ab97ef76",
      "metadata": {
        "id": "ab97ef76"
      },
      "outputs": [],
      "source": [
        "import face_recognition\n",
        "import cv2\n",
        "import numpy as np\n",
        "import pandas as pd\n",
        "import datetime as dt\n",
        "import warnings\n",
        "warnings.filterwarnings(\"ignore\")"
      ]
    },
    {
      "cell_type": "code",
      "execution_count": null,
      "id": "4dc03951",
      "metadata": {
        "id": "4dc03951",
        "outputId": "d0a5db60-3ad8-4b95-e225-9016f35f5dd3"
      },
      "outputs": [
        {
          "data": {
            "text/plain": [
              "'01/02/23'"
            ]
          },
          "execution_count": 28,
          "metadata": {},
          "output_type": "execute_result"
        }
      ],
      "source": [
        "dt.datetime.now().strftime(\"%x\")"
      ]
    },
    {
      "cell_type": "code",
      "execution_count": null,
      "id": "10fa9424",
      "metadata": {
        "id": "10fa9424",
        "outputId": "0f668fbe-d823-46fc-ede1-1d8ced5ec53c"
      },
      "outputs": [
        {
          "data": {
            "text/plain": [
              "'23:31:51'"
            ]
          },
          "execution_count": 36,
          "metadata": {},
          "output_type": "execute_result"
        }
      ],
      "source": [
        "dt.datetime.now().strftime(\"%X\")"
      ]
    },
    {
      "cell_type": "code",
      "execution_count": null,
      "id": "0c4aeab6",
      "metadata": {
        "id": "0c4aeab6"
      },
      "outputs": [],
      "source": []
    },
    {
      "cell_type": "code",
      "execution_count": null,
      "id": "3c409ef8",
      "metadata": {
        "id": "3c409ef8"
      },
      "outputs": [],
      "source": [
        "# faceEncodings= pd.read_csv(\"known_faces_encoding.csv\")\n",
        "# faceNames = pd.read_csv(\"Known_names.csv\")\n",
        "# known_face_encodings = faceEncodings.values\n",
        "# known_face_names = list(faceNames[\"name\"])"
      ]
    },
    {
      "cell_type": "code",
      "execution_count": null,
      "id": "57b5bb41",
      "metadata": {
        "id": "57b5bb41"
      },
      "outputs": [],
      "source": [
        "def register():\n",
        "    new_name = input(\"Enter New Candidate : \")\n",
        "\n",
        "    video_capture = cv2.VideoCapture(0)\n",
        "    while True:\n",
        "        _,frame = video_capture.read()\n",
        "\n",
        "\n",
        "        z = face_recognition.face_locations(frame)\n",
        "        for top, right, bottom, left in z:\n",
        "            cv2.rectangle(frame, (left, top), (right, bottom), (255, 0, 0), 2)\n",
        "            cv2.rectangle(frame, (left, bottom - 35), (right, bottom), (255, 0, 0), cv2.FILLED)\n",
        "            font = cv2.FONT_HERSHEY_DUPLEX\n",
        "            cv2.putText(frame, new_name+\" ?\", (left + 6, bottom - 6), font, 1.0, (255, 255, 255), 1)\n",
        "        cv2.imshow(\"video\",frame)\n",
        "\n",
        "\n",
        "        if cv2.waitKey(1) & 0xFF == ord('s'):\n",
        "            \n",
        "            cv2.imwrite(\"new_pic.jpg\",frame)\n",
        "            new_image = face_recognition.load_image_file(\"new_pic.jpg\")\n",
        "            new_face_encoding = face_recognition.face_encodings(new_image)[0]\n",
        "            temp = pd.DataFrame(new_face_encoding).T\n",
        "            faceEncodings= pd.read_csv(\"known_faces_encoding.csv\")\n",
        "            faceEncodings.columns = pd.to_numeric(faceEncodings.columns)\n",
        "            faceEncodings = faceEncodings.append(temp,ignore_index=True)\n",
        "\n",
        "            faceEncodings.to_csv(\"known_faces_encoding.csv\",index=False)\n",
        "            faceNames = pd.read_csv(\"Known_names.csv\")\n",
        "            known_face_names = list(faceNames[\"name\"])\n",
        "            known_face_names.append(new_name)\n",
        "            known_names = pd.DataFrame(data={\"name\":known_face_names})\n",
        "            known_names.to_csv(\"Known_names.csv\",index=False)\n",
        "            print(f\"{new_name} suscefully registered\")\n",
        "\n",
        "            break\n",
        "\n",
        "\n",
        "\n",
        "\n",
        "        if cv2.waitKey(1) & 0xFF == ord('a'):\n",
        "            break\n",
        "    video_capture.release()\n",
        "    cv2.destroyAllWindows()"
      ]
    },
    {
      "cell_type": "code",
      "execution_count": null,
      "id": "2a1d771e",
      "metadata": {
        "id": "2a1d771e"
      },
      "outputs": [],
      "source": [
        "def delete(name):\n",
        "    try:\n",
        "        faceEncodings= pd.read_csv(\"known_faces_encoding.csv\")\n",
        "        faceNames = pd.read_csv(\"Known_names.csv\")\n",
        "        num=faceNames[faceNames[\"name\"]==name].index[0]\n",
        "        faceNames.drop(labels=num,inplace=True)\n",
        "        faceNames.to_csv(\"Known_names.csv\",index=False)\n",
        "        faceEncodings.drop(labels=num,inplace=True)\n",
        "        faceEncodings.to_csv(\"known_faces_encoding.csv\",index=False)\n",
        "        print(f\"{name} deleted sucussfully\")\n",
        "    except:\n",
        "        print(\"No Such Name\")"
      ]
    },
    {
      "cell_type": "code",
      "execution_count": null,
      "id": "dedfbebb",
      "metadata": {
        "id": "dedfbebb"
      },
      "outputs": [],
      "source": [
        "def attendence():\n",
        "    faceEncodings= pd.read_csv(\"known_faces_encoding.csv\")\n",
        "    faceNames = pd.read_csv(\"Known_names.csv\")\n",
        "    known_face_encodings = faceEncodings.values\n",
        "    known_face_names = list(faceNames[\"name\"])\n",
        "    video_capture = cv2.VideoCapture(0)\n",
        "    face_locations = []\n",
        "    face_encodings = []\n",
        "    face_names = []                    \n",
        "    process_this_frame = True\n",
        "\n",
        "    while True:\n",
        "        ret, frame = video_capture.read()\n",
        "        if process_this_frame:\n",
        "            small_frame = cv2.resize(frame, (0, 0), fx=0.25, fy=0.25)\n",
        "            rgb_small_frame = small_frame[:, :, ::-1]\n",
        "            face_locations = face_recognition.face_locations(rgb_small_frame)\n",
        "            face_encodings = face_recognition.face_encodings(rgb_small_frame, face_locations)\n",
        "            face_names = []\n",
        "            for face_encoding in face_encodings:\n",
        "                matches = face_recognition.compare_faces(known_face_encodings, face_encoding)\n",
        "                name = \"Unknown\"\n",
        "                face_distances = face_recognition.face_distance(known_face_encodings, face_encoding)\n",
        "                best_match_index = np.argmin(face_distances)\n",
        "                if matches[best_match_index]:\n",
        "                    name = known_face_names[best_match_index]\n",
        "                face_names.append(name)\n",
        "        process_this_frame = not process_this_frame\n",
        "        for (top, right, bottom, left), name in zip(face_locations, face_names):\n",
        "            \n",
        "            top *= 4\n",
        "            right *= 4\n",
        "            bottom *= 4\n",
        "            left *= 4\n",
        "            if name != \"Unknown\":\n",
        "                cv2.rectangle(frame, (left, top), (right, bottom), (0, 255, 0), 2)\n",
        "                cv2.rectangle(frame, (left, bottom - 35), (right, bottom), (0, 255, 0), cv2.FILLED)\n",
        "                db = pd.read_csv(\"attendence.csv\")\n",
        "                if name not in list(db[(db[\"date\"]==dt.datetime.now().strftime(\"%x\"))][\"Person\"]): \n",
        "                    temp = pd.DataFrame(data={\"date\":[dt.datetime.now().strftime(\"%x\")],\"time\":[dt.datetime.now().strftime(\"%X\")],\"Person\":[name]})\n",
        "                    db = db.append(temp)\n",
        "                    db.to_csv(\"attendence.csv\",index=False)\n",
        "                else:\n",
        "                    font = cv2.FONT_HERSHEY_DUPLEX\n",
        "                    cv2.putText(frame, name+\" OK\", (left + 6, bottom - 6), font, 1.0, (255, 255, 255), 1)\n",
        "                    \n",
        "                    \n",
        "                \n",
        "            else:\n",
        "                cv2.rectangle(frame, (left, top), (right, bottom), (0, 0, 255), 2)\n",
        "                cv2.rectangle(frame, (left, bottom - 35), (right, bottom), (0, 0, 255), cv2.FILLED)\n",
        "            font = cv2.FONT_HERSHEY_DUPLEX\n",
        "            cv2.putText(frame, name, (left + 6, bottom - 6), font, 1.0, (255, 255, 255), 1)\n",
        "        cv2.imshow('Video', frame)\n",
        "        if cv2.waitKey(1) & 0xFF == ord('a'):\n",
        "            break\n",
        "    video_capture.release()\n",
        "    cv2.destroyAllWindows()"
      ]
    },
    {
      "cell_type": "code",
      "execution_count": null,
      "id": "19c209c9",
      "metadata": {
        "id": "19c209c9"
      },
      "outputs": [],
      "source": [
        "def get_details():\n",
        "    faceEncodings= pd.read_csv(\"known_faces_encoding.csv\")\n",
        "    faceNames = pd.read_csv(\"Known_names.csv\")\n",
        "    known_face_encodings = faceEncodings.values\n",
        "    known_face_names = list(faceNames[\"name\"])\n",
        "    print(len(known_face_encodings),(known_face_names))\n",
        "    \n",
        "def get_attendence():\n",
        "    db = pd.read_csv(\"attendence.csv\")\n",
        "    return db\n"
      ]
    },
    {
      "cell_type": "code",
      "execution_count": null,
      "id": "fa9eba14",
      "metadata": {
        "id": "fa9eba14"
      },
      "outputs": [],
      "source": [
        "attendence()"
      ]
    },
    {
      "cell_type": "code",
      "execution_count": null,
      "id": "300d7899",
      "metadata": {
        "scrolled": true,
        "id": "300d7899",
        "outputId": "0590db82-a1bd-4885-c1b7-c614dc7d8759"
      },
      "outputs": [
        {
          "name": "stdout",
          "output_type": "stream",
          "text": [
            "Enter New Candidate : king\n",
            "king suscefully registered\n"
          ]
        }
      ],
      "source": [
        "register()"
      ]
    },
    {
      "cell_type": "code",
      "execution_count": null,
      "id": "e893528f",
      "metadata": {
        "id": "e893528f",
        "outputId": "35f9283f-b1d8-4c8f-866b-8b03902d5ad3"
      },
      "outputs": [
        {
          "name": "stdout",
          "output_type": "stream",
          "text": [
            "Sharuk deleted sucussfully\n"
          ]
        }
      ],
      "source": [
        "delete(\"Sharuk\")"
      ]
    },
    {
      "cell_type": "code",
      "execution_count": null,
      "id": "98defb83",
      "metadata": {
        "id": "98defb83",
        "outputId": "f586511f-5a52-41a8-b6c5-c053a90e0cca"
      },
      "outputs": [
        {
          "name": "stdout",
          "output_type": "stream",
          "text": [
            "4 ['DEMO', 'DO NOT DELETE', 'Chetan', 'king']\n"
          ]
        }
      ],
      "source": [
        "get_details()"
      ]
    },
    {
      "cell_type": "code",
      "execution_count": null,
      "id": "8da21825",
      "metadata": {
        "id": "8da21825"
      },
      "outputs": [],
      "source": []
    },
    {
      "cell_type": "code",
      "execution_count": null,
      "id": "36e11adb",
      "metadata": {
        "id": "36e11adb",
        "outputId": "add28ee7-781e-4e30-bd1c-37f590c13d7c"
      },
      "outputs": [
        {
          "data": {
            "text/html": [
              "<div>\n",
              "<style scoped>\n",
              "    .dataframe tbody tr th:only-of-type {\n",
              "        vertical-align: middle;\n",
              "    }\n",
              "\n",
              "    .dataframe tbody tr th {\n",
              "        vertical-align: top;\n",
              "    }\n",
              "\n",
              "    .dataframe thead th {\n",
              "        text-align: right;\n",
              "    }\n",
              "</style>\n",
              "<table border=\"1\" class=\"dataframe\">\n",
              "  <thead>\n",
              "    <tr style=\"text-align: right;\">\n",
              "      <th></th>\n",
              "      <th>date</th>\n",
              "      <th>time</th>\n",
              "      <th>Person</th>\n",
              "    </tr>\n",
              "  </thead>\n",
              "  <tbody>\n",
              "    <tr>\n",
              "      <th>0</th>\n",
              "      <td>01/02/23</td>\n",
              "      <td>23:36:03</td>\n",
              "      <td>Demo</td>\n",
              "    </tr>\n",
              "  </tbody>\n",
              "</table>\n",
              "</div>"
            ],
            "text/plain": [
              "       date      time Person\n",
              "0  01/02/23  23:36:03   Demo"
            ]
          },
          "execution_count": 42,
          "metadata": {},
          "output_type": "execute_result"
        }
      ],
      "source": [
        "get_attendence()"
      ]
    },
    {
      "cell_type": "code",
      "execution_count": null,
      "id": "1ddd9f8d",
      "metadata": {
        "id": "1ddd9f8d"
      },
      "outputs": [],
      "source": [
        "db = get_attendence()"
      ]
    },
    {
      "cell_type": "code",
      "execution_count": null,
      "id": "ffd723f4",
      "metadata": {
        "id": "ffd723f4",
        "outputId": "55f11b1a-c67f-432c-c874-7d01273a807f"
      },
      "outputs": [
        {
          "data": {
            "text/plain": [
              "['Chetan',\n",
              " 'Chetan',\n",
              " 'king',\n",
              " 'king',\n",
              " 'Chetan',\n",
              " 'Chetan',\n",
              " 'Chetan',\n",
              " 'Chetan',\n",
              " 'Chetan',\n",
              " 'Chetan',\n",
              " 'Chetan',\n",
              " 'Chetan',\n",
              " 'Chetan',\n",
              " 'Chetan',\n",
              " 'Chetan',\n",
              " 'Chetan',\n",
              " 'Chetan',\n",
              " 'Chetan',\n",
              " 'Chetan',\n",
              " 'Chetan',\n",
              " 'Chetan',\n",
              " 'Chetan',\n",
              " 'Chetan']"
            ]
          },
          "execution_count": 37,
          "metadata": {},
          "output_type": "execute_result"
        }
      ],
      "source": [
        "list(db[(db[\"date\"]==dt.datetime.now().strftime(\"%x\"))][\"Person\"])"
      ]
    },
    {
      "cell_type": "code",
      "execution_count": null,
      "id": "d70d169b",
      "metadata": {
        "id": "d70d169b",
        "outputId": "eb369d81-8940-4d27-c99c-ca3aaf77213b"
      },
      "outputs": [
        {
          "data": {
            "text/plain": [
              "'01/04/23'"
            ]
          },
          "execution_count": 23,
          "metadata": {},
          "output_type": "execute_result"
        }
      ],
      "source": [
        "dt.datetime.now().strftime(\"%x\")"
      ]
    },
    {
      "cell_type": "code",
      "execution_count": null,
      "id": "6b050043",
      "metadata": {
        "id": "6b050043"
      },
      "outputs": [],
      "source": []
    }
  ],
  "metadata": {
    "kernelspec": {
      "display_name": "Python 3 (ipykernel)",
      "language": "python",
      "name": "python3"
    },
    "language_info": {
      "codemirror_mode": {
        "name": "ipython",
        "version": 3
      },
      "file_extension": ".py",
      "mimetype": "text/x-python",
      "name": "python",
      "nbconvert_exporter": "python",
      "pygments_lexer": "ipython3",
      "version": "3.10.7"
    },
    "colab": {
      "provenance": []
    }
  },
  "nbformat": 4,
  "nbformat_minor": 5
}