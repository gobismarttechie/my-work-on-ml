{
 "cells": [
  {
   "cell_type": "markdown",
   "metadata": {},
   "source": [
    "## Problem statement"
   ]
  },
  {
   "cell_type": "markdown",
   "metadata": {},
   "source": [
    "#### A taxi organization decided to segment thier customers according to thier ride behaviour and assign the price segment to the customer . So group undertake this as problem statement to provide solution in means of machine learning and deep learning as well. "
   ]
  },
  {
   "cell_type": "markdown",
   "metadata": {},
   "source": [
    "#### This problem statement comes under classification, because we have to predict the suitable price category that the customer can fit in. "
   ]
  },
  {
   "cell_type": "markdown",
   "metadata": {},
   "source": [
    "## Data acquisition"
   ]
  },
  {
   "cell_type": "code",
   "execution_count": 185,
   "metadata": {},
   "outputs": [],
   "source": [
    "import pandas as pd"
   ]
  },
  {
   "cell_type": "code",
   "execution_count": 4,
   "metadata": {},
   "outputs": [],
   "source": [
    "data_raw = pd.read_csv(r\"C:\\Users\\Gobinath\\Desktop\\tasks\\taxi customer segmentation\\sigma_cabs.csv\")"
   ]
  },
  {
   "cell_type": "markdown",
   "metadata": {},
   "source": [
    "#### Data details"
   ]
  },
  {
   "cell_type": "markdown",
   "metadata": {},
   "source": [
    "#### 1.Size of the train data contains 131662 observations, 14 features\n",
    "#### 2.type of data attribute includes  \n",
    "\n",
    "\n",
    "    Trip_ID: ID for TRIP\n",
    "\n",
    "    Trip_Distance: The distance for the trip requested by the customer\n",
    "\n",
    "    TypeofCab: Category of the cab requested by the customer\n",
    "\n",
    "    CustomerSinceMonths: Customer using cab services since n months; 0 month means current month\n",
    "\n",
    "    LifeStyleIndex: Proprietary index created by Sigma Cabs showing lifestyle of the customer based on their behaviour\n",
    "\n",
    "    ConfidenceLifeStyle_Index: Category showing confidence on the index mentioned above\n",
    "\n",
    "    Destination_Type: Sigma Cabs divides any destination in one of the 14 categories.\n",
    "\n",
    "    Customer_Rating: Average of life time ratings of the customer till date\n",
    "\n",
    "    CancellationLast1Month: Number of trips cancelled by the customer in last 1 month\n",
    "\n",
    "    Var1, Var2 and Var3: Continuous variables masked by the company. Can be used for modelling purposes\n",
    "\n",
    "    Gender: Gender of the customer\n",
    "\n",
    "    SurgePricingType: Target (can be of 3 types)"
   ]
  },
  {
   "cell_type": "markdown",
   "metadata": {},
   "source": [
    "## Understanding the data"
   ]
  },
  {
   "cell_type": "code",
   "execution_count": 5,
   "metadata": {
    "scrolled": true
   },
   "outputs": [
    {
     "data": {
      "text/html": [
       "<div>\n",
       "<style scoped>\n",
       "    .dataframe tbody tr th:only-of-type {\n",
       "        vertical-align: middle;\n",
       "    }\n",
       "\n",
       "    .dataframe tbody tr th {\n",
       "        vertical-align: top;\n",
       "    }\n",
       "\n",
       "    .dataframe thead th {\n",
       "        text-align: right;\n",
       "    }\n",
       "</style>\n",
       "<table border=\"1\" class=\"dataframe\">\n",
       "  <thead>\n",
       "    <tr style=\"text-align: right;\">\n",
       "      <th></th>\n",
       "      <th>Trip_ID</th>\n",
       "      <th>Trip_Distance</th>\n",
       "      <th>Type_of_Cab</th>\n",
       "      <th>Customer_Since_Months</th>\n",
       "      <th>Life_Style_Index</th>\n",
       "      <th>Confidence_Life_Style_Index</th>\n",
       "      <th>Destination_Type</th>\n",
       "      <th>Customer_Rating</th>\n",
       "      <th>Cancellation_Last_1Month</th>\n",
       "      <th>Var1</th>\n",
       "      <th>Var2</th>\n",
       "      <th>Var3</th>\n",
       "      <th>Gender</th>\n",
       "      <th>Surge_Pricing_Type</th>\n",
       "    </tr>\n",
       "  </thead>\n",
       "  <tbody>\n",
       "    <tr>\n",
       "      <th>0</th>\n",
       "      <td>T0005689460</td>\n",
       "      <td>6.77</td>\n",
       "      <td>B</td>\n",
       "      <td>1.0</td>\n",
       "      <td>2.42769</td>\n",
       "      <td>A</td>\n",
       "      <td>A</td>\n",
       "      <td>3.90500</td>\n",
       "      <td>0</td>\n",
       "      <td>40.0</td>\n",
       "      <td>46</td>\n",
       "      <td>60</td>\n",
       "      <td>Female</td>\n",
       "      <td>2</td>\n",
       "    </tr>\n",
       "    <tr>\n",
       "      <th>1</th>\n",
       "      <td>T0005689461</td>\n",
       "      <td>29.47</td>\n",
       "      <td>B</td>\n",
       "      <td>10.0</td>\n",
       "      <td>2.78245</td>\n",
       "      <td>B</td>\n",
       "      <td>A</td>\n",
       "      <td>3.45000</td>\n",
       "      <td>0</td>\n",
       "      <td>38.0</td>\n",
       "      <td>56</td>\n",
       "      <td>78</td>\n",
       "      <td>Male</td>\n",
       "      <td>2</td>\n",
       "    </tr>\n",
       "    <tr>\n",
       "      <th>2</th>\n",
       "      <td>T0005689464</td>\n",
       "      <td>41.58</td>\n",
       "      <td>NaN</td>\n",
       "      <td>10.0</td>\n",
       "      <td>NaN</td>\n",
       "      <td>NaN</td>\n",
       "      <td>E</td>\n",
       "      <td>3.50125</td>\n",
       "      <td>2</td>\n",
       "      <td>NaN</td>\n",
       "      <td>56</td>\n",
       "      <td>77</td>\n",
       "      <td>Male</td>\n",
       "      <td>2</td>\n",
       "    </tr>\n",
       "    <tr>\n",
       "      <th>3</th>\n",
       "      <td>T0005689465</td>\n",
       "      <td>61.56</td>\n",
       "      <td>C</td>\n",
       "      <td>10.0</td>\n",
       "      <td>NaN</td>\n",
       "      <td>NaN</td>\n",
       "      <td>A</td>\n",
       "      <td>3.45375</td>\n",
       "      <td>0</td>\n",
       "      <td>NaN</td>\n",
       "      <td>52</td>\n",
       "      <td>74</td>\n",
       "      <td>Male</td>\n",
       "      <td>3</td>\n",
       "    </tr>\n",
       "    <tr>\n",
       "      <th>4</th>\n",
       "      <td>T0005689467</td>\n",
       "      <td>54.95</td>\n",
       "      <td>C</td>\n",
       "      <td>10.0</td>\n",
       "      <td>3.03453</td>\n",
       "      <td>B</td>\n",
       "      <td>A</td>\n",
       "      <td>3.40250</td>\n",
       "      <td>4</td>\n",
       "      <td>51.0</td>\n",
       "      <td>49</td>\n",
       "      <td>102</td>\n",
       "      <td>Male</td>\n",
       "      <td>2</td>\n",
       "    </tr>\n",
       "    <tr>\n",
       "      <th>5</th>\n",
       "      <td>T0005689469</td>\n",
       "      <td>19.06</td>\n",
       "      <td>E</td>\n",
       "      <td>10.0</td>\n",
       "      <td>NaN</td>\n",
       "      <td>NaN</td>\n",
       "      <td>A</td>\n",
       "      <td>2.59750</td>\n",
       "      <td>1</td>\n",
       "      <td>72.0</td>\n",
       "      <td>63</td>\n",
       "      <td>91</td>\n",
       "      <td>Male</td>\n",
       "      <td>3</td>\n",
       "    </tr>\n",
       "    <tr>\n",
       "      <th>6</th>\n",
       "      <td>T0005689470</td>\n",
       "      <td>29.72</td>\n",
       "      <td>E</td>\n",
       "      <td>10.0</td>\n",
       "      <td>2.83958</td>\n",
       "      <td>C</td>\n",
       "      <td>B</td>\n",
       "      <td>2.97500</td>\n",
       "      <td>1</td>\n",
       "      <td>83.0</td>\n",
       "      <td>50</td>\n",
       "      <td>75</td>\n",
       "      <td>Male</td>\n",
       "      <td>2</td>\n",
       "    </tr>\n",
       "    <tr>\n",
       "      <th>7</th>\n",
       "      <td>T0005689472</td>\n",
       "      <td>18.44</td>\n",
       "      <td>B</td>\n",
       "      <td>2.0</td>\n",
       "      <td>2.81871</td>\n",
       "      <td>B</td>\n",
       "      <td>A</td>\n",
       "      <td>3.58250</td>\n",
       "      <td>0</td>\n",
       "      <td>103.0</td>\n",
       "      <td>46</td>\n",
       "      <td>63</td>\n",
       "      <td>Male</td>\n",
       "      <td>2</td>\n",
       "    </tr>\n",
       "    <tr>\n",
       "      <th>8</th>\n",
       "      <td>T0005689473</td>\n",
       "      <td>106.80</td>\n",
       "      <td>C</td>\n",
       "      <td>3.0</td>\n",
       "      <td>NaN</td>\n",
       "      <td>NaN</td>\n",
       "      <td>A</td>\n",
       "      <td>3.14625</td>\n",
       "      <td>0</td>\n",
       "      <td>NaN</td>\n",
       "      <td>58</td>\n",
       "      <td>92</td>\n",
       "      <td>Male</td>\n",
       "      <td>2</td>\n",
       "    </tr>\n",
       "    <tr>\n",
       "      <th>9</th>\n",
       "      <td>T0005689474</td>\n",
       "      <td>107.19</td>\n",
       "      <td>D</td>\n",
       "      <td>5.0</td>\n",
       "      <td>3.04467</td>\n",
       "      <td>B</td>\n",
       "      <td>A</td>\n",
       "      <td>2.44375</td>\n",
       "      <td>1</td>\n",
       "      <td>NaN</td>\n",
       "      <td>58</td>\n",
       "      <td>83</td>\n",
       "      <td>Male</td>\n",
       "      <td>3</td>\n",
       "    </tr>\n",
       "  </tbody>\n",
       "</table>\n",
       "</div>"
      ],
      "text/plain": [
       "       Trip_ID  Trip_Distance Type_of_Cab  Customer_Since_Months  \\\n",
       "0  T0005689460           6.77           B                    1.0   \n",
       "1  T0005689461          29.47           B                   10.0   \n",
       "2  T0005689464          41.58         NaN                   10.0   \n",
       "3  T0005689465          61.56           C                   10.0   \n",
       "4  T0005689467          54.95           C                   10.0   \n",
       "5  T0005689469          19.06           E                   10.0   \n",
       "6  T0005689470          29.72           E                   10.0   \n",
       "7  T0005689472          18.44           B                    2.0   \n",
       "8  T0005689473         106.80           C                    3.0   \n",
       "9  T0005689474         107.19           D                    5.0   \n",
       "\n",
       "   Life_Style_Index Confidence_Life_Style_Index Destination_Type  \\\n",
       "0           2.42769                           A                A   \n",
       "1           2.78245                           B                A   \n",
       "2               NaN                         NaN                E   \n",
       "3               NaN                         NaN                A   \n",
       "4           3.03453                           B                A   \n",
       "5               NaN                         NaN                A   \n",
       "6           2.83958                           C                B   \n",
       "7           2.81871                           B                A   \n",
       "8               NaN                         NaN                A   \n",
       "9           3.04467                           B                A   \n",
       "\n",
       "   Customer_Rating  Cancellation_Last_1Month   Var1  Var2  Var3  Gender  \\\n",
       "0          3.90500                         0   40.0    46    60  Female   \n",
       "1          3.45000                         0   38.0    56    78    Male   \n",
       "2          3.50125                         2    NaN    56    77    Male   \n",
       "3          3.45375                         0    NaN    52    74    Male   \n",
       "4          3.40250                         4   51.0    49   102    Male   \n",
       "5          2.59750                         1   72.0    63    91    Male   \n",
       "6          2.97500                         1   83.0    50    75    Male   \n",
       "7          3.58250                         0  103.0    46    63    Male   \n",
       "8          3.14625                         0    NaN    58    92    Male   \n",
       "9          2.44375                         1    NaN    58    83    Male   \n",
       "\n",
       "   Surge_Pricing_Type  \n",
       "0                   2  \n",
       "1                   2  \n",
       "2                   2  \n",
       "3                   3  \n",
       "4                   2  \n",
       "5                   3  \n",
       "6                   2  \n",
       "7                   2  \n",
       "8                   2  \n",
       "9                   3  "
      ]
     },
     "execution_count": 5,
     "metadata": {},
     "output_type": "execute_result"
    }
   ],
   "source": [
    "data_raw.head(10)"
   ]
  },
  {
   "cell_type": "code",
   "execution_count": 6,
   "metadata": {
    "scrolled": true
   },
   "outputs": [
    {
     "data": {
      "text/plain": [
       "Trip_ID                            0\n",
       "Trip_Distance                      0\n",
       "Type_of_Cab                    20210\n",
       "Customer_Since_Months           5920\n",
       "Life_Style_Index               20193\n",
       "Confidence_Life_Style_Index    20193\n",
       "Destination_Type                   0\n",
       "Customer_Rating                    0\n",
       "Cancellation_Last_1Month           0\n",
       "Var1                           71030\n",
       "Var2                               0\n",
       "Var3                               0\n",
       "Gender                             0\n",
       "Surge_Pricing_Type                 0\n",
       "dtype: int64"
      ]
     },
     "execution_count": 6,
     "metadata": {},
     "output_type": "execute_result"
    }
   ],
   "source": [
    "data_raw.isna().sum()"
   ]
  },
  {
   "cell_type": "markdown",
   "metadata": {},
   "source": [
    "#### Observation: From the  above data we can find the missing values."
   ]
  },
  {
   "cell_type": "code",
   "execution_count": 81,
   "metadata": {
    "scrolled": false
   },
   "outputs": [
    {
     "data": {
      "text/plain": [
       "Trip_Distance                  float64\n",
       "Type_of_Cab                     object\n",
       "Customer_Since_Months          float64\n",
       "Life_Style_Index               float64\n",
       "Confidence_Life_Style_Index     object\n",
       "Destination_Type                object\n",
       "Customer_Rating                float64\n",
       "Cancellation_Last_1Month         int64\n",
       "Var1                           float64\n",
       "Var2                             int64\n",
       "Var3                             int64\n",
       "Gender                          object\n",
       "Surge_Pricing_Type               int64\n",
       "dtype: object"
      ]
     },
     "execution_count": 81,
     "metadata": {},
     "output_type": "execute_result"
    }
   ],
   "source": [
    "data_raw.dtypes"
   ]
  },
  {
   "cell_type": "markdown",
   "metadata": {},
   "source": [
    "#### Observation: From  the above data we can find the datatypes of the input features"
   ]
  },
  {
   "cell_type": "code",
   "execution_count": 7,
   "metadata": {
    "scrolled": true
   },
   "outputs": [
    {
     "data": {
      "text/plain": [
       "(131662, 14)"
      ]
     },
     "execution_count": 7,
     "metadata": {},
     "output_type": "execute_result"
    }
   ],
   "source": [
    "data_raw.shape"
   ]
  },
  {
   "cell_type": "markdown",
   "metadata": {},
   "source": [
    "#### Acquired data dimension can be observed from above."
   ]
  },
  {
   "cell_type": "markdown",
   "metadata": {},
   "source": [
    "## Data wrangling and handling missing data"
   ]
  },
  {
   "cell_type": "code",
   "execution_count": 8,
   "metadata": {
    "scrolled": false
   },
   "outputs": [
    {
     "data": {
      "text/plain": [
       "64.20269824515107"
      ]
     },
     "execution_count": 8,
     "metadata": {},
     "output_type": "execute_result"
    }
   ],
   "source": [
    "data_raw['Var1'].mean()"
   ]
  },
  {
   "cell_type": "code",
   "execution_count": 9,
   "metadata": {},
   "outputs": [],
   "source": [
    "import matplotlib.pyplot as plt\n",
    "import seaborn as sns"
   ]
  },
  {
   "cell_type": "code",
   "execution_count": 10,
   "metadata": {
    "scrolled": true
   },
   "outputs": [
    {
     "data": {
      "text/plain": [
       "<matplotlib.axes._subplots.AxesSubplot at 0x2089b54ba08>"
      ]
     },
     "execution_count": 10,
     "metadata": {},
     "output_type": "execute_result"
    },
    {
     "data": {
      "image/png": "[encoded data removed]",
      "text/plain": [
       "<Figure size 432x288 with 1 Axes>"
      ]
     },
     "metadata": {
      "needs_background": "light"
     },
     "output_type": "display_data"
    }
   ],
   "source": [
    "sns.histplot(data = data_raw['Var1'])"
   ]
  },
  {
   "cell_type": "markdown",
   "metadata": {},
   "source": [
    "#### Observing the distribution of data inorder to replace the missing values. and also the presence of outliers.Since mean and median is nearly same for continuous feature have been observed. we can replace missing data with mean. "
   ]
  },
  {
   "cell_type": "code",
   "execution_count": null,
   "metadata": {},
   "outputs": [],
   "source": []
  },
  {
   "cell_type": "code",
   "execution_count": 11,
   "metadata": {},
   "outputs": [],
   "source": [
    "data_raw['Var1']=data_raw['Var1'].fillna(64.0)"
   ]
  },
  {
   "cell_type": "code",
   "execution_count": 12,
   "metadata": {},
   "outputs": [],
   "source": [
    "data_raw['Type_of_Cab'] = data_raw['Type_of_Cab'].fillna('B')"
   ]
  },
  {
   "cell_type": "code",
   "execution_count": 13,
   "metadata": {},
   "outputs": [
    {
     "data": {
      "text/plain": [
       "6.0"
      ]
     },
     "execution_count": 13,
     "metadata": {},
     "output_type": "execute_result"
    }
   ],
   "source": [
    "#data_raw['Customer_Since_Months'].mean()\n",
    "data_raw['Customer_Since_Months'].median()"
   ]
  },
  {
   "cell_type": "code",
   "execution_count": 14,
   "metadata": {},
   "outputs": [
    {
     "data": {
      "text/plain": [
       "<matplotlib.axes._subplots.AxesSubplot at 0x2089b990348>"
      ]
     },
     "execution_count": 14,
     "metadata": {},
     "output_type": "execute_result"
    },
    {
     "data": {
      "image/png": "[encoded data removed]",
      "text/plain": [
       "<Figure size 432x288 with 1 Axes>"
      ]
     },
     "metadata": {
      "needs_background": "light"
     },
     "output_type": "display_data"
    }
   ],
   "source": [
    "sns.histplot(data = data_raw['Customer_Since_Months'])"
   ]
  },
  {
   "cell_type": "code",
   "execution_count": 15,
   "metadata": {},
   "outputs": [],
   "source": [
    "data_raw['Customer_Since_Months'] = data_raw['Customer_Since_Months'].fillna(6.0)"
   ]
  },
  {
   "cell_type": "code",
   "execution_count": 16,
   "metadata": {},
   "outputs": [
    {
     "data": {
      "text/plain": [
       "2.79805"
      ]
     },
     "execution_count": 16,
     "metadata": {},
     "output_type": "execute_result"
    },
    {
     "data": {
      "image/png": "[encoded data removed]",
      "text/plain": [
       "<Figure size 432x288 with 1 Axes>"
      ]
     },
     "metadata": {
      "needs_background": "light"
     },
     "output_type": "display_data"
    }
   ],
   "source": [
    "sns.histplot(data = data_raw['Life_Style_Index'])\n",
    "data_raw['Life_Style_Index'].median()"
   ]
  },
  {
   "cell_type": "code",
   "execution_count": 17,
   "metadata": {},
   "outputs": [],
   "source": [
    "data_raw['Life_Style_Index']=data_raw['Life_Style_Index'].fillna(2.80)"
   ]
  },
  {
   "cell_type": "code",
   "execution_count": 18,
   "metadata": {},
   "outputs": [],
   "source": [
    "#data_raw['Confidence_Life_Style_Index'].mode()\n",
    "data_raw['Confidence_Life_Style_Index']=data_raw['Confidence_Life_Style_Index'].fillna('B')"
   ]
  },
  {
   "cell_type": "code",
   "execution_count": 19,
   "metadata": {},
   "outputs": [],
   "source": [
    "test_data_raw=pd.read_csv(r\"C:\\Users\\Gobinath\\Desktop\\tasks\\taxi customer segmentation\\test.csv\")"
   ]
  },
  {
   "cell_type": "code",
   "execution_count": 20,
   "metadata": {},
   "outputs": [
    {
     "data": {
      "text/plain": [
       "(87395, 13)"
      ]
     },
     "execution_count": 20,
     "metadata": {},
     "output_type": "execute_result"
    }
   ],
   "source": [
    "test_data_raw.shape"
   ]
  },
  {
   "cell_type": "code",
   "execution_count": 21,
   "metadata": {},
   "outputs": [
    {
     "data": {
      "text/plain": [
       "Trip_ID                            0\n",
       "Trip_Distance                      0\n",
       "Type_of_Cab                    13158\n",
       "Customer_Since_Months           3966\n",
       "Life_Style_Index               13327\n",
       "Confidence_Life_Style_Index    13327\n",
       "Destination_Type                   0\n",
       "Customer_Rating                    0\n",
       "Cancellation_Last_1Month           0\n",
       "Var1                           46789\n",
       "Var2                               0\n",
       "Var3                               0\n",
       "Gender                             0\n",
       "dtype: int64"
      ]
     },
     "execution_count": 21,
     "metadata": {},
     "output_type": "execute_result"
    }
   ],
   "source": [
    "test_data_raw.isna().sum()"
   ]
  },
  {
   "cell_type": "code",
   "execution_count": 22,
   "metadata": {},
   "outputs": [
    {
     "data": {
      "text/plain": [
       "63.93661035314978"
      ]
     },
     "execution_count": 22,
     "metadata": {},
     "output_type": "execute_result"
    }
   ],
   "source": [
    "test_data_raw['Var1'].mean()"
   ]
  },
  {
   "cell_type": "code",
   "execution_count": 23,
   "metadata": {},
   "outputs": [],
   "source": [
    "test_data_raw['Var1'] = test_data_raw['Var1'].fillna(63.93)"
   ]
  },
  {
   "cell_type": "code",
   "execution_count": 24,
   "metadata": {},
   "outputs": [
    {
     "data": {
      "text/plain": [
       "0    B\n",
       "dtype: object"
      ]
     },
     "execution_count": 24,
     "metadata": {},
     "output_type": "execute_result"
    }
   ],
   "source": [
    "test_data_raw['Type_of_Cab'].mode()"
   ]
  },
  {
   "cell_type": "code",
   "execution_count": 25,
   "metadata": {},
   "outputs": [],
   "source": [
    "test_data_raw['Type_of_Cab']=test_data_raw['Type_of_Cab'].fillna('B')"
   ]
  },
  {
   "cell_type": "code",
   "execution_count": 26,
   "metadata": {},
   "outputs": [
    {
     "data": {
      "text/plain": [
       "Trip_ID                            0\n",
       "Trip_Distance                      0\n",
       "Type_of_Cab                        0\n",
       "Customer_Since_Months           3966\n",
       "Life_Style_Index               13327\n",
       "Confidence_Life_Style_Index    13327\n",
       "Destination_Type                   0\n",
       "Customer_Rating                    0\n",
       "Cancellation_Last_1Month           0\n",
       "Var1                               0\n",
       "Var2                               0\n",
       "Var3                               0\n",
       "Gender                             0\n",
       "dtype: int64"
      ]
     },
     "execution_count": 26,
     "metadata": {},
     "output_type": "execute_result"
    }
   ],
   "source": [
    "test_data_raw.isnull().sum()"
   ]
  },
  {
   "cell_type": "code",
   "execution_count": 27,
   "metadata": {},
   "outputs": [],
   "source": [
    "test_data_raw['Customer_Since_Months']=test_data_raw['Customer_Since_Months'].fillna(6)"
   ]
  },
  {
   "cell_type": "code",
   "execution_count": 28,
   "metadata": {},
   "outputs": [
    {
     "data": {
      "text/html": [
       "<div>\n",
       "<style scoped>\n",
       "    .dataframe tbody tr th:only-of-type {\n",
       "        vertical-align: middle;\n",
       "    }\n",
       "\n",
       "    .dataframe tbody tr th {\n",
       "        vertical-align: top;\n",
       "    }\n",
       "\n",
       "    .dataframe thead th {\n",
       "        text-align: right;\n",
       "    }\n",
       "</style>\n",
       "<table border=\"1\" class=\"dataframe\">\n",
       "  <thead>\n",
       "    <tr style=\"text-align: right;\">\n",
       "      <th></th>\n",
       "      <th>Trip_ID</th>\n",
       "      <th>Trip_Distance</th>\n",
       "      <th>Type_of_Cab</th>\n",
       "      <th>Customer_Since_Months</th>\n",
       "      <th>Life_Style_Index</th>\n",
       "      <th>Confidence_Life_Style_Index</th>\n",
       "      <th>Destination_Type</th>\n",
       "      <th>Customer_Rating</th>\n",
       "      <th>Cancellation_Last_1Month</th>\n",
       "      <th>Var1</th>\n",
       "      <th>Var2</th>\n",
       "      <th>Var3</th>\n",
       "      <th>Gender</th>\n",
       "    </tr>\n",
       "  </thead>\n",
       "  <tbody>\n",
       "    <tr>\n",
       "      <th>0</th>\n",
       "      <td>T0005689459</td>\n",
       "      <td>9.44</td>\n",
       "      <td>A</td>\n",
       "      <td>10.0</td>\n",
       "      <td>2.57438</td>\n",
       "      <td>A</td>\n",
       "      <td>B</td>\n",
       "      <td>3.68000</td>\n",
       "      <td>2</td>\n",
       "      <td>63.93</td>\n",
       "      <td>46</td>\n",
       "      <td>63</td>\n",
       "      <td>Male</td>\n",
       "    </tr>\n",
       "    <tr>\n",
       "      <th>1</th>\n",
       "      <td>T0005689462</td>\n",
       "      <td>32.15</td>\n",
       "      <td>B</td>\n",
       "      <td>10.0</td>\n",
       "      <td>2.85143</td>\n",
       "      <td>A</td>\n",
       "      <td>A</td>\n",
       "      <td>1.59375</td>\n",
       "      <td>0</td>\n",
       "      <td>65.00</td>\n",
       "      <td>49</td>\n",
       "      <td>80</td>\n",
       "      <td>Female</td>\n",
       "    </tr>\n",
       "    <tr>\n",
       "      <th>2</th>\n",
       "      <td>T0005689463</td>\n",
       "      <td>10.38</td>\n",
       "      <td>C</td>\n",
       "      <td>4.0</td>\n",
       "      <td>2.70530</td>\n",
       "      <td>A</td>\n",
       "      <td>D</td>\n",
       "      <td>4.50500</td>\n",
       "      <td>0</td>\n",
       "      <td>63.93</td>\n",
       "      <td>47</td>\n",
       "      <td>74</td>\n",
       "      <td>Male</td>\n",
       "    </tr>\n",
       "    <tr>\n",
       "      <th>3</th>\n",
       "      <td>T0005689466</td>\n",
       "      <td>14.94</td>\n",
       "      <td>B</td>\n",
       "      <td>6.0</td>\n",
       "      <td>2.48159</td>\n",
       "      <td>C</td>\n",
       "      <td>E</td>\n",
       "      <td>4.53000</td>\n",
       "      <td>0</td>\n",
       "      <td>63.00</td>\n",
       "      <td>43</td>\n",
       "      <td>54</td>\n",
       "      <td>Male</td>\n",
       "    </tr>\n",
       "    <tr>\n",
       "      <th>4</th>\n",
       "      <td>T0005689468</td>\n",
       "      <td>32.03</td>\n",
       "      <td>B</td>\n",
       "      <td>7.0</td>\n",
       "      <td>2.81598</td>\n",
       "      <td>A</td>\n",
       "      <td>K</td>\n",
       "      <td>4.60125</td>\n",
       "      <td>3</td>\n",
       "      <td>96.00</td>\n",
       "      <td>44</td>\n",
       "      <td>56</td>\n",
       "      <td>Male</td>\n",
       "    </tr>\n",
       "    <tr>\n",
       "      <th>5</th>\n",
       "      <td>T0005689471</td>\n",
       "      <td>18.26</td>\n",
       "      <td>E</td>\n",
       "      <td>2.0</td>\n",
       "      <td>NaN</td>\n",
       "      <td>NaN</td>\n",
       "      <td>A</td>\n",
       "      <td>3.58250</td>\n",
       "      <td>2</td>\n",
       "      <td>35.00</td>\n",
       "      <td>56</td>\n",
       "      <td>78</td>\n",
       "      <td>Female</td>\n",
       "    </tr>\n",
       "    <tr>\n",
       "      <th>6</th>\n",
       "      <td>T0005689476</td>\n",
       "      <td>47.34</td>\n",
       "      <td>E</td>\n",
       "      <td>0.0</td>\n",
       "      <td>2.59558</td>\n",
       "      <td>C</td>\n",
       "      <td>B</td>\n",
       "      <td>0.84125</td>\n",
       "      <td>0</td>\n",
       "      <td>63.93</td>\n",
       "      <td>60</td>\n",
       "      <td>73</td>\n",
       "      <td>Female</td>\n",
       "    </tr>\n",
       "    <tr>\n",
       "      <th>7</th>\n",
       "      <td>T0005689478</td>\n",
       "      <td>43.19</td>\n",
       "      <td>B</td>\n",
       "      <td>10.0</td>\n",
       "      <td>2.94979</td>\n",
       "      <td>A</td>\n",
       "      <td>L</td>\n",
       "      <td>3.48750</td>\n",
       "      <td>2</td>\n",
       "      <td>63.93</td>\n",
       "      <td>57</td>\n",
       "      <td>99</td>\n",
       "      <td>Male</td>\n",
       "    </tr>\n",
       "    <tr>\n",
       "      <th>8</th>\n",
       "      <td>T0005689480</td>\n",
       "      <td>45.41</td>\n",
       "      <td>C</td>\n",
       "      <td>7.0</td>\n",
       "      <td>2.64639</td>\n",
       "      <td>C</td>\n",
       "      <td>B</td>\n",
       "      <td>2.48125</td>\n",
       "      <td>0</td>\n",
       "      <td>39.00</td>\n",
       "      <td>53</td>\n",
       "      <td>75</td>\n",
       "      <td>Male</td>\n",
       "    </tr>\n",
       "    <tr>\n",
       "      <th>9</th>\n",
       "      <td>T0005689481</td>\n",
       "      <td>5.75</td>\n",
       "      <td>E</td>\n",
       "      <td>3.0</td>\n",
       "      <td>2.65139</td>\n",
       "      <td>C</td>\n",
       "      <td>C</td>\n",
       "      <td>3.01500</td>\n",
       "      <td>3</td>\n",
       "      <td>47.00</td>\n",
       "      <td>49</td>\n",
       "      <td>67</td>\n",
       "      <td>Male</td>\n",
       "    </tr>\n",
       "  </tbody>\n",
       "</table>\n",
       "</div>"
      ],
      "text/plain": [
       "       Trip_ID  Trip_Distance Type_of_Cab  Customer_Since_Months  \\\n",
       "0  T0005689459           9.44           A                   10.0   \n",
       "1  T0005689462          32.15           B                   10.0   \n",
       "2  T0005689463          10.38           C                    4.0   \n",
       "3  T0005689466          14.94           B                    6.0   \n",
       "4  T0005689468          32.03           B                    7.0   \n",
       "5  T0005689471          18.26           E                    2.0   \n",
       "6  T0005689476          47.34           E                    0.0   \n",
       "7  T0005689478          43.19           B                   10.0   \n",
       "8  T0005689480          45.41           C                    7.0   \n",
       "9  T0005689481           5.75           E                    3.0   \n",
       "\n",
       "   Life_Style_Index Confidence_Life_Style_Index Destination_Type  \\\n",
       "0           2.57438                           A                B   \n",
       "1           2.85143                           A                A   \n",
       "2           2.70530                           A                D   \n",
       "3           2.48159                           C                E   \n",
       "4           2.81598                           A                K   \n",
       "5               NaN                         NaN                A   \n",
       "6           2.59558                           C                B   \n",
       "7           2.94979                           A                L   \n",
       "8           2.64639                           C                B   \n",
       "9           2.65139                           C                C   \n",
       "\n",
       "   Customer_Rating  Cancellation_Last_1Month   Var1  Var2  Var3  Gender  \n",
       "0          3.68000                         2  63.93    46    63    Male  \n",
       "1          1.59375                         0  65.00    49    80  Female  \n",
       "2          4.50500                         0  63.93    47    74    Male  \n",
       "3          4.53000                         0  63.00    43    54    Male  \n",
       "4          4.60125                         3  96.00    44    56    Male  \n",
       "5          3.58250                         2  35.00    56    78  Female  \n",
       "6          0.84125                         0  63.93    60    73  Female  \n",
       "7          3.48750                         2  63.93    57    99    Male  \n",
       "8          2.48125                         0  39.00    53    75    Male  \n",
       "9          3.01500                         3  47.00    49    67    Male  "
      ]
     },
     "execution_count": 28,
     "metadata": {},
     "output_type": "execute_result"
    }
   ],
   "source": [
    "test_data_raw.head(10)"
   ]
  },
  {
   "cell_type": "code",
   "execution_count": 29,
   "metadata": {},
   "outputs": [],
   "source": [
    "test_data_raw['Life_Style_Index']=test_data_raw['Life_Style_Index'].fillna(2.80339)\n",
    "#test_data_raw['Life_Style_Index'].mean()"
   ]
  },
  {
   "cell_type": "code",
   "execution_count": 30,
   "metadata": {},
   "outputs": [],
   "source": [
    "test_data_raw['Confidence_Life_Style_Index']=test_data_raw['Confidence_Life_Style_Index'].fillna('B')"
   ]
  },
  {
   "cell_type": "markdown",
   "metadata": {},
   "source": [
    "#### Observing the distribution of data inorder to replace the missing values. and also the presence of outliers.Since mean and median is nearly same for continuous feature have been observed. we can replace missing data with mean. "
   ]
  },
  {
   "cell_type": "markdown",
   "metadata": {},
   "source": [
    "#### Observing the distribution of data inorder to replace the missing values. and also the presence of outliers,for the distribution of the data"
   ]
  },
  {
   "cell_type": "code",
   "execution_count": 31,
   "metadata": {},
   "outputs": [],
   "source": [
    "data_raw = data_raw.drop(['Trip_ID'],axis=1)"
   ]
  },
  {
   "cell_type": "markdown",
   "metadata": {},
   "source": [
    "### summary\n",
    "1.to remove duplicate data, if present - no duplicate data observed.\n",
    "2.to impute or remove missing data, if present - no remove the missing data replacement with mean for continuous features and mode for discrete feature.\n",
    "3.to remove data inconsistencies, if present-Other than missing data no inconsistencies observed.\n",
    "4.to encode categorical data - Label encoder has "
   ]
  },
  {
   "cell_type": "markdown",
   "metadata": {},
   "source": [
    "## Data preprocessing"
   ]
  },
  {
   "cell_type": "code",
   "execution_count": 38,
   "metadata": {},
   "outputs": [],
   "source": [
    "from sklearn.preprocessing import OneHotEncoder"
   ]
  },
  {
   "cell_type": "code",
   "execution_count": 32,
   "metadata": {},
   "outputs": [],
   "source": [
    "from sklearn.preprocessing import LabelEncoder\n",
    "from sklearn.model_selection import train_test_split"
   ]
  },
  {
   "cell_type": "code",
   "execution_count": 88,
   "metadata": {
    "scrolled": true
   },
   "outputs": [
    {
     "data": {
      "text/html": [
       "<div>\n",
       "<style scoped>\n",
       "    .dataframe tbody tr th:only-of-type {\n",
       "        vertical-align: middle;\n",
       "    }\n",
       "\n",
       "    .dataframe tbody tr th {\n",
       "        vertical-align: top;\n",
       "    }\n",
       "\n",
       "    .dataframe thead th {\n",
       "        text-align: right;\n",
       "    }\n",
       "</style>\n",
       "<table border=\"1\" class=\"dataframe\">\n",
       "  <thead>\n",
       "    <tr style=\"text-align: right;\">\n",
       "      <th></th>\n",
       "      <th>Surge_Pricing_Type_1</th>\n",
       "      <th>Surge_Pricing_Type_2</th>\n",
       "      <th>Surge_Pricing_Type_3</th>\n",
       "    </tr>\n",
       "  </thead>\n",
       "  <tbody>\n",
       "    <tr>\n",
       "      <th>0</th>\n",
       "      <td>0</td>\n",
       "      <td>1</td>\n",
       "      <td>0</td>\n",
       "    </tr>\n",
       "    <tr>\n",
       "      <th>1</th>\n",
       "      <td>0</td>\n",
       "      <td>1</td>\n",
       "      <td>0</td>\n",
       "    </tr>\n",
       "    <tr>\n",
       "      <th>2</th>\n",
       "      <td>0</td>\n",
       "      <td>1</td>\n",
       "      <td>0</td>\n",
       "    </tr>\n",
       "    <tr>\n",
       "      <th>3</th>\n",
       "      <td>0</td>\n",
       "      <td>0</td>\n",
       "      <td>1</td>\n",
       "    </tr>\n",
       "    <tr>\n",
       "      <th>4</th>\n",
       "      <td>0</td>\n",
       "      <td>1</td>\n",
       "      <td>0</td>\n",
       "    </tr>\n",
       "    <tr>\n",
       "      <th>5</th>\n",
       "      <td>0</td>\n",
       "      <td>0</td>\n",
       "      <td>1</td>\n",
       "    </tr>\n",
       "    <tr>\n",
       "      <th>6</th>\n",
       "      <td>0</td>\n",
       "      <td>1</td>\n",
       "      <td>0</td>\n",
       "    </tr>\n",
       "    <tr>\n",
       "      <th>7</th>\n",
       "      <td>0</td>\n",
       "      <td>1</td>\n",
       "      <td>0</td>\n",
       "    </tr>\n",
       "    <tr>\n",
       "      <th>8</th>\n",
       "      <td>0</td>\n",
       "      <td>1</td>\n",
       "      <td>0</td>\n",
       "    </tr>\n",
       "    <tr>\n",
       "      <th>9</th>\n",
       "      <td>0</td>\n",
       "      <td>0</td>\n",
       "      <td>1</td>\n",
       "    </tr>\n",
       "  </tbody>\n",
       "</table>\n",
       "</div>"
      ],
      "text/plain": [
       "   Surge_Pricing_Type_1  Surge_Pricing_Type_2  Surge_Pricing_Type_3\n",
       "0                     0                     1                     0\n",
       "1                     0                     1                     0\n",
       "2                     0                     1                     0\n",
       "3                     0                     0                     1\n",
       "4                     0                     1                     0\n",
       "5                     0                     0                     1\n",
       "6                     0                     1                     0\n",
       "7                     0                     1                     0\n",
       "8                     0                     1                     0\n",
       "9                     0                     0                     1"
      ]
     },
     "execution_count": 88,
     "metadata": {},
     "output_type": "execute_result"
    }
   ],
   "source": [
    "#x = data_raw.drop(['Surge_Pricing_Type'],axis=1)\n",
    "#y=data_raw[['Surge_Pricing_Type']]\n",
    "#y['Surge_Pricing_Type']=y['Surge_Pricing_Type'].astype(str)\n",
    "#y= pd.get_dummies(y, columns = ['Surge_Pricing_Type'])\n",
    "y.head(10)"
   ]
  },
  {
   "cell_type": "markdown",
   "metadata": {},
   "source": [
    "#### Since the problem statement falls under multiclass classification.We decided to go for categorical cross entropy and we transformed the target feature inorder to feed it into the model."
   ]
  },
  {
   "cell_type": "code",
   "execution_count": 42,
   "metadata": {},
   "outputs": [],
   "source": [
    "oe = OrdinalEncoder()\n",
    "x_enc = oe.fit_transform(x)"
   ]
  },
  {
   "cell_type": "code",
   "execution_count": 56,
   "metadata": {},
   "outputs": [
    {
     "name": "stderr",
     "output_type": "stream",
     "text": [
      "C:\\Users\\Gobinath\\Anaconda3\\lib\\site-packages\\sklearn\\preprocessing\\label.py:235: DataConversionWarning: A column-vector y was passed when a 1d array was expected. Please change the shape of y to (n_samples, ), for example using ravel().\n",
      "  y = column_or_1d(y, warn=True)\n"
     ]
    }
   ],
   "source": [
    "#ohe = OneHotEncoder()\n",
    "le = LabelEncoder()\n",
    "y_enc = le.fit_transform(y)"
   ]
  },
  {
   "cell_type": "code",
   "execution_count": 57,
   "metadata": {},
   "outputs": [],
   "source": [
    "x_enco=pd.DataFrame(x_enc,columns=x.columns)\n",
    "y_enco=pd.DataFrame(y_enc,columns=y.columns)"
   ]
  },
  {
   "cell_type": "code",
   "execution_count": 58,
   "metadata": {
    "scrolled": true
   },
   "outputs": [
    {
     "data": {
      "text/plain": [
       "((131662, 12), (131662, 1))"
      ]
     },
     "execution_count": 58,
     "metadata": {},
     "output_type": "execute_result"
    }
   ],
   "source": [
    "x_enco.shape,y_enco.shape"
   ]
  },
  {
   "cell_type": "markdown",
   "metadata": {},
   "source": [
    "## Splitting the training and testing data"
   ]
  },
  {
   "cell_type": "code",
   "execution_count": 89,
   "metadata": {
    "scrolled": true
   },
   "outputs": [],
   "source": [
    "x_train,x_test,y_train,y_test = train_test_split(x_enco,y,test_size=0.3,random_state=12,stratify=y)"
   ]
  },
  {
   "cell_type": "code",
   "execution_count": 90,
   "metadata": {},
   "outputs": [
    {
     "data": {
      "text/plain": [
       "((92163, 12), (92163, 3))"
      ]
     },
     "execution_count": 90,
     "metadata": {},
     "output_type": "execute_result"
    }
   ],
   "source": [
    "x_train.shape,y_train.shape"
   ]
  },
  {
   "cell_type": "code",
   "execution_count": 91,
   "metadata": {},
   "outputs": [],
   "source": [
    "from sklearn.preprocessing import StandardScaler\n",
    "std_scaler = StandardScaler()\n",
    "x_train_scaled = std_scaler.fit_transform(x_train)\n",
    "x_test_scaled = std_scaler.fit_transform(x_test)\n",
    "#x_train_scaled = pd.DataFrame(x_train_scaled,columns=data_raw.columns)"
   ]
  },
  {
   "cell_type": "markdown",
   "metadata": {},
   "source": [
    "#### obeservation: Inorder to standardize the values between -1 to 1 to increase the model efficiency."
   ]
  },
  {
   "cell_type": "code",
   "execution_count": 186,
   "metadata": {},
   "outputs": [],
   "source": [
    "from sklearn.preprocessing import MinMaxScaler\n",
    "mm_scaler = MinMaxScaler()\n",
    "x_train_m_scaled = mm_scaler.fit_transform(x_train)\n",
    "x_test_m_scaled = mm_scaler.fit_transform(x_test)"
   ]
  },
  {
   "cell_type": "markdown",
   "metadata": {},
   "source": [
    "#### obeservation: Inorder to standardize the values between 0 to 1 to increase the model efficiency."
   ]
  },
  {
   "cell_type": "code",
   "execution_count": 92,
   "metadata": {},
   "outputs": [],
   "source": [
    "x_train_scaled = pd.DataFrame(x_train_scaled,columns=x_enco.columns)\n",
    "x_test_scaled = pd.DataFrame(x_test_scaled,columns=x_enco.columns)"
   ]
  },
  {
   "cell_type": "code",
   "execution_count": 188,
   "metadata": {},
   "outputs": [],
   "source": [
    "x_train_m_scaled = pd.DataFrame(x_train_m_scaled,columns=x_enco.columns)\n",
    "x_test_m_scaled = pd.DataFrame(x_test_m_scaled,columns=x_enco.columns)"
   ]
  },
  {
   "cell_type": "code",
   "execution_count": 189,
   "metadata": {},
   "outputs": [
    {
     "data": {
      "text/html": [
       "<div>\n",
       "<style scoped>\n",
       "    .dataframe tbody tr th:only-of-type {\n",
       "        vertical-align: middle;\n",
       "    }\n",
       "\n",
       "    .dataframe tbody tr th {\n",
       "        vertical-align: top;\n",
       "    }\n",
       "\n",
       "    .dataframe thead th {\n",
       "        text-align: right;\n",
       "    }\n",
       "</style>\n",
       "<table border=\"1\" class=\"dataframe\">\n",
       "  <thead>\n",
       "    <tr style=\"text-align: right;\">\n",
       "      <th></th>\n",
       "      <th>Trip_Distance</th>\n",
       "      <th>Type_of_Cab</th>\n",
       "      <th>Customer_Since_Months</th>\n",
       "      <th>Life_Style_Index</th>\n",
       "      <th>Confidence_Life_Style_Index</th>\n",
       "      <th>Destination_Type</th>\n",
       "      <th>Customer_Rating</th>\n",
       "      <th>Cancellation_Last_1Month</th>\n",
       "      <th>Var1</th>\n",
       "      <th>Var2</th>\n",
       "      <th>Var3</th>\n",
       "      <th>Gender</th>\n",
       "    </tr>\n",
       "  </thead>\n",
       "  <tbody>\n",
       "    <tr>\n",
       "      <th>0</th>\n",
       "      <td>0.265569</td>\n",
       "      <td>0.50</td>\n",
       "      <td>0.2</td>\n",
       "      <td>0.209572</td>\n",
       "      <td>0.5</td>\n",
       "      <td>0.000000</td>\n",
       "      <td>0.464122</td>\n",
       "      <td>0.000000</td>\n",
       "      <td>0.280992</td>\n",
       "      <td>0.140351</td>\n",
       "      <td>0.127660</td>\n",
       "      <td>0.0</td>\n",
       "    </tr>\n",
       "    <tr>\n",
       "      <th>1</th>\n",
       "      <td>0.430024</td>\n",
       "      <td>0.25</td>\n",
       "      <td>1.0</td>\n",
       "      <td>0.472524</td>\n",
       "      <td>0.0</td>\n",
       "      <td>0.076923</td>\n",
       "      <td>0.513232</td>\n",
       "      <td>0.000000</td>\n",
       "      <td>0.280992</td>\n",
       "      <td>0.315789</td>\n",
       "      <td>0.382979</td>\n",
       "      <td>1.0</td>\n",
       "    </tr>\n",
       "    <tr>\n",
       "      <th>2</th>\n",
       "      <td>0.435254</td>\n",
       "      <td>0.25</td>\n",
       "      <td>0.8</td>\n",
       "      <td>0.161730</td>\n",
       "      <td>1.0</td>\n",
       "      <td>0.076923</td>\n",
       "      <td>0.262595</td>\n",
       "      <td>0.000000</td>\n",
       "      <td>0.355372</td>\n",
       "      <td>0.315789</td>\n",
       "      <td>0.276596</td>\n",
       "      <td>1.0</td>\n",
       "    </tr>\n",
       "    <tr>\n",
       "      <th>3</th>\n",
       "      <td>0.258499</td>\n",
       "      <td>0.25</td>\n",
       "      <td>0.9</td>\n",
       "      <td>0.824282</td>\n",
       "      <td>0.0</td>\n",
       "      <td>0.000000</td>\n",
       "      <td>0.500509</td>\n",
       "      <td>0.285714</td>\n",
       "      <td>0.553719</td>\n",
       "      <td>0.228070</td>\n",
       "      <td>0.244681</td>\n",
       "      <td>1.0</td>\n",
       "    </tr>\n",
       "    <tr>\n",
       "      <th>4</th>\n",
       "      <td>0.060726</td>\n",
       "      <td>0.25</td>\n",
       "      <td>0.3</td>\n",
       "      <td>0.501286</td>\n",
       "      <td>0.5</td>\n",
       "      <td>0.000000</td>\n",
       "      <td>0.895674</td>\n",
       "      <td>0.000000</td>\n",
       "      <td>0.305785</td>\n",
       "      <td>0.122807</td>\n",
       "      <td>0.138298</td>\n",
       "      <td>1.0</td>\n",
       "    </tr>\n",
       "    <tr>\n",
       "      <th>...</th>\n",
       "      <td>...</td>\n",
       "      <td>...</td>\n",
       "      <td>...</td>\n",
       "      <td>...</td>\n",
       "      <td>...</td>\n",
       "      <td>...</td>\n",
       "      <td>...</td>\n",
       "      <td>...</td>\n",
       "      <td>...</td>\n",
       "      <td>...</td>\n",
       "      <td>...</td>\n",
       "      <td>...</td>\n",
       "    </tr>\n",
       "    <tr>\n",
       "      <th>92158</th>\n",
       "      <td>0.134818</td>\n",
       "      <td>0.25</td>\n",
       "      <td>1.0</td>\n",
       "      <td>0.647456</td>\n",
       "      <td>0.5</td>\n",
       "      <td>0.307692</td>\n",
       "      <td>0.384987</td>\n",
       "      <td>0.571429</td>\n",
       "      <td>0.239669</td>\n",
       "      <td>0.526316</td>\n",
       "      <td>0.414894</td>\n",
       "      <td>1.0</td>\n",
       "    </tr>\n",
       "    <tr>\n",
       "      <th>92159</th>\n",
       "      <td>0.971913</td>\n",
       "      <td>0.50</td>\n",
       "      <td>0.5</td>\n",
       "      <td>0.654137</td>\n",
       "      <td>0.5</td>\n",
       "      <td>0.384615</td>\n",
       "      <td>0.866412</td>\n",
       "      <td>0.000000</td>\n",
       "      <td>0.264463</td>\n",
       "      <td>0.052632</td>\n",
       "      <td>0.276596</td>\n",
       "      <td>0.0</td>\n",
       "    </tr>\n",
       "    <tr>\n",
       "      <th>92160</th>\n",
       "      <td>0.176949</td>\n",
       "      <td>0.50</td>\n",
       "      <td>0.3</td>\n",
       "      <td>0.053416</td>\n",
       "      <td>1.0</td>\n",
       "      <td>0.000000</td>\n",
       "      <td>0.828499</td>\n",
       "      <td>0.285714</td>\n",
       "      <td>0.280992</td>\n",
       "      <td>0.122807</td>\n",
       "      <td>0.074468</td>\n",
       "      <td>1.0</td>\n",
       "    </tr>\n",
       "    <tr>\n",
       "      <th>92161</th>\n",
       "      <td>0.156029</td>\n",
       "      <td>0.50</td>\n",
       "      <td>1.0</td>\n",
       "      <td>0.409461</td>\n",
       "      <td>0.0</td>\n",
       "      <td>0.000000</td>\n",
       "      <td>0.315013</td>\n",
       "      <td>0.142857</td>\n",
       "      <td>0.066116</td>\n",
       "      <td>0.140351</td>\n",
       "      <td>0.212766</td>\n",
       "      <td>0.0</td>\n",
       "    </tr>\n",
       "    <tr>\n",
       "      <th>92162</th>\n",
       "      <td>0.575400</td>\n",
       "      <td>0.25</td>\n",
       "      <td>0.2</td>\n",
       "      <td>0.509844</td>\n",
       "      <td>0.5</td>\n",
       "      <td>0.000000</td>\n",
       "      <td>0.468957</td>\n",
       "      <td>0.000000</td>\n",
       "      <td>0.280992</td>\n",
       "      <td>0.140351</td>\n",
       "      <td>0.170213</td>\n",
       "      <td>1.0</td>\n",
       "    </tr>\n",
       "  </tbody>\n",
       "</table>\n",
       "<p>92163 rows × 12 columns</p>\n",
       "</div>"
      ],
      "text/plain": [
       "       Trip_Distance  Type_of_Cab  Customer_Since_Months  Life_Style_Index  \\\n",
       "0           0.265569         0.50                    0.2          0.209572   \n",
       "1           0.430024         0.25                    1.0          0.472524   \n",
       "2           0.435254         0.25                    0.8          0.161730   \n",
       "3           0.258499         0.25                    0.9          0.824282   \n",
       "4           0.060726         0.25                    0.3          0.501286   \n",
       "...              ...          ...                    ...               ...   \n",
       "92158       0.134818         0.25                    1.0          0.647456   \n",
       "92159       0.971913         0.50                    0.5          0.654137   \n",
       "92160       0.176949         0.50                    0.3          0.053416   \n",
       "92161       0.156029         0.50                    1.0          0.409461   \n",
       "92162       0.575400         0.25                    0.2          0.509844   \n",
       "\n",
       "       Confidence_Life_Style_Index  Destination_Type  Customer_Rating  \\\n",
       "0                              0.5          0.000000         0.464122   \n",
       "1                              0.0          0.076923         0.513232   \n",
       "2                              1.0          0.076923         0.262595   \n",
       "3                              0.0          0.000000         0.500509   \n",
       "4                              0.5          0.000000         0.895674   \n",
       "...                            ...               ...              ...   \n",
       "92158                          0.5          0.307692         0.384987   \n",
       "92159                          0.5          0.384615         0.866412   \n",
       "92160                          1.0          0.000000         0.828499   \n",
       "92161                          0.0          0.000000         0.315013   \n",
       "92162                          0.5          0.000000         0.468957   \n",
       "\n",
       "       Cancellation_Last_1Month      Var1      Var2      Var3  Gender  \n",
       "0                      0.000000  0.280992  0.140351  0.127660     0.0  \n",
       "1                      0.000000  0.280992  0.315789  0.382979     1.0  \n",
       "2                      0.000000  0.355372  0.315789  0.276596     1.0  \n",
       "3                      0.285714  0.553719  0.228070  0.244681     1.0  \n",
       "4                      0.000000  0.305785  0.122807  0.138298     1.0  \n",
       "...                         ...       ...       ...       ...     ...  \n",
       "92158                  0.571429  0.239669  0.526316  0.414894     1.0  \n",
       "92159                  0.000000  0.264463  0.052632  0.276596     0.0  \n",
       "92160                  0.285714  0.280992  0.122807  0.074468     1.0  \n",
       "92161                  0.142857  0.066116  0.140351  0.212766     0.0  \n",
       "92162                  0.000000  0.280992  0.140351  0.170213     1.0  \n",
       "\n",
       "[92163 rows x 12 columns]"
      ]
     },
     "execution_count": 189,
     "metadata": {},
     "output_type": "execute_result"
    }
   ],
   "source": [
    "x_train_m_scaled"
   ]
  },
  {
   "cell_type": "code",
   "execution_count": 190,
   "metadata": {},
   "outputs": [
    {
     "data": {
      "text/plain": [
       "(92163, 12)"
      ]
     },
     "execution_count": 190,
     "metadata": {},
     "output_type": "execute_result"
    }
   ],
   "source": [
    "x_train_m_scaled.shape"
   ]
  },
  {
   "cell_type": "code",
   "execution_count": 94,
   "metadata": {},
   "outputs": [
    {
     "data": {
      "text/plain": [
       "Surge_Pricing_Type_1    uint8\n",
       "Surge_Pricing_Type_2    uint8\n",
       "Surge_Pricing_Type_3    uint8\n",
       "dtype: object"
      ]
     },
     "execution_count": 94,
     "metadata": {},
     "output_type": "execute_result"
    }
   ],
   "source": [
    "y_train.dtypes"
   ]
  },
  {
   "cell_type": "code",
   "execution_count": 84,
   "metadata": {},
   "outputs": [
    {
     "name": "stderr",
     "output_type": "stream",
     "text": [
      "C:\\Users\\Gobinath\\Anaconda3\\lib\\site-packages\\sklearn\\preprocessing\\_encoders.py:415: FutureWarning: The handling of integer data will change in version 0.22. Currently, the categories are determined based on the range [0, max(values)], while in the future they will be determined based on the unique values.\n",
      "If you want the future behaviour and silence this warning, you can specify \"categories='auto'\".\n",
      "In case you used a LabelEncoder before this OneHotEncoder to convert the categories to integers, then you can now use the OneHotEncoder directly.\n",
      "  warnings.warn(msg, FutureWarning)\n",
      "C:\\Users\\Gobinath\\Anaconda3\\lib\\site-packages\\sklearn\\preprocessing\\_encoders.py:415: FutureWarning: The handling of integer data will change in version 0.22. Currently, the categories are determined based on the range [0, max(values)], while in the future they will be determined based on the unique values.\n",
      "If you want the future behaviour and silence this warning, you can specify \"categories='auto'\".\n",
      "In case you used a LabelEncoder before this OneHotEncoder to convert the categories to integers, then you can now use the OneHotEncoder directly.\n",
      "  warnings.warn(msg, FutureWarning)\n"
     ]
    }
   ],
   "source": []
  },
  {
   "cell_type": "code",
   "execution_count": 95,
   "metadata": {
    "scrolled": true
   },
   "outputs": [
    {
     "data": {
      "text/html": [
       "<div>\n",
       "<style scoped>\n",
       "    .dataframe tbody tr th:only-of-type {\n",
       "        vertical-align: middle;\n",
       "    }\n",
       "\n",
       "    .dataframe tbody tr th {\n",
       "        vertical-align: top;\n",
       "    }\n",
       "\n",
       "    .dataframe thead th {\n",
       "        text-align: right;\n",
       "    }\n",
       "</style>\n",
       "<table border=\"1\" class=\"dataframe\">\n",
       "  <thead>\n",
       "    <tr style=\"text-align: right;\">\n",
       "      <th></th>\n",
       "      <th>Surge_Pricing_Type_1</th>\n",
       "      <th>Surge_Pricing_Type_2</th>\n",
       "      <th>Surge_Pricing_Type_3</th>\n",
       "    </tr>\n",
       "  </thead>\n",
       "  <tbody>\n",
       "    <tr>\n",
       "      <th>73547</th>\n",
       "      <td>0</td>\n",
       "      <td>1</td>\n",
       "      <td>0</td>\n",
       "    </tr>\n",
       "    <tr>\n",
       "      <th>29337</th>\n",
       "      <td>0</td>\n",
       "      <td>1</td>\n",
       "      <td>0</td>\n",
       "    </tr>\n",
       "    <tr>\n",
       "      <th>65072</th>\n",
       "      <td>0</td>\n",
       "      <td>1</td>\n",
       "      <td>0</td>\n",
       "    </tr>\n",
       "    <tr>\n",
       "      <th>37690</th>\n",
       "      <td>0</td>\n",
       "      <td>1</td>\n",
       "      <td>0</td>\n",
       "    </tr>\n",
       "    <tr>\n",
       "      <th>62067</th>\n",
       "      <td>0</td>\n",
       "      <td>1</td>\n",
       "      <td>0</td>\n",
       "    </tr>\n",
       "    <tr>\n",
       "      <th>84695</th>\n",
       "      <td>0</td>\n",
       "      <td>1</td>\n",
       "      <td>0</td>\n",
       "    </tr>\n",
       "    <tr>\n",
       "      <th>57291</th>\n",
       "      <td>0</td>\n",
       "      <td>1</td>\n",
       "      <td>0</td>\n",
       "    </tr>\n",
       "    <tr>\n",
       "      <th>99040</th>\n",
       "      <td>1</td>\n",
       "      <td>0</td>\n",
       "      <td>0</td>\n",
       "    </tr>\n",
       "    <tr>\n",
       "      <th>88772</th>\n",
       "      <td>0</td>\n",
       "      <td>1</td>\n",
       "      <td>0</td>\n",
       "    </tr>\n",
       "    <tr>\n",
       "      <th>130782</th>\n",
       "      <td>0</td>\n",
       "      <td>1</td>\n",
       "      <td>0</td>\n",
       "    </tr>\n",
       "  </tbody>\n",
       "</table>\n",
       "</div>"
      ],
      "text/plain": [
       "        Surge_Pricing_Type_1  Surge_Pricing_Type_2  Surge_Pricing_Type_3\n",
       "73547                      0                     1                     0\n",
       "29337                      0                     1                     0\n",
       "65072                      0                     1                     0\n",
       "37690                      0                     1                     0\n",
       "62067                      0                     1                     0\n",
       "84695                      0                     1                     0\n",
       "57291                      0                     1                     0\n",
       "99040                      1                     0                     0\n",
       "88772                      0                     1                     0\n",
       "130782                     0                     1                     0"
      ]
     },
     "execution_count": 95,
     "metadata": {},
     "output_type": "execute_result"
    }
   ],
   "source": [
    "y_train.head(10)"
   ]
  },
  {
   "cell_type": "markdown",
   "metadata": {},
   "source": [
    "## Model building"
   ]
  },
  {
   "cell_type": "code",
   "execution_count": 96,
   "metadata": {},
   "outputs": [
    {
     "name": "stderr",
     "output_type": "stream",
     "text": [
      "Using TensorFlow backend.\n"
     ]
    }
   ],
   "source": [
    "from keras.models import Sequential\n",
    "from keras.layers import Dense\n",
    "import keras"
   ]
  },
  {
   "cell_type": "code",
   "execution_count": 99,
   "metadata": {},
   "outputs": [],
   "source": [
    "import tensorflow as tf\n",
    "from tensorflow import keras"
   ]
  },
  {
   "cell_type": "code",
   "execution_count": 124,
   "metadata": {},
   "outputs": [],
   "source": [
    "random_normal=tf.keras.initializers.RandomNormal(mean=0.0, stddev=0.05, seed=None)\n"
   ]
  },
  {
   "cell_type": "code",
   "execution_count": 136,
   "metadata": {
    "scrolled": false
   },
   "outputs": [
    {
     "name": "stdout",
     "output_type": "stream",
     "text": [
      "Model: \"sequential_6\"\n",
      "_________________________________________________________________\n",
      "Layer (type)                 Output Shape              Param #   \n",
      "=================================================================\n",
      "dense_14 (Dense)             (None, 30)                390       \n",
      "_________________________________________________________________\n",
      "dense_15 (Dense)             (None, 15)                465       \n",
      "_________________________________________________________________\n",
      "dense_16 (Dense)             (None, 3)                 48        \n",
      "=================================================================\n",
      "Total params: 903\n",
      "Trainable params: 903\n",
      "Non-trainable params: 0\n",
      "_________________________________________________________________\n"
     ]
    }
   ],
   "source": [
    "model = Sequential()\n",
    "model.add(Dense(units=30,input_dim = 12,activation='relu',kernel_initializer ='uniform'))\n",
    "model.add(Dense(units = 15,activation = 'relu',kernel_initializer='uniform'))\n",
    "model.add(Dense(units = 3,activation='softmax',kernel_initializer='uniform'))\n",
    "model.summary()"
   ]
  },
  {
   "cell_type": "markdown",
   "metadata": {},
   "source": [
    "#### observation: Input layer consists of input dimension as 12 because 12 features present in the train data. SOFTMAX used in the output layer,beacause the model targets to the multiclass classification, RECTIFIED LINEAR UNIT is used in both input and hidden layer."
   ]
  },
  {
   "cell_type": "code",
   "execution_count": 137,
   "metadata": {},
   "outputs": [],
   "source": [
    "#adam_opt = tf.keras.optimizers.Adam(learning_rate=0.01,beta_1=0.9, beta_2=0.999, epsilon=1e-07)\n",
    "adagrad = tf.keras.optimizers.Adagrad(learning_rate=0.1,initial_accumulator_value=0.1)\n",
    "#gradient_descent_opt = tf.keras.optimizers.SGD(learning_rate=0.01, momentum=0.9, nesterov=True)\n",
    "rms_prop=tf.keras.optimizers.RMSprop(\n",
    "    learning_rate=0.1,\n",
    "    rho=0.9,\n",
    "    momentum=0.0,\n",
    "    epsilon=1e-07)"
   ]
  },
  {
   "cell_type": "markdown",
   "metadata": {},
   "source": [
    "#### observation: seperate optimizers are stored in object with their tuned hyperparameters."
   ]
  },
  {
   "cell_type": "code",
   "execution_count": 169,
   "metadata": {},
   "outputs": [
    {
     "name": "stderr",
     "output_type": "stream",
     "text": [
      "ERROR:root:Internal Python error in the inspect module.\n",
      "Below is the traceback from this internal error.\n",
      "\n"
     ]
    },
    {
     "name": "stdout",
     "output_type": "stream",
     "text": [
      "Traceback (most recent call last):\n",
      "  File \"C:\\Users\\Gobinath\\Anaconda3\\lib\\site-packages\\IPython\\core\\interactiveshell.py\", line 3326, in run_code\n",
      "    exec(code_obj, self.user_global_ns, self.user_ns)\n",
      "  File \"<ipython-input-169-2b05e95257a8>\", line 1, in <module>\n",
      "    model.compile(optimizer=rms_prop,loss='sparse_categorical_crossentropy',metrics=['accuracy'])\n",
      "AttributeError: 'KerasClassifier' object has no attribute 'compile'\n",
      "\n",
      "During handling of the above exception, another exception occurred:\n",
      "\n",
      "Traceback (most recent call last):\n",
      "  File \"C:\\Users\\Gobinath\\Anaconda3\\lib\\site-packages\\IPython\\core\\interactiveshell.py\", line 2040, in showtraceback\n",
      "    stb = value._render_traceback_()\n",
      "AttributeError: 'AttributeError' object has no attribute '_render_traceback_'\n",
      "\n",
      "During handling of the above exception, another exception occurred:\n",
      "\n",
      "Traceback (most recent call last):\n",
      "  File \"C:\\Users\\Gobinath\\Anaconda3\\lib\\site-packages\\IPython\\core\\ultratb.py\", line 1101, in get_records\n",
      "    return _fixed_getinnerframes(etb, number_of_lines_of_context, tb_offset)\n",
      "  File \"C:\\Users\\Gobinath\\Anaconda3\\lib\\site-packages\\IPython\\core\\ultratb.py\", line 319, in wrapped\n",
      "    return f(*args, **kwargs)\n",
      "  File \"C:\\Users\\Gobinath\\Anaconda3\\lib\\site-packages\\IPython\\core\\ultratb.py\", line 353, in _fixed_getinnerframes\n",
      "    records = fix_frame_records_filenames(inspect.getinnerframes(etb, context))\n",
      "  File \"C:\\Users\\Gobinath\\Anaconda3\\lib\\inspect.py\", line 1502, in getinnerframes\n",
      "    frameinfo = (tb.tb_frame,) + getframeinfo(tb, context)\n",
      "  File \"C:\\Users\\Gobinath\\Anaconda3\\lib\\inspect.py\", line 1460, in getframeinfo\n",
      "    filename = getsourcefile(frame) or getfile(frame)\n",
      "  File \"C:\\Users\\Gobinath\\Anaconda3\\lib\\inspect.py\", line 696, in getsourcefile\n",
      "    if getattr(getmodule(object, filename), '__loader__', None) is not None:\n",
      "  File \"C:\\Users\\Gobinath\\Anaconda3\\lib\\inspect.py\", line 733, in getmodule\n",
      "    if ismodule(module) and hasattr(module, '__file__'):\n",
      "  File \"C:\\Users\\Gobinath\\Anaconda3\\lib\\site-packages\\tensorflow\\__init__.py\", line 50, in __getattr__\n",
      "    module = self._load()\n",
      "  File \"C:\\Users\\Gobinath\\Anaconda3\\lib\\site-packages\\tensorflow\\__init__.py\", line 44, in _load\n",
      "    module = _importlib.import_module(self.__name__)\n",
      "  File \"C:\\Users\\Gobinath\\Anaconda3\\lib\\importlib\\__init__.py\", line 127, in import_module\n",
      "    return _bootstrap._gcd_import(name[level:], package, level)\n",
      "  File \"<frozen importlib._bootstrap>\", line 1006, in _gcd_import\n",
      "  File \"<frozen importlib._bootstrap>\", line 983, in _find_and_load\n",
      "  File \"<frozen importlib._bootstrap>\", line 965, in _find_and_load_unlocked\n",
      "ModuleNotFoundError: No module named 'tensorflow_core.estimator'\n"
     ]
    },
    {
     "ename": "AttributeError",
     "evalue": "'KerasClassifier' object has no attribute 'compile'",
     "output_type": "error",
     "traceback": [
      "\u001b[1;31m---------------------------------------------------------------------------\u001b[0m"
     ]
    }
   ],
   "source": [
    "model.compile(optimizer=rms_prop,loss='sparse_categorical_crossentropy',metrics=['accuracy'])"
   ]
  },
  {
   "cell_type": "code",
   "execution_count": 139,
   "metadata": {},
   "outputs": [
    {
     "name": "stdout",
     "output_type": "stream",
     "text": [
      "Epoch 1/20\n",
      " - 6s - loss: 0.9824 - accuracy: 0.5072\n",
      "Epoch 2/20\n",
      " - 5s - loss: 0.9116 - accuracy: 0.6152\n",
      "Epoch 3/20\n",
      " - 6s - loss: 0.9099 - accuracy: 0.6260\n",
      "Epoch 4/20\n",
      " - 6s - loss: 0.8983 - accuracy: 0.6390\n",
      "Epoch 5/20\n",
      " - 5s - loss: 0.9004 - accuracy: 0.6392\n",
      "Epoch 6/20\n",
      " - 7s - loss: 0.8972 - accuracy: 0.6413\n",
      "Epoch 7/20\n",
      " - 6s - loss: 0.8968 - accuracy: 0.6449\n",
      "Epoch 8/20\n",
      " - 6s - loss: 0.8976 - accuracy: 0.6446\n",
      "Epoch 9/20\n",
      " - 6s - loss: 0.9041 - accuracy: 0.6353\n",
      "Epoch 10/20\n",
      " - 6s - loss: 0.9037 - accuracy: 0.6395\n",
      "Epoch 11/20\n",
      " - 6s - loss: 0.8988 - accuracy: 0.6384\n",
      "Epoch 12/20\n",
      " - 6s - loss: 0.8963 - accuracy: 0.6379\n",
      "Epoch 13/20\n",
      " - 6s - loss: 0.8961 - accuracy: 0.6376\n",
      "Epoch 14/20\n",
      " - 6s - loss: 0.8948 - accuracy: 0.6375\n",
      "Epoch 15/20\n",
      " - 6s - loss: 0.8922 - accuracy: 0.6434\n",
      "Epoch 16/20\n",
      " - 6s - loss: 0.8968 - accuracy: 0.6396\n",
      "Epoch 17/20\n",
      " - 6s - loss: 0.8991 - accuracy: 0.6347\n",
      "Epoch 18/20\n",
      " - 6s - loss: 0.8925 - accuracy: 0.6419\n",
      "Epoch 19/20\n",
      " - 7s - loss: 0.8980 - accuracy: 0.6349\n",
      "Epoch 20/20\n",
      " - 6s - loss: 0.8978 - accuracy: 0.6355\n"
     ]
    }
   ],
   "source": [
    "model_train = model.fit(x=x_train_scaled,y=y_train,batch_size=15,epochs=20,verbose=2)"
   ]
  },
  {
   "cell_type": "code",
   "execution_count": 140,
   "metadata": {},
   "outputs": [],
   "source": [
    "from sklearn.model_selection import GridSearchCV, KFold\n",
    "from keras.wrappers.scikit_learn import KerasClassifier"
   ]
  },
  {
   "cell_type": "code",
   "execution_count": 141,
   "metadata": {},
   "outputs": [],
   "source": [
    "def build_model():\n",
    "    model = Sequential()\n",
    "    model.add(Dense(units=30,input_dim = 12,activation='relu',kernel_initializer ='uniform'))\n",
    "    model.add(Dense(units =20,activation = 'relu',kernel_initializer='uniform'))\n",
    "    model.add(Dense(units = 3,activation='softmax',kernel_initializer='uniform'))\n",
    "    \n",
    "    #adam=adam_v2(lr=0.01)\n",
    "    model.compile(loss='categorical_crossentropy', optimizer='adam', metrics=['accuracy'])\n",
    "    return model"
   ]
  },
  {
   "cell_type": "code",
   "execution_count": 142,
   "metadata": {},
   "outputs": [],
   "source": [
    "model = KerasClassifier(build_fn = build_model,verbose = 0)"
   ]
  },
  {
   "cell_type": "code",
   "execution_count": 143,
   "metadata": {
    "scrolled": true
   },
   "outputs": [
    {
     "name": "stderr",
     "output_type": "stream",
     "text": [
      "C:\\Users\\Gobinath\\Anaconda3\\lib\\site-packages\\sklearn\\model_selection\\_split.py:431: FutureWarning: The default value of n_split will change from 3 to 5 in version 0.22. Specify it explicitly to silence this warning.\n",
      "  warnings.warn(NSPLIT_WARNING, FutureWarning)\n",
      "[Parallel(n_jobs=1)]: Using backend SequentialBackend with 1 concurrent workers.\n"
     ]
    },
    {
     "name": "stdout",
     "output_type": "stream",
     "text": [
      "Fitting 3 folds for each of 12 candidates, totalling 36 fits\n",
      "[CV] batch_size=30, epochs=10 ........................................\n",
      "[CV] ............ batch_size=30, epochs=10, score=0.791, total=  29.7s\n",
      "[CV] batch_size=30, epochs=10 ........................................\n"
     ]
    },
    {
     "name": "stderr",
     "output_type": "stream",
     "text": [
      "[Parallel(n_jobs=1)]: Done   1 out of   1 | elapsed:   29.6s remaining:    0.0s\n"
     ]
    },
    {
     "name": "stdout",
     "output_type": "stream",
     "text": [
      "[CV] ............ batch_size=30, epochs=10, score=0.791, total=  32.8s\n",
      "[CV] batch_size=30, epochs=10 ........................................\n"
     ]
    },
    {
     "name": "stderr",
     "output_type": "stream",
     "text": [
      "[Parallel(n_jobs=1)]: Done   2 out of   2 | elapsed:  1.0min remaining:    0.0s\n"
     ]
    },
    {
     "name": "stdout",
     "output_type": "stream",
     "text": [
      "[CV] ............ batch_size=30, epochs=10, score=0.790, total=  30.5s\n",
      "[CV] batch_size=30, epochs=50 ........................................\n"
     ]
    },
    {
     "name": "stderr",
     "output_type": "stream",
     "text": [
      "[Parallel(n_jobs=1)]: Done   3 out of   3 | elapsed:  1.5min remaining:    0.0s\n"
     ]
    },
    {
     "name": "stdout",
     "output_type": "stream",
     "text": [
      "[CV] ............ batch_size=30, epochs=50, score=0.792, total= 2.5min\n",
      "[CV] batch_size=30, epochs=50 ........................................\n"
     ]
    },
    {
     "name": "stderr",
     "output_type": "stream",
     "text": [
      "[Parallel(n_jobs=1)]: Done   4 out of   4 | elapsed:  4.0min remaining:    0.0s\n"
     ]
    },
    {
     "name": "stdout",
     "output_type": "stream",
     "text": [
      "[CV] ............ batch_size=30, epochs=50, score=0.790, total= 2.8min\n",
      "[CV] batch_size=30, epochs=50 ........................................\n"
     ]
    },
    {
     "name": "stderr",
     "output_type": "stream",
     "text": [
      "[Parallel(n_jobs=1)]: Done   5 out of   5 | elapsed:  6.8min remaining:    0.0s\n"
     ]
    },
    {
     "name": "stdout",
     "output_type": "stream",
     "text": [
      "[CV] ............ batch_size=30, epochs=50, score=0.793, total= 3.1min\n",
      "[CV] batch_size=30, epochs=100 .......................................\n"
     ]
    },
    {
     "name": "stderr",
     "output_type": "stream",
     "text": [
      "[Parallel(n_jobs=1)]: Done   6 out of   6 | elapsed:  9.9min remaining:    0.0s\n"
     ]
    },
    {
     "name": "stdout",
     "output_type": "stream",
     "text": [
      "[CV] ........... batch_size=30, epochs=100, score=0.793, total= 4.9min\n",
      "[CV] batch_size=30, epochs=100 .......................................\n"
     ]
    },
    {
     "name": "stderr",
     "output_type": "stream",
     "text": [
      "[Parallel(n_jobs=1)]: Done   7 out of   7 | elapsed: 14.8min remaining:    0.0s\n"
     ]
    },
    {
     "name": "stdout",
     "output_type": "stream",
     "text": [
      "[CV] ........... batch_size=30, epochs=100, score=0.791, total= 5.1min\n",
      "[CV] batch_size=30, epochs=100 .......................................\n"
     ]
    },
    {
     "name": "stderr",
     "output_type": "stream",
     "text": [
      "[Parallel(n_jobs=1)]: Done   8 out of   8 | elapsed: 19.9min remaining:    0.0s\n"
     ]
    },
    {
     "name": "stdout",
     "output_type": "stream",
     "text": [
      "[CV] ........... batch_size=30, epochs=100, score=0.791, total= 5.5min\n",
      "[CV] batch_size=30, epochs=150 .......................................\n"
     ]
    },
    {
     "name": "stderr",
     "output_type": "stream",
     "text": [
      "[Parallel(n_jobs=1)]: Done   9 out of   9 | elapsed: 25.4min remaining:    0.0s\n"
     ]
    },
    {
     "name": "stdout",
     "output_type": "stream",
     "text": [
      "[CV] ........... batch_size=30, epochs=150, score=0.791, total= 7.4min\n",
      "[CV] batch_size=30, epochs=150 .......................................\n",
      "[CV] ........... batch_size=30, epochs=150, score=0.792, total= 7.9min\n",
      "[CV] batch_size=30, epochs=150 .......................................\n",
      "[CV] ........... batch_size=30, epochs=150, score=0.793, total= 7.8min\n",
      "[CV] batch_size=40, epochs=10 ........................................\n",
      "[CV] ............ batch_size=40, epochs=10, score=0.792, total=  24.2s\n",
      "[CV] batch_size=40, epochs=10 ........................................\n",
      "[CV] ............ batch_size=40, epochs=10, score=0.789, total=  24.0s\n",
      "[CV] batch_size=40, epochs=10 ........................................\n",
      "[CV] ............ batch_size=40, epochs=10, score=0.789, total=  23.7s\n",
      "[CV] batch_size=40, epochs=50 ........................................\n",
      "[CV] ............ batch_size=40, epochs=50, score=0.791, total= 2.0min\n",
      "[CV] batch_size=40, epochs=50 ........................................\n",
      "[CV] ............ batch_size=40, epochs=50, score=0.790, total= 2.2min\n",
      "[CV] batch_size=40, epochs=50 ........................................\n",
      "[CV] ............ batch_size=40, epochs=50, score=0.793, total= 2.1min\n",
      "[CV] batch_size=40, epochs=100 .......................................\n",
      "[CV] ........... batch_size=40, epochs=100, score=0.791, total= 3.9min\n",
      "[CV] batch_size=40, epochs=100 .......................................\n",
      "[CV] ........... batch_size=40, epochs=100, score=0.791, total= 3.8min\n",
      "[CV] batch_size=40, epochs=100 .......................................\n",
      "[CV] ........... batch_size=40, epochs=100, score=0.793, total= 4.0min\n",
      "[CV] batch_size=40, epochs=150 .......................................\n",
      "[CV] ........... batch_size=40, epochs=150, score=0.789, total= 6.1min\n",
      "[CV] batch_size=40, epochs=150 .......................................\n",
      "[CV] ........... batch_size=40, epochs=150, score=0.792, total= 5.8min\n",
      "[CV] batch_size=40, epochs=150 .......................................\n",
      "[CV] ........... batch_size=40, epochs=150, score=0.793, total= 6.2min\n",
      "[CV] batch_size=45, epochs=10 ........................................\n",
      "[CV] ............ batch_size=45, epochs=10, score=0.792, total=  22.8s\n",
      "[CV] batch_size=45, epochs=10 ........................................\n",
      "[CV] ............ batch_size=45, epochs=10, score=0.791, total=  22.7s\n",
      "[CV] batch_size=45, epochs=10 ........................................\n",
      "[CV] ............ batch_size=45, epochs=10, score=0.793, total=  21.4s\n",
      "[CV] batch_size=45, epochs=50 ........................................\n",
      "[CV] ............ batch_size=45, epochs=50, score=0.793, total= 1.7min\n",
      "[CV] batch_size=45, epochs=50 ........................................\n",
      "[CV] ............ batch_size=45, epochs=50, score=0.790, total= 1.7min\n",
      "[CV] batch_size=45, epochs=50 ........................................\n",
      "[CV] ............ batch_size=45, epochs=50, score=0.791, total= 1.7min\n",
      "[CV] batch_size=45, epochs=100 .......................................\n",
      "[CV] ........... batch_size=45, epochs=100, score=0.793, total= 3.5min\n",
      "[CV] batch_size=45, epochs=100 .......................................\n",
      "[CV] ........... batch_size=45, epochs=100, score=0.791, total= 3.7min\n",
      "[CV] batch_size=45, epochs=100 .......................................\n",
      "[CV] ........... batch_size=45, epochs=100, score=0.790, total= 3.5min\n",
      "[CV] batch_size=45, epochs=150 .......................................\n",
      "[CV] ........... batch_size=45, epochs=150, score=0.793, total= 5.2min\n",
      "[CV] batch_size=45, epochs=150 .......................................\n",
      "[CV] ........... batch_size=45, epochs=150, score=0.792, total= 5.2min\n",
      "[CV] batch_size=45, epochs=150 .......................................\n",
      "[CV] ........... batch_size=45, epochs=150, score=0.786, total= 5.3min\n"
     ]
    },
    {
     "name": "stderr",
     "output_type": "stream",
     "text": [
      "[Parallel(n_jobs=1)]: Done  36 out of  36 | elapsed: 118.3min finished\n"
     ]
    }
   ],
   "source": [
    "grid = GridSearchCV(estimator = model,param_grid = {'batch_size' : [30,40,45],'epochs' : [10,50,100,150]},\n",
    "                    cv = KFold(),\n",
    "                    verbose = 10)\n",
    "\n",
    "grid_result = grid.fit(x_train_scaled,y_train)"
   ]
  },
  {
   "cell_type": "code",
   "execution_count": 144,
   "metadata": {},
   "outputs": [
    {
     "name": "stdout",
     "output_type": "stream",
     "text": [
      "Best : 0.7919301788012186, using {'batch_size': 45, 'epochs': 10}\n"
     ]
    }
   ],
   "source": [
    "print('Best : {}, using {}'.format(grid_result.best_score_,grid_result.best_params_))"
   ]
  },
  {
   "cell_type": "code",
   "execution_count": 145,
   "metadata": {},
   "outputs": [],
   "source": [
    "means = grid_result.cv_results_['mean_test_score']\n",
    "stds  = grid_result.cv_results_['std_test_score']\n",
    "params = grid_result.cv_results_['params']"
   ]
  },
  {
   "cell_type": "code",
   "execution_count": 146,
   "metadata": {},
   "outputs": [
    {
     "data": {
      "text/plain": [
       "array([0.79073685, 0.7916554 , 0.7916374 , 0.79187216, 0.79007121,\n",
       "       0.79119575, 0.7919265 , 0.79137705, 0.79193018, 0.79131548,\n",
       "       0.7915648 , 0.79038231])"
      ]
     },
     "execution_count": 146,
     "metadata": {},
     "output_type": "execute_result"
    }
   ],
   "source": [
    "grid_result.cv_results_['mean_test_score']"
   ]
  },
  {
   "cell_type": "code",
   "execution_count": 147,
   "metadata": {},
   "outputs": [
    {
     "data": {
      "text/plain": [
       "{'mean_fit_time': array([ 30.29992215, 165.74850519, 310.50599448, 461.72749631,\n",
       "         23.41584746, 123.89637097, 233.81714908, 360.9945151 ,\n",
       "         21.79506707, 101.07659427, 213.3487552 , 312.4020009 ]),\n",
       " 'std_fit_time': array([ 1.34943613, 13.64438764, 14.1477432 , 14.3389488 ,  0.22383467,\n",
       "         4.31830665,  3.84044456, 10.67003629,  0.62993955,  0.8281678 ,\n",
       "         6.83448257,  1.70137617]),\n",
       " 'mean_score_time': array([0.69093243, 0.84275842, 0.72605324, 0.60927415, 0.55520837,\n",
       "        0.57103976, 0.58090774, 0.55861505, 0.50740449, 0.5529991 ,\n",
       "        0.84748316, 0.56665786]),\n",
       " 'std_score_time': array([0.11285382, 0.0932937 , 0.06178525, 0.04607759, 0.00632525,\n",
       "        0.02075643, 0.02483298, 0.00616537, 0.01692314, 0.11099147,\n",
       "        0.48478534, 0.02836299]),\n",
       " 'param_batch_size': masked_array(data=[30, 30, 30, 30, 40, 40, 40, 40, 45, 45, 45, 45],\n",
       "              mask=[False, False, False, False, False, False, False, False,\n",
       "                    False, False, False, False],\n",
       "        fill_value='?',\n",
       "             dtype=object),\n",
       " 'param_epochs': masked_array(data=[10, 50, 100, 150, 10, 50, 100, 150, 10, 50, 100, 150],\n",
       "              mask=[False, False, False, False, False, False, False, False,\n",
       "                    False, False, False, False],\n",
       "        fill_value='?',\n",
       "             dtype=object),\n",
       " 'params': [{'batch_size': 30, 'epochs': 10},\n",
       "  {'batch_size': 30, 'epochs': 50},\n",
       "  {'batch_size': 30, 'epochs': 100},\n",
       "  {'batch_size': 30, 'epochs': 150},\n",
       "  {'batch_size': 40, 'epochs': 10},\n",
       "  {'batch_size': 40, 'epochs': 50},\n",
       "  {'batch_size': 40, 'epochs': 100},\n",
       "  {'batch_size': 40, 'epochs': 150},\n",
       "  {'batch_size': 45, 'epochs': 10},\n",
       "  {'batch_size': 45, 'epochs': 50},\n",
       "  {'batch_size': 45, 'epochs': 100},\n",
       "  {'batch_size': 45, 'epochs': 150}],\n",
       " 'split0_test_score': array([0.79088175, 0.79185772, 0.79319257, 0.79129338, 0.79215091,\n",
       "        0.79065305, 0.79149997, 0.78949314, 0.79203159, 0.79271507,\n",
       "        0.79326874, 0.79332286]),\n",
       " 'split1_test_score': array([0.79118514, 0.79010004, 0.7908054 , 0.79173845, 0.78910196,\n",
       "        0.79037184, 0.79135847, 0.79197705, 0.79122812, 0.79006779,\n",
       "        0.79144531, 0.79152131]),\n",
       " 'split2_test_score': array([0.79014367, 0.79300845, 0.79091424, 0.79258466, 0.78896075,\n",
       "        0.79256237, 0.79292107, 0.79266095, 0.79253083, 0.79116356,\n",
       "        0.78998035, 0.78630275]),\n",
       " 'mean_test_score': array([0.79073685, 0.7916554 , 0.7916374 , 0.79187216, 0.79007121,\n",
       "        0.79119575, 0.7919265 , 0.79137705, 0.79193018, 0.79131548,\n",
       "        0.7915648 , 0.79038231]),\n",
       " 'std_test_score': array([0.00043735, 0.00119594, 0.00110056, 0.00053557, 0.0014717 ,\n",
       "        0.00097314, 0.00070563, 0.00136107, 0.00053665, 0.00108607,\n",
       "        0.00134514, 0.00297697]),\n",
       " 'rank_test_score': array([10,  4,  5,  3, 12,  9,  2,  7,  1,  8,  6, 11])}"
      ]
     },
     "execution_count": 147,
     "metadata": {},
     "output_type": "execute_result"
    }
   ],
   "source": [
    "grid_result.cv_results_"
   ]
  },
  {
   "cell_type": "code",
   "execution_count": 148,
   "metadata": {},
   "outputs": [
    {
     "data": {
      "text/plain": [
       "array([0.79073685, 0.7916554 , 0.7916374 , 0.79187216, 0.79007121,\n",
       "       0.79119575, 0.7919265 , 0.79137705, 0.79193018, 0.79131548,\n",
       "       0.7915648 , 0.79038231])"
      ]
     },
     "execution_count": 148,
     "metadata": {},
     "output_type": "execute_result"
    }
   ],
   "source": [
    "means"
   ]
  },
  {
   "cell_type": "code",
   "execution_count": 149,
   "metadata": {
    "scrolled": false
   },
   "outputs": [
    {
     "name": "stdout",
     "output_type": "stream",
     "text": [
      "0.7907368540763855,0.00043735014688155074 with: {'batch_size': 30, 'epochs': 10}\n",
      "0.7916554013888041,0.0011959402567791263 with: {'batch_size': 30, 'epochs': 50}\n",
      "0.7916374007860819,0.0011005647823504917 with: {'batch_size': 30, 'epochs': 100}\n",
      "0.7918721636136373,0.0005355727085927713 with: {'batch_size': 30, 'epochs': 150}\n",
      "0.7900712092717489,0.0014717032094186484 with: {'batch_size': 40, 'epochs': 10}\n",
      "0.7911957502365112,0.0009731387201854757 with: {'batch_size': 40, 'epochs': 50}\n",
      "0.7919265031814575,0.0007056309174120066 with: {'batch_size': 40, 'epochs': 100}\n",
      "0.791377047697703,0.001361066290325967 with: {'batch_size': 40, 'epochs': 150}\n",
      "0.7919301788012186,0.0005366450501635826 with: {'batch_size': 45, 'epochs': 10}\n",
      "0.79131547609965,0.0010860729850778509 with: {'batch_size': 45, 'epochs': 50}\n",
      "0.7915648023287455,0.0013451350022589213 with: {'batch_size': 45, 'epochs': 100}\n",
      "0.7903823057810465,0.0029769678064260393 with: {'batch_size': 45, 'epochs': 150}\n"
     ]
    }
   ],
   "source": [
    "for mean, stdev, param in zip(means, stds, params):\n",
    "      print('{},{} with: {}'.format(mean, stdev, param))"
   ]
  },
  {
   "cell_type": "markdown",
   "metadata": {},
   "source": [
    "#### observation: Alike in machine learning models, hyperparameters used in various parts like optimizers and batch count and epochs and loss functions can be automated and checked with the best fit values."
   ]
  },
  {
   "cell_type": "markdown",
   "metadata": {},
   "source": [
    "## Predicting the output"
   ]
  },
  {
   "cell_type": "code",
   "execution_count": 196,
   "metadata": {},
   "outputs": [],
   "source": [
    "from sklearn.metrics import classification_report, accuracy_score\n",
    "from keras.layers import Dropout\n",
    "def create_model():\n",
    "    model = Sequential()\n",
    "    model.add(Dense(units=30,input_dim = 12,activation='relu',kernel_initializer =''))\n",
    "    model.add(Dense(units =20,activation = 'relu',kernel_initializer=''))\n",
    "    model.add(Dense(units = 3,activation='softmax',kernel_initializer=''))\n",
    "    model.compile(loss ='categorical_crossentropy',optimizer = 'adam',metrics = ['accuracy'])\n",
    "    return model"
   ]
  },
  {
   "cell_type": "code",
   "execution_count": 197,
   "metadata": {},
   "outputs": [],
   "source": [
    "model = KerasClassifier(build_fn = create_model,verbose = 2,batch_size = 30,epochs = 10)"
   ]
  },
  {
   "cell_type": "code",
   "execution_count": 198,
   "metadata": {},
   "outputs": [
    {
     "name": "stdout",
     "output_type": "stream",
     "text": [
      "Epoch 1/10\n",
      " - 5s - loss: 0.8742 - accuracy: 0.6151\n",
      "Epoch 2/10\n",
      " - 3s - loss: 0.8010 - accuracy: 0.6651\n",
      "Epoch 3/10\n",
      " - 3s - loss: 0.7894 - accuracy: 0.6714\n",
      "Epoch 4/10\n",
      " - 3s - loss: 0.7830 - accuracy: 0.6733\n",
      "Epoch 5/10\n",
      " - 4s - loss: 0.7794 - accuracy: 0.6736\n",
      "Epoch 6/10\n",
      " - 3s - loss: 0.7769 - accuracy: 0.6745\n",
      "Epoch 7/10\n",
      " - 3s - loss: 0.7736 - accuracy: 0.6754\n",
      "Epoch 8/10\n",
      " - 3s - loss: 0.7701 - accuracy: 0.6764\n",
      "Epoch 9/10\n",
      " - 3s - loss: 0.7646 - accuracy: 0.6775\n",
      "Epoch 10/10\n",
      " - 3s - loss: 0.7593 - accuracy: 0.6801\n"
     ]
    },
    {
     "data": {
      "text/plain": [
       "<keras.callbacks.callbacks.History at 0x208d451f1c8>"
      ]
     },
     "execution_count": 198,
     "metadata": {},
     "output_type": "execute_result"
    }
   ],
   "source": [
    "model.fit(x_train_m_scaled,y_train)"
   ]
  },
  {
   "cell_type": "code",
   "execution_count": 199,
   "metadata": {},
   "outputs": [],
   "source": [
    "y_predict = model.predict(x_test)\n",
    "y_predict = pd.DataFrame(y_predict,columns=['Surge_Pricing_Type'])\n",
    "y_predict= pd.get_dummies(y_predict, columns = ['Surge_Pricing_Type'])"
   ]
  },
  {
   "cell_type": "code",
   "execution_count": 200,
   "metadata": {},
   "outputs": [
    {
     "name": "stdout",
     "output_type": "stream",
     "text": [
      "0.21701815235828756\n"
     ]
    }
   ],
   "source": [
    "print(accuracy_score(y_test,y_predict))\n",
    "#y_predict\n",
    "#y_predict\n",
    "#y_predict.head(10)\n",
    "#y_train"
   ]
  },
  {
   "cell_type": "code",
   "execution_count": 202,
   "metadata": {},
   "outputs": [
    {
     "name": "stdout",
     "output_type": "stream",
     "text": [
      "              precision    recall  f1-score   support\n",
      "\n",
      "           0       0.21      0.98      0.35      8164\n",
      "           1       0.45      0.02      0.04     17019\n",
      "           2       0.39      0.01      0.03     14316\n",
      "\n",
      "   micro avg       0.22      0.22      0.22     39499\n",
      "   macro avg       0.35      0.34      0.14     39499\n",
      "weighted avg       0.38      0.22      0.10     39499\n",
      " samples avg       0.22      0.22      0.22     39499\n",
      "\n"
     ]
    }
   ],
   "source": [
    "print(classification_report(y_test,y_predict))"
   ]
  },
  {
   "cell_type": "code",
   "execution_count": 164,
   "metadata": {
    "scrolled": true
   },
   "outputs": [
    {
     "data": {
      "text/html": [
       "<div>\n",
       "<style scoped>\n",
       "    .dataframe tbody tr th:only-of-type {\n",
       "        vertical-align: middle;\n",
       "    }\n",
       "\n",
       "    .dataframe tbody tr th {\n",
       "        vertical-align: top;\n",
       "    }\n",
       "\n",
       "    .dataframe thead th {\n",
       "        text-align: right;\n",
       "    }\n",
       "</style>\n",
       "<table border=\"1\" class=\"dataframe\">\n",
       "  <thead>\n",
       "    <tr style=\"text-align: right;\">\n",
       "      <th></th>\n",
       "      <th>Surge_Pricing_Type_1</th>\n",
       "      <th>Surge_Pricing_Type_2</th>\n",
       "      <th>Surge_Pricing_Type_3</th>\n",
       "    </tr>\n",
       "  </thead>\n",
       "  <tbody>\n",
       "    <tr>\n",
       "      <th>79409</th>\n",
       "      <td>0</td>\n",
       "      <td>1</td>\n",
       "      <td>0</td>\n",
       "    </tr>\n",
       "    <tr>\n",
       "      <th>67760</th>\n",
       "      <td>0</td>\n",
       "      <td>1</td>\n",
       "      <td>0</td>\n",
       "    </tr>\n",
       "    <tr>\n",
       "      <th>55043</th>\n",
       "      <td>1</td>\n",
       "      <td>0</td>\n",
       "      <td>0</td>\n",
       "    </tr>\n",
       "    <tr>\n",
       "      <th>59171</th>\n",
       "      <td>0</td>\n",
       "      <td>0</td>\n",
       "      <td>1</td>\n",
       "    </tr>\n",
       "    <tr>\n",
       "      <th>107376</th>\n",
       "      <td>0</td>\n",
       "      <td>0</td>\n",
       "      <td>1</td>\n",
       "    </tr>\n",
       "    <tr>\n",
       "      <th>111909</th>\n",
       "      <td>1</td>\n",
       "      <td>0</td>\n",
       "      <td>0</td>\n",
       "    </tr>\n",
       "    <tr>\n",
       "      <th>45338</th>\n",
       "      <td>1</td>\n",
       "      <td>0</td>\n",
       "      <td>0</td>\n",
       "    </tr>\n",
       "    <tr>\n",
       "      <th>65267</th>\n",
       "      <td>1</td>\n",
       "      <td>0</td>\n",
       "      <td>0</td>\n",
       "    </tr>\n",
       "    <tr>\n",
       "      <th>13555</th>\n",
       "      <td>0</td>\n",
       "      <td>0</td>\n",
       "      <td>1</td>\n",
       "    </tr>\n",
       "    <tr>\n",
       "      <th>50679</th>\n",
       "      <td>0</td>\n",
       "      <td>1</td>\n",
       "      <td>0</td>\n",
       "    </tr>\n",
       "  </tbody>\n",
       "</table>\n",
       "</div>"
      ],
      "text/plain": [
       "        Surge_Pricing_Type_1  Surge_Pricing_Type_2  Surge_Pricing_Type_3\n",
       "79409                      0                     1                     0\n",
       "67760                      0                     1                     0\n",
       "55043                      1                     0                     0\n",
       "59171                      0                     0                     1\n",
       "107376                     0                     0                     1\n",
       "111909                     1                     0                     0\n",
       "45338                      1                     0                     0\n",
       "65267                      1                     0                     0\n",
       "13555                      0                     0                     1\n",
       "50679                      0                     1                     0"
      ]
     },
     "execution_count": 164,
     "metadata": {},
     "output_type": "execute_result"
    }
   ],
   "source": []
  },
  {
   "cell_type": "code",
   "execution_count": null,
   "metadata": {},
   "outputs": [],
   "source": []
  }
 ],
 "metadata": {
  "kernelspec": {
   "display_name": "Python 3",
   "language": "python",
   "name": "python3"
  },
  "language_info": {
   "codemirror_mode": {
    "name": "ipython",
    "version": 3
   },
   "file_extension": ".py",
   "mimetype": "text/x-python",
   "name": "python",
   "nbconvert_exporter": "python",
   "pygments_lexer": "ipython3",
   "version": "3.7.4"
  },
  "toc": {
   "base_numbering": 1,
   "nav_menu": {},
   "number_sections": true,
   "sideBar": true,
   "skip_h1_title": false,
   "title_cell": "Table of Contents",
   "title_sidebar": "Contents",
   "toc_cell": false,
   "toc_position": {},
   "toc_section_display": true,
   "toc_window_display": false
  }
 },
 "nbformat": 4,
 "nbformat_minor": 2
}
