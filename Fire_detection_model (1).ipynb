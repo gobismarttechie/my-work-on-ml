{
  "nbformat": 4,
  "nbformat_minor": 0,
  "metadata": {
    "colab": {
      "provenance": []
    },
    "kernelspec": {
      "name": "python3",
      "display_name": "Python 3"
    },
    "language_info": {
      "name": "python"
    }
  },
  "cells": [
    {
      "cell_type": "code",
      "execution_count": null,
      "metadata": {
        "colab": {
          "base_uri": "https://localhost:8080/"
        },
        "id": "rU7CLzMn-8rJ",
        "outputId": "8d8b8f06-d08a-41a7-f34a-c72e29536052"
      },
      "outputs": [
        {
          "output_type": "stream",
          "name": "stdout",
          "text": [
            "Mounted at /content/drive\n"
          ]
        }
      ],
      "source": [
        "from google.colab import drive\n",
        "drive.mount('/content/drive')"
      ]
    },
    {
      "cell_type": "code",
      "source": [
        "import cv2\n",
        "import numpy as np"
      ],
      "metadata": {
        "id": "qMZpRe2lAFz6"
      },
      "execution_count": null,
      "outputs": []
    },
    {
      "cell_type": "code",
      "source": [
        "import keras\n",
        "import os\n",
        "from keras.models import Sequential\n",
        "from keras.layers import Conv2D,Flatten,MaxPool2D,Dense\n",
        "from keras.models import Model\n",
        "from keras.preprocessing.image import ImageDataGenerator\n",
        "from keras.applications.vgg19 import VGG19"
      ],
      "metadata": {
        "id": "NqSsC1ojBrFo"
      },
      "execution_count": null,
      "outputs": []
    },
    {
      "cell_type": "code",
      "source": [
        "vgg_model = VGG19(input_shape=(224,224,3),weights='imagenet',include_top=False) #Tuning the vgg19 model and defining the input layer.\n",
        "vgg_model.summary()"
      ],
      "metadata": {
        "colab": {
          "base_uri": "https://localhost:8080/"
        },
        "id": "bi6TA1iYJhvw",
        "outputId": "2c67c58d-97dc-42ea-e971-7aa3dd17f225"
      },
      "execution_count": null,
      "outputs": [
        {
          "output_type": "stream",
          "name": "stdout",
          "text": [
            "Downloading data from https://storage.googleapis.com/tensorflow/keras-applications/vgg19/vgg19_weights_tf_dim_ordering_tf_kernels_notop.h5\n",
            "80134624/80134624 [==============================] - 1s 0us/step\n",
            "Model: \"vgg19\"\n",
            "_________________________________________________________________\n",
            " Layer (type)                Output Shape              Param #   \n",
            "=================================================================\n",
            " input_1 (InputLayer)        [(None, 224, 224, 3)]     0         \n",
            "                                                                 \n",
            " block1_conv1 (Conv2D)       (None, 224, 224, 64)      1792      \n",
            "                                                                 \n",
            " block1_conv2 (Conv2D)       (None, 224, 224, 64)      36928     \n",
            "                                                                 \n",
            " block1_pool (MaxPooling2D)  (None, 112, 112, 64)      0         \n",
            "                                                                 \n",
            " block2_conv1 (Conv2D)       (None, 112, 112, 128)     73856     \n",
            "                                                                 \n",
            " block2_conv2 (Conv2D)       (None, 112, 112, 128)     147584    \n",
            "                                                                 \n",
            " block2_pool (MaxPooling2D)  (None, 56, 56, 128)       0         \n",
            "                                                                 \n",
            " block3_conv1 (Conv2D)       (None, 56, 56, 256)       295168    \n",
            "                                                                 \n",
            " block3_conv2 (Conv2D)       (None, 56, 56, 256)       590080    \n",
            "                                                                 \n",
            " block3_conv3 (Conv2D)       (None, 56, 56, 256)       590080    \n",
            "                                                                 \n",
            " block3_conv4 (Conv2D)       (None, 56, 56, 256)       590080    \n",
            "                                                                 \n",
            " block3_pool (MaxPooling2D)  (None, 28, 28, 256)       0         \n",
            "                                                                 \n",
            " block4_conv1 (Conv2D)       (None, 28, 28, 512)       1180160   \n",
            "                                                                 \n",
            " block4_conv2 (Conv2D)       (None, 28, 28, 512)       2359808   \n",
            "                                                                 \n",
            " block4_conv3 (Conv2D)       (None, 28, 28, 512)       2359808   \n",
            "                                                                 \n",
            " block4_conv4 (Conv2D)       (None, 28, 28, 512)       2359808   \n",
            "                                                                 \n",
            " block4_pool (MaxPooling2D)  (None, 14, 14, 512)       0         \n",
            "                                                                 \n",
            " block5_conv1 (Conv2D)       (None, 14, 14, 512)       2359808   \n",
            "                                                                 \n",
            " block5_conv2 (Conv2D)       (None, 14, 14, 512)       2359808   \n",
            "                                                                 \n",
            " block5_conv3 (Conv2D)       (None, 14, 14, 512)       2359808   \n",
            "                                                                 \n",
            " block5_conv4 (Conv2D)       (None, 14, 14, 512)       2359808   \n",
            "                                                                 \n",
            " block5_pool (MaxPooling2D)  (None, 7, 7, 512)         0         \n",
            "                                                                 \n",
            "=================================================================\n",
            "Total params: 20,024,384\n",
            "Trainable params: 20,024,384\n",
            "Non-trainable params: 0\n",
            "_________________________________________________________________\n"
          ]
        }
      ]
    },
    {
      "cell_type": "code",
      "source": [
        "# ignoring the exisiting model weights\n",
        "for layer in vgg_model.layers:\n",
        "  layer.trainable = False\n"
      ],
      "metadata": {
        "id": "6SrUXgyEJ-_k"
      },
      "execution_count": null,
      "outputs": []
    },
    {
      "cell_type": "code",
      "source": [
        "#Tuning the output layers.\n",
        "x=Flatten()(vgg_model.output)\n",
        "prediction = Dense(2,activation = 'softmax')(x)"
      ],
      "metadata": {
        "id": "SkV4TndpKfYt"
      },
      "execution_count": null,
      "outputs": []
    },
    {
      "cell_type": "code",
      "source": [
        "#Allocating the tuned model into an object using Model method\n",
        "model = Model(inputs=vgg_model.input,outputs=prediction)"
      ],
      "metadata": {
        "id": "pQNFWM97LieG"
      },
      "execution_count": null,
      "outputs": []
    },
    {
      "cell_type": "code",
      "source": [
        "model.summary()"
      ],
      "metadata": {
        "colab": {
          "base_uri": "https://localhost:8080/"
        },
        "id": "uO-xRwBOL6a0",
        "outputId": "935d2823-7f6d-4050-ba41-8c5ee5444e49"
      },
      "execution_count": null,
      "outputs": [
        {
          "output_type": "stream",
          "name": "stdout",
          "text": [
            "Model: \"model\"\n",
            "_________________________________________________________________\n",
            " Layer (type)                Output Shape              Param #   \n",
            "=================================================================\n",
            " input_1 (InputLayer)        [(None, 224, 224, 3)]     0         \n",
            "                                                                 \n",
            " block1_conv1 (Conv2D)       (None, 224, 224, 64)      1792      \n",
            "                                                                 \n",
            " block1_conv2 (Conv2D)       (None, 224, 224, 64)      36928     \n",
            "                                                                 \n",
            " block1_pool (MaxPooling2D)  (None, 112, 112, 64)      0         \n",
            "                                                                 \n",
            " block2_conv1 (Conv2D)       (None, 112, 112, 128)     73856     \n",
            "                                                                 \n",
            " block2_conv2 (Conv2D)       (None, 112, 112, 128)     147584    \n",
            "                                                                 \n",
            " block2_pool (MaxPooling2D)  (None, 56, 56, 128)       0         \n",
            "                                                                 \n",
            " block3_conv1 (Conv2D)       (None, 56, 56, 256)       295168    \n",
            "                                                                 \n",
            " block3_conv2 (Conv2D)       (None, 56, 56, 256)       590080    \n",
            "                                                                 \n",
            " block3_conv3 (Conv2D)       (None, 56, 56, 256)       590080    \n",
            "                                                                 \n",
            " block3_conv4 (Conv2D)       (None, 56, 56, 256)       590080    \n",
            "                                                                 \n",
            " block3_pool (MaxPooling2D)  (None, 28, 28, 256)       0         \n",
            "                                                                 \n",
            " block4_conv1 (Conv2D)       (None, 28, 28, 512)       1180160   \n",
            "                                                                 \n",
            " block4_conv2 (Conv2D)       (None, 28, 28, 512)       2359808   \n",
            "                                                                 \n",
            " block4_conv3 (Conv2D)       (None, 28, 28, 512)       2359808   \n",
            "                                                                 \n",
            " block4_conv4 (Conv2D)       (None, 28, 28, 512)       2359808   \n",
            "                                                                 \n",
            " block4_pool (MaxPooling2D)  (None, 14, 14, 512)       0         \n",
            "                                                                 \n",
            " block5_conv1 (Conv2D)       (None, 14, 14, 512)       2359808   \n",
            "                                                                 \n",
            " block5_conv2 (Conv2D)       (None, 14, 14, 512)       2359808   \n",
            "                                                                 \n",
            " block5_conv3 (Conv2D)       (None, 14, 14, 512)       2359808   \n",
            "                                                                 \n",
            " block5_conv4 (Conv2D)       (None, 14, 14, 512)       2359808   \n",
            "                                                                 \n",
            " block5_pool (MaxPooling2D)  (None, 7, 7, 512)         0         \n",
            "                                                                 \n",
            " flatten (Flatten)           (None, 25088)             0         \n",
            "                                                                 \n",
            " dense (Dense)               (None, 2)                 50178     \n",
            "                                                                 \n",
            "=================================================================\n",
            "Total params: 20,074,562\n",
            "Trainable params: 50,178\n",
            "Non-trainable params: 20,024,384\n",
            "_________________________________________________________________\n"
          ]
        }
      ]
    },
    {
      "cell_type": "code",
      "source": [
        "#Compiling the model\n",
        "model.compile(optimizer='Adam',loss=keras.losses.categorical_crossentropy,metrics=['accuracy'])"
      ],
      "metadata": {
        "id": "_3nhUPM2L_00"
      },
      "execution_count": null,
      "outputs": []
    },
    {
      "cell_type": "code",
      "source": [
        "#Getting ready with the training data and testing data\n",
        "trdata = ImageDataGenerator()\n",
        "tr_data = trdata.flow_from_directory(directory='/content/drive/MyDrive/fire_detection/Fire_Dataset/Train',target_size=(224,224))"
      ],
      "metadata": {
        "colab": {
          "base_uri": "https://localhost:8080/"
        },
        "id": "d5C-fW3vMtVE",
        "outputId": "8f27e6c7-7ae4-40dd-c225-24414f3c4cd7"
      },
      "execution_count": null,
      "outputs": [
        {
          "output_type": "stream",
          "name": "stdout",
          "text": [
            "Found 2320 images belonging to 2 classes.\n"
          ]
        }
      ]
    },
    {
      "cell_type": "code",
      "source": [
        "tedata=ImageDataGenerator()\n",
        "te_data = tedata.flow_from_directory(directory='/content/drive/MyDrive/fire_detection/Fire_Dataset/Test',target_size=(224,224))"
      ],
      "metadata": {
        "colab": {
          "base_uri": "https://localhost:8080/"
        },
        "id": "jGwjW1dFPKqV",
        "outputId": "0620050e-edc1-4670-a0be-542028b4076f"
      },
      "execution_count": null,
      "outputs": [
        {
          "output_type": "stream",
          "name": "stdout",
          "text": [
            "Found 331 images belonging to 2 classes.\n"
          ]
        }
      ]
    },
    {
      "cell_type": "code",
      "source": [
        "tr_data.class_indices"
      ],
      "metadata": {
        "id": "-U2Mb6vZQXAX",
        "outputId": "1653cbdf-2cee-439f-df5e-22d62b157af1",
        "colab": {
          "base_uri": "https://localhost:8080/"
        }
      },
      "execution_count": null,
      "outputs": [
        {
          "output_type": "execute_result",
          "data": {
            "text/plain": [
              "{'Fire': 0, 'Neutral': 1}"
            ]
          },
          "metadata": {},
          "execution_count": 12
        }
      ]
    },
    {
      "cell_type": "code",
      "source": [
        "te_data.image_shape"
      ],
      "metadata": {
        "colab": {
          "base_uri": "https://localhost:8080/"
        },
        "id": "xqa368tLPumM",
        "outputId": "4aba01a5-0b96-4ba7-f8e5-97d2424a6dbb"
      },
      "execution_count": null,
      "outputs": [
        {
          "output_type": "execute_result",
          "data": {
            "text/plain": [
              "(224, 224, 3)"
            ]
          },
          "metadata": {},
          "execution_count": 28
        }
      ]
    },
    {
      "cell_type": "code",
      "source": [
        "model.fit(tr_data,epochs=15, validation_data=te_data, validation_steps=6,verbose=1)"
      ],
      "metadata": {
        "colab": {
          "base_uri": "https://localhost:8080/"
        },
        "id": "-EjizJFUPwDw",
        "outputId": "ec777a62-8c62-4d2d-94ba-ddb5b7920903"
      },
      "execution_count": null,
      "outputs": [
        {
          "output_type": "stream",
          "name": "stdout",
          "text": [
            "Epoch 1/15\n",
            "73/73 [==============================] - 1703s 23s/step - loss: 2.0374 - accuracy: 0.9233 - val_loss: 2.2179 - val_accuracy: 0.9167\n",
            "Epoch 2/15\n",
            "73/73 [==============================] - 1694s 23s/step - loss: 0.5278 - accuracy: 0.9797 - val_loss: 3.8231 - val_accuracy: 0.9167\n",
            "Epoch 3/15\n",
            "73/73 [==============================] - 1692s 23s/step - loss: 0.1827 - accuracy: 0.9922 - val_loss: 4.2405 - val_accuracy: 0.9062\n",
            "Epoch 4/15\n",
            "73/73 [==============================] - 1680s 23s/step - loss: 0.0485 - accuracy: 0.9966 - val_loss: 3.8457 - val_accuracy: 0.9115\n",
            "Epoch 5/15\n",
            "73/73 [==============================] - 1685s 23s/step - loss: 0.0691 - accuracy: 0.9944 - val_loss: 5.6099 - val_accuracy: 0.9115\n",
            "Epoch 6/15\n",
            "73/73 [==============================] - 1676s 23s/step - loss: 0.0318 - accuracy: 0.9978 - val_loss: 5.6372 - val_accuracy: 0.9271\n",
            "Epoch 7/15\n",
            "73/73 [==============================] - 1672s 23s/step - loss: 0.0663 - accuracy: 0.9966 - val_loss: 6.3720 - val_accuracy: 0.8854\n",
            "Epoch 8/15\n",
            "73/73 [==============================] - 1682s 23s/step - loss: 0.0125 - accuracy: 0.9991 - val_loss: 4.0284 - val_accuracy: 0.9323\n",
            "Epoch 9/15\n",
            "73/73 [==============================] - 1676s 23s/step - loss: 0.0153 - accuracy: 0.9978 - val_loss: 5.1435 - val_accuracy: 0.8958\n",
            "Epoch 10/15\n",
            "73/73 [==============================] - 1684s 23s/step - loss: 0.0514 - accuracy: 0.9953 - val_loss: 5.5283 - val_accuracy: 0.9062\n",
            "Epoch 11/15\n",
            "73/73 [==============================] - 1666s 23s/step - loss: 0.0691 - accuracy: 0.9966 - val_loss: 5.1490 - val_accuracy: 0.9115\n",
            "Epoch 12/15\n",
            "73/73 [==============================] - 1661s 23s/step - loss: 0.0843 - accuracy: 0.9957 - val_loss: 4.0608 - val_accuracy: 0.9479\n",
            "Epoch 13/15\n",
            "73/73 [==============================] - 1672s 23s/step - loss: 0.0516 - accuracy: 0.9978 - val_loss: 6.0859 - val_accuracy: 0.9219\n",
            "Epoch 14/15\n",
            "73/73 [==============================] - 1668s 23s/step - loss: 0.0556 - accuracy: 0.9978 - val_loss: 6.4490 - val_accuracy: 0.9062\n",
            "Epoch 15/15\n",
            "73/73 [==============================] - 1668s 23s/step - loss: 0.0218 - accuracy: 0.9978 - val_loss: 7.3008 - val_accuracy: 0.9062\n"
          ]
        },
        {
          "output_type": "execute_result",
          "data": {
            "text/plain": [
              "<keras.callbacks.History at 0x7f99edeac6d0>"
            ]
          },
          "metadata": {},
          "execution_count": 29
        }
      ]
    },
    {
      "cell_type": "code",
      "source": [
        "model.save('/content/drive/MyDrive/fire_detection/Fire_Dataset/firemodel.h5')"
      ],
      "metadata": {
        "id": "0l7_DJFuP3x2"
      },
      "execution_count": null,
      "outputs": []
    }
  ]
}