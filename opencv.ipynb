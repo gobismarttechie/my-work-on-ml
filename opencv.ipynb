{
 "cells": [
  {
   "cell_type": "markdown",
   "metadata": {},
   "source": [
    "# Read and saved the image"
   ]
  },
  {
   "cell_type": "code",
   "execution_count": null,
   "metadata": {},
   "outputs": [],
   "source": [
    "import cv2\n",
    "img=cv2.imread(\"img1.jpg\",0)\n",
    "cv2.imshow(\"image\",img)\n",
    "cv2.waitKey()\n",
    "cv2.destroyAllWindows() "
   ]
  },
  {
   "cell_type": "markdown",
   "metadata": {},
   "source": [
    "# operations on image"
   ]
  },
  {
   "cell_type": "code",
   "execution_count": null,
   "metadata": {},
   "outputs": [],
   "source": [
    "# Accessing and Modifying pixel values\n",
    "import numpy as np\n",
    "import cv2\n",
    "img=cv2.imread(\"img1.jpg\",1)\n",
    "pixel=img[10,100]\n",
    "print(pixel)"
   ]
  },
  {
   "cell_type": "code",
   "execution_count": null,
   "metadata": {},
   "outputs": [],
   "source": [
    "#Accessing Image Properties\n",
    "import cv2\n",
    "img=cv2.imread(\"img1.jpg\",1)\n",
    "height = img.shape[0]  \n",
    "width = img.shape[1]  \n",
    "channels = img.shape[2]  \n",
    "size1 = img.size \n",
    "  \n",
    "print('Image Height       : ',height)  \n",
    "print('Image Width        : ',width)  \n",
    "print('Number of Channels : ',channels)  \n",
    "print('Image Size  :', size1)"
   ]
  },
  {
   "cell_type": "markdown",
   "metadata": {},
   "source": [
    "# Resize the image"
   ]
  },
  {
   "cell_type": "code",
   "execution_count": null,
   "metadata": {},
   "outputs": [],
   "source": [
    "import cv2  \n",
    "  \n",
    "img = cv2.imread(\"img1.jpg\", 1)  \n",
    "print('Original Dimensions : ', img.shape)  \n",
    "scale = 60    \n",
    "width = int(img.shape[1] * scale / 100)  \n",
    "height = int(img.shape[0] * scale / 100)  \n",
    "dim = (width, height)   \n",
    "resized = cv2.resize(img, dim, interpolation=cv2.INTER_AREA)  \n",
    "print('Resized Dimensions : ', resized.shape)  \n",
    "cv2.imshow(\"Resized image\", resized)  \n",
    "cv2.waitKey(0)  \n",
    "cv2.destroyAllWindows()  "
   ]
  },
  {
   "cell_type": "markdown",
   "metadata": {},
   "source": [
    "# Image Rotation"
   ]
  },
  {
   "cell_type": "code",
   "execution_count": null,
   "metadata": {},
   "outputs": [],
   "source": [
    "# image rotation\n",
    "import cv2  \n",
    "img = cv2.imread('img1.jpg',1)  \n",
    "(h, w) = img.shape[:2]  \n",
    "center = (w / 2, h / 2)  \n",
    "angle90 = 90  \n",
    "angle180 = 180  \n",
    "angle270 = 270  \n",
    "scale = 1.0  \n",
    "M = cv2.getRotationMatrix2D(center, angle90, scale)  \n",
    "rotated90 = cv2.warpAffine(img, M, (h, w))  \n",
    "M = cv2.getRotationMatrix2D(center, angle180, scale)  \n",
    "rotated180 = cv2.warpAffine(img, M, (w, h))  \n",
    "M = cv2.getRotationMatrix2D(center, angle270, scale)  \n",
    "rotated270 = cv2.warpAffine(img, M, (h, w))  \n",
    "cv2.imshow('Original Image', img)  \n",
    "cv2.waitKey(0)  \n",
    "cv2.destroyAllWindows()   \n",
    "  \n",
    "cv2.imshow('Image rotated by 90 degrees', rotated90)  \n",
    "cv2.waitKey(0)   \n",
    "cv2.destroyAllWindows()    \n",
    "  \n",
    "cv2.imshow('Image rotated by 180 degrees', rotated180)  \n",
    "cv2.waitKey(0) \n",
    "cv2.destroyAllWindows() \n",
    "  \n",
    "cv2.imshow('Image rotated by 270 degrees', rotated270)  \n",
    "cv2.waitKey(0)    \n",
    "cv2.destroyAllWindows()  "
   ]
  },
  {
   "cell_type": "markdown",
   "metadata": {},
   "source": [
    "# Canny Edge Detection"
   ]
  },
  {
   "cell_type": "code",
   "execution_count": null,
   "metadata": {},
   "outputs": [],
   "source": [
    "import cv2  \n",
    "img = cv2.imread(\"img1.jpg\")  \n",
    "edges = cv2.Canny(img, 100, 200)  \n",
    "  \n",
    "cv2.imshow(\"Edge Detected Image\", edges)  \n",
    "cv2.imshow(\"Original Image\", img)  \n",
    "cv2.waitKey(0)  # waits until a key is pressed  \n",
    "cv2.destroyAllWindows()  # destroys the window showing image "
   ]
  },
  {
   "cell_type": "markdown",
   "metadata": {},
   "source": [
    "# OpenCV VideoCapture"
   ]
  },
  {
   "cell_type": "code",
   "execution_count": null,
   "metadata": {},
   "outputs": [],
   "source": [
    "import cv2  \n",
    "import numpy as np  \n",
    "  \n",
    "cap = cv2.VideoCapture(0)  \n",
    "  \n",
    "while(True):  \n",
    "    # Capture image frame-by-frame  \n",
    "    ret, frame = cap.read()  \n",
    "  \n",
    "    # Our operations on the frame come here  \n",
    "    gray = cv2.cvtColor(frame, cv2.COLOR_BGR2GRAY)  \n",
    "  \n",
    "    # Display the resulting frame  \n",
    "    cv2.imshow('frame',gray)  \n",
    "    edges = cv2.Canny(gray, 100, 200) \n",
    "    cv2.imshow(\"edge\",edges)\n",
    "    if cv2.waitKey(1) & 0xFF == ord('q'):  \n",
    "        break  \n",
    "  \n",
    "# When everything done, release the capture  \n",
    "cap.release()  \n",
    "cv2.destroyAllWindows()\n",
    " "
   ]
  },
  {
   "cell_type": "code",
   "execution_count": null,
   "metadata": {},
   "outputs": [],
   "source": []
  }
 ],
 "metadata": {
  "kernelspec": {
   "display_name": "Python 3",
   "language": "python",
   "name": "python3"
  },
  "language_info": {
   "codemirror_mode": {
    "name": "ipython",
    "version": 3
   },
   "file_extension": ".py",
   "mimetype": "text/x-python",
   "name": "python",
   "nbconvert_exporter": "python",
   "pygments_lexer": "ipython3",
   "version": "3.10.1 (tags/v3.10.1:2cd268a, Dec  6 2021, 19:10:37) [MSC v.1929 64 bit (AMD64)]"
  },
  "orig_nbformat": 4,
  "vscode": {
   "interpreter": {
    "hash": "afb734500600fd355917ca529030176ea0ca205570884b88f2f6f7d791fd3fbe"
   }
  }
 },
 "nbformat": 4,
 "nbformat_minor": 2
}
