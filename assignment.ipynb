{
 "cells": [
  {
   "cell_type": "code",
   "execution_count": 1,
   "metadata": {},
   "outputs": [],
   "source": [
    "mytuple = (1,2,3,4,5,333)"
   ]
  },
  {
   "cell_type": "code",
   "execution_count": 2,
   "metadata": {},
   "outputs": [
    {
     "data": {
      "text/plain": [
       "<function tuple.count(value, /)>"
      ]
     },
     "execution_count": 2,
     "metadata": {},
     "output_type": "execute_result"
    }
   ],
   "source": [
    "mytuple.count"
   ]
  },
  {
   "cell_type": "code",
   "execution_count": 3,
   "metadata": {},
   "outputs": [
    {
     "data": {
      "text/plain": [
       "2"
      ]
     },
     "execution_count": 3,
     "metadata": {},
     "output_type": "execute_result"
    }
   ],
   "source": [
    "mytuple.index(3)"
   ]
  },
  {
   "cell_type": "code",
   "execution_count": 4,
   "metadata": {},
   "outputs": [
    {
     "ename": "ValueError",
     "evalue": "tuple.index(x): x not in tuple",
     "output_type": "error",
     "traceback": [
      "\u001b[1;31m---------------------------------------------------------------------------\u001b[0m",
      "\u001b[1;31mValueError\u001b[0m                                Traceback (most recent call last)",
      "\u001b[1;32m<ipython-input-4-5109924e2da0>\u001b[0m in \u001b[0;36m<module>\u001b[1;34m\u001b[0m\n\u001b[1;32m----> 1\u001b[1;33m \u001b[0mmytuple\u001b[0m\u001b[1;33m.\u001b[0m\u001b[0mindex\u001b[0m\u001b[1;33m(\u001b[0m\u001b[1;36m888\u001b[0m\u001b[1;33m)\u001b[0m\u001b[1;33m\u001b[0m\u001b[1;33m\u001b[0m\u001b[0m\n\u001b[0m",
      "\u001b[1;31mValueError\u001b[0m: tuple.index(x): x not in tuple"
     ]
    }
   ],
   "source": [
    "mytuple.index(888)"
   ]
  },
  {
   "cell_type": "code",
   "execution_count": 5,
   "metadata": {},
   "outputs": [],
   "source": [
    "mytuple2 = (\"naveen\",\"maha\",\"priya\",\"kesavan\",\"gobi\")"
   ]
  },
  {
   "cell_type": "code",
   "execution_count": 6,
   "metadata": {},
   "outputs": [
    {
     "data": {
      "text/plain": [
       "<function tuple.count(value, /)>"
      ]
     },
     "execution_count": 6,
     "metadata": {},
     "output_type": "execute_result"
    }
   ],
   "source": [
    "mytuple2.count"
   ]
  },
  {
   "cell_type": "code",
   "execution_count": 7,
   "metadata": {},
   "outputs": [
    {
     "data": {
      "text/plain": [
       "0"
      ]
     },
     "execution_count": 7,
     "metadata": {},
     "output_type": "execute_result"
    }
   ],
   "source": [
    "mytuple2.index(\"naveen\")"
   ]
  },
  {
   "cell_type": "code",
   "execution_count": 8,
   "metadata": {},
   "outputs": [],
   "source": [
    "myset = {6,7,6,44,3,2,1}"
   ]
  },
  {
   "cell_type": "code",
   "execution_count": 9,
   "metadata": {},
   "outputs": [],
   "source": [
    "myset.add(16)"
   ]
  },
  {
   "cell_type": "code",
   "execution_count": 12,
   "metadata": {},
   "outputs": [
    {
     "name": "stdout",
     "output_type": "stream",
     "text": [
      "{1, 2, 3, 6, 7, 44, 16}\n"
     ]
    }
   ],
   "source": [
    "print (myset);"
   ]
  },
  {
   "cell_type": "code",
   "execution_count": 15,
   "metadata": {},
   "outputs": [],
   "source": [
    "myset.clear()"
   ]
  },
  {
   "cell_type": "code",
   "execution_count": 16,
   "metadata": {},
   "outputs": [
    {
     "name": "stdout",
     "output_type": "stream",
     "text": [
      "set()\n"
     ]
    }
   ],
   "source": [
    "print (myset);"
   ]
  },
  {
   "cell_type": "code",
   "execution_count": 20,
   "metadata": {},
   "outputs": [],
   "source": [
    "myset = {7,9,88,888,4,3}\n",
    "myset2 = myset.copy()"
   ]
  },
  {
   "cell_type": "code",
   "execution_count": 24,
   "metadata": {},
   "outputs": [
    {
     "ename": "NameError",
     "evalue": "name 'myset2' is not defined",
     "output_type": "error",
     "traceback": [
      "\u001b[1;31m---------------------------------------------------------------------------\u001b[0m",
      "\u001b[1;31mNameError\u001b[0m                                 Traceback (most recent call last)",
      "\u001b[1;32m<ipython-input-24-cfc22fa4f0dd>\u001b[0m in \u001b[0;36m<module>\u001b[1;34m\u001b[0m\n\u001b[1;32m----> 1\u001b[1;33m \u001b[0mprint\u001b[0m \u001b[1;33m(\u001b[0m\u001b[0mmyset2\u001b[0m\u001b[1;33m)\u001b[0m\u001b[1;33m;\u001b[0m\u001b[1;33m\u001b[0m\u001b[1;33m\u001b[0m\u001b[0m\n\u001b[0m",
      "\u001b[1;31mNameError\u001b[0m: name 'myset2' is not defined"
     ]
    }
   ],
   "source": [
    "print (myset2);"
   ]
  },
  {
   "cell_type": "code",
   "execution_count": 27,
   "metadata": {},
   "outputs": [
    {
     "data": {
      "text/plain": [
       "set"
      ]
     },
     "execution_count": 27,
     "metadata": {},
     "output_type": "execute_result"
    }
   ],
   "source": [
    "chumma_set = set()\n",
    "type (chumma_set)"
   ]
  },
  {
   "cell_type": "code",
   "execution_count": 25,
   "metadata": {},
   "outputs": [
    {
     "ename": "NameError",
     "evalue": "name 's1' is not defined",
     "output_type": "error",
     "traceback": [
      "\u001b[1;31m---------------------------------------------------------------------------\u001b[0m",
      "\u001b[1;31mNameError\u001b[0m                                 Traceback (most recent call last)",
      "\u001b[1;32m<ipython-input-25-25c814f65672>\u001b[0m in \u001b[0;36m<module>\u001b[1;34m\u001b[0m\n\u001b[1;32m----> 1\u001b[1;33m \u001b[0mprint\u001b[0m \u001b[1;33m(\u001b[0m\u001b[0ms1\u001b[0m\u001b[1;33m.\u001b[0m\u001b[0mdifference\u001b[0m\u001b[1;33m(\u001b[0m\u001b[0ms2\u001b[0m\u001b[1;33m)\u001b[0m\u001b[1;33m)\u001b[0m\u001b[1;33m;\u001b[0m\u001b[1;33m\u001b[0m\u001b[1;33m\u001b[0m\u001b[0m\n\u001b[0m",
      "\u001b[1;31mNameError\u001b[0m: name 's1' is not defined"
     ]
    }
   ],
   "source": [
    "print (s1.difference(s2));"
   ]
  },
  {
   "cell_type": "code",
   "execution_count": 28,
   "metadata": {},
   "outputs": [
    {
     "name": "stdout",
     "output_type": "stream",
     "text": [
      "{1, 2, 6, 7, 8}\n"
     ]
    }
   ],
   "source": [
    "s1 = {1,2,6,7,8,}\n",
    "s2 = {3,4,5,9,10}\n",
    "print (s1.difference(s2))"
   ]
  },
  {
   "cell_type": "code",
   "execution_count": 29,
   "metadata": {},
   "outputs": [
    {
     "name": "stdout",
     "output_type": "stream",
     "text": [
      "{3, 4, 5, 9, 10}\n"
     ]
    }
   ],
   "source": [
    "print (s2.difference(s1))"
   ]
  },
  {
   "cell_type": "code",
   "execution_count": 30,
   "metadata": {},
   "outputs": [
    {
     "name": "stdout",
     "output_type": "stream",
     "text": [
      "{3, 4, 5, 9, 10}\n",
      "set()\n"
     ]
    }
   ],
   "source": [
    "s3 = {1,2,6,7,8,3,4,5,9,10}\n",
    "s4 = {1,2,6,7,8,}\n",
    "print (s3.difference(s4))\n",
    "print (s4.difference(s3))"
   ]
  },
  {
   "cell_type": "code",
   "execution_count": 31,
   "metadata": {},
   "outputs": [],
   "source": [
    "s3 = {1,2,6,7,8,3,4,5,9,10}\n",
    "s4 = {1,2,6,7,8,9,100}\n",
    "s3.difference_update(s4)"
   ]
  },
  {
   "cell_type": "code",
   "execution_count": 32,
   "metadata": {},
   "outputs": [
    {
     "name": "stdout",
     "output_type": "stream",
     "text": [
      "{3, 4, 5, 9, 10}\n"
     ]
    }
   ],
   "source": [
    "print(s3);"
   ]
  },
  {
   "cell_type": "code",
   "execution_count": 33,
   "metadata": {},
   "outputs": [],
   "source": [
    "s4.difference_update(s3)"
   ]
  },
  {
   "cell_type": "code",
   "execution_count": 34,
   "metadata": {},
   "outputs": [
    {
     "name": "stdout",
     "output_type": "stream",
     "text": [
      "{1, 2, 6, 7, 8}\n"
     ]
    }
   ],
   "source": [
    "print(s4);"
   ]
  },
  {
   "cell_type": "code",
   "execution_count": 35,
   "metadata": {},
   "outputs": [
    {
     "name": "stdout",
     "output_type": "stream",
     "text": [
      "{1, 2, 100, 6, 7, 8, 9}\n"
     ]
    }
   ],
   "source": [
    "s7 = {1,2,6,7,8,9,100}\n",
    "s8 = {1,2,6,3,4,5,9,10}\n",
    "s8.difference_update(s7)\n",
    "print(s7);"
   ]
  },
  {
   "cell_type": "code",
   "execution_count": 36,
   "metadata": {},
   "outputs": [
    {
     "name": "stdout",
     "output_type": "stream",
     "text": [
      "{3, 4, 5, 10}\n"
     ]
    }
   ],
   "source": [
    "s7.difference_update(s8)\n",
    "print(s8);"
   ]
  },
  {
   "cell_type": "code",
   "execution_count": 37,
   "metadata": {},
   "outputs": [
    {
     "name": "stdout",
     "output_type": "stream",
     "text": [
      "{'dong', 'ding'}\n"
     ]
    }
   ],
   "source": [
    "d5 = {\"ding\", \"dong\", \"bell\"}\n",
    "d5.discard(\"bell\")\n",
    "print(d5)"
   ]
  },
  {
   "cell_type": "code",
   "execution_count": 38,
   "metadata": {},
   "outputs": [
    {
     "name": "stdout",
     "output_type": "stream",
     "text": [
      "{'ding', 'bell'}\n"
     ]
    }
   ],
   "source": [
    "d6 = {\"ding\",\"dong\",\"bell\"}\n",
    "d6.discard(\"dong\")\n",
    "print(d6)"
   ]
  },
  {
   "cell_type": "code",
   "execution_count": 39,
   "metadata": {},
   "outputs": [
    {
     "name": "stdout",
     "output_type": "stream",
     "text": [
      "{'dong', 'bell'}\n"
     ]
    }
   ],
   "source": [
    "d7 = {\"ding\",\"dong\",\"bell\"}\n",
    "d7.discard(\"ding\")\n",
    "print(d7)"
   ]
  },
  {
   "cell_type": "code",
   "execution_count": 40,
   "metadata": {},
   "outputs": [
    {
     "name": "stdout",
     "output_type": "stream",
     "text": [
      "{'koo', 'kool', 'kee'}\n"
     ]
    }
   ],
   "source": [
    "a1 = {\"koo\",\"kee\",\"kool\"}\n",
    "a2 = {\"wear\",\"masks\"}\n",
    "a3 = a1.intersection(a2)\n",
    "print(a1)"
   ]
  },
  {
   "cell_type": "code",
   "execution_count": 41,
   "metadata": {},
   "outputs": [],
   "source": [
    "a4 = {\"koo\",\"kee\",\"kool\"}\n",
    "a5 = {\"koo\",\"wear\",\"masks\"}\n",
    "a6 = a4.intersection(a5)"
   ]
  },
  {
   "cell_type": "code",
   "execution_count": 42,
   "metadata": {},
   "outputs": [
    {
     "name": "stdout",
     "output_type": "stream",
     "text": [
      "{'koo'}\n"
     ]
    }
   ],
   "source": [
    "print(a6)"
   ]
  },
  {
   "cell_type": "code",
   "execution_count": 43,
   "metadata": {},
   "outputs": [
    {
     "name": "stdout",
     "output_type": "stream",
     "text": [
      "{'thaa', 'stalin', 'varaaru'}\n"
     ]
    }
   ],
   "source": [
    "a9 = {\"stalin\", \"thaa\", \"varaaru\"}\n",
    "a10 = {\"vetri\", \"nadai\", \"podum\", \"stalin\", \"thaa\", \"varaaru\"}\n",
    "a9.intersection_update(a10)\n",
    "print(a9)"
   ]
  },
  {
   "cell_type": "code",
   "execution_count": 44,
   "metadata": {},
   "outputs": [
    {
     "name": "stdout",
     "output_type": "stream",
     "text": [
      "{'thaa', 'stalin', 'varaaru'}\n"
     ]
    }
   ],
   "source": [
    "a9 = {\"stalin\", \"thaa\", \"varaaru\"}\n",
    "a10 = {\"vetri\", \"nadai\", \"podum\", \"stalin\", \"thaa\", \"varaaru\"}\n",
    "a10.intersection_update(a9)\n",
    "print(a10)"
   ]
  },
  {
   "cell_type": "code",
   "execution_count": 45,
   "metadata": {},
   "outputs": [
    {
     "name": "stdout",
     "output_type": "stream",
     "text": [
      "{'jingaalala', 'bro', 'giggle'}\n"
     ]
    }
   ],
   "source": [
    "a11 = {\"jingaalala\",\"peace\",\"bro\",\"giggle\"}\n",
    "a12 = {\"k\",\"peace\",\"vanakkam\"}\n",
    "a13 = {\"lingaa\",\"petta\",\"vanakkam\"}\n",
    "a11.difference_update(a12,a13)\n",
    "print(a11)"
   ]
  },
  {
   "cell_type": "code",
   "execution_count": 46,
   "metadata": {},
   "outputs": [
    {
     "name": "stdout",
     "output_type": "stream",
     "text": [
      "set()\n"
     ]
    }
   ],
   "source": [
    "a12.intersection_update(a11,a13)\n",
    "print(a12)"
   ]
  },
  {
   "cell_type": "code",
   "execution_count": 47,
   "metadata": {},
   "outputs": [
    {
     "name": "stdout",
     "output_type": "stream",
     "text": [
      "set()\n"
     ]
    }
   ],
   "source": [
    "a14 = {\"jingaalala\",\"peace\",\"bro\",\"giggle\"}\n",
    "a15 = {\"k\",\"peace\",\"vanakkam\"}\n",
    "a16 = {\"lingaa\",\"petta\",\"vanakkam\"}\n",
    "a15.intersection_update(a14,a16)\n",
    "print(a15)"
   ]
  },
  {
   "cell_type": "code",
   "execution_count": 48,
   "metadata": {},
   "outputs": [
    {
     "name": "stdout",
     "output_type": "stream",
     "text": [
      "False\n"
     ]
    }
   ],
   "source": [
    "a20 = {\"silence\", \"makes\", \"life\"}\n",
    "a21 = {\"dear\", \"students\", \"silence\"}\n",
    "a22 = a20.isdisjoint(a21)\n",
    "print(a22)"
   ]
  },
  {
   "cell_type": "code",
   "execution_count": 49,
   "metadata": {},
   "outputs": [
    {
     "name": "stdout",
     "output_type": "stream",
     "text": [
      "False\n"
     ]
    }
   ],
   "source": [
    "a23 = {\"silence\", \"makes\", \"life\"}\n",
    "a24 = {\"dear\", \"students\", \"silence\"}\n",
    "a25 = a23.issubset(a24)\n",
    "print(a25)"
   ]
  },
  {
   "cell_type": "code",
   "execution_count": 50,
   "metadata": {},
   "outputs": [],
   "source": [
    "a26 = a24.issubset(a23)"
   ]
  },
  {
   "cell_type": "code",
   "execution_count": 51,
   "metadata": {},
   "outputs": [
    {
     "name": "stdout",
     "output_type": "stream",
     "text": [
      "False\n"
     ]
    }
   ],
   "source": [
    "print(a26)"
   ]
  },
  {
   "cell_type": "code",
   "execution_count": 52,
   "metadata": {},
   "outputs": [],
   "source": [
    "a23 = {\"silence\", \"makes\", \"life\"}\n",
    "a24 = {\"dear\", \"students\", \"silence\",\"makes\", \"life\"}\n",
    "a27 = a23.issubset(a24)"
   ]
  },
  {
   "cell_type": "code",
   "execution_count": 53,
   "metadata": {},
   "outputs": [
    {
     "name": "stdout",
     "output_type": "stream",
     "text": [
      "True\n"
     ]
    }
   ],
   "source": [
    "print(a27)"
   ]
  },
  {
   "cell_type": "code",
   "execution_count": 54,
   "metadata": {},
   "outputs": [
    {
     "name": "stdout",
     "output_type": "stream",
     "text": [
      "True\n"
     ]
    }
   ],
   "source": [
    "w1 = {1,2,3,4,5,6,7}\n",
    "w2 = {5,6,7,}\n",
    "w3 = w1.issuperset(w2)\n",
    "print(w3)\n"
   ]
  },
  {
   "cell_type": "code",
   "execution_count": 55,
   "metadata": {},
   "outputs": [
    {
     "name": "stdout",
     "output_type": "stream",
     "text": [
      "False\n"
     ]
    }
   ],
   "source": [
    "w4 = w2.issuperset(w1)\n",
    "print(w4)"
   ]
  },
  {
   "cell_type": "code",
   "execution_count": 56,
   "metadata": {},
   "outputs": [
    {
     "ename": "TypeError",
     "evalue": "pop() takes no arguments (1 given)",
     "output_type": "error",
     "traceback": [
      "\u001b[1;31m---------------------------------------------------------------------------\u001b[0m",
      "\u001b[1;31mTypeError\u001b[0m                                 Traceback (most recent call last)",
      "\u001b[1;32m<ipython-input-56-ab2f510b50b4>\u001b[0m in \u001b[0;36m<module>\u001b[1;34m\u001b[0m\n\u001b[0;32m      1\u001b[0m \u001b[0mw5\u001b[0m \u001b[1;33m=\u001b[0m \u001b[1;33m{\u001b[0m\u001b[1;34m\"ha\"\u001b[0m\u001b[1;33m,\u001b[0m\u001b[1;34m\"ha\"\u001b[0m\u001b[1;33m,\u001b[0m\u001b[1;34m\"ha\"\u001b[0m\u001b[1;33m}\u001b[0m\u001b[1;33m\u001b[0m\u001b[1;33m\u001b[0m\u001b[0m\n\u001b[1;32m----> 2\u001b[1;33m \u001b[0mw6\u001b[0m\u001b[1;33m=\u001b[0m\u001b[0mw5\u001b[0m\u001b[1;33m.\u001b[0m\u001b[0mpop\u001b[0m\u001b[1;33m(\u001b[0m\u001b[1;34m\"ha\"\u001b[0m\u001b[1;33m)\u001b[0m\u001b[1;33m\u001b[0m\u001b[1;33m\u001b[0m\u001b[0m\n\u001b[0m\u001b[0;32m      3\u001b[0m \u001b[0mprint\u001b[0m \u001b[1;33m(\u001b[0m\u001b[0mw6\u001b[0m\u001b[1;33m)\u001b[0m\u001b[1;33m\u001b[0m\u001b[1;33m\u001b[0m\u001b[0m\n",
      "\u001b[1;31mTypeError\u001b[0m: pop() takes no arguments (1 given)"
     ]
    }
   ],
   "source": [
    "w5 = {\"ha\",\"ha\",\"ha\"}\n",
    "w6=w5.pop(\"ha\")\n",
    "print (w6)"
   ]
  },
  {
   "cell_type": "code",
   "execution_count": 57,
   "metadata": {},
   "outputs": [
    {
     "name": "stdout",
     "output_type": "stream",
     "text": [
      "ha\n"
     ]
    }
   ],
   "source": [
    "w5 = {\"ha\",\"ha\",\"ha\"}\n",
    "w6=w5.pop()\n",
    "print (w6)"
   ]
  },
  {
   "cell_type": "code",
   "execution_count": 58,
   "metadata": {},
   "outputs": [
    {
     "name": "stdout",
     "output_type": "stream",
     "text": [
      "{'to', 'element'}\n"
     ]
    }
   ],
   "source": [
    "w7 = {\"element\",\"to\",\"remove\"}\n",
    "w7.remove(\"remove\")\n",
    "print(w7)"
   ]
  },
  {
   "cell_type": "code",
   "execution_count": 59,
   "metadata": {},
   "outputs": [
    {
     "name": "stdout",
     "output_type": "stream",
     "text": [
      "{'symmetric', 'yes', 'bro', 'update'}\n"
     ]
    }
   ],
   "source": [
    "w8 = {\"try\",\"symmetric\",\"update\"}\n",
    "w9 = {\"yes\",\"bro\",\"try\"}\n",
    "w10 = w9.symmetric_difference(w8)\n",
    "print(w10)"
   ]
  },
  {
   "cell_type": "code",
   "execution_count": 60,
   "metadata": {},
   "outputs": [
    {
     "name": "stdout",
     "output_type": "stream",
     "text": [
      "{'tries', 'cooper', 'debian', 'benz'}\n"
     ]
    }
   ],
   "source": [
    "w11 = {\"debian\",\"tries\",\"coding\"}\n",
    "w12 = {\"cooper\",\"benz\",\"coding\"}\n",
    "w12.symmetric_difference_update(w11)\n",
    "print(w12)"
   ]
  },
  {
   "cell_type": "code",
   "execution_count": 61,
   "metadata": {},
   "outputs": [
    {
     "name": "stdout",
     "output_type": "stream",
     "text": [
      "{'clover', 'spade', 'king', 'queen', 'heart', 'jack'}\n"
     ]
    }
   ],
   "source": [
    "w17 = {\"jack\",\"queen\",\"king\"}\n",
    "w18 = {\"heart\",\"clover\",\"spade\"}\n",
    "w19 = w17.union(w18)\n",
    "print(w19)"
   ]
  },
  {
   "cell_type": "code",
   "execution_count": 62,
   "metadata": {},
   "outputs": [],
   "source": [
    "w21 = {\"jack\",\"queen\",\"king\"}\n",
    "w20 = {\"heart\",\"clover\",\"spade\"}\n",
    "w21.update(w20)"
   ]
  },
  {
   "cell_type": "code",
   "execution_count": 63,
   "metadata": {},
   "outputs": [
    {
     "name": "stdout",
     "output_type": "stream",
     "text": [
      "{'clover', 'spade', 'king', 'queen', 'heart', 'jack'}\n"
     ]
    }
   ],
   "source": [
    "print(w21)"
   ]
  },
  {
   "cell_type": "code",
   "execution_count": 64,
   "metadata": {},
   "outputs": [
    {
     "ename": "SyntaxError",
     "evalue": "Missing parentheses in call to 'print'. Did you mean print(l1)? (<ipython-input-64-05bcc77d982a>, line 3)",
     "output_type": "error",
     "traceback": [
      "\u001b[1;36m  File \u001b[1;32m\"<ipython-input-64-05bcc77d982a>\"\u001b[1;36m, line \u001b[1;32m3\u001b[0m\n\u001b[1;33m    print l1\u001b[0m\n\u001b[1;37m           ^\u001b[0m\n\u001b[1;31mSyntaxError\u001b[0m\u001b[1;31m:\u001b[0m Missing parentheses in call to 'print'. Did you mean print(l1)?\n"
     ]
    }
   ],
   "source": [
    "l1 = [\"hack\",\"uses\",\"python\"]\n",
    "l1.append(\"and\",\"knowledge\")\n",
    "print l1"
   ]
  },
  {
   "cell_type": "code",
   "execution_count": 65,
   "metadata": {},
   "outputs": [
    {
     "ename": "NameError",
     "evalue": "name 'l1' is not defined",
     "output_type": "error",
     "traceback": [
      "\u001b[1;31m---------------------------------------------------------------------------\u001b[0m",
      "\u001b[1;31mNameError\u001b[0m                                 Traceback (most recent call last)",
      "\u001b[1;32m<ipython-input-65-d58a07d93ec3>\u001b[0m in \u001b[0;36m<module>\u001b[1;34m\u001b[0m\n\u001b[1;32m----> 1\u001b[1;33m \u001b[0mprint\u001b[0m \u001b[1;33m(\u001b[0m\u001b[0ml1\u001b[0m\u001b[1;33m)\u001b[0m\u001b[1;33m\u001b[0m\u001b[1;33m\u001b[0m\u001b[0m\n\u001b[0m",
      "\u001b[1;31mNameError\u001b[0m: name 'l1' is not defined"
     ]
    }
   ],
   "source": [
    "print (l1)"
   ]
  },
  {
   "cell_type": "code",
   "execution_count": 66,
   "metadata": {},
   "outputs": [
    {
     "ename": "TypeError",
     "evalue": "append() takes exactly one argument (2 given)",
     "output_type": "error",
     "traceback": [
      "\u001b[1;31m---------------------------------------------------------------------------\u001b[0m",
      "\u001b[1;31mTypeError\u001b[0m                                 Traceback (most recent call last)",
      "\u001b[1;32m<ipython-input-66-5220e41c32b7>\u001b[0m in \u001b[0;36m<module>\u001b[1;34m\u001b[0m\n\u001b[0;32m      1\u001b[0m \u001b[0ml1\u001b[0m \u001b[1;33m=\u001b[0m \u001b[1;33m[\u001b[0m\u001b[1;34m\"hack\"\u001b[0m\u001b[1;33m,\u001b[0m\u001b[1;34m\"uses\"\u001b[0m\u001b[1;33m,\u001b[0m\u001b[1;34m\"python\"\u001b[0m\u001b[1;33m]\u001b[0m\u001b[1;33m\u001b[0m\u001b[1;33m\u001b[0m\u001b[0m\n\u001b[1;32m----> 2\u001b[1;33m \u001b[0ml1\u001b[0m\u001b[1;33m.\u001b[0m\u001b[0mappend\u001b[0m\u001b[1;33m(\u001b[0m\u001b[1;34m\"and\"\u001b[0m\u001b[1;33m,\u001b[0m\u001b[1;34m\"knowledge\"\u001b[0m\u001b[1;33m)\u001b[0m\u001b[1;33m\u001b[0m\u001b[1;33m\u001b[0m\u001b[0m\n\u001b[0m\u001b[0;32m      3\u001b[0m \u001b[0mprint\u001b[0m \u001b[1;33m(\u001b[0m\u001b[0ml1\u001b[0m\u001b[1;33m)\u001b[0m\u001b[1;33m\u001b[0m\u001b[1;33m\u001b[0m\u001b[0m\n",
      "\u001b[1;31mTypeError\u001b[0m: append() takes exactly one argument (2 given)"
     ]
    }
   ],
   "source": [
    "l1 = [\"hack\",\"uses\",\"python\"]\n",
    "l1.append(\"and\",\"knowledge\")\n",
    "print (l1)"
   ]
  },
  {
   "cell_type": "code",
   "execution_count": 67,
   "metadata": {},
   "outputs": [
    {
     "name": "stdout",
     "output_type": "stream",
     "text": [
      "['hack', 'uses', 'python', 'and', 'knowledge']\n"
     ]
    }
   ],
   "source": [
    "l1 = [\"hack\",\"uses\",\"python\"]\n",
    "l1.append(\"and\")\n",
    "l1.append(\"knowledge\")\n",
    "print(l1)"
   ]
  },
  {
   "cell_type": "code",
   "execution_count": 68,
   "metadata": {},
   "outputs": [
    {
     "name": "stdout",
     "output_type": "stream",
     "text": [
      "[]\n"
     ]
    }
   ],
   "source": [
    "l2 = [\"kopy\",\"jill\",\"summer\"]\n",
    "l2.clear()\n",
    "print (l2)"
   ]
  },
  {
   "cell_type": "code",
   "execution_count": 69,
   "metadata": {},
   "outputs": [
    {
     "name": "stdout",
     "output_type": "stream",
     "text": [
      "['kopy', 'jill', 'summer']\n"
     ]
    }
   ],
   "source": [
    "l2 = [\"kopy\",\"jill\",\"summer\"]\n",
    "l3 = l2.copy()\n",
    "print(l3)"
   ]
  },
  {
   "cell_type": "code",
   "execution_count": 70,
   "metadata": {},
   "outputs": [
    {
     "name": "stdout",
     "output_type": "stream",
     "text": [
      "1\n"
     ]
    }
   ],
   "source": [
    "l4 = [\"kill\",\"bill\",\"hateful\",\"eight\"]\n",
    "c = l4.count(\"hateful\")\n",
    "print(c)"
   ]
  },
  {
   "cell_type": "code",
   "execution_count": 1,
   "metadata": {},
   "outputs": [
    {
     "name": "stdout",
     "output_type": "stream",
     "text": [
      "None\n"
     ]
    }
   ],
   "source": [
    "l5 = [\"kill\",\"bill\",\"hateful\",\"eight\"]\n",
    "l6 = l5.extend(\"tarrantino\")\n",
    "print(l6)"
   ]
  },
  {
   "cell_type": "code",
   "execution_count": 2,
   "metadata": {},
   "outputs": [
    {
     "name": "stdout",
     "output_type": "stream",
     "text": [
      "['kill', 'bill', 'hateful', 'eight', 't', 'a', 'r', 'r', 'a', 'n', 't', 'i', 'n', 'o']\n"
     ]
    }
   ],
   "source": [
    "l5 = [\"kill\",\"bill\",\"hateful\",\"eight\"]\n",
    "l5.extend(\"tarrantino\")\n",
    "print(l5)"
   ]
  },
  {
   "cell_type": "code",
   "execution_count": 3,
   "metadata": {},
   "outputs": [
    {
     "ename": "TypeError",
     "evalue": "index() takes at least 1 argument (0 given)",
     "output_type": "error",
     "traceback": [
      "\u001b[1;31m---------------------------------------------------------------------------\u001b[0m",
      "\u001b[1;31mTypeError\u001b[0m                                 Traceback (most recent call last)",
      "\u001b[1;32m<ipython-input-3-a3e2132c6d71>\u001b[0m in \u001b[0;36m<module>\u001b[1;34m\u001b[0m\n\u001b[0;32m      1\u001b[0m \u001b[0ml7\u001b[0m \u001b[1;33m=\u001b[0m \u001b[1;33m[\u001b[0m\u001b[1;34m\"learn\"\u001b[0m\u001b[1;33m,\u001b[0m\u001b[1;34m\"machine\"\u001b[0m\u001b[1;33m,\u001b[0m\u001b[1;34m\"learning\"\u001b[0m\u001b[1;33m]\u001b[0m\u001b[1;33m\u001b[0m\u001b[1;33m\u001b[0m\u001b[0m\n\u001b[1;32m----> 2\u001b[1;33m \u001b[0ml7\u001b[0m\u001b[1;33m.\u001b[0m\u001b[0mindex\u001b[0m\u001b[1;33m(\u001b[0m\u001b[1;33m)\u001b[0m\u001b[1;33m\u001b[0m\u001b[1;33m\u001b[0m\u001b[0m\n\u001b[0m",
      "\u001b[1;31mTypeError\u001b[0m: index() takes at least 1 argument (0 given)"
     ]
    }
   ],
   "source": [
    "l7 = [\"learn\",\"machine\",\"learning\"]\n",
    "l7.index()"
   ]
  },
  {
   "cell_type": "code",
   "execution_count": 4,
   "metadata": {},
   "outputs": [
    {
     "ename": "ValueError",
     "evalue": "0 is not in list",
     "output_type": "error",
     "traceback": [
      "\u001b[1;31m---------------------------------------------------------------------------\u001b[0m",
      "\u001b[1;31mValueError\u001b[0m                                Traceback (most recent call last)",
      "\u001b[1;32m<ipython-input-4-9cdcc3063dc6>\u001b[0m in \u001b[0;36m<module>\u001b[1;34m\u001b[0m\n\u001b[0;32m      1\u001b[0m \u001b[0ml7\u001b[0m \u001b[1;33m=\u001b[0m \u001b[1;33m[\u001b[0m\u001b[1;34m\"learn\"\u001b[0m\u001b[1;33m,\u001b[0m\u001b[1;34m\"machine\"\u001b[0m\u001b[1;33m,\u001b[0m\u001b[1;34m\"learning\"\u001b[0m\u001b[1;33m]\u001b[0m\u001b[1;33m\u001b[0m\u001b[1;33m\u001b[0m\u001b[0m\n\u001b[1;32m----> 2\u001b[1;33m \u001b[0ml7\u001b[0m\u001b[1;33m.\u001b[0m\u001b[0mindex\u001b[0m\u001b[1;33m(\u001b[0m\u001b[1;36m0\u001b[0m\u001b[1;33m)\u001b[0m\u001b[1;33m\u001b[0m\u001b[1;33m\u001b[0m\u001b[0m\n\u001b[0m",
      "\u001b[1;31mValueError\u001b[0m: 0 is not in list"
     ]
    }
   ],
   "source": [
    "l7 = [\"learn\",\"machine\",\"learning\"]\n",
    "l7.index(0)"
   ]
  },
  {
   "cell_type": "code",
   "execution_count": 5,
   "metadata": {},
   "outputs": [
    {
     "data": {
      "text/plain": [
       "1"
      ]
     },
     "execution_count": 5,
     "metadata": {},
     "output_type": "execute_result"
    }
   ],
   "source": [
    "l7 = [\"learn\",\"machine\",\"learning\"]\n",
    "l7.index(\"machine\")"
   ]
  },
  {
   "cell_type": "code",
   "execution_count": 6,
   "metadata": {},
   "outputs": [
    {
     "name": "stdout",
     "output_type": "stream",
     "text": [
      "['just', 'do', 'it']\n"
     ]
    }
   ],
   "source": [
    "l9 = [\"just\",\"it\"]\n",
    "l9.insert(1,\"do\")\n",
    "print(l9)"
   ]
  },
  {
   "cell_type": "code",
   "execution_count": 7,
   "metadata": {},
   "outputs": [
    {
     "ename": "TypeError",
     "evalue": "'str' object cannot be interpreted as an integer",
     "output_type": "error",
     "traceback": [
      "\u001b[1;31m---------------------------------------------------------------------------\u001b[0m",
      "\u001b[1;31mTypeError\u001b[0m                                 Traceback (most recent call last)",
      "\u001b[1;32m<ipython-input-7-ca80755688f6>\u001b[0m in \u001b[0;36m<module>\u001b[1;34m\u001b[0m\n\u001b[0;32m      1\u001b[0m \u001b[0ml10\u001b[0m \u001b[1;33m=\u001b[0m \u001b[1;33m[\u001b[0m\u001b[1;34m\"ram\"\u001b[0m\u001b[1;33m,\u001b[0m\u001b[1;34m\"bhavani\"\u001b[0m\u001b[1;33m,\u001b[0m\u001b[1;34m\"sethupathi\"\u001b[0m\u001b[1;33m]\u001b[0m\u001b[1;33m\u001b[0m\u001b[1;33m\u001b[0m\u001b[0m\n\u001b[1;32m----> 2\u001b[1;33m \u001b[0ml10\u001b[0m\u001b[1;33m.\u001b[0m\u001b[0mpop\u001b[0m\u001b[1;33m(\u001b[0m\u001b[1;34m\"bhavani\"\u001b[0m\u001b[1;33m)\u001b[0m\u001b[1;33m\u001b[0m\u001b[1;33m\u001b[0m\u001b[0m\n\u001b[0m\u001b[0;32m      3\u001b[0m \u001b[0mprint\u001b[0m\u001b[1;33m(\u001b[0m\u001b[0ml10\u001b[0m\u001b[1;33m)\u001b[0m\u001b[1;33m\u001b[0m\u001b[1;33m\u001b[0m\u001b[0m\n",
      "\u001b[1;31mTypeError\u001b[0m: 'str' object cannot be interpreted as an integer"
     ]
    }
   ],
   "source": [
    "l10 = [\"ram\",\"bhavani\",\"sethupathi\"]\n",
    "l10.pop(\"bhavani\")\n",
    "print(l10)"
   ]
  },
  {
   "cell_type": "code",
   "execution_count": 8,
   "metadata": {},
   "outputs": [
    {
     "name": "stdout",
     "output_type": "stream",
     "text": [
      "['ram', 'sethupathi']\n"
     ]
    }
   ],
   "source": [
    "l10 = [\"ram\",\"bhavani\",\"sethupathi\"]\n",
    "l10.pop(1)\n",
    "print(l10)"
   ]
  },
  {
   "cell_type": "code",
   "execution_count": 14,
   "metadata": {},
   "outputs": [
    {
     "name": "stdout",
     "output_type": "stream",
     "text": [
      "['othu', 'coming', 'vaathi']\n"
     ]
    }
   ],
   "source": [
    "l11 = [\"vaathi\",\"coming\",\"othu\"]\n",
    "l11.reverse()\n",
    "print(l11)"
   ]
  },
  {
   "cell_type": "code",
   "execution_count": 15,
   "metadata": {},
   "outputs": [
    {
     "name": "stdout",
     "output_type": "stream",
     "text": [
      "['take', 'deep', 'breathe']\n"
     ]
    }
   ],
   "source": [
    "l12 = [\"take\",\"a\",\"deep\",\"breathe\"]\n",
    "l12.remove(\"a\")\n",
    "print(l12)\n"
   ]
  },
  {
   "cell_type": "markdown",
   "metadata": {},
   "source": []
  },
  {
   "cell_type": "code",
   "execution_count": 16,
   "metadata": {},
   "outputs": [
    {
     "name": "stdout",
     "output_type": "stream",
     "text": [
      "[1, 2, 3, 4, 33, 65, 77, 4444]\n"
     ]
    }
   ],
   "source": [
    "l14 = [1,33,4444,65,77,4,3,2]\n",
    "l14.sort()\n",
    "print(l14)"
   ]
  },
  {
   "cell_type": "code",
   "execution_count": 17,
   "metadata": {},
   "outputs": [
    {
     "name": "stdout",
     "output_type": "stream",
     "text": [
      "['apple', 'bee', 'e', 'found', 'jack']\n"
     ]
    }
   ],
   "source": [
    "l15 = [\"jack\",\"found\",\"apple\",\"bee\",\"e\"]\n",
    "l15.sort()\n",
    "print(l15)"
   ]
  },
  {
   "cell_type": "code",
   "execution_count": 18,
   "metadata": {},
   "outputs": [
    {
     "name": "stdout",
     "output_type": "stream",
     "text": [
      "['Catch', 'apple', 'bee', 'jack']\n"
     ]
    }
   ],
   "source": [
    "l16 = [\"apple\",\"bee\",\"jack\",\"Catch\"]\n",
    "l16.sort()\n",
    "print(l16)"
   ]
  },
  {
   "cell_type": "code",
   "execution_count": 19,
   "metadata": {},
   "outputs": [
    {
     "data": {
      "text/plain": [
       "dict"
      ]
     },
     "execution_count": 19,
     "metadata": {},
     "output_type": "execute_result"
    }
   ],
   "source": [
    "e_dic = {}\n",
    "type(e_dic)"
   ]
  },
  {
   "cell_type": "code",
   "execution_count": 22,
   "metadata": {},
   "outputs": [
    {
     "name": "stdout",
     "output_type": "stream",
     "text": [
      "{'name': 'gobi', 'gender': 'male', 'age': 25}\n"
     ]
    }
   ],
   "source": [
    "my_dict = {\"name\":\"gobi\",\"gender\":\"male\",\"age\":25,}\n",
    "print (my_dict)\n"
   ]
  },
  {
   "cell_type": "code",
   "execution_count": 23,
   "metadata": {},
   "outputs": [],
   "source": [
    "my_dict[\"city\"] = \"erode\"\n",
    "my_dict.update()"
   ]
  },
  {
   "cell_type": "code",
   "execution_count": 24,
   "metadata": {},
   "outputs": [
    {
     "name": "stdout",
     "output_type": "stream",
     "text": [
      "{'name': 'gobi', 'gender': 'male', 'age': 25, 'city': 'erode'}\n"
     ]
    }
   ],
   "source": [
    "print(my_dict)"
   ]
  },
  {
   "cell_type": "code",
   "execution_count": 25,
   "metadata": {},
   "outputs": [
    {
     "name": "stdout",
     "output_type": "stream",
     "text": [
      "{}\n"
     ]
    }
   ],
   "source": [
    "my_dict.clear()\n",
    "print (my_dict)"
   ]
  },
  {
   "cell_type": "code",
   "execution_count": 26,
   "metadata": {},
   "outputs": [
    {
     "name": "stdout",
     "output_type": "stream",
     "text": [
      "{'name': 'gobi', 'gender': 'male', 'age': 25}\n"
     ]
    }
   ],
   "source": [
    "my_dict2 = {\"name\":\"gobi\",\"gender\":\"male\",\"age\":25,}\n",
    "my_dict3 = my_dict2.copy()\n",
    "print (my_dict3)"
   ]
  },
  {
   "cell_type": "code",
   "execution_count": 29,
   "metadata": {},
   "outputs": [
    {
     "name": "stdout",
     "output_type": "stream",
     "text": [
      "{'student details': ('gobi', 25, 'vit'), 'library log': ('gobi', 25, 'vit'), 'hostel log': ('gobi', 25, 'vit')}\n"
     ]
    }
   ],
   "source": [
    "my_dict4 = (\"student details\",\"library log\",\"hostel log\")\n",
    "my_dict5 = (\"gobi\",25,\"vit\")\n",
    "my_dict6 = dict.fromkeys(my_dict4,my_dict5)\n",
    "print(my_dict6)"
   ]
  },
  {
   "cell_type": "code",
   "execution_count": 31,
   "metadata": {},
   "outputs": [
    {
     "name": "stdout",
     "output_type": "stream",
     "text": [
      "2017\n"
     ]
    }
   ],
   "source": [
    "my_car = {\"model\":\"swift\",\"company\":\"maruthi\",\"model\":2017,\"color\":\"red\"}\n",
    "g = my_car.get(\"model\")\n",
    "print (g)"
   ]
  },
  {
   "cell_type": "code",
   "execution_count": 32,
   "metadata": {},
   "outputs": [
    {
     "name": "stdout",
     "output_type": "stream",
     "text": [
      "dict_items([('model', 2017), ('company', 'maruthi'), ('color', 'red')])\n"
     ]
    }
   ],
   "source": [
    "my_car2 = {\"model\":\"swift\",\"company\":\"maruthi\",\"model\":2017,\"color\":\"red\"}\n",
    "h = my_car2.items()\n",
    "print(h)"
   ]
  },
  {
   "cell_type": "code",
   "execution_count": 33,
   "metadata": {},
   "outputs": [
    {
     "name": "stdout",
     "output_type": "stream",
     "text": [
      "dict_keys(['model', 'company', 'color'])\n"
     ]
    }
   ],
   "source": [
    "my_car3 = {\"model\":\"swift\",\"company\":\"maruthi\",\"model\":2017,\"color\":\"red\"}\n",
    "j = my_car3.keys()\n",
    "print(j)"
   ]
  },
  {
   "cell_type": "code",
   "execution_count": 34,
   "metadata": {},
   "outputs": [
    {
     "name": "stdout",
     "output_type": "stream",
     "text": [
      "maruthi\n"
     ]
    }
   ],
   "source": [
    "my_car4 = {\"model\":\"swift\",\"company\":\"maruthi\",\"model\":2017,\"color\":\"red\"}\n",
    "k = my_car4.pop(\"company\")\n",
    "print(k)"
   ]
  },
  {
   "cell_type": "code",
   "execution_count": 35,
   "metadata": {},
   "outputs": [
    {
     "name": "stdout",
     "output_type": "stream",
     "text": [
      "{'model': 2017, 'color': 'red'}\n"
     ]
    }
   ],
   "source": [
    "print(my_car4)"
   ]
  },
  {
   "cell_type": "code",
   "execution_count": 1,
   "metadata": {},
   "outputs": [
    {
     "name": "stdout",
     "output_type": "stream",
     "text": [
      "('color', 'red')\n"
     ]
    }
   ],
   "source": [
    "my_car5 = {\"model\":\"swift\",\"company\":\"maruthi\",\"model\":2017,\"color\":\"red\"}\n",
    "l = my_car5.popitem()\n",
    "print(l)"
   ]
  },
  {
   "cell_type": "code",
   "execution_count": 2,
   "metadata": {},
   "outputs": [
    {
     "name": "stdout",
     "output_type": "stream",
     "text": [
      "{'model': 2017, 'company': 'maruthi'}\n"
     ]
    }
   ],
   "source": [
    "print(my_car5)"
   ]
  },
  {
   "cell_type": "code",
   "execution_count": 5,
   "metadata": {},
   "outputs": [
    {
     "name": "stdout",
     "output_type": "stream",
     "text": [
      "2017\n"
     ]
    }
   ],
   "source": [
    "my_car6 = {\"model\":\"swift\",\"company\":\"maruthi\",\"model\":2017,\"color\":\"red\"}\n",
    "o = my_car6.setdefault(\"model\",2019)\n",
    "print(o)"
   ]
  },
  {
   "cell_type": "code",
   "execution_count": 6,
   "metadata": {},
   "outputs": [
    {
     "name": "stdout",
     "output_type": "stream",
     "text": [
      "{'model': 2017, 'company': 'maruthi', 'color': 'red'}\n"
     ]
    }
   ],
   "source": [
    "print(my_car6)"
   ]
  },
  {
   "cell_type": "code",
   "execution_count": 7,
   "metadata": {},
   "outputs": [
    {
     "name": "stdout",
     "output_type": "stream",
     "text": [
      "maha\n"
     ]
    }
   ],
   "source": [
    "my_car7 = {\"name\":\"swift\",\"company\":\"maruthi\",\"model\":2017,\"color\":\"red\"}\n",
    "p = my_car7.setdefault(\"owner\",\"maha\")\n",
    "print(p)"
   ]
  },
  {
   "cell_type": "code",
   "execution_count": 8,
   "metadata": {},
   "outputs": [
    {
     "name": "stdout",
     "output_type": "stream",
     "text": [
      "{'name': 'swift', 'company': 'maruthi', 'model': 2017, 'color': 'red', 'owner': 'maha'}\n"
     ]
    }
   ],
   "source": [
    "print(my_car7)"
   ]
  },
  {
   "cell_type": "code",
   "execution_count": 10,
   "metadata": {},
   "outputs": [
    {
     "name": "stdout",
     "output_type": "stream",
     "text": [
      "{'name': 'swift', 'company': 'maruthi', 'model': 2017, 'color': 'red', 'owner': 'maha'} {'name': 'polo', 'company': 'volkswagen', 'model': 2017, 'color': 'black', 'owner': 'maha'}\n"
     ]
    }
   ],
   "source": [
    "my_car8 = {\"name\":\"swift\",\"company\":\"maruthi\",\"model\":2017,\"color\":\"red\"}\n",
    "my_car9 = {\"name\":\"polo\",\"company\":\"volkswagen\",\"model\":2017,\"color\":\"black\"}\n",
    "q = my_car8.setdefault(\"owner\",\"maha\"),my_car9.setdefault(\"owner\",\"maha\")\n",
    "print(my_car8,my_car9)"
   ]
  },
  {
   "cell_type": "code",
   "execution_count": 11,
   "metadata": {},
   "outputs": [
    {
     "name": "stdout",
     "output_type": "stream",
     "text": [
      "{'name': 'thar', 'company': 'mahindra', 'model': '2018', 'color': 'silver', 'owner': 'maha'}\n"
     ]
    }
   ],
   "source": [
    "my_car10 ={\"name\":\"thar\",\"company\":\"mahindra\",\"model\":\"2018\"}\n",
    "my_car10.update({\"color\":\"silver\",\"owner\":\"maha\"})\n",
    "print(my_car10)"
   ]
  },
  {
   "cell_type": "code",
   "execution_count": 12,
   "metadata": {},
   "outputs": [
    {
     "name": "stdout",
     "output_type": "stream",
     "text": [
      "dict_values(['thar', 'mahindra', '2018', 'silver', 'maha'])\n"
     ]
    }
   ],
   "source": [
    "y = my_car10.values()\n",
    "print(y)"
   ]
  },
  {
   "cell_type": "code",
   "execution_count": 13,
   "metadata": {},
   "outputs": [
    {
     "data": {
      "text/plain": [
       "dict_values(['thar', 'mahindra', '2018', 'silver', 'maha'])"
      ]
     },
     "execution_count": 13,
     "metadata": {},
     "output_type": "execute_result"
    }
   ],
   "source": [
    "my_car10.values()"
   ]
  },
  {
   "cell_type": "code",
   "execution_count": null,
   "metadata": {},
   "outputs": [],
   "source": []
  }
 ],
 "metadata": {
  "kernelspec": {
   "display_name": "Python 3",
   "language": "python",
   "name": "python3"
  },
  "language_info": {
   "codemirror_mode": {
    "name": "ipython",
    "version": 3
   },
   "file_extension": ".py",
   "mimetype": "text/x-python",
   "name": "python",
   "nbconvert_exporter": "python",
   "pygments_lexer": "ipython3",
   "version": "3.7.4"
  },
  "toc": {
   "base_numbering": "8",
   "nav_menu": {},
   "number_sections": true,
   "sideBar": true,
   "skip_h1_title": false,
   "title_cell": "set",
   "title_sidebar": "Contents",
   "toc_cell": false,
   "toc_position": {},
   "toc_section_display": true,
   "toc_window_display": true
  }
 },
 "nbformat": 4,
 "nbformat_minor": 2
}
